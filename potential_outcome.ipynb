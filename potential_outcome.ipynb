{
 "metadata": {
  "language_info": {
   "codemirror_mode": {
    "name": "ipython",
    "version": 3
   },
   "file_extension": ".py",
   "mimetype": "text/x-python",
   "name": "python",
   "nbconvert_exporter": "python",
   "pygments_lexer": "ipython3",
   "version": "3.9.2"
  },
  "orig_nbformat": 2,
  "kernelspec": {
   "name": "python392jvsc74a57bd0715bf7a6667270417f7c31e47569efe69a18b8404c324f9a090329b0089f2c4c",
   "display_name": "Python 3.9.2 64-bit"
  },
  "metadata": {
   "interpreter": {
    "hash": "715bf7a6667270417f7c31e47569efe69a18b8404c324f9a090329b0089f2c4c"
   }
  }
 },
 "nbformat": 4,
 "nbformat_minor": 2,
 "cells": [
  {
   "source": [
    "# Causal Inference\n",
    "## Potential Outcome이란?"
   ],
   "cell_type": "markdown",
   "metadata": {}
  },
  {
   "source": [
    "### Z와 X의 조건에 따라 Y 데이터를 생성해 보자\n",
    "#### 암치료를 받은 사람과 받지 않은 사람의 생존율이 차이가 있을 것이라고 생각한 의사는 데이터를 통해 이를 증명해 보고자 하였다. \n",
    "- X=1은 수술을 받음 X=0은 수술을 받지 않음\n",
    "- Y=1 은 생존 Y=0 죽음 \n",
    "- Z=0은 건강하지 않음 ,Z=1은 건강함(알 수 없음)\n",
    "\n",
    "---\n",
    "\n",
    "- Simulation Setting"
   ],
   "cell_type": "markdown",
   "metadata": {}
  },
  {
   "cell_type": "code",
   "execution_count": 2,
   "metadata": {},
   "outputs": [],
   "source": [
    "import pandas as pd\n",
    "import numpy as np"
   ]
  },
  {
   "cell_type": "code",
   "execution_count": 6,
   "metadata": {},
   "outputs": [],
   "source": [
    "p_z = 0.5\n",
    "p_x_z = [0.9, 0.1] # P(X=1|Z=0) = 0.9 , P(X=1|Z=1) = 0.1 처럼 각 조건에 따라 X=1일 확률을 바꿔준다.\n",
    "p_y_xz = [0.2, 0.4, 0.6, 0.8]  # P(Y=1|X,Z) 에 따라 4가지 확률을 분배 (X=0,Z=0은 건강하지 않은데 수술도 안받음)\n",
    "n_samples = 100000\n",
    "\n",
    "z = np.random.binomial(n=1, p=p_z, size=n_samples)\n",
    "\n",
    "p_x = np.choose(z, p_x_z) \n",
    "x = np.random.binomial(n=1, p=p_x, size=n_samples)\n",
    "\n",
    "p_y = np.choose(x+2*z, p_y_xz) # 2*z의 이유는 z 가 0,1의 값만 갖기 때문\n",
    "y = np.random.binomial(n=1, p=p_y, size=n_samples)\n",
    "    "
   ]
  },
  {
   "cell_type": "code",
   "execution_count": 4,
   "metadata": {},
   "outputs": [],
   "source": [
    "data = pd.DataFrame({\"z\":z,\"x\":x, \"y\":y})"
   ]
  },
  {
   "cell_type": "code",
   "execution_count": 5,
   "metadata": {},
   "outputs": [
    {
     "output_type": "execute_result",
     "data": {
      "text/plain": [
       "z  x  y\n",
       "0  0  0     3988\n",
       "      1      994\n",
       "   1  0    26886\n",
       "      1    17906\n",
       "1  0  0    18018\n",
       "      1    27196\n",
       "   1  0      975\n",
       "      1     4037\n",
       "dtype: int64"
      ]
     },
     "metadata": {},
     "execution_count": 5
    }
   ],
   "source": [
    "data[['z','x','y']].value_counts().sort_index()"
   ]
  },
  {
   "source": [
    "#### 암치료를 받은 사람과 받지 않은 사람의 생존율이 차이는 아래와 같이 나타낼 수 있다. \n",
    "$P(Y=1|X=1) - P(Y=1|X=0)$"
   ],
   "cell_type": "markdown",
   "metadata": {}
  },
  {
   "cell_type": "code",
   "execution_count": null,
   "metadata": {},
   "outputs": [],
   "source": []
  }
 ]
}