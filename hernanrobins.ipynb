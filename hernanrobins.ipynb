{
 "cells": [
  {
   "cell_type": "markdown",
   "metadata": {},
   "source": [
    "## PROGRAM 11.1\n",
    "Sample averages by treatment level\n",
    "\n",
    "Data from Figures 11.1 and 11.2"
   ]
  },
  {
   "cell_type": "code",
   "execution_count": 1,
   "metadata": {
    "collapsed": true
   },
   "outputs": [],
   "source": [
    "import matplotlib.pyplot as plt\n",
    "import numpy as np\n",
    "import pandas as pd"
   ]
  },
  {
   "cell_type": "code",
   "execution_count": 2,
   "metadata": {
    "collapsed": true
   },
   "outputs": [],
   "source": [
    "A = np.array([1,1,1,1,1,1,1,1,0,0,0,0,0,0,0,0])\n",
    "Y= np.array([200,150,220,110,50,180,90,170,170,30,70,110,80,50,10,20])"
   ]
  },
  {
   "cell_type": "code",
   "execution_count": 3,
   "metadata": {},
   "outputs": [
    {
     "data": {
      "image/png": "[encoded data removed]",
      "text/plain": [
       "<matplotlib.figure.Figure at 0x2a5cf6bcb38>"
      ]
     },
     "metadata": {},
     "output_type": "display_data"
    }
   ],
   "source": [
    "plt.plot(A, Y, 'ro')\n",
    "plt.show()"
   ]
  },
  {
   "cell_type": "code",
   "execution_count": 4,
   "metadata": {},
   "outputs": [
    {
     "data": {
      "text/html": [
       "<div>\n",
       "<style>\n",
       "    .dataframe thead tr:only-child th {\n",
       "        text-align: right;\n",
       "    }\n",
       "\n",
       "    .dataframe thead th {\n",
       "        text-align: left;\n",
       "    }\n",
       "\n",
       "    .dataframe tbody tr th {\n",
       "        vertical-align: top;\n",
       "    }\n",
       "</style>\n",
       "<table border=\"1\" class=\"dataframe\">\n",
       "  <thead>\n",
       "    <tr style=\"text-align: right;\">\n",
       "      <th></th>\n",
       "      <th>1</th>\n",
       "      <th>0</th>\n",
       "    </tr>\n",
       "  </thead>\n",
       "  <tbody>\n",
       "    <tr>\n",
       "      <th>count</th>\n",
       "      <td>8.000000</td>\n",
       "      <td>8.000000</td>\n",
       "    </tr>\n",
       "    <tr>\n",
       "      <th>mean</th>\n",
       "      <td>146.250000</td>\n",
       "      <td>67.500000</td>\n",
       "    </tr>\n",
       "    <tr>\n",
       "      <th>std</th>\n",
       "      <td>58.294205</td>\n",
       "      <td>53.117121</td>\n",
       "    </tr>\n",
       "    <tr>\n",
       "      <th>min</th>\n",
       "      <td>50.000000</td>\n",
       "      <td>10.000000</td>\n",
       "    </tr>\n",
       "    <tr>\n",
       "      <th>25%</th>\n",
       "      <td>105.000000</td>\n",
       "      <td>27.500000</td>\n",
       "    </tr>\n",
       "    <tr>\n",
       "      <th>50%</th>\n",
       "      <td>160.000000</td>\n",
       "      <td>60.000000</td>\n",
       "    </tr>\n",
       "    <tr>\n",
       "      <th>75%</th>\n",
       "      <td>185.000000</td>\n",
       "      <td>87.500000</td>\n",
       "    </tr>\n",
       "    <tr>\n",
       "      <th>max</th>\n",
       "      <td>220.000000</td>\n",
       "      <td>170.000000</td>\n",
       "    </tr>\n",
       "  </tbody>\n",
       "</table>\n",
       "</div>"
      ],
      "text/plain": [
       "                1           0\n",
       "count    8.000000    8.000000\n",
       "mean   146.250000   67.500000\n",
       "std     58.294205   53.117121\n",
       "min     50.000000   10.000000\n",
       "25%    105.000000   27.500000\n",
       "50%    160.000000   60.000000\n",
       "75%    185.000000   87.500000\n",
       "max    220.000000  170.000000"
      ]
     },
     "execution_count": 4,
     "metadata": {},
     "output_type": "execute_result"
    }
   ],
   "source": [
    "pd.concat([pd.DataFrame(Y[A==1],columns=['1']).describe()\\\n",
    "           ,pd.DataFrame(Y[A==0],columns=['0']).describe()], axis=1)"
   ]
  },
  {
   "cell_type": "code",
   "execution_count": 5,
   "metadata": {
    "collapsed": true
   },
   "outputs": [],
   "source": [
    "A2 = np.array([1,1,1,1,2,2,2,2,3,3,3,3,4,4,4,4])\n",
    "Y2 = np.array([110,80,50,40,170,30,70,50,110,50,180,130,200,150,220,210])"
   ]
  },
  {
   "cell_type": "code",
   "execution_count": 6,
   "metadata": {},
   "outputs": [
    {
     "data": {
      "image/png": "[encoded data removed]",
      "text/plain": [
       "<matplotlib.figure.Figure at 0x2a5cf984b38>"
      ]
     },
     "metadata": {},
     "output_type": "display_data"
    }
   ],
   "source": [
    "plt.plot(A2, Y2, 'bo')\n",
    "plt.show()"
   ]
  },
  {
   "cell_type": "code",
   "execution_count": 7,
   "metadata": {},
   "outputs": [
    {
     "data": {
      "text/html": [
       "<div>\n",
       "<style>\n",
       "    .dataframe thead tr:only-child th {\n",
       "        text-align: right;\n",
       "    }\n",
       "\n",
       "    .dataframe thead th {\n",
       "        text-align: left;\n",
       "    }\n",
       "\n",
       "    .dataframe tbody tr th {\n",
       "        vertical-align: top;\n",
       "    }\n",
       "</style>\n",
       "<table border=\"1\" class=\"dataframe\">\n",
       "  <thead>\n",
       "    <tr style=\"text-align: right;\">\n",
       "      <th></th>\n",
       "      <th>1</th>\n",
       "      <th>2</th>\n",
       "      <th>3</th>\n",
       "      <th>4</th>\n",
       "    </tr>\n",
       "  </thead>\n",
       "  <tbody>\n",
       "    <tr>\n",
       "      <th>count</th>\n",
       "      <td>4.000000</td>\n",
       "      <td>4.000000</td>\n",
       "      <td>4.000000</td>\n",
       "      <td>4.000000</td>\n",
       "    </tr>\n",
       "    <tr>\n",
       "      <th>mean</th>\n",
       "      <td>70.000000</td>\n",
       "      <td>80.000000</td>\n",
       "      <td>117.500000</td>\n",
       "      <td>195.000000</td>\n",
       "    </tr>\n",
       "    <tr>\n",
       "      <th>std</th>\n",
       "      <td>31.622777</td>\n",
       "      <td>62.182527</td>\n",
       "      <td>53.774219</td>\n",
       "      <td>31.091264</td>\n",
       "    </tr>\n",
       "    <tr>\n",
       "      <th>min</th>\n",
       "      <td>40.000000</td>\n",
       "      <td>30.000000</td>\n",
       "      <td>50.000000</td>\n",
       "      <td>150.000000</td>\n",
       "    </tr>\n",
       "    <tr>\n",
       "      <th>25%</th>\n",
       "      <td>47.500000</td>\n",
       "      <td>45.000000</td>\n",
       "      <td>95.000000</td>\n",
       "      <td>187.500000</td>\n",
       "    </tr>\n",
       "    <tr>\n",
       "      <th>50%</th>\n",
       "      <td>65.000000</td>\n",
       "      <td>60.000000</td>\n",
       "      <td>120.000000</td>\n",
       "      <td>205.000000</td>\n",
       "    </tr>\n",
       "    <tr>\n",
       "      <th>75%</th>\n",
       "      <td>87.500000</td>\n",
       "      <td>95.000000</td>\n",
       "      <td>142.500000</td>\n",
       "      <td>212.500000</td>\n",
       "    </tr>\n",
       "    <tr>\n",
       "      <th>max</th>\n",
       "      <td>110.000000</td>\n",
       "      <td>170.000000</td>\n",
       "      <td>180.000000</td>\n",
       "      <td>220.000000</td>\n",
       "    </tr>\n",
       "  </tbody>\n",
       "</table>\n",
       "</div>"
      ],
      "text/plain": [
       "                1           2           3           4\n",
       "count    4.000000    4.000000    4.000000    4.000000\n",
       "mean    70.000000   80.000000  117.500000  195.000000\n",
       "std     31.622777   62.182527   53.774219   31.091264\n",
       "min     40.000000   30.000000   50.000000  150.000000\n",
       "25%     47.500000   45.000000   95.000000  187.500000\n",
       "50%     65.000000   60.000000  120.000000  205.000000\n",
       "75%     87.500000   95.000000  142.500000  212.500000\n",
       "max    110.000000  170.000000  180.000000  220.000000"
      ]
     },
     "execution_count": 7,
     "metadata": {},
     "output_type": "execute_result"
    }
   ],
   "source": [
    "frames = [pd.DataFrame(Y2[A2==1],columns=['1']).describe()\\\n",
    "          ,pd.DataFrame(Y2[A2==2],columns=['2']).describe()\\\n",
    "          , pd.DataFrame(Y2[A2==3],columns=['3']).describe()\\\n",
    "          ,pd.DataFrame(Y2[A2==4],columns=['4']).describe()]\n",
    "\n",
    "pd.concat(frames, axis=1)"
   ]
  },
  {
   "cell_type": "markdown",
   "metadata": {},
   "source": [
    "## PROGRAM 11.2\n",
    "2-parameter linear model\n",
    "\n",
    "Data from Figures 11.3 and 11.1\n"
   ]
  },
  {
   "cell_type": "code",
   "execution_count": 8,
   "metadata": {
    "collapsed": true
   },
   "outputs": [],
   "source": [
    "A3 = np.array([3,11,17,23,29,37,41,53,67,79,83,97,60,71,15,45])\n",
    "Y3 = np.array([21,54,33,101,85,65,157,120,111,200,140,220,230,217,11,190])"
   ]
  },
  {
   "cell_type": "code",
   "execution_count": 9,
   "metadata": {},
   "outputs": [
    {
     "data": {
      "image/png": "[encoded data removed]",
      "text/plain": [
       "<matplotlib.figure.Figure at 0x2a5cfbca8d0>"
      ]
     },
     "metadata": {},
     "output_type": "display_data"
    }
   ],
   "source": [
    "plt.plot(A3, Y3, 'bo')\n",
    "plt.show()"
   ]
  },
  {
   "cell_type": "code",
   "execution_count": 10,
   "metadata": {},
   "outputs": [
    {
     "name": "stderr",
     "output_type": "stream",
     "text": [
      "C:\\ProgramData\\Anaconda3\\lib\\site-packages\\statsmodels\\compat\\pandas.py:56: FutureWarning: The pandas.core.datetools module is deprecated and will be removed in a future version. Please use the pandas.tseries module instead.\n",
      "  from pandas.core import datetools\n"
     ]
    }
   ],
   "source": [
    "import statsmodels.api as sm"
   ]
  },
  {
   "cell_type": "code",
   "execution_count": 11,
   "metadata": {
    "scrolled": true
   },
   "outputs": [
    {
     "name": "stdout",
     "output_type": "stream",
     "text": [
      "                            OLS Regression Results                            \n",
      "==============================================================================\n",
      "Dep. Variable:                      y   R-squared:                       0.907\n",
      "Model:                            OLS   Adj. R-squared:                  0.901\n",
      "Method:                 Least Squares   F-statistic:                     147.0\n",
      "Date:                Fri, 02 Feb 2018   Prob (F-statistic):           3.76e-09\n",
      "Time:                        03:22:17   Log-Likelihood:                -82.938\n",
      "No. Observations:                  16   AIC:                             167.9\n",
      "Df Residuals:                      15   BIC:                             168.6\n",
      "Df Model:                           1                                         \n",
      "Covariance Type:            nonrobust                                         \n",
      "==============================================================================\n",
      "                 coef    std err          t      P>|t|      [0.025      0.975]\n",
      "------------------------------------------------------------------------------\n",
      "x1             2.5309      0.209     12.123      0.000       2.086       2.976\n",
      "==============================================================================\n",
      "Omnibus:                        0.362   Durbin-Watson:                   1.933\n",
      "Prob(Omnibus):                  0.835   Jarque-Bera (JB):                0.485\n",
      "Skew:                           0.029   Prob(JB):                        0.785\n",
      "Kurtosis:                       2.149   Cond. No.                         1.00\n",
      "==============================================================================\n",
      "\n",
      "Warnings:\n",
      "[1] Standard Errors assume that the covariance matrix of the errors is correctly specified.\n"
     ]
    },
    {
     "name": "stderr",
     "output_type": "stream",
     "text": [
      "C:\\ProgramData\\Anaconda3\\lib\\site-packages\\scipy\\stats\\stats.py:1334: UserWarning: kurtosistest only valid for n>=20 ... continuing anyway, n=16\n",
      "  \"anyway, n=%i\" % int(n))\n"
     ]
    }
   ],
   "source": [
    "model1 = sm.OLS(Y3, A3)\n",
    "results1 = model1.fit()\n",
    "print(results1.summary())\n"
   ]
  },
  {
   "cell_type": "code",
   "execution_count": 12,
   "metadata": {
    "collapsed": true
   },
   "outputs": [],
   "source": [
    "y2_pred = results1.predict()"
   ]
  },
  {
   "cell_type": "code",
   "execution_count": 13,
   "metadata": {},
   "outputs": [
    {
     "data": {
      "image/png": "[encoded data removed]",
      "text/plain": [
       "<matplotlib.figure.Figure at 0x2a5d1e83ac8>"
      ]
     },
     "metadata": {},
     "output_type": "display_data"
    }
   ],
   "source": [
    "# Plot outputs\n",
    "plt.scatter(A3, Y3,  color='black', label='data')\n",
    "plt.plot(A3, y2_pred, color='green', linewidth=2, label='ols')\n",
    "plt.legend(loc='best');\n",
    "\n",
    "plt.show()"
   ]
  },
  {
   "cell_type": "markdown",
   "metadata": {},
   "source": [
    "## PROGRAM 11.3\n",
    "\n",
    "3-parameter linear model\n",
    "\n",
    "Data from Figure 11.3\n"
   ]
  },
  {
   "cell_type": "code",
   "execution_count": 14,
   "metadata": {},
   "outputs": [
    {
     "name": "stdout",
     "output_type": "stream",
     "text": [
      "                            OLS Regression Results                            \n",
      "==============================================================================\n",
      "Dep. Variable:                      y   R-squared:                       0.157\n",
      "Model:                            OLS   Adj. R-squared:                  0.101\n",
      "Method:                 Least Squares   F-statistic:                     2.797\n",
      "Date:                Fri, 02 Feb 2018   Prob (F-statistic):              0.115\n",
      "Time:                        03:22:18   Log-Likelihood:                -100.60\n",
      "No. Observations:                  16   AIC:                             203.2\n",
      "Df Residuals:                      15   BIC:                             204.0\n",
      "Df Model:                           1                                         \n",
      "Covariance Type:            nonrobust                                         \n",
      "==============================================================================\n",
      "                 coef    std err          t      P>|t|      [0.025      0.975]\n",
      "------------------------------------------------------------------------------\n",
      "x1            79.5000     47.532      1.673      0.115     -21.812     180.812\n",
      "==============================================================================\n",
      "Omnibus:                        5.875   Durbin-Watson:                   0.422\n",
      "Prob(Omnibus):                  0.053   Jarque-Bera (JB):                1.599\n",
      "Skew:                           0.190   Prob(JB):                        0.450\n",
      "Kurtosis:                       1.499   Cond. No.                         1.00\n",
      "==============================================================================\n",
      "\n",
      "Warnings:\n",
      "[1] Standard Errors assume that the covariance matrix of the errors is correctly specified.\n"
     ]
    },
    {
     "name": "stderr",
     "output_type": "stream",
     "text": [
      "C:\\ProgramData\\Anaconda3\\lib\\site-packages\\scipy\\stats\\stats.py:1334: UserWarning: kurtosistest only valid for n>=20 ... continuing anyway, n=16\n",
      "  \"anyway, n=%i\" % int(n))\n"
     ]
    }
   ],
   "source": [
    "model1 = sm.OLS(Y3, A)\n",
    "results1 = model1.fit()\n",
    "print(results1.summary())\n"
   ]
  },
  {
   "cell_type": "code",
   "execution_count": 15,
   "metadata": {
    "collapsed": true
   },
   "outputs": [],
   "source": [
    "y2_pred = results1.predict()"
   ]
  },
  {
   "cell_type": "code",
   "execution_count": 16,
   "metadata": {},
   "outputs": [
    {
     "data": {
      "image/png": "[encoded data removed]",
      "text/plain": [
       "<matplotlib.figure.Figure at 0x2a5d1ee5518>"
      ]
     },
     "metadata": {},
     "output_type": "display_data"
    }
   ],
   "source": [
    "# Plot outputs\n",
    "plt.scatter(A, Y3,  color='black', label='data')\n",
    "plt.plot(A, y2_pred, color='green', linewidth=2, label='ols')\n",
    "plt.legend(loc='best');\n",
    "\n",
    "plt.show()"
   ]
  },
  {
   "cell_type": "markdown",
   "metadata": {},
   "source": [
    "#####################################################\n",
    "## PROGRAM 12.1\n",
    "\n",
    "Descriptive statistics from NHEFS data (Table 12.1)\n",
    "#####################################################"
   ]
  },
  {
   "cell_type": "code",
   "execution_count": 17,
   "metadata": {},
   "outputs": [
    {
     "data": {
      "text/html": [
       "<div>\n",
       "<style>\n",
       "    .dataframe thead tr:only-child th {\n",
       "        text-align: right;\n",
       "    }\n",
       "\n",
       "    .dataframe thead th {\n",
       "        text-align: left;\n",
       "    }\n",
       "\n",
       "    .dataframe tbody tr th {\n",
       "        vertical-align: top;\n",
       "    }\n",
       "</style>\n",
       "<table border=\"1\" class=\"dataframe\">\n",
       "  <thead>\n",
       "    <tr style=\"text-align: right;\">\n",
       "      <th></th>\n",
       "      <th>qsmk</th>\n",
       "      <th>death</th>\n",
       "      <th>yrdth</th>\n",
       "      <th>sbp</th>\n",
       "      <th>dbp</th>\n",
       "      <th>sex</th>\n",
       "      <th>age</th>\n",
       "      <th>race</th>\n",
       "      <th>income</th>\n",
       "      <th>marital</th>\n",
       "      <th>...</th>\n",
       "      <th>birthcontrol</th>\n",
       "      <th>pregnancies</th>\n",
       "      <th>cholesterol</th>\n",
       "      <th>hightax82</th>\n",
       "      <th>price71</th>\n",
       "      <th>price82</th>\n",
       "      <th>tax71</th>\n",
       "      <th>tax82</th>\n",
       "      <th>price71_82</th>\n",
       "      <th>tax71_82</th>\n",
       "    </tr>\n",
       "    <tr>\n",
       "      <th>seqn</th>\n",
       "      <th></th>\n",
       "      <th></th>\n",
       "      <th></th>\n",
       "      <th></th>\n",
       "      <th></th>\n",
       "      <th></th>\n",
       "      <th></th>\n",
       "      <th></th>\n",
       "      <th></th>\n",
       "      <th></th>\n",
       "      <th></th>\n",
       "      <th></th>\n",
       "      <th></th>\n",
       "      <th></th>\n",
       "      <th></th>\n",
       "      <th></th>\n",
       "      <th></th>\n",
       "      <th></th>\n",
       "      <th></th>\n",
       "      <th></th>\n",
       "      <th></th>\n",
       "    </tr>\n",
       "  </thead>\n",
       "  <tbody>\n",
       "    <tr>\n",
       "      <th>233</th>\n",
       "      <td>0</td>\n",
       "      <td>0</td>\n",
       "      <td>NaN</td>\n",
       "      <td>175.0</td>\n",
       "      <td>96.0</td>\n",
       "      <td>0</td>\n",
       "      <td>42</td>\n",
       "      <td>1</td>\n",
       "      <td>19.0</td>\n",
       "      <td>2</td>\n",
       "      <td>...</td>\n",
       "      <td>2</td>\n",
       "      <td>NaN</td>\n",
       "      <td>197.0</td>\n",
       "      <td>0.0</td>\n",
       "      <td>2.183594</td>\n",
       "      <td>1.739990</td>\n",
       "      <td>1.102295</td>\n",
       "      <td>0.461975</td>\n",
       "      <td>0.443787</td>\n",
       "      <td>0.640381</td>\n",
       "    </tr>\n",
       "    <tr>\n",
       "      <th>235</th>\n",
       "      <td>0</td>\n",
       "      <td>0</td>\n",
       "      <td>NaN</td>\n",
       "      <td>123.0</td>\n",
       "      <td>80.0</td>\n",
       "      <td>0</td>\n",
       "      <td>36</td>\n",
       "      <td>0</td>\n",
       "      <td>18.0</td>\n",
       "      <td>2</td>\n",
       "      <td>...</td>\n",
       "      <td>2</td>\n",
       "      <td>NaN</td>\n",
       "      <td>301.0</td>\n",
       "      <td>0.0</td>\n",
       "      <td>2.346680</td>\n",
       "      <td>1.797363</td>\n",
       "      <td>1.364990</td>\n",
       "      <td>0.571899</td>\n",
       "      <td>0.549316</td>\n",
       "      <td>0.792969</td>\n",
       "    </tr>\n",
       "    <tr>\n",
       "      <th>244</th>\n",
       "      <td>0</td>\n",
       "      <td>0</td>\n",
       "      <td>NaN</td>\n",
       "      <td>115.0</td>\n",
       "      <td>75.0</td>\n",
       "      <td>1</td>\n",
       "      <td>56</td>\n",
       "      <td>1</td>\n",
       "      <td>15.0</td>\n",
       "      <td>3</td>\n",
       "      <td>...</td>\n",
       "      <td>0</td>\n",
       "      <td>2.0</td>\n",
       "      <td>157.0</td>\n",
       "      <td>0.0</td>\n",
       "      <td>1.569580</td>\n",
       "      <td>1.513428</td>\n",
       "      <td>0.551270</td>\n",
       "      <td>0.230988</td>\n",
       "      <td>0.056198</td>\n",
       "      <td>0.320251</td>\n",
       "    </tr>\n",
       "    <tr>\n",
       "      <th>245</th>\n",
       "      <td>0</td>\n",
       "      <td>1</td>\n",
       "      <td>85.0</td>\n",
       "      <td>148.0</td>\n",
       "      <td>78.0</td>\n",
       "      <td>0</td>\n",
       "      <td>68</td>\n",
       "      <td>1</td>\n",
       "      <td>15.0</td>\n",
       "      <td>3</td>\n",
       "      <td>...</td>\n",
       "      <td>2</td>\n",
       "      <td>NaN</td>\n",
       "      <td>174.0</td>\n",
       "      <td>0.0</td>\n",
       "      <td>1.506592</td>\n",
       "      <td>1.451904</td>\n",
       "      <td>0.524902</td>\n",
       "      <td>0.219971</td>\n",
       "      <td>0.054794</td>\n",
       "      <td>0.304993</td>\n",
       "    </tr>\n",
       "    <tr>\n",
       "      <th>252</th>\n",
       "      <td>0</td>\n",
       "      <td>0</td>\n",
       "      <td>NaN</td>\n",
       "      <td>118.0</td>\n",
       "      <td>77.0</td>\n",
       "      <td>0</td>\n",
       "      <td>40</td>\n",
       "      <td>0</td>\n",
       "      <td>18.0</td>\n",
       "      <td>2</td>\n",
       "      <td>...</td>\n",
       "      <td>2</td>\n",
       "      <td>NaN</td>\n",
       "      <td>216.0</td>\n",
       "      <td>0.0</td>\n",
       "      <td>2.346680</td>\n",
       "      <td>1.797363</td>\n",
       "      <td>1.364990</td>\n",
       "      <td>0.571899</td>\n",
       "      <td>0.549316</td>\n",
       "      <td>0.792969</td>\n",
       "    </tr>\n",
       "  </tbody>\n",
       "</table>\n",
       "<p>5 rows × 60 columns</p>\n",
       "</div>"
      ],
      "text/plain": [
       "      qsmk  death  yrdth    sbp   dbp  sex  age  race  income  marital  \\\n",
       "seqn                                                                     \n",
       "233      0      0    NaN  175.0  96.0    0   42     1    19.0        2   \n",
       "235      0      0    NaN  123.0  80.0    0   36     0    18.0        2   \n",
       "244      0      0    NaN  115.0  75.0    1   56     1    15.0        3   \n",
       "245      0      1   85.0  148.0  78.0    0   68     1    15.0        3   \n",
       "252      0      0    NaN  118.0  77.0    0   40     0    18.0        2   \n",
       "\n",
       "        ...     birthcontrol  pregnancies  cholesterol  hightax82   price71  \\\n",
       "seqn    ...                                                                   \n",
       "233     ...                2          NaN        197.0        0.0  2.183594   \n",
       "235     ...                2          NaN        301.0        0.0  2.346680   \n",
       "244     ...                0          2.0        157.0        0.0  1.569580   \n",
       "245     ...                2          NaN        174.0        0.0  1.506592   \n",
       "252     ...                2          NaN        216.0        0.0  2.346680   \n",
       "\n",
       "       price82     tax71     tax82  price71_82  tax71_82  \n",
       "seqn                                                      \n",
       "233   1.739990  1.102295  0.461975    0.443787  0.640381  \n",
       "235   1.797363  1.364990  0.571899    0.549316  0.792969  \n",
       "244   1.513428  0.551270  0.230988    0.056198  0.320251  \n",
       "245   1.451904  0.524902  0.219971    0.054794  0.304993  \n",
       "252   1.797363  1.364990  0.571899    0.549316  0.792969  \n",
       "\n",
       "[5 rows x 60 columns]"
      ]
     },
     "execution_count": 17,
     "metadata": {},
     "output_type": "execute_result"
    }
   ],
   "source": [
    "nhefs = pd.read_csv('nhefs.csv')\n",
    "nhefs.set_index('seqn', inplace=True)\n",
    "#nhefs.convert_objects(convert_numeric=True)\n",
    "nhefs.head()"
   ]
  },
  {
   "cell_type": "code",
   "execution_count": 18,
   "metadata": {
    "collapsed": true
   },
   "outputs": [],
   "source": [
    "nhefs['cens'] = nhefs['wt82'].isnull().apply(lambda x: int(x))"
   ]
  },
  {
   "cell_type": "code",
   "execution_count": 19,
   "metadata": {
    "collapsed": true
   },
   "outputs": [],
   "source": [
    "nhefs['older'] = ((nhefs['age'] > 50) & nhefs['age'].notnull()).apply(int)"
   ]
  },
  {
   "cell_type": "code",
   "execution_count": 20,
   "metadata": {
    "collapsed": true
   },
   "outputs": [],
   "source": [
    "nhefs['education_code'] = nhefs['school'].apply(lambda s: 1 if s in range(0,9)\\\n",
    "                                                 else (2 if s in range(9,12)\\\n",
    "                                                 else (3 if s == 12 else (4 if s in range(13,16)\\\n",
    "                                                 else (5 if s >= 16 else 6)))))"
   ]
  },
  {
   "cell_type": "code",
   "execution_count": 21,
   "metadata": {
    "collapsed": true
   },
   "outputs": [],
   "source": [
    "nhefs['education'] =\\\n",
    "nhefs['education_code'].apply(lambda s: '1. 8th grade or less' if s==1\\\n",
    "                               else ('2. HS dropout' if s==2\\\n",
    "                               else ('3. HS'  if s==3\\\n",
    "                               else ('4. College dropout' if s==4\\\n",
    "                               else ('5. College or more' if s==5\\\n",
    "                               else ('Unknown' if s==6       \n",
    "                                        else s))))))\n"
   ]
  },
  {
   "cell_type": "code",
   "execution_count": 22,
   "metadata": {},
   "outputs": [
    {
     "data": {
      "text/html": [
       "<div>\n",
       "<style>\n",
       "    .dataframe thead tr:only-child th {\n",
       "        text-align: right;\n",
       "    }\n",
       "\n",
       "    .dataframe thead th {\n",
       "        text-align: left;\n",
       "    }\n",
       "\n",
       "    .dataframe tbody tr th {\n",
       "        vertical-align: top;\n",
       "    }\n",
       "</style>\n",
       "<table border=\"1\" class=\"dataframe\">\n",
       "  <thead>\n",
       "    <tr style=\"text-align: right;\">\n",
       "      <th></th>\n",
       "      <th>qsmk</th>\n",
       "      <th>death</th>\n",
       "      <th>yrdth</th>\n",
       "      <th>sbp</th>\n",
       "      <th>dbp</th>\n",
       "      <th>sex</th>\n",
       "      <th>age</th>\n",
       "      <th>race</th>\n",
       "      <th>income</th>\n",
       "      <th>marital</th>\n",
       "      <th>...</th>\n",
       "      <th>price71</th>\n",
       "      <th>price82</th>\n",
       "      <th>tax71</th>\n",
       "      <th>tax82</th>\n",
       "      <th>price71_82</th>\n",
       "      <th>tax71_82</th>\n",
       "      <th>cens</th>\n",
       "      <th>older</th>\n",
       "      <th>education_code</th>\n",
       "      <th>education</th>\n",
       "    </tr>\n",
       "    <tr>\n",
       "      <th>seqn</th>\n",
       "      <th></th>\n",
       "      <th></th>\n",
       "      <th></th>\n",
       "      <th></th>\n",
       "      <th></th>\n",
       "      <th></th>\n",
       "      <th></th>\n",
       "      <th></th>\n",
       "      <th></th>\n",
       "      <th></th>\n",
       "      <th></th>\n",
       "      <th></th>\n",
       "      <th></th>\n",
       "      <th></th>\n",
       "      <th></th>\n",
       "      <th></th>\n",
       "      <th></th>\n",
       "      <th></th>\n",
       "      <th></th>\n",
       "      <th></th>\n",
       "      <th></th>\n",
       "    </tr>\n",
       "  </thead>\n",
       "  <tbody>\n",
       "    <tr>\n",
       "      <th>233</th>\n",
       "      <td>0</td>\n",
       "      <td>0</td>\n",
       "      <td>NaN</td>\n",
       "      <td>175.0</td>\n",
       "      <td>96.0</td>\n",
       "      <td>0</td>\n",
       "      <td>42</td>\n",
       "      <td>1</td>\n",
       "      <td>19.0</td>\n",
       "      <td>2</td>\n",
       "      <td>...</td>\n",
       "      <td>2.183594</td>\n",
       "      <td>1.739990</td>\n",
       "      <td>1.102295</td>\n",
       "      <td>0.461975</td>\n",
       "      <td>0.443787</td>\n",
       "      <td>0.640381</td>\n",
       "      <td>0</td>\n",
       "      <td>0</td>\n",
       "      <td>1</td>\n",
       "      <td>1. 8th grade or less</td>\n",
       "    </tr>\n",
       "    <tr>\n",
       "      <th>235</th>\n",
       "      <td>0</td>\n",
       "      <td>0</td>\n",
       "      <td>NaN</td>\n",
       "      <td>123.0</td>\n",
       "      <td>80.0</td>\n",
       "      <td>0</td>\n",
       "      <td>36</td>\n",
       "      <td>0</td>\n",
       "      <td>18.0</td>\n",
       "      <td>2</td>\n",
       "      <td>...</td>\n",
       "      <td>2.346680</td>\n",
       "      <td>1.797363</td>\n",
       "      <td>1.364990</td>\n",
       "      <td>0.571899</td>\n",
       "      <td>0.549316</td>\n",
       "      <td>0.792969</td>\n",
       "      <td>0</td>\n",
       "      <td>0</td>\n",
       "      <td>2</td>\n",
       "      <td>2. HS dropout</td>\n",
       "    </tr>\n",
       "    <tr>\n",
       "      <th>244</th>\n",
       "      <td>0</td>\n",
       "      <td>0</td>\n",
       "      <td>NaN</td>\n",
       "      <td>115.0</td>\n",
       "      <td>75.0</td>\n",
       "      <td>1</td>\n",
       "      <td>56</td>\n",
       "      <td>1</td>\n",
       "      <td>15.0</td>\n",
       "      <td>3</td>\n",
       "      <td>...</td>\n",
       "      <td>1.569580</td>\n",
       "      <td>1.513428</td>\n",
       "      <td>0.551270</td>\n",
       "      <td>0.230988</td>\n",
       "      <td>0.056198</td>\n",
       "      <td>0.320251</td>\n",
       "      <td>0</td>\n",
       "      <td>1</td>\n",
       "      <td>2</td>\n",
       "      <td>2. HS dropout</td>\n",
       "    </tr>\n",
       "    <tr>\n",
       "      <th>245</th>\n",
       "      <td>0</td>\n",
       "      <td>1</td>\n",
       "      <td>85.0</td>\n",
       "      <td>148.0</td>\n",
       "      <td>78.0</td>\n",
       "      <td>0</td>\n",
       "      <td>68</td>\n",
       "      <td>1</td>\n",
       "      <td>15.0</td>\n",
       "      <td>3</td>\n",
       "      <td>...</td>\n",
       "      <td>1.506592</td>\n",
       "      <td>1.451904</td>\n",
       "      <td>0.524902</td>\n",
       "      <td>0.219971</td>\n",
       "      <td>0.054794</td>\n",
       "      <td>0.304993</td>\n",
       "      <td>0</td>\n",
       "      <td>1</td>\n",
       "      <td>1</td>\n",
       "      <td>1. 8th grade or less</td>\n",
       "    </tr>\n",
       "    <tr>\n",
       "      <th>252</th>\n",
       "      <td>0</td>\n",
       "      <td>0</td>\n",
       "      <td>NaN</td>\n",
       "      <td>118.0</td>\n",
       "      <td>77.0</td>\n",
       "      <td>0</td>\n",
       "      <td>40</td>\n",
       "      <td>0</td>\n",
       "      <td>18.0</td>\n",
       "      <td>2</td>\n",
       "      <td>...</td>\n",
       "      <td>2.346680</td>\n",
       "      <td>1.797363</td>\n",
       "      <td>1.364990</td>\n",
       "      <td>0.571899</td>\n",
       "      <td>0.549316</td>\n",
       "      <td>0.792969</td>\n",
       "      <td>0</td>\n",
       "      <td>0</td>\n",
       "      <td>2</td>\n",
       "      <td>2. HS dropout</td>\n",
       "    </tr>\n",
       "  </tbody>\n",
       "</table>\n",
       "<p>5 rows × 64 columns</p>\n",
       "</div>"
      ],
      "text/plain": [
       "      qsmk  death  yrdth    sbp   dbp  sex  age  race  income  marital  \\\n",
       "seqn                                                                     \n",
       "233      0      0    NaN  175.0  96.0    0   42     1    19.0        2   \n",
       "235      0      0    NaN  123.0  80.0    0   36     0    18.0        2   \n",
       "244      0      0    NaN  115.0  75.0    1   56     1    15.0        3   \n",
       "245      0      1   85.0  148.0  78.0    0   68     1    15.0        3   \n",
       "252      0      0    NaN  118.0  77.0    0   40     0    18.0        2   \n",
       "\n",
       "              ...            price71   price82     tax71     tax82  \\\n",
       "seqn          ...                                                    \n",
       "233           ...           2.183594  1.739990  1.102295  0.461975   \n",
       "235           ...           2.346680  1.797363  1.364990  0.571899   \n",
       "244           ...           1.569580  1.513428  0.551270  0.230988   \n",
       "245           ...           1.506592  1.451904  0.524902  0.219971   \n",
       "252           ...           2.346680  1.797363  1.364990  0.571899   \n",
       "\n",
       "      price71_82  tax71_82  cens  older  education_code             education  \n",
       "seqn                                                                           \n",
       "233     0.443787  0.640381     0      0               1  1. 8th grade or less  \n",
       "235     0.549316  0.792969     0      0               2         2. HS dropout  \n",
       "244     0.056198  0.320251     0      1               2         2. HS dropout  \n",
       "245     0.054794  0.304993     0      1               1  1. 8th grade or less  \n",
       "252     0.549316  0.792969     0      0               2         2. HS dropout  \n",
       "\n",
       "[5 rows x 64 columns]"
      ]
     },
     "execution_count": 22,
     "metadata": {},
     "output_type": "execute_result"
    }
   ],
   "source": [
    "nhefs.head()"
   ]
  },
  {
   "cell_type": "code",
   "execution_count": 23,
   "metadata": {
    "collapsed": true
   },
   "outputs": [],
   "source": [
    "# Analysis restricted to N=1566 \n",
    "# with non-missing values in the following covariates\n",
    "nhefs_original = nhefs # Original data saved for later use"
   ]
  },
  {
   "cell_type": "code",
   "execution_count": 24,
   "metadata": {
    "collapsed": true
   },
   "outputs": [],
   "source": [
    "nhefs.insert(0, 'id', range(1, len(nhefs)+1))"
   ]
  },
  {
   "cell_type": "code",
   "execution_count": 25,
   "metadata": {
    "collapsed": true
   },
   "outputs": [],
   "source": [
    "nhefs2 = nhefs[['id', 'qsmk', 'sex', 'race', 'age', 'school',\\\n",
    " 'smokeintensity', 'smokeyrs', 'exercise', \\\n",
    " 'active', 'wt71', 'wt82']].reset_index()\n",
    "nhefs2.drop(['seqn'], axis=1)\n",
    "nhefs2.set_index('id', inplace=True)"
   ]
  },
  {
   "cell_type": "code",
   "execution_count": 26,
   "metadata": {},
   "outputs": [
    {
     "data": {
      "text/html": [
       "<div>\n",
       "<style>\n",
       "    .dataframe thead tr:only-child th {\n",
       "        text-align: right;\n",
       "    }\n",
       "\n",
       "    .dataframe thead th {\n",
       "        text-align: left;\n",
       "    }\n",
       "\n",
       "    .dataframe tbody tr th {\n",
       "        vertical-align: top;\n",
       "    }\n",
       "</style>\n",
       "<table border=\"1\" class=\"dataframe\">\n",
       "  <thead>\n",
       "    <tr style=\"text-align: right;\">\n",
       "      <th></th>\n",
       "      <th>seqn</th>\n",
       "      <th>qsmk</th>\n",
       "      <th>sex</th>\n",
       "      <th>race</th>\n",
       "      <th>age</th>\n",
       "      <th>school</th>\n",
       "      <th>smokeintensity</th>\n",
       "      <th>smokeyrs</th>\n",
       "      <th>exercise</th>\n",
       "      <th>active</th>\n",
       "      <th>wt71</th>\n",
       "      <th>wt82</th>\n",
       "    </tr>\n",
       "    <tr>\n",
       "      <th>id</th>\n",
       "      <th></th>\n",
       "      <th></th>\n",
       "      <th></th>\n",
       "      <th></th>\n",
       "      <th></th>\n",
       "      <th></th>\n",
       "      <th></th>\n",
       "      <th></th>\n",
       "      <th></th>\n",
       "      <th></th>\n",
       "      <th></th>\n",
       "      <th></th>\n",
       "    </tr>\n",
       "  </thead>\n",
       "  <tbody>\n",
       "    <tr>\n",
       "      <th>1</th>\n",
       "      <td>233</td>\n",
       "      <td>0</td>\n",
       "      <td>0</td>\n",
       "      <td>1</td>\n",
       "      <td>42</td>\n",
       "      <td>7.0</td>\n",
       "      <td>30</td>\n",
       "      <td>29</td>\n",
       "      <td>2</td>\n",
       "      <td>0</td>\n",
       "      <td>79.04</td>\n",
       "      <td>68.946040</td>\n",
       "    </tr>\n",
       "    <tr>\n",
       "      <th>2</th>\n",
       "      <td>235</td>\n",
       "      <td>0</td>\n",
       "      <td>0</td>\n",
       "      <td>0</td>\n",
       "      <td>36</td>\n",
       "      <td>9.0</td>\n",
       "      <td>20</td>\n",
       "      <td>24</td>\n",
       "      <td>0</td>\n",
       "      <td>0</td>\n",
       "      <td>58.63</td>\n",
       "      <td>61.234970</td>\n",
       "    </tr>\n",
       "    <tr>\n",
       "      <th>3</th>\n",
       "      <td>244</td>\n",
       "      <td>0</td>\n",
       "      <td>1</td>\n",
       "      <td>1</td>\n",
       "      <td>56</td>\n",
       "      <td>11.0</td>\n",
       "      <td>20</td>\n",
       "      <td>26</td>\n",
       "      <td>2</td>\n",
       "      <td>0</td>\n",
       "      <td>56.81</td>\n",
       "      <td>66.224486</td>\n",
       "    </tr>\n",
       "    <tr>\n",
       "      <th>4</th>\n",
       "      <td>245</td>\n",
       "      <td>0</td>\n",
       "      <td>0</td>\n",
       "      <td>1</td>\n",
       "      <td>68</td>\n",
       "      <td>5.0</td>\n",
       "      <td>3</td>\n",
       "      <td>53</td>\n",
       "      <td>2</td>\n",
       "      <td>1</td>\n",
       "      <td>59.42</td>\n",
       "      <td>64.410117</td>\n",
       "    </tr>\n",
       "    <tr>\n",
       "      <th>5</th>\n",
       "      <td>252</td>\n",
       "      <td>0</td>\n",
       "      <td>0</td>\n",
       "      <td>0</td>\n",
       "      <td>40</td>\n",
       "      <td>11.0</td>\n",
       "      <td>20</td>\n",
       "      <td>19</td>\n",
       "      <td>1</td>\n",
       "      <td>1</td>\n",
       "      <td>87.09</td>\n",
       "      <td>92.079251</td>\n",
       "    </tr>\n",
       "  </tbody>\n",
       "</table>\n",
       "</div>"
      ],
      "text/plain": [
       "    seqn  qsmk  sex  race  age  school  smokeintensity  smokeyrs  exercise  \\\n",
       "id                                                                           \n",
       "1    233     0    0     1   42     7.0              30        29         2   \n",
       "2    235     0    0     0   36     9.0              20        24         0   \n",
       "3    244     0    1     1   56    11.0              20        26         2   \n",
       "4    245     0    0     1   68     5.0               3        53         2   \n",
       "5    252     0    0     0   40    11.0              20        19         1   \n",
       "\n",
       "    active   wt71       wt82  \n",
       "id                            \n",
       "1        0  79.04  68.946040  \n",
       "2        0  58.63  61.234970  \n",
       "3        0  56.81  66.224486  \n",
       "4        1  59.42  64.410117  \n",
       "5        1  87.09  92.079251  "
      ]
     },
     "execution_count": 26,
     "metadata": {},
     "output_type": "execute_result"
    }
   ],
   "source": [
    "nhefs2.head()"
   ]
  },
  {
   "cell_type": "code",
   "execution_count": 27,
   "metadata": {},
   "outputs": [
    {
     "name": "stdout",
     "output_type": "stream",
     "text": [
      "(1746, 12)\n",
      "(1566, 12)\n"
     ]
    }
   ],
   "source": [
    "print(nhefs2.shape)\n",
    "nhefs2.dropna(inplace=True)\n",
    "print(nhefs2.shape)"
   ]
  },
  {
   "cell_type": "code",
   "execution_count": 28,
   "metadata": {},
   "outputs": [
    {
     "data": {
      "text/plain": [
       "Int64Index([   1,    2,    3,    4,    5,    6,    7,    8,    9,   10,\n",
       "            ...\n",
       "            1735, 1736, 1737, 1738, 1739, 1740, 1741, 1742, 1744, 1746],\n",
       "           dtype='int64', name='id', length=1566)"
      ]
     },
     "execution_count": 28,
     "metadata": {},
     "output_type": "execute_result"
    }
   ],
   "source": [
    "nhefs2.index"
   ]
  },
  {
   "cell_type": "code",
   "execution_count": 29,
   "metadata": {
    "collapsed": true
   },
   "outputs": [],
   "source": [
    "nhefs = nhefs.loc[nhefs2['seqn']]\n",
    "nhefs['id'] = nhefs2.index\n",
    "del nhefs2"
   ]
  },
  {
   "cell_type": "code",
   "execution_count": 30,
   "metadata": {},
   "outputs": [
    {
     "data": {
      "text/html": [
       "<div>\n",
       "<style>\n",
       "    .dataframe thead tr:only-child th {\n",
       "        text-align: right;\n",
       "    }\n",
       "\n",
       "    .dataframe thead th {\n",
       "        text-align: left;\n",
       "    }\n",
       "\n",
       "    .dataframe tbody tr th {\n",
       "        vertical-align: top;\n",
       "    }\n",
       "</style>\n",
       "<table border=\"1\" class=\"dataframe\">\n",
       "  <thead>\n",
       "    <tr style=\"text-align: right;\">\n",
       "      <th></th>\n",
       "      <th>id</th>\n",
       "      <th>qsmk</th>\n",
       "      <th>death</th>\n",
       "      <th>yrdth</th>\n",
       "      <th>sbp</th>\n",
       "      <th>dbp</th>\n",
       "      <th>sex</th>\n",
       "      <th>age</th>\n",
       "      <th>race</th>\n",
       "      <th>income</th>\n",
       "      <th>...</th>\n",
       "      <th>price71</th>\n",
       "      <th>price82</th>\n",
       "      <th>tax71</th>\n",
       "      <th>tax82</th>\n",
       "      <th>price71_82</th>\n",
       "      <th>tax71_82</th>\n",
       "      <th>cens</th>\n",
       "      <th>older</th>\n",
       "      <th>education_code</th>\n",
       "      <th>education</th>\n",
       "    </tr>\n",
       "    <tr>\n",
       "      <th>seqn</th>\n",
       "      <th></th>\n",
       "      <th></th>\n",
       "      <th></th>\n",
       "      <th></th>\n",
       "      <th></th>\n",
       "      <th></th>\n",
       "      <th></th>\n",
       "      <th></th>\n",
       "      <th></th>\n",
       "      <th></th>\n",
       "      <th></th>\n",
       "      <th></th>\n",
       "      <th></th>\n",
       "      <th></th>\n",
       "      <th></th>\n",
       "      <th></th>\n",
       "      <th></th>\n",
       "      <th></th>\n",
       "      <th></th>\n",
       "      <th></th>\n",
       "      <th></th>\n",
       "    </tr>\n",
       "  </thead>\n",
       "  <tbody>\n",
       "    <tr>\n",
       "      <th>233</th>\n",
       "      <td>1</td>\n",
       "      <td>0</td>\n",
       "      <td>0</td>\n",
       "      <td>NaN</td>\n",
       "      <td>175.0</td>\n",
       "      <td>96.0</td>\n",
       "      <td>0</td>\n",
       "      <td>42</td>\n",
       "      <td>1</td>\n",
       "      <td>19.0</td>\n",
       "      <td>...</td>\n",
       "      <td>2.183594</td>\n",
       "      <td>1.739990</td>\n",
       "      <td>1.102295</td>\n",
       "      <td>0.461975</td>\n",
       "      <td>0.443787</td>\n",
       "      <td>0.640381</td>\n",
       "      <td>0</td>\n",
       "      <td>0</td>\n",
       "      <td>1</td>\n",
       "      <td>1. 8th grade or less</td>\n",
       "    </tr>\n",
       "    <tr>\n",
       "      <th>235</th>\n",
       "      <td>2</td>\n",
       "      <td>0</td>\n",
       "      <td>0</td>\n",
       "      <td>NaN</td>\n",
       "      <td>123.0</td>\n",
       "      <td>80.0</td>\n",
       "      <td>0</td>\n",
       "      <td>36</td>\n",
       "      <td>0</td>\n",
       "      <td>18.0</td>\n",
       "      <td>...</td>\n",
       "      <td>2.346680</td>\n",
       "      <td>1.797363</td>\n",
       "      <td>1.364990</td>\n",
       "      <td>0.571899</td>\n",
       "      <td>0.549316</td>\n",
       "      <td>0.792969</td>\n",
       "      <td>0</td>\n",
       "      <td>0</td>\n",
       "      <td>2</td>\n",
       "      <td>2. HS dropout</td>\n",
       "    </tr>\n",
       "    <tr>\n",
       "      <th>244</th>\n",
       "      <td>3</td>\n",
       "      <td>0</td>\n",
       "      <td>0</td>\n",
       "      <td>NaN</td>\n",
       "      <td>115.0</td>\n",
       "      <td>75.0</td>\n",
       "      <td>1</td>\n",
       "      <td>56</td>\n",
       "      <td>1</td>\n",
       "      <td>15.0</td>\n",
       "      <td>...</td>\n",
       "      <td>1.569580</td>\n",
       "      <td>1.513428</td>\n",
       "      <td>0.551270</td>\n",
       "      <td>0.230988</td>\n",
       "      <td>0.056198</td>\n",
       "      <td>0.320251</td>\n",
       "      <td>0</td>\n",
       "      <td>1</td>\n",
       "      <td>2</td>\n",
       "      <td>2. HS dropout</td>\n",
       "    </tr>\n",
       "    <tr>\n",
       "      <th>245</th>\n",
       "      <td>4</td>\n",
       "      <td>0</td>\n",
       "      <td>1</td>\n",
       "      <td>85.0</td>\n",
       "      <td>148.0</td>\n",
       "      <td>78.0</td>\n",
       "      <td>0</td>\n",
       "      <td>68</td>\n",
       "      <td>1</td>\n",
       "      <td>15.0</td>\n",
       "      <td>...</td>\n",
       "      <td>1.506592</td>\n",
       "      <td>1.451904</td>\n",
       "      <td>0.524902</td>\n",
       "      <td>0.219971</td>\n",
       "      <td>0.054794</td>\n",
       "      <td>0.304993</td>\n",
       "      <td>0</td>\n",
       "      <td>1</td>\n",
       "      <td>1</td>\n",
       "      <td>1. 8th grade or less</td>\n",
       "    </tr>\n",
       "    <tr>\n",
       "      <th>252</th>\n",
       "      <td>5</td>\n",
       "      <td>0</td>\n",
       "      <td>0</td>\n",
       "      <td>NaN</td>\n",
       "      <td>118.0</td>\n",
       "      <td>77.0</td>\n",
       "      <td>0</td>\n",
       "      <td>40</td>\n",
       "      <td>0</td>\n",
       "      <td>18.0</td>\n",
       "      <td>...</td>\n",
       "      <td>2.346680</td>\n",
       "      <td>1.797363</td>\n",
       "      <td>1.364990</td>\n",
       "      <td>0.571899</td>\n",
       "      <td>0.549316</td>\n",
       "      <td>0.792969</td>\n",
       "      <td>0</td>\n",
       "      <td>0</td>\n",
       "      <td>2</td>\n",
       "      <td>2. HS dropout</td>\n",
       "    </tr>\n",
       "  </tbody>\n",
       "</table>\n",
       "<p>5 rows × 65 columns</p>\n",
       "</div>"
      ],
      "text/plain": [
       "      id  qsmk  death  yrdth    sbp   dbp  sex  age  race  income  \\\n",
       "seqn                                                                \n",
       "233    1     0      0    NaN  175.0  96.0    0   42     1    19.0   \n",
       "235    2     0      0    NaN  123.0  80.0    0   36     0    18.0   \n",
       "244    3     0      0    NaN  115.0  75.0    1   56     1    15.0   \n",
       "245    4     0      1   85.0  148.0  78.0    0   68     1    15.0   \n",
       "252    5     0      0    NaN  118.0  77.0    0   40     0    18.0   \n",
       "\n",
       "              ...            price71   price82     tax71     tax82  \\\n",
       "seqn          ...                                                    \n",
       "233           ...           2.183594  1.739990  1.102295  0.461975   \n",
       "235           ...           2.346680  1.797363  1.364990  0.571899   \n",
       "244           ...           1.569580  1.513428  0.551270  0.230988   \n",
       "245           ...           1.506592  1.451904  0.524902  0.219971   \n",
       "252           ...           2.346680  1.797363  1.364990  0.571899   \n",
       "\n",
       "      price71_82  tax71_82  cens  older  education_code             education  \n",
       "seqn                                                                           \n",
       "233     0.443787  0.640381     0      0               1  1. 8th grade or less  \n",
       "235     0.549316  0.792969     0      0               2         2. HS dropout  \n",
       "244     0.056198  0.320251     0      1               2         2. HS dropout  \n",
       "245     0.054794  0.304993     0      1               1  1. 8th grade or less  \n",
       "252     0.549316  0.792969     0      0               2         2. HS dropout  \n",
       "\n",
       "[5 rows x 65 columns]"
      ]
     },
     "execution_count": 30,
     "metadata": {},
     "output_type": "execute_result"
    }
   ],
   "source": [
    "nhefs.head()"
   ]
  },
  {
   "cell_type": "code",
   "execution_count": 31,
   "metadata": {},
   "outputs": [
    {
     "data": {
      "text/plain": [
       "count    1163.000000\n",
       "mean        1.984498\n",
       "std         7.449076\n",
       "min       -41.280470\n",
       "25%        -1.810712\n",
       "50%         2.151084\n",
       "75%         6.119200\n",
       "max        48.538386\n",
       "Name: wt82_71, dtype: float64"
      ]
     },
     "execution_count": 31,
     "metadata": {},
     "output_type": "execute_result"
    }
   ],
   "source": [
    "# mean weight change in those with and without smoking cessation\n",
    "nhefs['wt82_71'][(nhefs['cens'] == 0) & (nhefs['qsmk'] == 0)].describe()"
   ]
  },
  {
   "cell_type": "code",
   "execution_count": 32,
   "metadata": {},
   "outputs": [
    {
     "data": {
      "text/plain": [
       "count    403.000000\n",
       "mean       4.525079\n",
       "std        8.748261\n",
       "min      -22.230470\n",
       "25%       -0.170360\n",
       "50%        3.971582\n",
       "75%        9.694779\n",
       "max       47.511303\n",
       "Name: wt82_71, dtype: float64"
      ]
     },
     "execution_count": 32,
     "metadata": {},
     "output_type": "execute_result"
    }
   ],
   "source": [
    "nhefs['wt82_71'][(nhefs['cens'] == 0) & (nhefs['qsmk'] == 1)].describe()"
   ]
  },
  {
   "cell_type": "code",
   "execution_count": 33,
   "metadata": {
    "collapsed": true
   },
   "outputs": [],
   "source": [
    "import statsmodels.formula.api as smf"
   ]
  },
  {
   "cell_type": "code",
   "execution_count": 34,
   "metadata": {
    "collapsed": true
   },
   "outputs": [],
   "source": [
    "formula = 'wt82_71 ~ qsmk'\n",
    "dta = nhefs[nhefs['cens'] == 0].copy()\n"
   ]
  },
  {
   "cell_type": "code",
   "execution_count": 35,
   "metadata": {},
   "outputs": [
    {
     "data": {
      "text/html": [
       "<table class=\"simpletable\">\n",
       "<caption>Generalized Linear Model Regression Results</caption>\n",
       "<tr>\n",
       "  <th>Dep. Variable:</th>       <td>wt82_71</td>     <th>  No. Observations:  </th>    <td>  1566</td>    \n",
       "</tr>\n",
       "<tr>\n",
       "  <th>Model:</th>                 <td>GLM</td>       <th>  Df Residuals:      </th>    <td>  1564</td>    \n",
       "</tr>\n",
       "<tr>\n",
       "  <th>Model Family:</th>       <td>Gaussian</td>     <th>  Df Model:          </th>    <td>     1</td>    \n",
       "</tr>\n",
       "<tr>\n",
       "  <th>Link Function:</th>      <td>identity</td>     <th>  Scale:             </th> <td>60.8975700556</td>\n",
       "</tr>\n",
       "<tr>\n",
       "  <th>Method:</th>               <td>IRLS</td>       <th>  Log-Likelihood:    </th>   <td> -5438.6</td>   \n",
       "</tr>\n",
       "<tr>\n",
       "  <th>Date:</th>           <td>Fri, 02 Feb 2018</td> <th>  Deviance:          </th>   <td>  95244.</td>   \n",
       "</tr>\n",
       "<tr>\n",
       "  <th>Time:</th>               <td>03:22:20</td>     <th>  Pearson chi2:      </th>   <td>9.52e+04</td>   \n",
       "</tr>\n",
       "<tr>\n",
       "  <th>No. Iterations:</th>         <td>2</td>        <th>                     </th>       <td> </td>      \n",
       "</tr>\n",
       "</table>\n",
       "<table class=\"simpletable\">\n",
       "<tr>\n",
       "      <td></td>         <th>coef</th>     <th>std err</th>      <th>z</th>      <th>P>|z|</th>  <th>[0.025</th>    <th>0.975]</th>  \n",
       "</tr>\n",
       "<tr>\n",
       "  <th>Intercept</th> <td>    1.9845</td> <td>    0.229</td> <td>    8.672</td> <td> 0.000</td> <td>    1.536</td> <td>    2.433</td>\n",
       "</tr>\n",
       "<tr>\n",
       "  <th>qsmk</th>      <td>    2.5406</td> <td>    0.451</td> <td>    5.632</td> <td> 0.000</td> <td>    1.656</td> <td>    3.425</td>\n",
       "</tr>\n",
       "</table>"
      ],
      "text/plain": [
       "<class 'statsmodels.iolib.summary.Summary'>\n",
       "\"\"\"\n",
       "                 Generalized Linear Model Regression Results                  \n",
       "==============================================================================\n",
       "Dep. Variable:                wt82_71   No. Observations:                 1566\n",
       "Model:                            GLM   Df Residuals:                     1564\n",
       "Model Family:                Gaussian   Df Model:                            1\n",
       "Link Function:               identity   Scale:                   60.8975700556\n",
       "Method:                          IRLS   Log-Likelihood:                -5438.6\n",
       "Date:                Fri, 02 Feb 2018   Deviance:                       95244.\n",
       "Time:                        03:22:20   Pearson chi2:                 9.52e+04\n",
       "No. Iterations:                     2                                         \n",
       "==============================================================================\n",
       "                 coef    std err          z      P>|z|      [0.025      0.975]\n",
       "------------------------------------------------------------------------------\n",
       "Intercept      1.9845      0.229      8.672      0.000       1.536       2.433\n",
       "qsmk           2.5406      0.451      5.632      0.000       1.656       3.425\n",
       "==============================================================================\n",
       "\"\"\""
      ]
     },
     "execution_count": 35,
     "metadata": {},
     "output_type": "execute_result"
    }
   ],
   "source": [
    "mod2 = smf.glm(formula=formula, data=dta).fit()\n",
    "mod2.summary()"
   ]
  },
  {
   "cell_type": "code",
   "execution_count": 36,
   "metadata": {
    "collapsed": true
   },
   "outputs": [],
   "source": [
    "# restricting data for uncensored\n",
    "nhefs0 = nhefs[nhefs['cens'] == 0].copy()"
   ]
  },
  {
   "cell_type": "code",
   "execution_count": 37,
   "metadata": {
    "collapsed": true
   },
   "outputs": [],
   "source": [
    "# baseline characteristics\n",
    "years1 = nhefs0['age'][nhefs0['qsmk'] == 1].mean()\n",
    "years0 = nhefs0['age'][nhefs0['qsmk'] == 0].mean()\n",
    "male1 = 100*(nhefs0['sex'][nhefs0['qsmk'] == 1]==0).mean()\n",
    "male0 = 100*(nhefs0['sex'][nhefs0['qsmk'] == 0]==0).mean()\n",
    "white1 = 100*(nhefs0['race'][nhefs0['qsmk'] == 1]==0).mean()\n",
    "white0 = 100*(nhefs0['race'][nhefs0['qsmk'] == 0]==0).mean()\n",
    "university1 = 100*(nhefs0['education_code'][nhefs0['qsmk'] == 1]==5).mean()\n",
    "university0 = 100*(nhefs0['education_code'][nhefs0['qsmk'] == 0]==5).mean()\n",
    "kg1 = (nhefs0['wt71'][nhefs0['qsmk'] == 1]).mean()\n",
    "kg0 = (nhefs0['wt71'][nhefs0['qsmk'] == 0]).mean()\n",
    "cigs1 = (nhefs0['smokeintensity'][nhefs0['qsmk'] == 1]).mean()\n",
    "cigs0 = (nhefs0['smokeintensity'][nhefs0['qsmk'] == 0]).mean()\n",
    "smoke1 = (nhefs0['smokeyrs'][nhefs0['qsmk'] == 1]).mean()\n",
    "smoke0 = (nhefs0['smokeyrs'][nhefs0['qsmk'] == 0]).mean()\n",
    "noexer1 = 100*(nhefs0['exercise'][nhefs0['qsmk'] == 1]==2).mean()\n",
    "noexer0 = 100*(nhefs0['exercise'][nhefs0['qsmk'] == 0]==2).mean()\n",
    "inactive1 = 100*(nhefs0['active'][nhefs0['qsmk'] == 1]==2).mean()\n",
    "inactive0 = 100*(nhefs0['active'][nhefs0['qsmk'] == 0]==2).mean()"
   ]
  },
  {
   "cell_type": "code",
   "execution_count": 38,
   "metadata": {
    "scrolled": true
   },
   "outputs": [
    {
     "data": {
      "text/html": [
       "<div>\n",
       "<style>\n",
       "    .dataframe thead tr:only-child th {\n",
       "        text-align: right;\n",
       "    }\n",
       "\n",
       "    .dataframe thead th {\n",
       "        text-align: left;\n",
       "    }\n",
       "\n",
       "    .dataframe tbody tr th {\n",
       "        vertical-align: top;\n",
       "    }\n",
       "</style>\n",
       "<table border=\"1\" class=\"dataframe\">\n",
       "  <thead>\n",
       "    <tr style=\"text-align: right;\">\n",
       "      <th></th>\n",
       "      <th>Smoking cessation (A=1)</th>\n",
       "      <th>No smoking cessation (A=0)</th>\n",
       "    </tr>\n",
       "    <tr>\n",
       "      <th>baseline.char</th>\n",
       "      <th></th>\n",
       "      <th></th>\n",
       "    </tr>\n",
       "  </thead>\n",
       "  <tbody>\n",
       "    <tr>\n",
       "      <th>age, years</th>\n",
       "      <td>46.2</td>\n",
       "      <td>42.8</td>\n",
       "    </tr>\n",
       "    <tr>\n",
       "      <th>men, %</th>\n",
       "      <td>54.6</td>\n",
       "      <td>46.6</td>\n",
       "    </tr>\n",
       "    <tr>\n",
       "      <th>white, %</th>\n",
       "      <td>91.1</td>\n",
       "      <td>85.4</td>\n",
       "    </tr>\n",
       "    <tr>\n",
       "      <th>university, %</th>\n",
       "      <td>15.4</td>\n",
       "      <td>9.9</td>\n",
       "    </tr>\n",
       "    <tr>\n",
       "      <th>weight, kg</th>\n",
       "      <td>72.4</td>\n",
       "      <td>70.3</td>\n",
       "    </tr>\n",
       "    <tr>\n",
       "      <th>Chigarettes/day</th>\n",
       "      <td>18.6</td>\n",
       "      <td>21.2</td>\n",
       "    </tr>\n",
       "    <tr>\n",
       "      <th>year smoking</th>\n",
       "      <td>26.0</td>\n",
       "      <td>24.1</td>\n",
       "    </tr>\n",
       "    <tr>\n",
       "      <th>little/no exercise, %</th>\n",
       "      <td>40.7</td>\n",
       "      <td>37.9</td>\n",
       "    </tr>\n",
       "    <tr>\n",
       "      <th>inactive daily life, %</th>\n",
       "      <td>11.2</td>\n",
       "      <td>8.9</td>\n",
       "    </tr>\n",
       "  </tbody>\n",
       "</table>\n",
       "</div>"
      ],
      "text/plain": [
       "                        Smoking cessation (A=1)  No smoking cessation (A=0)\n",
       "baseline.char                                                              \n",
       "age, years                                 46.2                        42.8\n",
       "men, %                                     54.6                        46.6\n",
       "white, %                                   91.1                        85.4\n",
       "university, %                              15.4                         9.9\n",
       "weight, kg                                 72.4                        70.3\n",
       "Chigarettes/day                            18.6                        21.2\n",
       "year smoking                               26.0                        24.1\n",
       "little/no exercise, %                      40.7                        37.9\n",
       "inactive daily life, %                     11.2                         8.9"
      ]
     },
     "execution_count": 38,
     "metadata": {},
     "output_type": "execute_result"
    }
   ],
   "source": [
    "c = np.array(['age, years', 'men, %', 'white, %',\\\n",
    "      'university, %', 'weight, kg', \\\n",
    "      'Chigarettes/day', 'year smoking', \\\n",
    "      'little/no exercise, %', 'inactive daily life, %'])\n",
    "m = np.array([years1, years0, male1, male0, white1, white0,\\\n",
    "     university1, university0, kg1, kg0,\\\n",
    "     cigs1, cigs0, smoke1, smoke0, \\\n",
    "     noexer1, noexer0, inactive1, inactive0])\n",
    "m = m.reshape((int(len(m)/2),2), order='C').round(1)\n",
    "baseline_char = pd.DataFrame(m,\\\n",
    "                             columns=['Smoking cessation (A=1)','No smoking cessation (A=0)'])\n",
    "baseline_char['baseline.char'] = c\n",
    "baseline_char.set_index('baseline.char', inplace=True)\n",
    "baseline_char"
   ]
  },
  {
   "cell_type": "markdown",
   "metadata": {},
   "source": [
    "#####################################################\n",
    "## PROGRAM 12.2\n",
    " Estimating IP weights\n",
    "    \n",
    "Data from NHEFS\n",
    "#####################################################"
   ]
  },
  {
   "cell_type": "code",
   "execution_count": 39,
   "metadata": {
    "collapsed": true
   },
   "outputs": [],
   "source": [
    "dta = nhefs0.copy()"
   ]
  },
  {
   "cell_type": "code",
   "execution_count": 40,
   "metadata": {},
   "outputs": [
    {
     "data": {
      "text/plain": [
       "'qsmk ~ C(sex) + C(race) + age + np.square(age) + C(education_code) + smokeintensity + np.square(smokeintensity) + smokeyrs + np.square(smokeyrs) + C(exercise) + C(active) + wt71 + np.square(wt71)'"
      ]
     },
     "execution_count": 40,
     "metadata": {},
     "output_type": "execute_result"
    }
   ],
   "source": [
    "formula  = 'qsmk ~ C(sex) + C(race) + age + np.square(age) + C(education_code) + smokeintensity + ' \n",
    "formula += 'np.square(smokeintensity) + smokeyrs + np.square(smokeyrs) + C(exercise) + C(active) + '\n",
    "formula += 'wt71 + np.square(wt71)'\n",
    "formula"
   ]
  },
  {
   "cell_type": "markdown",
   "metadata": {},
   "source": [
    "Estimation of ip weights via a logistic model"
   ]
  },
  {
   "cell_type": "code",
   "execution_count": 41,
   "metadata": {},
   "outputs": [
    {
     "data": {
      "text/html": [
       "<table class=\"simpletable\">\n",
       "<caption>Generalized Linear Model Regression Results</caption>\n",
       "<tr>\n",
       "  <th>Dep. Variable:</th>        <td>qsmk</td>       <th>  No. Observations:  </th>  <td>  1566</td> \n",
       "</tr>\n",
       "<tr>\n",
       "  <th>Model:</th>                 <td>GLM</td>       <th>  Df Residuals:      </th>  <td>  1547</td> \n",
       "</tr>\n",
       "<tr>\n",
       "  <th>Model Family:</th>       <td>Binomial</td>     <th>  Df Model:          </th>  <td>    18</td> \n",
       "</tr>\n",
       "<tr>\n",
       "  <th>Link Function:</th>        <td>logit</td>      <th>  Scale:             </th>    <td>1.0</td>  \n",
       "</tr>\n",
       "<tr>\n",
       "  <th>Method:</th>               <td>IRLS</td>       <th>  Log-Likelihood:    </th> <td> -838.45</td>\n",
       "</tr>\n",
       "<tr>\n",
       "  <th>Date:</th>           <td>Fri, 02 Feb 2018</td> <th>  Deviance:          </th> <td>  1676.9</td>\n",
       "</tr>\n",
       "<tr>\n",
       "  <th>Time:</th>               <td>03:22:21</td>     <th>  Pearson chi2:      </th> <td>1.56e+03</td>\n",
       "</tr>\n",
       "<tr>\n",
       "  <th>No. Iterations:</th>         <td>4</td>        <th>                     </th>     <td> </td>   \n",
       "</tr>\n",
       "</table>\n",
       "<table class=\"simpletable\">\n",
       "<tr>\n",
       "              <td></td>                 <th>coef</th>     <th>std err</th>      <th>z</th>      <th>P>|z|</th>  <th>[0.025</th>    <th>0.975]</th>  \n",
       "</tr>\n",
       "<tr>\n",
       "  <th>Intercept</th>                 <td>   -2.2425</td> <td>    1.381</td> <td>   -1.624</td> <td> 0.104</td> <td>   -4.949</td> <td>    0.464</td>\n",
       "</tr>\n",
       "<tr>\n",
       "  <th>C(sex)[T.1]</th>               <td>   -0.5275</td> <td>    0.154</td> <td>   -3.424</td> <td> 0.001</td> <td>   -0.829</td> <td>   -0.226</td>\n",
       "</tr>\n",
       "<tr>\n",
       "  <th>C(race)[T.1]</th>              <td>   -0.8393</td> <td>    0.210</td> <td>   -3.995</td> <td> 0.000</td> <td>   -1.251</td> <td>   -0.428</td>\n",
       "</tr>\n",
       "<tr>\n",
       "  <th>C(education_code)[T.2]</th>    <td>   -0.0288</td> <td>    0.198</td> <td>   -0.145</td> <td> 0.885</td> <td>   -0.418</td> <td>    0.360</td>\n",
       "</tr>\n",
       "<tr>\n",
       "  <th>C(education_code)[T.3]</th>    <td>    0.0864</td> <td>    0.178</td> <td>    0.485</td> <td> 0.627</td> <td>   -0.263</td> <td>    0.435</td>\n",
       "</tr>\n",
       "<tr>\n",
       "  <th>C(education_code)[T.4]</th>    <td>    0.0636</td> <td>    0.273</td> <td>    0.233</td> <td> 0.816</td> <td>   -0.472</td> <td>    0.599</td>\n",
       "</tr>\n",
       "<tr>\n",
       "  <th>C(education_code)[T.5]</th>    <td>    0.4760</td> <td>    0.226</td> <td>    2.104</td> <td> 0.035</td> <td>    0.033</td> <td>    0.919</td>\n",
       "</tr>\n",
       "<tr>\n",
       "  <th>C(exercise)[T.1]</th>          <td>    0.3548</td> <td>    0.180</td> <td>    1.970</td> <td> 0.049</td> <td>    0.002</td> <td>    0.708</td>\n",
       "</tr>\n",
       "<tr>\n",
       "  <th>C(exercise)[T.2]</th>          <td>    0.3957</td> <td>    0.187</td> <td>    2.113</td> <td> 0.035</td> <td>    0.029</td> <td>    0.763</td>\n",
       "</tr>\n",
       "<tr>\n",
       "  <th>C(active)[T.1]</th>            <td>    0.0319</td> <td>    0.133</td> <td>    0.240</td> <td> 0.810</td> <td>   -0.229</td> <td>    0.292</td>\n",
       "</tr>\n",
       "<tr>\n",
       "  <th>C(active)[T.2]</th>            <td>    0.1768</td> <td>    0.215</td> <td>    0.822</td> <td> 0.411</td> <td>   -0.245</td> <td>    0.598</td>\n",
       "</tr>\n",
       "<tr>\n",
       "  <th>age</th>                       <td>    0.1212</td> <td>    0.051</td> <td>    2.364</td> <td> 0.018</td> <td>    0.021</td> <td>    0.222</td>\n",
       "</tr>\n",
       "<tr>\n",
       "  <th>np.square(age)</th>            <td>   -0.0008</td> <td>    0.001</td> <td>   -1.538</td> <td> 0.124</td> <td>   -0.002</td> <td>    0.000</td>\n",
       "</tr>\n",
       "<tr>\n",
       "  <th>smokeintensity</th>            <td>   -0.0773</td> <td>    0.015</td> <td>   -5.067</td> <td> 0.000</td> <td>   -0.107</td> <td>   -0.047</td>\n",
       "</tr>\n",
       "<tr>\n",
       "  <th>np.square(smokeintensity)</th> <td>    0.0010</td> <td>    0.000</td> <td>    3.647</td> <td> 0.000</td> <td>    0.000</td> <td>    0.002</td>\n",
       "</tr>\n",
       "<tr>\n",
       "  <th>smokeyrs</th>                  <td>   -0.0736</td> <td>    0.028</td> <td>   -2.650</td> <td> 0.008</td> <td>   -0.128</td> <td>   -0.019</td>\n",
       "</tr>\n",
       "<tr>\n",
       "  <th>np.square(smokeyrs)</th>       <td>    0.0008</td> <td>    0.000</td> <td>    1.822</td> <td> 0.068</td> <td>-6.37e-05</td> <td>    0.002</td>\n",
       "</tr>\n",
       "<tr>\n",
       "  <th>wt71</th>                      <td>   -0.0152</td> <td>    0.026</td> <td>   -0.579</td> <td> 0.563</td> <td>   -0.067</td> <td>    0.036</td>\n",
       "</tr>\n",
       "<tr>\n",
       "  <th>np.square(wt71)</th>           <td>    0.0001</td> <td>    0.000</td> <td>    0.829</td> <td> 0.407</td> <td>   -0.000</td> <td>    0.000</td>\n",
       "</tr>\n",
       "</table>"
      ],
      "text/plain": [
       "<class 'statsmodels.iolib.summary.Summary'>\n",
       "\"\"\"\n",
       "                 Generalized Linear Model Regression Results                  \n",
       "==============================================================================\n",
       "Dep. Variable:                   qsmk   No. Observations:                 1566\n",
       "Model:                            GLM   Df Residuals:                     1547\n",
       "Model Family:                Binomial   Df Model:                           18\n",
       "Link Function:                  logit   Scale:                             1.0\n",
       "Method:                          IRLS   Log-Likelihood:                -838.45\n",
       "Date:                Fri, 02 Feb 2018   Deviance:                       1676.9\n",
       "Time:                        03:22:21   Pearson chi2:                 1.56e+03\n",
       "No. Iterations:                     4                                         \n",
       "=============================================================================================\n",
       "                                coef    std err          z      P>|z|      [0.025      0.975]\n",
       "---------------------------------------------------------------------------------------------\n",
       "Intercept                    -2.2425      1.381     -1.624      0.104      -4.949       0.464\n",
       "C(sex)[T.1]                  -0.5275      0.154     -3.424      0.001      -0.829      -0.226\n",
       "C(race)[T.1]                 -0.8393      0.210     -3.995      0.000      -1.251      -0.428\n",
       "C(education_code)[T.2]       -0.0288      0.198     -0.145      0.885      -0.418       0.360\n",
       "C(education_code)[T.3]        0.0864      0.178      0.485      0.627      -0.263       0.435\n",
       "C(education_code)[T.4]        0.0636      0.273      0.233      0.816      -0.472       0.599\n",
       "C(education_code)[T.5]        0.4760      0.226      2.104      0.035       0.033       0.919\n",
       "C(exercise)[T.1]              0.3548      0.180      1.970      0.049       0.002       0.708\n",
       "C(exercise)[T.2]              0.3957      0.187      2.113      0.035       0.029       0.763\n",
       "C(active)[T.1]                0.0319      0.133      0.240      0.810      -0.229       0.292\n",
       "C(active)[T.2]                0.1768      0.215      0.822      0.411      -0.245       0.598\n",
       "age                           0.1212      0.051      2.364      0.018       0.021       0.222\n",
       "np.square(age)               -0.0008      0.001     -1.538      0.124      -0.002       0.000\n",
       "smokeintensity               -0.0773      0.015     -5.067      0.000      -0.107      -0.047\n",
       "np.square(smokeintensity)     0.0010      0.000      3.647      0.000       0.000       0.002\n",
       "smokeyrs                     -0.0736      0.028     -2.650      0.008      -0.128      -0.019\n",
       "np.square(smokeyrs)           0.0008      0.000      1.822      0.068   -6.37e-05       0.002\n",
       "wt71                         -0.0152      0.026     -0.579      0.563      -0.067       0.036\n",
       "np.square(wt71)               0.0001      0.000      0.829      0.407      -0.000       0.000\n",
       "=============================================================================================\n",
       "\"\"\""
      ]
     },
     "execution_count": 41,
     "metadata": {},
     "output_type": "execute_result"
    }
   ],
   "source": [
    "mod2 = smf.glm(formula=formula, family=sm.families.Binomial(), data=dta).fit()\n",
    "mod2.summary()"
   ]
  },
  {
   "cell_type": "code",
   "execution_count": 42,
   "metadata": {},
   "outputs": [
    {
     "data": {
      "text/plain": [
       "count    1566.000000\n",
       "mean        1.996284\n",
       "std         1.474787\n",
       "min         1.053742\n",
       "25%         1.229623\n",
       "50%         1.373169\n",
       "75%         1.989869\n",
       "max        16.700094\n",
       "Name: w, dtype: float64"
      ]
     },
     "execution_count": 42,
     "metadata": {},
     "output_type": "execute_result"
    }
   ],
   "source": [
    "nhefs0['w'] = mod2.predict() \n",
    "\n",
    "nhefs0['w'] = list(map(lambda q: 1/q[1] if q[0]==1 else 1/(1-q[1])\\\n",
    "             ,zip(nhefs0['qsmk'],nhefs0['w'])))\n",
    "nhefs0['w'].describe()"
   ]
  },
  {
   "cell_type": "code",
   "execution_count": 43,
   "metadata": {
    "collapsed": true
   },
   "outputs": [],
   "source": [
    "formula1  = 'wt82_71 ~ qsmk'\n",
    "dta1 = nhefs0.copy()"
   ]
  },
  {
   "cell_type": "code",
   "execution_count": 44,
   "metadata": {
    "scrolled": true
   },
   "outputs": [
    {
     "name": "stdout",
     "output_type": "stream",
     "text": [
      "                               GEE Regression Results                              \n",
      "===================================================================================\n",
      "Dep. Variable:                     wt82_71   No. Observations:                 1566\n",
      "Model:                                 GEE   No. clusters:                     1510\n",
      "Method:                        Generalized   Min. cluster size:                   1\n",
      "                      Estimating Equations   Max. cluster size:                   3\n",
      "Family:                           Gaussian   Mean cluster size:                 1.0\n",
      "Dependence structure:         Independence   Num. iterations:                     2\n",
      "Date:                     Fri, 02 Feb 2018   Scale:                          64.836\n",
      "Covariance type:                    robust   Time:                         03:22:22\n",
      "==============================================================================\n",
      "                 coef    std err          z      P>|z|      [0.025      0.975]\n",
      "------------------------------------------------------------------------------\n",
      "Intercept      1.7834      0.225      7.935      0.000       1.343       2.224\n",
      "qsmk           3.5140      0.527      6.670      0.000       2.481       4.547\n",
      "==============================================================================\n",
      "Skew:                          0.1088   Kurtosis:                       3.7363\n",
      "Centered skew:                 0.0000   Centered kurtosis:             36.1500\n",
      "==============================================================================\n"
     ]
    }
   ],
   "source": [
    "#cov = sm.cov_struct.Independence()\n",
    "#cov = sm.cov_struct.Autoregressive()\n",
    "#cov = sm.cov_struct.Exchangeable()\n",
    "#fam = sm.families.Binomial()\n",
    "\n",
    "model = sm.GEE.from_formula(formula1,data=dta1,weights=dta1['w'], groups='wt82_71')\n",
    "result = model.fit()\n",
    "print(result.summary())"
   ]
  },
  {
   "cell_type": "code",
   "execution_count": 45,
   "metadata": {},
   "outputs": [
    {
     "data": {
      "text/html": [
       "<div>\n",
       "<style>\n",
       "    .dataframe thead tr:only-child th {\n",
       "        text-align: right;\n",
       "    }\n",
       "\n",
       "    .dataframe thead th {\n",
       "        text-align: left;\n",
       "    }\n",
       "\n",
       "    .dataframe tbody tr th {\n",
       "        vertical-align: top;\n",
       "    }\n",
       "</style>\n",
       "<table border=\"1\" class=\"dataframe\">\n",
       "  <thead>\n",
       "    <tr style=\"text-align: right;\">\n",
       "      <th></th>\n",
       "      <th>0</th>\n",
       "      <th>1</th>\n",
       "    </tr>\n",
       "  </thead>\n",
       "  <tbody>\n",
       "    <tr>\n",
       "      <th>Intercept</th>\n",
       "      <td>1.342910</td>\n",
       "      <td>2.223879</td>\n",
       "    </tr>\n",
       "    <tr>\n",
       "      <th>qsmk</th>\n",
       "      <td>2.481472</td>\n",
       "      <td>4.546613</td>\n",
       "    </tr>\n",
       "  </tbody>\n",
       "</table>\n",
       "</div>"
      ],
      "text/plain": [
       "                  0         1\n",
       "Intercept  1.342910  2.223879\n",
       "qsmk       2.481472  4.546613"
      ]
     },
     "execution_count": 45,
     "metadata": {},
     "output_type": "execute_result"
    }
   ],
   "source": [
    "result.conf_int() #alpha=0.95"
   ]
  },
  {
   "cell_type": "code",
   "execution_count": 46,
   "metadata": {
    "collapsed": true
   },
   "outputs": [],
   "source": [
    "formula2  = 'wt82_71 ~ qsmk + gid'\n",
    "dta2 = nhefs0.copy()\n",
    "\n",
    "dta2.reset_index(inplace=True)\n",
    "gid = np.asarray(dta2['seqn'], int)\n",
    "dta2.set_index('seqn',inplace=True)"
   ]
  },
  {
   "cell_type": "markdown",
   "metadata": {},
   "source": [
    "Estimates from a GLM with cluster option"
   ]
  },
  {
   "cell_type": "code",
   "execution_count": 47,
   "metadata": {},
   "outputs": [
    {
     "data": {
      "text/html": [
       "<table class=\"simpletable\">\n",
       "<caption>Generalized Linear Model Regression Results</caption>\n",
       "<tr>\n",
       "  <th>Dep. Variable:</th>       <td>wt82_71</td>     <th>  No. Observations:  </th>    <td>  1566</td>    \n",
       "</tr>\n",
       "<tr>\n",
       "  <th>Model:</th>                 <td>GLM</td>       <th>  Df Residuals:      </th>    <td>  3123</td>    \n",
       "</tr>\n",
       "<tr>\n",
       "  <th>Model Family:</th>       <td>Gaussian</td>     <th>  Df Model:          </th>    <td>     2</td>    \n",
       "</tr>\n",
       "<tr>\n",
       "  <th>Link Function:</th>      <td>identity</td>     <th>  Scale:             </th> <td>65.0076483121</td>\n",
       "</tr>\n",
       "<tr>\n",
       "  <th>Method:</th>               <td>IRLS</td>       <th>  Log-Likelihood:    </th>   <td> -9778.1</td>   \n",
       "</tr>\n",
       "<tr>\n",
       "  <th>Date:</th>           <td>Fri, 02 Feb 2018</td> <th>  Deviance:          </th>  <td>2.0303e+05</td>  \n",
       "</tr>\n",
       "<tr>\n",
       "  <th>Time:</th>               <td>03:22:22</td>     <th>  Pearson chi2:      </th>   <td>2.03e+05</td>   \n",
       "</tr>\n",
       "<tr>\n",
       "  <th>No. Iterations:</th>         <td>2</td>        <th>                     </th>       <td> </td>      \n",
       "</tr>\n",
       "</table>\n",
       "<table class=\"simpletable\">\n",
       "<tr>\n",
       "      <td></td>         <th>coef</th>     <th>std err</th>      <th>z</th>      <th>P>|z|</th>  <th>[0.025</th>    <th>0.975]</th>  \n",
       "</tr>\n",
       "<tr>\n",
       "  <th>Intercept</th> <td>    1.0158</td> <td>    0.380</td> <td>    2.673</td> <td> 0.008</td> <td>    0.271</td> <td>    1.761</td>\n",
       "</tr>\n",
       "<tr>\n",
       "  <th>qsmk</th>      <td>    3.4470</td> <td>    0.288</td> <td>   11.951</td> <td> 0.000</td> <td>    2.882</td> <td>    4.012</td>\n",
       "</tr>\n",
       "<tr>\n",
       "  <th>gid</th>       <td> 4.565e-05</td> <td> 1.92e-05</td> <td>    2.383</td> <td> 0.017</td> <td>  8.1e-06</td> <td> 8.32e-05</td>\n",
       "</tr>\n",
       "</table>"
      ],
      "text/plain": [
       "<class 'statsmodels.iolib.summary.Summary'>\n",
       "\"\"\"\n",
       "                 Generalized Linear Model Regression Results                  \n",
       "==============================================================================\n",
       "Dep. Variable:                wt82_71   No. Observations:                 1566\n",
       "Model:                            GLM   Df Residuals:                     3123\n",
       "Model Family:                Gaussian   Df Model:                            2\n",
       "Link Function:               identity   Scale:                   65.0076483121\n",
       "Method:                          IRLS   Log-Likelihood:                -9778.1\n",
       "Date:                Fri, 02 Feb 2018   Deviance:                   2.0303e+05\n",
       "Time:                        03:22:22   Pearson chi2:                 2.03e+05\n",
       "No. Iterations:                     2                                         \n",
       "==============================================================================\n",
       "                 coef    std err          z      P>|z|      [0.025      0.975]\n",
       "------------------------------------------------------------------------------\n",
       "Intercept      1.0158      0.380      2.673      0.008       0.271       1.761\n",
       "qsmk           3.4470      0.288     11.951      0.000       2.882       4.012\n",
       "gid         4.565e-05   1.92e-05      2.383      0.017     8.1e-06    8.32e-05\n",
       "==============================================================================\n",
       "\"\"\""
      ]
     },
     "execution_count": 47,
     "metadata": {},
     "output_type": "execute_result"
    }
   ],
   "source": [
    "\n",
    "fit_kwds = dict(cov_kwds={'groups': gid})\n",
    "mod2 = smf.glm(formula=formula2, data=dta2,\\\n",
    "               freq_weights=dta2['w'] )\n",
    "result2 = mod2.fit(**fit_kwds)\n",
    "result2.summary()"
   ]
  },
  {
   "cell_type": "code",
   "execution_count": 48,
   "metadata": {},
   "outputs": [
    {
     "data": {
      "text/html": [
       "<div>\n",
       "<style>\n",
       "    .dataframe thead tr:only-child th {\n",
       "        text-align: right;\n",
       "    }\n",
       "\n",
       "    .dataframe thead th {\n",
       "        text-align: left;\n",
       "    }\n",
       "\n",
       "    .dataframe tbody tr th {\n",
       "        vertical-align: top;\n",
       "    }\n",
       "</style>\n",
       "<table border=\"1\" class=\"dataframe\">\n",
       "  <thead>\n",
       "    <tr style=\"text-align: right;\">\n",
       "      <th></th>\n",
       "      <th>0</th>\n",
       "      <th>1</th>\n",
       "    </tr>\n",
       "  </thead>\n",
       "  <tbody>\n",
       "    <tr>\n",
       "      <th>Intercept</th>\n",
       "      <td>0.271106</td>\n",
       "      <td>1.760572</td>\n",
       "    </tr>\n",
       "    <tr>\n",
       "      <th>qsmk</th>\n",
       "      <td>2.881733</td>\n",
       "      <td>4.012318</td>\n",
       "    </tr>\n",
       "    <tr>\n",
       "      <th>gid</th>\n",
       "      <td>0.000008</td>\n",
       "      <td>0.000083</td>\n",
       "    </tr>\n",
       "  </tbody>\n",
       "</table>\n",
       "</div>"
      ],
      "text/plain": [
       "                  0         1\n",
       "Intercept  0.271106  1.760572\n",
       "qsmk       2.881733  4.012318\n",
       "gid        0.000008  0.000083"
      ]
     },
     "execution_count": 48,
     "metadata": {},
     "output_type": "execute_result"
    }
   ],
   "source": [
    "result2.conf_int()"
   ]
  },
  {
   "cell_type": "code",
   "execution_count": 49,
   "metadata": {},
   "outputs": [
    {
     "data": {
      "text/html": [
       "<div>\n",
       "<style>\n",
       "    .dataframe thead tr:only-child th {\n",
       "        text-align: right;\n",
       "    }\n",
       "\n",
       "    .dataframe thead th {\n",
       "        text-align: left;\n",
       "    }\n",
       "\n",
       "    .dataframe tbody tr th {\n",
       "        vertical-align: top;\n",
       "    }\n",
       "</style>\n",
       "<table border=\"1\" class=\"dataframe\">\n",
       "  <thead>\n",
       "    <tr style=\"text-align: right;\">\n",
       "      <th></th>\n",
       "      <th>Intercept</th>\n",
       "      <th>qsmk</th>\n",
       "      <th>gid</th>\n",
       "    </tr>\n",
       "  </thead>\n",
       "  <tbody>\n",
       "    <tr>\n",
       "      <th>Intercept</th>\n",
       "      <td>0.144379</td>\n",
       "      <td>-4.240251e-02</td>\n",
       "      <td>-6.144029e-06</td>\n",
       "    </tr>\n",
       "    <tr>\n",
       "      <th>qsmk</th>\n",
       "      <td>-0.042403</td>\n",
       "      <td>8.318595e-02</td>\n",
       "      <td>5.218307e-08</td>\n",
       "    </tr>\n",
       "    <tr>\n",
       "      <th>gid</th>\n",
       "      <td>-0.000006</td>\n",
       "      <td>5.218307e-08</td>\n",
       "      <td>3.670293e-10</td>\n",
       "    </tr>\n",
       "  </tbody>\n",
       "</table>\n",
       "</div>"
      ],
      "text/plain": [
       "           Intercept          qsmk           gid\n",
       "Intercept   0.144379 -4.240251e-02 -6.144029e-06\n",
       "qsmk       -0.042403  8.318595e-02  5.218307e-08\n",
       "gid        -0.000006  5.218307e-08  3.670293e-10"
      ]
     },
     "execution_count": 49,
     "metadata": {},
     "output_type": "execute_result"
    }
   ],
   "source": [
    "result2.cov_params()"
   ]
  },
  {
   "cell_type": "code",
   "execution_count": 50,
   "metadata": {
    "collapsed": true
   },
   "outputs": [],
   "source": [
    "from statsmodels.base.covtype import get_robustcov_results"
   ]
  },
  {
   "cell_type": "code",
   "execution_count": 51,
   "metadata": {
    "collapsed": true,
    "scrolled": true
   },
   "outputs": [],
   "source": [
    "hc0_result = get_robustcov_results(result2._results,'HC0')\n",
    "SE = np.sqrt(np.diag(hc0_result.cov_params()))\n",
    "beta = result2.params\n",
    "lcl = beta-1.96*SE \n",
    "ucl = beta+1.96*SE\n"
   ]
  },
  {
   "cell_type": "code",
   "execution_count": 52,
   "metadata": {},
   "outputs": [
    {
     "data": {
      "text/plain": [
       "Intercept    1.784763\n",
       "qsmk         4.011888\n",
       "gid          0.000085\n",
       "dtype: float64"
      ]
     },
     "execution_count": 52,
     "metadata": {},
     "output_type": "execute_result"
    }
   ],
   "source": [
    "ucl"
   ]
  },
  {
   "cell_type": "code",
   "execution_count": 53,
   "metadata": {},
   "outputs": [
    {
     "data": {
      "text/plain": [
       "Intercept    0.246914\n",
       "qsmk         2.882163\n",
       "gid          0.000006\n",
       "dtype: float64"
      ]
     },
     "execution_count": 53,
     "metadata": {},
     "output_type": "execute_result"
    }
   ],
   "source": [
    "lcl"
   ]
  },
  {
   "cell_type": "code",
   "execution_count": 54,
   "metadata": {},
   "outputs": [
    {
     "data": {
      "text/plain": [
       "array([ 3.45,  2.88,  4.01])"
      ]
     },
     "execution_count": 54,
     "metadata": {},
     "output_type": "execute_result"
    }
   ],
   "source": [
    "np.c_[beta, lcl, ucl].round(decimals=2)[1]"
   ]
  },
  {
   "cell_type": "markdown",
   "metadata": {},
   "source": [
    "no association between sex and qsmk in pseudo-population"
   ]
  },
  {
   "cell_type": "code",
   "execution_count": 55,
   "metadata": {},
   "outputs": [
    {
     "data": {
      "text/html": [
       "<div>\n",
       "<style>\n",
       "    .dataframe thead tr:only-child th {\n",
       "        text-align: right;\n",
       "    }\n",
       "\n",
       "    .dataframe thead th {\n",
       "        text-align: left;\n",
       "    }\n",
       "\n",
       "    .dataframe tbody tr th {\n",
       "        vertical-align: top;\n",
       "    }\n",
       "</style>\n",
       "<table border=\"1\" class=\"dataframe\">\n",
       "  <thead>\n",
       "    <tr style=\"text-align: right;\">\n",
       "      <th>qsmk</th>\n",
       "      <th>0</th>\n",
       "      <th>1</th>\n",
       "      <th>All</th>\n",
       "    </tr>\n",
       "    <tr>\n",
       "      <th>sex</th>\n",
       "      <th></th>\n",
       "      <th></th>\n",
       "      <th></th>\n",
       "    </tr>\n",
       "  </thead>\n",
       "  <tbody>\n",
       "    <tr>\n",
       "      <th>0</th>\n",
       "      <td>763.607760</td>\n",
       "      <td>763.623497</td>\n",
       "      <td>1527.231258</td>\n",
       "    </tr>\n",
       "    <tr>\n",
       "      <th>1</th>\n",
       "      <td>801.748892</td>\n",
       "      <td>797.200691</td>\n",
       "      <td>1598.949583</td>\n",
       "    </tr>\n",
       "    <tr>\n",
       "      <th>All</th>\n",
       "      <td>1565.356652</td>\n",
       "      <td>1560.824188</td>\n",
       "      <td>3126.180841</td>\n",
       "    </tr>\n",
       "  </tbody>\n",
       "</table>\n",
       "</div>"
      ],
      "text/plain": [
       "qsmk            0            1          All\n",
       "sex                                        \n",
       "0      763.607760   763.623497  1527.231258\n",
       "1      801.748892   797.200691  1598.949583\n",
       "All   1565.356652  1560.824188  3126.180841"
      ]
     },
     "execution_count": 55,
     "metadata": {},
     "output_type": "execute_result"
    }
   ],
   "source": [
    "pd.crosstab(nhefs0['sex'], nhefs0['qsmk'], values=nhefs0['w'], aggfunc=sum, margins=True)"
   ]
  },
  {
   "cell_type": "markdown",
   "metadata": {},
   "source": [
    "\"check\" for positivity"
   ]
  },
  {
   "cell_type": "code",
   "execution_count": 56,
   "metadata": {},
   "outputs": [
    {
     "data": {
      "text/html": [
       "<div>\n",
       "<style>\n",
       "    .dataframe thead tr:only-child th {\n",
       "        text-align: right;\n",
       "    }\n",
       "\n",
       "    .dataframe thead th {\n",
       "        text-align: left;\n",
       "    }\n",
       "\n",
       "    .dataframe tbody tr th {\n",
       "        vertical-align: top;\n",
       "    }\n",
       "</style>\n",
       "<table border=\"1\" class=\"dataframe\">\n",
       "  <thead>\n",
       "    <tr style=\"text-align: right;\">\n",
       "      <th>qsmk</th>\n",
       "      <th>0</th>\n",
       "      <th>1</th>\n",
       "      <th>All</th>\n",
       "    </tr>\n",
       "    <tr>\n",
       "      <th>age</th>\n",
       "      <th></th>\n",
       "      <th></th>\n",
       "      <th></th>\n",
       "    </tr>\n",
       "  </thead>\n",
       "  <tbody>\n",
       "    <tr>\n",
       "      <th>25</th>\n",
       "      <td>24</td>\n",
       "      <td>3</td>\n",
       "      <td>27</td>\n",
       "    </tr>\n",
       "    <tr>\n",
       "      <th>26</th>\n",
       "      <td>14</td>\n",
       "      <td>5</td>\n",
       "      <td>19</td>\n",
       "    </tr>\n",
       "    <tr>\n",
       "      <th>27</th>\n",
       "      <td>18</td>\n",
       "      <td>2</td>\n",
       "      <td>20</td>\n",
       "    </tr>\n",
       "    <tr>\n",
       "      <th>28</th>\n",
       "      <td>20</td>\n",
       "      <td>5</td>\n",
       "      <td>25</td>\n",
       "    </tr>\n",
       "    <tr>\n",
       "      <th>29</th>\n",
       "      <td>15</td>\n",
       "      <td>4</td>\n",
       "      <td>19</td>\n",
       "    </tr>\n",
       "    <tr>\n",
       "      <th>30</th>\n",
       "      <td>14</td>\n",
       "      <td>5</td>\n",
       "      <td>19</td>\n",
       "    </tr>\n",
       "    <tr>\n",
       "      <th>31</th>\n",
       "      <td>11</td>\n",
       "      <td>5</td>\n",
       "      <td>16</td>\n",
       "    </tr>\n",
       "    <tr>\n",
       "      <th>32</th>\n",
       "      <td>14</td>\n",
       "      <td>7</td>\n",
       "      <td>21</td>\n",
       "    </tr>\n",
       "    <tr>\n",
       "      <th>33</th>\n",
       "      <td>12</td>\n",
       "      <td>3</td>\n",
       "      <td>15</td>\n",
       "    </tr>\n",
       "    <tr>\n",
       "      <th>34</th>\n",
       "      <td>22</td>\n",
       "      <td>5</td>\n",
       "      <td>27</td>\n",
       "    </tr>\n",
       "    <tr>\n",
       "      <th>35</th>\n",
       "      <td>16</td>\n",
       "      <td>5</td>\n",
       "      <td>21</td>\n",
       "    </tr>\n",
       "    <tr>\n",
       "      <th>36</th>\n",
       "      <td>13</td>\n",
       "      <td>3</td>\n",
       "      <td>16</td>\n",
       "    </tr>\n",
       "    <tr>\n",
       "      <th>37</th>\n",
       "      <td>14</td>\n",
       "      <td>1</td>\n",
       "      <td>15</td>\n",
       "    </tr>\n",
       "    <tr>\n",
       "      <th>38</th>\n",
       "      <td>6</td>\n",
       "      <td>2</td>\n",
       "      <td>8</td>\n",
       "    </tr>\n",
       "    <tr>\n",
       "      <th>39</th>\n",
       "      <td>19</td>\n",
       "      <td>4</td>\n",
       "      <td>23</td>\n",
       "    </tr>\n",
       "    <tr>\n",
       "      <th>40</th>\n",
       "      <td>10</td>\n",
       "      <td>4</td>\n",
       "      <td>14</td>\n",
       "    </tr>\n",
       "    <tr>\n",
       "      <th>41</th>\n",
       "      <td>13</td>\n",
       "      <td>3</td>\n",
       "      <td>16</td>\n",
       "    </tr>\n",
       "    <tr>\n",
       "      <th>42</th>\n",
       "      <td>16</td>\n",
       "      <td>3</td>\n",
       "      <td>19</td>\n",
       "    </tr>\n",
       "    <tr>\n",
       "      <th>43</th>\n",
       "      <td>14</td>\n",
       "      <td>3</td>\n",
       "      <td>17</td>\n",
       "    </tr>\n",
       "    <tr>\n",
       "      <th>44</th>\n",
       "      <td>9</td>\n",
       "      <td>4</td>\n",
       "      <td>13</td>\n",
       "    </tr>\n",
       "    <tr>\n",
       "      <th>45</th>\n",
       "      <td>12</td>\n",
       "      <td>5</td>\n",
       "      <td>17</td>\n",
       "    </tr>\n",
       "    <tr>\n",
       "      <th>46</th>\n",
       "      <td>19</td>\n",
       "      <td>4</td>\n",
       "      <td>23</td>\n",
       "    </tr>\n",
       "    <tr>\n",
       "      <th>47</th>\n",
       "      <td>19</td>\n",
       "      <td>4</td>\n",
       "      <td>23</td>\n",
       "    </tr>\n",
       "    <tr>\n",
       "      <th>48</th>\n",
       "      <td>19</td>\n",
       "      <td>4</td>\n",
       "      <td>23</td>\n",
       "    </tr>\n",
       "    <tr>\n",
       "      <th>49</th>\n",
       "      <td>11</td>\n",
       "      <td>3</td>\n",
       "      <td>14</td>\n",
       "    </tr>\n",
       "    <tr>\n",
       "      <th>50</th>\n",
       "      <td>18</td>\n",
       "      <td>4</td>\n",
       "      <td>22</td>\n",
       "    </tr>\n",
       "    <tr>\n",
       "      <th>51</th>\n",
       "      <td>9</td>\n",
       "      <td>3</td>\n",
       "      <td>12</td>\n",
       "    </tr>\n",
       "    <tr>\n",
       "      <th>52</th>\n",
       "      <td>11</td>\n",
       "      <td>3</td>\n",
       "      <td>14</td>\n",
       "    </tr>\n",
       "    <tr>\n",
       "      <th>53</th>\n",
       "      <td>11</td>\n",
       "      <td>4</td>\n",
       "      <td>15</td>\n",
       "    </tr>\n",
       "    <tr>\n",
       "      <th>54</th>\n",
       "      <td>17</td>\n",
       "      <td>9</td>\n",
       "      <td>26</td>\n",
       "    </tr>\n",
       "    <tr>\n",
       "      <th>55</th>\n",
       "      <td>9</td>\n",
       "      <td>4</td>\n",
       "      <td>13</td>\n",
       "    </tr>\n",
       "    <tr>\n",
       "      <th>56</th>\n",
       "      <td>8</td>\n",
       "      <td>7</td>\n",
       "      <td>15</td>\n",
       "    </tr>\n",
       "    <tr>\n",
       "      <th>57</th>\n",
       "      <td>9</td>\n",
       "      <td>2</td>\n",
       "      <td>11</td>\n",
       "    </tr>\n",
       "    <tr>\n",
       "      <th>58</th>\n",
       "      <td>8</td>\n",
       "      <td>4</td>\n",
       "      <td>12</td>\n",
       "    </tr>\n",
       "    <tr>\n",
       "      <th>59</th>\n",
       "      <td>5</td>\n",
       "      <td>4</td>\n",
       "      <td>9</td>\n",
       "    </tr>\n",
       "    <tr>\n",
       "      <th>60</th>\n",
       "      <td>5</td>\n",
       "      <td>4</td>\n",
       "      <td>9</td>\n",
       "    </tr>\n",
       "    <tr>\n",
       "      <th>61</th>\n",
       "      <td>5</td>\n",
       "      <td>2</td>\n",
       "      <td>7</td>\n",
       "    </tr>\n",
       "    <tr>\n",
       "      <th>62</th>\n",
       "      <td>6</td>\n",
       "      <td>5</td>\n",
       "      <td>11</td>\n",
       "    </tr>\n",
       "    <tr>\n",
       "      <th>63</th>\n",
       "      <td>3</td>\n",
       "      <td>3</td>\n",
       "      <td>6</td>\n",
       "    </tr>\n",
       "    <tr>\n",
       "      <th>64</th>\n",
       "      <td>7</td>\n",
       "      <td>1</td>\n",
       "      <td>8</td>\n",
       "    </tr>\n",
       "    <tr>\n",
       "      <th>65</th>\n",
       "      <td>3</td>\n",
       "      <td>2</td>\n",
       "      <td>5</td>\n",
       "    </tr>\n",
       "    <tr>\n",
       "      <th>66</th>\n",
       "      <td>4</td>\n",
       "      <td>0</td>\n",
       "      <td>4</td>\n",
       "    </tr>\n",
       "    <tr>\n",
       "      <th>67</th>\n",
       "      <td>2</td>\n",
       "      <td>0</td>\n",
       "      <td>2</td>\n",
       "    </tr>\n",
       "    <tr>\n",
       "      <th>69</th>\n",
       "      <td>6</td>\n",
       "      <td>2</td>\n",
       "      <td>8</td>\n",
       "    </tr>\n",
       "    <tr>\n",
       "      <th>70</th>\n",
       "      <td>2</td>\n",
       "      <td>1</td>\n",
       "      <td>3</td>\n",
       "    </tr>\n",
       "    <tr>\n",
       "      <th>71</th>\n",
       "      <td>0</td>\n",
       "      <td>1</td>\n",
       "      <td>1</td>\n",
       "    </tr>\n",
       "    <tr>\n",
       "      <th>72</th>\n",
       "      <td>2</td>\n",
       "      <td>2</td>\n",
       "      <td>4</td>\n",
       "    </tr>\n",
       "    <tr>\n",
       "      <th>74</th>\n",
       "      <td>0</td>\n",
       "      <td>1</td>\n",
       "      <td>1</td>\n",
       "    </tr>\n",
       "    <tr>\n",
       "      <th>All</th>\n",
       "      <td>524</td>\n",
       "      <td>164</td>\n",
       "      <td>688</td>\n",
       "    </tr>\n",
       "  </tbody>\n",
       "</table>\n",
       "</div>"
      ],
      "text/plain": [
       "qsmk    0    1  All\n",
       "age                \n",
       "25     24    3   27\n",
       "26     14    5   19\n",
       "27     18    2   20\n",
       "28     20    5   25\n",
       "29     15    4   19\n",
       "30     14    5   19\n",
       "31     11    5   16\n",
       "32     14    7   21\n",
       "33     12    3   15\n",
       "34     22    5   27\n",
       "35     16    5   21\n",
       "36     13    3   16\n",
       "37     14    1   15\n",
       "38      6    2    8\n",
       "39     19    4   23\n",
       "40     10    4   14\n",
       "41     13    3   16\n",
       "42     16    3   19\n",
       "43     14    3   17\n",
       "44      9    4   13\n",
       "45     12    5   17\n",
       "46     19    4   23\n",
       "47     19    4   23\n",
       "48     19    4   23\n",
       "49     11    3   14\n",
       "50     18    4   22\n",
       "51      9    3   12\n",
       "52     11    3   14\n",
       "53     11    4   15\n",
       "54     17    9   26\n",
       "55      9    4   13\n",
       "56      8    7   15\n",
       "57      9    2   11\n",
       "58      8    4   12\n",
       "59      5    4    9\n",
       "60      5    4    9\n",
       "61      5    2    7\n",
       "62      6    5   11\n",
       "63      3    3    6\n",
       "64      7    1    8\n",
       "65      3    2    5\n",
       "66      4    0    4\n",
       "67      2    0    2\n",
       "69      6    2    8\n",
       "70      2    1    3\n",
       "71      0    1    1\n",
       "72      2    2    4\n",
       "74      0    1    1\n",
       "All   524  164  688"
      ]
     },
     "execution_count": 56,
     "metadata": {},
     "output_type": "execute_result"
    }
   ],
   "source": [
    "age_restr = nhefs0['age'][(nhefs0['race'] == 0) & (nhefs0['sex'] == 1)]\n",
    "qsmk_restr = nhefs0['qsmk'][(nhefs0['race'] == 0) & (nhefs0['sex'] == 1)]\n",
    "pd.crosstab(age_restr, qsmk_restr, margins=True)"
   ]
  },
  {
   "cell_type": "markdown",
   "metadata": {},
   "source": [
    "#####################################################\n",
    "\n",
    "## PROGRAM 12.3\n",
    "\n",
    "Estimating stabilized IP weights\n",
    "\n",
    "Data from NHEFS\n",
    "\n",
    "#####################################################"
   ]
  },
  {
   "cell_type": "markdown",
   "metadata": {},
   "source": [
    "estimation of denominator of ip weights"
   ]
  },
  {
   "cell_type": "code",
   "execution_count": 57,
   "metadata": {
    "collapsed": true
   },
   "outputs": [],
   "source": [
    "dta3 = nhefs0.copy()"
   ]
  },
  {
   "cell_type": "code",
   "execution_count": 58,
   "metadata": {},
   "outputs": [
    {
     "data": {
      "text/plain": [
       "'qsmk ~ C(sex) + C(race) + age + np.square(age) + C(education_code) + smokeintensity + np.square(smokeintensity) + smokeyrs + np.square(smokeyrs) + C(exercise) + C(active) + wt71 + np.square(wt71)'"
      ]
     },
     "execution_count": 58,
     "metadata": {},
     "output_type": "execute_result"
    }
   ],
   "source": [
    "formula  = 'qsmk ~ C(sex) + C(race) + age + np.square(age) + C(education_code) + smokeintensity + ' \n",
    "formula += 'np.square(smokeintensity) + smokeyrs + np.square(smokeyrs) + C(exercise) + C(active) + '\n",
    "formula += 'wt71 + np.square(wt71)'\n",
    "formula"
   ]
  },
  {
   "cell_type": "code",
   "execution_count": 59,
   "metadata": {},
   "outputs": [
    {
     "data": {
      "text/html": [
       "<table class=\"simpletable\">\n",
       "<caption>Generalized Linear Model Regression Results</caption>\n",
       "<tr>\n",
       "  <th>Dep. Variable:</th>        <td>qsmk</td>       <th>  No. Observations:  </th>  <td>  1566</td> \n",
       "</tr>\n",
       "<tr>\n",
       "  <th>Model:</th>                 <td>GLM</td>       <th>  Df Residuals:      </th>  <td>  1547</td> \n",
       "</tr>\n",
       "<tr>\n",
       "  <th>Model Family:</th>       <td>Binomial</td>     <th>  Df Model:          </th>  <td>    18</td> \n",
       "</tr>\n",
       "<tr>\n",
       "  <th>Link Function:</th>        <td>logit</td>      <th>  Scale:             </th>    <td>1.0</td>  \n",
       "</tr>\n",
       "<tr>\n",
       "  <th>Method:</th>               <td>IRLS</td>       <th>  Log-Likelihood:    </th> <td> -838.45</td>\n",
       "</tr>\n",
       "<tr>\n",
       "  <th>Date:</th>           <td>Fri, 02 Feb 2018</td> <th>  Deviance:          </th> <td>  1676.9</td>\n",
       "</tr>\n",
       "<tr>\n",
       "  <th>Time:</th>               <td>03:22:23</td>     <th>  Pearson chi2:      </th> <td>1.56e+03</td>\n",
       "</tr>\n",
       "<tr>\n",
       "  <th>No. Iterations:</th>         <td>4</td>        <th>                     </th>     <td> </td>   \n",
       "</tr>\n",
       "</table>\n",
       "<table class=\"simpletable\">\n",
       "<tr>\n",
       "              <td></td>                 <th>coef</th>     <th>std err</th>      <th>z</th>      <th>P>|z|</th>  <th>[0.025</th>    <th>0.975]</th>  \n",
       "</tr>\n",
       "<tr>\n",
       "  <th>Intercept</th>                 <td>   -2.2425</td> <td>    1.381</td> <td>   -1.624</td> <td> 0.104</td> <td>   -4.949</td> <td>    0.464</td>\n",
       "</tr>\n",
       "<tr>\n",
       "  <th>C(sex)[T.1]</th>               <td>   -0.5275</td> <td>    0.154</td> <td>   -3.424</td> <td> 0.001</td> <td>   -0.829</td> <td>   -0.226</td>\n",
       "</tr>\n",
       "<tr>\n",
       "  <th>C(race)[T.1]</th>              <td>   -0.8393</td> <td>    0.210</td> <td>   -3.995</td> <td> 0.000</td> <td>   -1.251</td> <td>   -0.428</td>\n",
       "</tr>\n",
       "<tr>\n",
       "  <th>C(education_code)[T.2]</th>    <td>   -0.0288</td> <td>    0.198</td> <td>   -0.145</td> <td> 0.885</td> <td>   -0.418</td> <td>    0.360</td>\n",
       "</tr>\n",
       "<tr>\n",
       "  <th>C(education_code)[T.3]</th>    <td>    0.0864</td> <td>    0.178</td> <td>    0.485</td> <td> 0.627</td> <td>   -0.263</td> <td>    0.435</td>\n",
       "</tr>\n",
       "<tr>\n",
       "  <th>C(education_code)[T.4]</th>    <td>    0.0636</td> <td>    0.273</td> <td>    0.233</td> <td> 0.816</td> <td>   -0.472</td> <td>    0.599</td>\n",
       "</tr>\n",
       "<tr>\n",
       "  <th>C(education_code)[T.5]</th>    <td>    0.4760</td> <td>    0.226</td> <td>    2.104</td> <td> 0.035</td> <td>    0.033</td> <td>    0.919</td>\n",
       "</tr>\n",
       "<tr>\n",
       "  <th>C(exercise)[T.1]</th>          <td>    0.3548</td> <td>    0.180</td> <td>    1.970</td> <td> 0.049</td> <td>    0.002</td> <td>    0.708</td>\n",
       "</tr>\n",
       "<tr>\n",
       "  <th>C(exercise)[T.2]</th>          <td>    0.3957</td> <td>    0.187</td> <td>    2.113</td> <td> 0.035</td> <td>    0.029</td> <td>    0.763</td>\n",
       "</tr>\n",
       "<tr>\n",
       "  <th>C(active)[T.1]</th>            <td>    0.0319</td> <td>    0.133</td> <td>    0.240</td> <td> 0.810</td> <td>   -0.229</td> <td>    0.292</td>\n",
       "</tr>\n",
       "<tr>\n",
       "  <th>C(active)[T.2]</th>            <td>    0.1768</td> <td>    0.215</td> <td>    0.822</td> <td> 0.411</td> <td>   -0.245</td> <td>    0.598</td>\n",
       "</tr>\n",
       "<tr>\n",
       "  <th>age</th>                       <td>    0.1212</td> <td>    0.051</td> <td>    2.364</td> <td> 0.018</td> <td>    0.021</td> <td>    0.222</td>\n",
       "</tr>\n",
       "<tr>\n",
       "  <th>np.square(age)</th>            <td>   -0.0008</td> <td>    0.001</td> <td>   -1.538</td> <td> 0.124</td> <td>   -0.002</td> <td>    0.000</td>\n",
       "</tr>\n",
       "<tr>\n",
       "  <th>smokeintensity</th>            <td>   -0.0773</td> <td>    0.015</td> <td>   -5.067</td> <td> 0.000</td> <td>   -0.107</td> <td>   -0.047</td>\n",
       "</tr>\n",
       "<tr>\n",
       "  <th>np.square(smokeintensity)</th> <td>    0.0010</td> <td>    0.000</td> <td>    3.647</td> <td> 0.000</td> <td>    0.000</td> <td>    0.002</td>\n",
       "</tr>\n",
       "<tr>\n",
       "  <th>smokeyrs</th>                  <td>   -0.0736</td> <td>    0.028</td> <td>   -2.650</td> <td> 0.008</td> <td>   -0.128</td> <td>   -0.019</td>\n",
       "</tr>\n",
       "<tr>\n",
       "  <th>np.square(smokeyrs)</th>       <td>    0.0008</td> <td>    0.000</td> <td>    1.822</td> <td> 0.068</td> <td>-6.37e-05</td> <td>    0.002</td>\n",
       "</tr>\n",
       "<tr>\n",
       "  <th>wt71</th>                      <td>   -0.0152</td> <td>    0.026</td> <td>   -0.579</td> <td> 0.563</td> <td>   -0.067</td> <td>    0.036</td>\n",
       "</tr>\n",
       "<tr>\n",
       "  <th>np.square(wt71)</th>           <td>    0.0001</td> <td>    0.000</td> <td>    0.829</td> <td> 0.407</td> <td>   -0.000</td> <td>    0.000</td>\n",
       "</tr>\n",
       "</table>"
      ],
      "text/plain": [
       "<class 'statsmodels.iolib.summary.Summary'>\n",
       "\"\"\"\n",
       "                 Generalized Linear Model Regression Results                  \n",
       "==============================================================================\n",
       "Dep. Variable:                   qsmk   No. Observations:                 1566\n",
       "Model:                            GLM   Df Residuals:                     1547\n",
       "Model Family:                Binomial   Df Model:                           18\n",
       "Link Function:                  logit   Scale:                             1.0\n",
       "Method:                          IRLS   Log-Likelihood:                -838.45\n",
       "Date:                Fri, 02 Feb 2018   Deviance:                       1676.9\n",
       "Time:                        03:22:23   Pearson chi2:                 1.56e+03\n",
       "No. Iterations:                     4                                         \n",
       "=============================================================================================\n",
       "                                coef    std err          z      P>|z|      [0.025      0.975]\n",
       "---------------------------------------------------------------------------------------------\n",
       "Intercept                    -2.2425      1.381     -1.624      0.104      -4.949       0.464\n",
       "C(sex)[T.1]                  -0.5275      0.154     -3.424      0.001      -0.829      -0.226\n",
       "C(race)[T.1]                 -0.8393      0.210     -3.995      0.000      -1.251      -0.428\n",
       "C(education_code)[T.2]       -0.0288      0.198     -0.145      0.885      -0.418       0.360\n",
       "C(education_code)[T.3]        0.0864      0.178      0.485      0.627      -0.263       0.435\n",
       "C(education_code)[T.4]        0.0636      0.273      0.233      0.816      -0.472       0.599\n",
       "C(education_code)[T.5]        0.4760      0.226      2.104      0.035       0.033       0.919\n",
       "C(exercise)[T.1]              0.3548      0.180      1.970      0.049       0.002       0.708\n",
       "C(exercise)[T.2]              0.3957      0.187      2.113      0.035       0.029       0.763\n",
       "C(active)[T.1]                0.0319      0.133      0.240      0.810      -0.229       0.292\n",
       "C(active)[T.2]                0.1768      0.215      0.822      0.411      -0.245       0.598\n",
       "age                           0.1212      0.051      2.364      0.018       0.021       0.222\n",
       "np.square(age)               -0.0008      0.001     -1.538      0.124      -0.002       0.000\n",
       "smokeintensity               -0.0773      0.015     -5.067      0.000      -0.107      -0.047\n",
       "np.square(smokeintensity)     0.0010      0.000      3.647      0.000       0.000       0.002\n",
       "smokeyrs                     -0.0736      0.028     -2.650      0.008      -0.128      -0.019\n",
       "np.square(smokeyrs)           0.0008      0.000      1.822      0.068   -6.37e-05       0.002\n",
       "wt71                         -0.0152      0.026     -0.579      0.563      -0.067       0.036\n",
       "np.square(wt71)               0.0001      0.000      0.829      0.407      -0.000       0.000\n",
       "=============================================================================================\n",
       "\"\"\""
      ]
     },
     "execution_count": 59,
     "metadata": {},
     "output_type": "execute_result"
    }
   ],
   "source": [
    "mod3 = smf.glm(formula=formula, family=sm.families.Binomial(), data=dta3).fit()\n",
    "mod3.summary()"
   ]
  },
  {
   "cell_type": "code",
   "execution_count": 60,
   "metadata": {
    "collapsed": true
   },
   "outputs": [],
   "source": [
    "dta3['denom_p'] = mod3.predict() "
   ]
  },
  {
   "cell_type": "code",
   "execution_count": 61,
   "metadata": {},
   "outputs": [
    {
     "data": {
      "text/html": [
       "<table class=\"simpletable\">\n",
       "<caption>Generalized Linear Model Regression Results</caption>\n",
       "<tr>\n",
       "  <th>Dep. Variable:</th>        <td>qsmk</td>       <th>  No. Observations:  </th>  <td>  1566</td> \n",
       "</tr>\n",
       "<tr>\n",
       "  <th>Model:</th>                 <td>GLM</td>       <th>  Df Residuals:      </th>  <td>  1565</td> \n",
       "</tr>\n",
       "<tr>\n",
       "  <th>Model Family:</th>       <td>Binomial</td>     <th>  Df Model:          </th>  <td>     0</td> \n",
       "</tr>\n",
       "<tr>\n",
       "  <th>Link Function:</th>        <td>logit</td>      <th>  Scale:             </th>    <td>1.0</td>  \n",
       "</tr>\n",
       "<tr>\n",
       "  <th>Method:</th>               <td>IRLS</td>       <th>  Log-Likelihood:    </th> <td> -893.03</td>\n",
       "</tr>\n",
       "<tr>\n",
       "  <th>Date:</th>           <td>Fri, 02 Feb 2018</td> <th>  Deviance:          </th> <td>  1786.1</td>\n",
       "</tr>\n",
       "<tr>\n",
       "  <th>Time:</th>               <td>03:22:23</td>     <th>  Pearson chi2:      </th> <td>1.57e+03</td>\n",
       "</tr>\n",
       "<tr>\n",
       "  <th>No. Iterations:</th>         <td>4</td>        <th>                     </th>     <td> </td>   \n",
       "</tr>\n",
       "</table>\n",
       "<table class=\"simpletable\">\n",
       "<tr>\n",
       "      <td></td>         <th>coef</th>     <th>std err</th>      <th>z</th>      <th>P>|z|</th>  <th>[0.025</th>    <th>0.975]</th>  \n",
       "</tr>\n",
       "<tr>\n",
       "  <th>Intercept</th> <td>   -1.0598</td> <td>    0.058</td> <td>  -18.335</td> <td> 0.000</td> <td>   -1.173</td> <td>   -0.947</td>\n",
       "</tr>\n",
       "</table>"
      ],
      "text/plain": [
       "<class 'statsmodels.iolib.summary.Summary'>\n",
       "\"\"\"\n",
       "                 Generalized Linear Model Regression Results                  \n",
       "==============================================================================\n",
       "Dep. Variable:                   qsmk   No. Observations:                 1566\n",
       "Model:                            GLM   Df Residuals:                     1565\n",
       "Model Family:                Binomial   Df Model:                            0\n",
       "Link Function:                  logit   Scale:                             1.0\n",
       "Method:                          IRLS   Log-Likelihood:                -893.03\n",
       "Date:                Fri, 02 Feb 2018   Deviance:                       1786.1\n",
       "Time:                        03:22:23   Pearson chi2:                 1.57e+03\n",
       "No. Iterations:                     4                                         \n",
       "==============================================================================\n",
       "                 coef    std err          z      P>|z|      [0.025      0.975]\n",
       "------------------------------------------------------------------------------\n",
       "Intercept     -1.0598      0.058    -18.335      0.000      -1.173      -0.947\n",
       "==============================================================================\n",
       "\"\"\""
      ]
     },
     "execution_count": 61,
     "metadata": {},
     "output_type": "execute_result"
    }
   ],
   "source": [
    "# estimation of numerator of ip weights\n",
    "mod4 = smf.glm(formula='qsmk~1', family=sm.families.Binomial(), data=dta3).fit()\n",
    "mod4.summary()\n"
   ]
  },
  {
   "cell_type": "code",
   "execution_count": 62,
   "metadata": {
    "collapsed": true
   },
   "outputs": [],
   "source": [
    "dta3['numer_p'] = mod4.predict() "
   ]
  },
  {
   "cell_type": "code",
   "execution_count": 63,
   "metadata": {},
   "outputs": [
    {
     "data": {
      "text/plain": [
       "count    1566.000000\n",
       "mean        0.998844\n",
       "std         0.288223\n",
       "min         0.331249\n",
       "25%         0.866537\n",
       "50%         0.950281\n",
       "75%         1.079302\n",
       "max         4.297662\n",
       "Name: sw, dtype: float64"
      ]
     },
     "execution_count": 63,
     "metadata": {},
     "output_type": "execute_result"
    }
   ],
   "source": [
    "dta3['sw'] = list(map(lambda q: float(q[2]/q[1]) if q[0]==1 else float((1-q[2])/(1-q[1]))\\\n",
    "             ,zip(dta3['qsmk'],dta3['denom_p'],dta3['numer_p'])))\n",
    "dta3['sw'].describe()\n"
   ]
  },
  {
   "cell_type": "code",
   "execution_count": 64,
   "metadata": {
    "collapsed": true
   },
   "outputs": [],
   "source": [
    "formula2  = 'wt82_71 ~ qsmk + gid'\n",
    "\n",
    "dta3.reset_index(inplace=True)\n",
    "gid = np.asarray(dta3['seqn'], int)\n",
    "dta3.set_index('seqn',inplace=True)\n"
   ]
  },
  {
   "cell_type": "code",
   "execution_count": 65,
   "metadata": {},
   "outputs": [
    {
     "data": {
      "text/html": [
       "<table class=\"simpletable\">\n",
       "<caption>Generalized Linear Model Regression Results</caption>\n",
       "<tr>\n",
       "  <th>Dep. Variable:</th>       <td>wt82_71</td>     <th>  No. Observations:  </th>    <td>  1566</td>    \n",
       "</tr>\n",
       "<tr>\n",
       "  <th>Model:</th>                 <td>GLM</td>       <th>  Df Residuals:      </th>    <td>  1561</td>    \n",
       "</tr>\n",
       "<tr>\n",
       "  <th>Model Family:</th>       <td>Gaussian</td>     <th>  Df Model:          </th>    <td>     2</td>    \n",
       "</tr>\n",
       "<tr>\n",
       "  <th>Link Function:</th>      <td>identity</td>     <th>  Scale:             </th> <td>60.7397621088</td>\n",
       "</tr>\n",
       "<tr>\n",
       "  <th>Method:</th>               <td>IRLS</td>       <th>  Log-Likelihood:    </th>   <td> -5434.0</td>   \n",
       "</tr>\n",
       "<tr>\n",
       "  <th>Date:</th>           <td>Fri, 02 Feb 2018</td> <th>  Deviance:          </th>   <td>  94826.</td>   \n",
       "</tr>\n",
       "<tr>\n",
       "  <th>Time:</th>               <td>03:22:24</td>     <th>  Pearson chi2:      </th>   <td>9.48e+04</td>   \n",
       "</tr>\n",
       "<tr>\n",
       "  <th>No. Iterations:</th>         <td>2</td>        <th>                     </th>       <td> </td>      \n",
       "</tr>\n",
       "</table>\n",
       "<table class=\"simpletable\">\n",
       "<tr>\n",
       "      <td></td>         <th>coef</th>     <th>std err</th>      <th>z</th>      <th>P>|z|</th>  <th>[0.025</th>    <th>0.975]</th>  \n",
       "</tr>\n",
       "<tr>\n",
       "  <th>Intercept</th> <td>    1.0911</td> <td>    0.496</td> <td>    2.200</td> <td> 0.028</td> <td>    0.119</td> <td>    2.063</td>\n",
       "</tr>\n",
       "<tr>\n",
       "  <th>qsmk</th>      <td>    3.4464</td> <td>    0.451</td> <td>    7.640</td> <td> 0.000</td> <td>    2.562</td> <td>    4.331</td>\n",
       "</tr>\n",
       "<tr>\n",
       "  <th>gid</th>       <td> 4.115e-05</td> <td> 2.63e-05</td> <td>    1.565</td> <td> 0.117</td> <td>-1.04e-05</td> <td> 9.27e-05</td>\n",
       "</tr>\n",
       "</table>"
      ],
      "text/plain": [
       "<class 'statsmodels.iolib.summary.Summary'>\n",
       "\"\"\"\n",
       "                 Generalized Linear Model Regression Results                  \n",
       "==============================================================================\n",
       "Dep. Variable:                wt82_71   No. Observations:                 1566\n",
       "Model:                            GLM   Df Residuals:                     1561\n",
       "Model Family:                Gaussian   Df Model:                            2\n",
       "Link Function:               identity   Scale:                   60.7397621088\n",
       "Method:                          IRLS   Log-Likelihood:                -5434.0\n",
       "Date:                Fri, 02 Feb 2018   Deviance:                       94826.\n",
       "Time:                        03:22:24   Pearson chi2:                 9.48e+04\n",
       "No. Iterations:                     2                                         \n",
       "==============================================================================\n",
       "                 coef    std err          z      P>|z|      [0.025      0.975]\n",
       "------------------------------------------------------------------------------\n",
       "Intercept      1.0911      0.496      2.200      0.028       0.119       2.063\n",
       "qsmk           3.4464      0.451      7.640      0.000       2.562       4.331\n",
       "gid         4.115e-05   2.63e-05      1.565      0.117   -1.04e-05    9.27e-05\n",
       "==============================================================================\n",
       "\"\"\""
      ]
     },
     "execution_count": 65,
     "metadata": {},
     "output_type": "execute_result"
    }
   ],
   "source": [
    "fit_kwds = dict(cov_kwds={'groups': gid})\n",
    "mod5 = smf.glm(formula=formula2, data=dta3,\\\n",
    "               freq_weights=dta3['sw'] )\n",
    "result3 = mod5.fit(**fit_kwds)\n",
    "result3.summary()"
   ]
  },
  {
   "cell_type": "code",
   "execution_count": 66,
   "metadata": {},
   "outputs": [
    {
     "data": {
      "text/html": [
       "<div>\n",
       "<style>\n",
       "    .dataframe thead tr:only-child th {\n",
       "        text-align: right;\n",
       "    }\n",
       "\n",
       "    .dataframe thead th {\n",
       "        text-align: left;\n",
       "    }\n",
       "\n",
       "    .dataframe tbody tr th {\n",
       "        vertical-align: top;\n",
       "    }\n",
       "</style>\n",
       "<table border=\"1\" class=\"dataframe\">\n",
       "  <thead>\n",
       "    <tr style=\"text-align: right;\">\n",
       "      <th></th>\n",
       "      <th>0</th>\n",
       "      <th>1</th>\n",
       "    </tr>\n",
       "  </thead>\n",
       "  <tbody>\n",
       "    <tr>\n",
       "      <th>Intercept</th>\n",
       "      <td>0.119239</td>\n",
       "      <td>2.063015</td>\n",
       "    </tr>\n",
       "    <tr>\n",
       "      <th>qsmk</th>\n",
       "      <td>2.562268</td>\n",
       "      <td>4.330504</td>\n",
       "    </tr>\n",
       "    <tr>\n",
       "      <th>gid</th>\n",
       "      <td>-0.000010</td>\n",
       "      <td>0.000093</td>\n",
       "    </tr>\n",
       "  </tbody>\n",
       "</table>\n",
       "</div>"
      ],
      "text/plain": [
       "                  0         1\n",
       "Intercept  0.119239  2.063015\n",
       "qsmk       2.562268  4.330504\n",
       "gid       -0.000010  0.000093"
      ]
     },
     "execution_count": 66,
     "metadata": {},
     "output_type": "execute_result"
    }
   ],
   "source": [
    "result3.conf_int()"
   ]
  },
  {
   "cell_type": "code",
   "execution_count": 67,
   "metadata": {},
   "outputs": [
    {
     "data": {
      "text/html": [
       "<div>\n",
       "<style>\n",
       "    .dataframe thead tr:only-child th {\n",
       "        text-align: right;\n",
       "    }\n",
       "\n",
       "    .dataframe thead th {\n",
       "        text-align: left;\n",
       "    }\n",
       "\n",
       "    .dataframe tbody tr th {\n",
       "        vertical-align: top;\n",
       "    }\n",
       "</style>\n",
       "<table border=\"1\" class=\"dataframe\">\n",
       "  <thead>\n",
       "    <tr style=\"text-align: right;\">\n",
       "      <th></th>\n",
       "      <th>Intercept</th>\n",
       "      <th>qsmk</th>\n",
       "      <th>gid</th>\n",
       "    </tr>\n",
       "  </thead>\n",
       "  <tbody>\n",
       "    <tr>\n",
       "      <th>Intercept</th>\n",
       "      <td>0.245887</td>\n",
       "      <td>-5.389290e-02</td>\n",
       "      <td>-1.156754e-05</td>\n",
       "    </tr>\n",
       "    <tr>\n",
       "      <th>qsmk</th>\n",
       "      <td>-0.053893</td>\n",
       "      <td>2.034810e-01</td>\n",
       "      <td>9.824653e-08</td>\n",
       "    </tr>\n",
       "    <tr>\n",
       "      <th>gid</th>\n",
       "      <td>-0.000012</td>\n",
       "      <td>9.824653e-08</td>\n",
       "      <td>6.910164e-10</td>\n",
       "    </tr>\n",
       "  </tbody>\n",
       "</table>\n",
       "</div>"
      ],
      "text/plain": [
       "           Intercept          qsmk           gid\n",
       "Intercept   0.245887 -5.389290e-02 -1.156754e-05\n",
       "qsmk       -0.053893  2.034810e-01  9.824653e-08\n",
       "gid        -0.000012  9.824653e-08  6.910164e-10"
      ]
     },
     "execution_count": 67,
     "metadata": {},
     "output_type": "execute_result"
    }
   ],
   "source": [
    "result3.cov_params()"
   ]
  },
  {
   "cell_type": "code",
   "execution_count": 68,
   "metadata": {
    "collapsed": true
   },
   "outputs": [],
   "source": [
    "hc0_result = get_robustcov_results(result3._results,'HC0')\n",
    "SE = np.sqrt(np.diag(hc0_result.cov_params()))\n",
    "beta = result3.params\n",
    "lcl = beta-1.96*SE \n",
    "ucl = beta+1.96*SE"
   ]
  },
  {
   "cell_type": "code",
   "execution_count": 69,
   "metadata": {},
   "outputs": [
    {
     "data": {
      "text/plain": [
       "array([ 3.45,  2.5 ,  4.39])"
      ]
     },
     "execution_count": 69,
     "metadata": {},
     "output_type": "execute_result"
    }
   ],
   "source": [
    "np.c_[beta, lcl, ucl].round(decimals=2)[1]"
   ]
  },
  {
   "cell_type": "code",
   "execution_count": 70,
   "metadata": {},
   "outputs": [
    {
     "data": {
      "text/html": [
       "<div>\n",
       "<style>\n",
       "    .dataframe thead tr:only-child th {\n",
       "        text-align: right;\n",
       "    }\n",
       "\n",
       "    .dataframe thead th {\n",
       "        text-align: left;\n",
       "    }\n",
       "\n",
       "    .dataframe tbody tr th {\n",
       "        vertical-align: top;\n",
       "    }\n",
       "</style>\n",
       "<table border=\"1\" class=\"dataframe\">\n",
       "  <thead>\n",
       "    <tr style=\"text-align: right;\">\n",
       "      <th>qsmk</th>\n",
       "      <th>0</th>\n",
       "      <th>1</th>\n",
       "      <th>All</th>\n",
       "    </tr>\n",
       "    <tr>\n",
       "      <th>sex</th>\n",
       "      <th></th>\n",
       "      <th></th>\n",
       "      <th></th>\n",
       "    </tr>\n",
       "  </thead>\n",
       "  <tbody>\n",
       "    <tr>\n",
       "      <th>0</th>\n",
       "      <td>567.098228</td>\n",
       "      <td>196.513582</td>\n",
       "      <td>763.611810</td>\n",
       "    </tr>\n",
       "    <tr>\n",
       "      <th>1</th>\n",
       "      <td>595.423986</td>\n",
       "      <td>205.154456</td>\n",
       "      <td>800.578442</td>\n",
       "    </tr>\n",
       "    <tr>\n",
       "      <th>All</th>\n",
       "      <td>1162.522214</td>\n",
       "      <td>401.668038</td>\n",
       "      <td>1564.190252</td>\n",
       "    </tr>\n",
       "  </tbody>\n",
       "</table>\n",
       "</div>"
      ],
      "text/plain": [
       "qsmk            0           1          All\n",
       "sex                                       \n",
       "0      567.098228  196.513582   763.611810\n",
       "1      595.423986  205.154456   800.578442\n",
       "All   1162.522214  401.668038  1564.190252"
      ]
     },
     "execution_count": 70,
     "metadata": {},
     "output_type": "execute_result"
    }
   ],
   "source": [
    "pd.crosstab(dta3['sex'], dta3['qsmk'], values=dta3['sw'], aggfunc=sum, margins=True)"
   ]
  },
  {
   "cell_type": "markdown",
   "metadata": {},
   "source": [
    "#####################################################\n",
    "## PROGRAM 12.4\n",
    "\n",
    "Estimating the parameters of a marginal structural mean model\n",
    "\n",
    "with a continuous treatment Data from NHEFS\n",
    "\n",
    "#####################################################"
   ]
  },
  {
   "cell_type": "markdown",
   "metadata": {},
   "source": [
    "Analysis restricted to subjects reporting <=25 cig/day at baseline"
   ]
  },
  {
   "cell_type": "code",
   "execution_count": 71,
   "metadata": {
    "collapsed": true
   },
   "outputs": [],
   "source": [
    "nhefs1 = nhefs0[nhefs0['smokeintensity'] <= 25].copy()"
   ]
  },
  {
   "cell_type": "markdown",
   "metadata": {},
   "source": [
    "estimation of denominator of ip weights"
   ]
  },
  {
   "cell_type": "code",
   "execution_count": 72,
   "metadata": {},
   "outputs": [
    {
     "data": {
      "text/plain": [
       "'smkintensity82_71 ~ C(sex) + C(race) + age + np.square(age) + C(education_code) + smokeintensity + np.square(smokeintensity) + smokeyrs + np.square(smokeyrs) + C(exercise) + C(active) + wt71 + np.square(wt71)'"
      ]
     },
     "execution_count": 72,
     "metadata": {},
     "output_type": "execute_result"
    }
   ],
   "source": [
    "formula  = 'smkintensity82_71 ~ C(sex) + C(race) + age + np.square(age) + C(education_code) + smokeintensity + ' \n",
    "formula += 'np.square(smokeintensity) + smokeyrs + np.square(smokeyrs) + C(exercise) + C(active) + '\n",
    "formula += 'wt71 + np.square(wt71)'\n",
    "formula"
   ]
  },
  {
   "cell_type": "code",
   "execution_count": 73,
   "metadata": {},
   "outputs": [
    {
     "data": {
      "text/html": [
       "<table class=\"simpletable\">\n",
       "<caption>Robust linear Model Regression Results</caption>\n",
       "<tr>\n",
       "  <th>Dep. Variable:</th>  <td>smkintensity82_71</td> <th>  No. Observations:  </th> <td>  1162</td>\n",
       "</tr>\n",
       "<tr>\n",
       "  <th>Model:</th>                 <td>RLM</td>        <th>  Df Residuals:      </th> <td>  1143</td>\n",
       "</tr>\n",
       "<tr>\n",
       "  <th>Method:</th>               <td>IRLS</td>        <th>  Df Model:          </th> <td>    18</td>\n",
       "</tr>\n",
       "<tr>\n",
       "  <th>Norm:</th>                <td>HuberT</td>       <th>                     </th>    <td> </td>  \n",
       "</tr>\n",
       "<tr>\n",
       "  <th>Scale Est.:</th>            <td>mad</td>        <th>                     </th>    <td> </td>  \n",
       "</tr>\n",
       "<tr>\n",
       "  <th>Cov Type:</th>              <td>H1</td>         <th>                     </th>    <td> </td>  \n",
       "</tr>\n",
       "<tr>\n",
       "  <th>Date:</th>           <td>Fri, 02 Feb 2018</td>  <th>                     </th>    <td> </td>  \n",
       "</tr>\n",
       "<tr>\n",
       "  <th>Time:</th>               <td>03:22:25</td>      <th>                     </th>    <td> </td>  \n",
       "</tr>\n",
       "<tr>\n",
       "  <th>No. Iterations:</th>        <td>19</td>         <th>                     </th>    <td> </td>  \n",
       "</tr>\n",
       "</table>\n",
       "<table class=\"simpletable\">\n",
       "<tr>\n",
       "              <td></td>                 <th>coef</th>     <th>std err</th>      <th>z</th>      <th>P>|z|</th>  <th>[0.025</th>    <th>0.975]</th>  \n",
       "</tr>\n",
       "<tr>\n",
       "  <th>Intercept</th>                 <td>   18.2151</td> <td>    6.948</td> <td>    2.621</td> <td> 0.009</td> <td>    4.596</td> <td>   31.834</td>\n",
       "</tr>\n",
       "<tr>\n",
       "  <th>C(sex)[T.1]</th>               <td>    1.4339</td> <td>    0.736</td> <td>    1.948</td> <td> 0.051</td> <td>   -0.009</td> <td>    2.876</td>\n",
       "</tr>\n",
       "<tr>\n",
       "  <th>C(race)[T.1]</th>              <td>    0.3022</td> <td>    0.836</td> <td>    0.361</td> <td> 0.718</td> <td>   -1.336</td> <td>    1.941</td>\n",
       "</tr>\n",
       "<tr>\n",
       "  <th>C(education_code)[T.2]</th>    <td>    0.2422</td> <td>    0.956</td> <td>    0.253</td> <td> 0.800</td> <td>   -1.631</td> <td>    2.115</td>\n",
       "</tr>\n",
       "<tr>\n",
       "  <th>C(education_code)[T.3]</th>    <td>    0.9151</td> <td>    0.873</td> <td>    1.048</td> <td> 0.295</td> <td>   -0.796</td> <td>    2.626</td>\n",
       "</tr>\n",
       "<tr>\n",
       "  <th>C(education_code)[T.4]</th>    <td>    1.2039</td> <td>    1.367</td> <td>    0.881</td> <td> 0.378</td> <td>   -1.475</td> <td>    3.882</td>\n",
       "</tr>\n",
       "<tr>\n",
       "  <th>C(education_code)[T.5]</th>    <td>   -1.6973</td> <td>    1.174</td> <td>   -1.446</td> <td> 0.148</td> <td>   -3.998</td> <td>    0.603</td>\n",
       "</tr>\n",
       "<tr>\n",
       "  <th>C(exercise)[T.1]</th>          <td>   -0.6791</td> <td>    0.864</td> <td>   -0.786</td> <td> 0.432</td> <td>   -2.372</td> <td>    1.014</td>\n",
       "</tr>\n",
       "<tr>\n",
       "  <th>C(exercise)[T.2]</th>          <td>   -1.8397</td> <td>    0.900</td> <td>   -2.044</td> <td> 0.041</td> <td>   -3.604</td> <td>   -0.076</td>\n",
       "</tr>\n",
       "<tr>\n",
       "  <th>C(active)[T.1]</th>            <td>   -0.1464</td> <td>    0.654</td> <td>   -0.224</td> <td> 0.823</td> <td>   -1.428</td> <td>    1.135</td>\n",
       "</tr>\n",
       "<tr>\n",
       "  <th>C(active)[T.2]</th>            <td>   -1.1946</td> <td>    1.089</td> <td>   -1.097</td> <td> 0.273</td> <td>   -3.329</td> <td>    0.940</td>\n",
       "</tr>\n",
       "<tr>\n",
       "  <th>age</th>                       <td>   -0.6218</td> <td>    0.253</td> <td>   -2.455</td> <td> 0.014</td> <td>   -1.118</td> <td>   -0.125</td>\n",
       "</tr>\n",
       "<tr>\n",
       "  <th>np.square(age)</th>            <td>    0.0047</td> <td>    0.003</td> <td>    1.777</td> <td> 0.076</td> <td>   -0.000</td> <td>    0.010</td>\n",
       "</tr>\n",
       "<tr>\n",
       "  <th>smokeintensity</th>            <td>   -0.4187</td> <td>    0.223</td> <td>   -1.880</td> <td> 0.060</td> <td>   -0.855</td> <td>    0.018</td>\n",
       "</tr>\n",
       "<tr>\n",
       "  <th>np.square(smokeintensity)</th> <td>    0.0057</td> <td>    0.008</td> <td>    0.672</td> <td> 0.502</td> <td>   -0.011</td> <td>    0.022</td>\n",
       "</tr>\n",
       "<tr>\n",
       "  <th>smokeyrs</th>                  <td>    0.3048</td> <td>    0.140</td> <td>    2.171</td> <td> 0.030</td> <td>    0.030</td> <td>    0.580</td>\n",
       "</tr>\n",
       "<tr>\n",
       "  <th>np.square(smokeyrs)</th>       <td>   -0.0042</td> <td>    0.002</td> <td>   -1.796</td> <td> 0.073</td> <td>   -0.009</td> <td>    0.000</td>\n",
       "</tr>\n",
       "<tr>\n",
       "  <th>wt71</th>                      <td>   -0.0870</td> <td>    0.136</td> <td>   -0.641</td> <td> 0.522</td> <td>   -0.353</td> <td>    0.179</td>\n",
       "</tr>\n",
       "<tr>\n",
       "  <th>np.square(wt71)</th>           <td>    0.0007</td> <td>    0.001</td> <td>    0.810</td> <td> 0.418</td> <td>   -0.001</td> <td>    0.002</td>\n",
       "</tr>\n",
       "</table>"
      ],
      "text/plain": [
       "<class 'statsmodels.iolib.summary.Summary'>\n",
       "\"\"\"\n",
       "                    Robust linear Model Regression Results                    \n",
       "==============================================================================\n",
       "Dep. Variable:      smkintensity82_71   No. Observations:                 1162\n",
       "Model:                            RLM   Df Residuals:                     1143\n",
       "Method:                          IRLS   Df Model:                           18\n",
       "Norm:                          HuberT                                         \n",
       "Scale Est.:                       mad                                         \n",
       "Cov Type:                          H1                                         \n",
       "Date:                Fri, 02 Feb 2018                                         \n",
       "Time:                        03:22:25                                         \n",
       "No. Iterations:                    19                                         \n",
       "=============================================================================================\n",
       "                                coef    std err          z      P>|z|      [0.025      0.975]\n",
       "---------------------------------------------------------------------------------------------\n",
       "Intercept                    18.2151      6.948      2.621      0.009       4.596      31.834\n",
       "C(sex)[T.1]                   1.4339      0.736      1.948      0.051      -0.009       2.876\n",
       "C(race)[T.1]                  0.3022      0.836      0.361      0.718      -1.336       1.941\n",
       "C(education_code)[T.2]        0.2422      0.956      0.253      0.800      -1.631       2.115\n",
       "C(education_code)[T.3]        0.9151      0.873      1.048      0.295      -0.796       2.626\n",
       "C(education_code)[T.4]        1.2039      1.367      0.881      0.378      -1.475       3.882\n",
       "C(education_code)[T.5]       -1.6973      1.174     -1.446      0.148      -3.998       0.603\n",
       "C(exercise)[T.1]             -0.6791      0.864     -0.786      0.432      -2.372       1.014\n",
       "C(exercise)[T.2]             -1.8397      0.900     -2.044      0.041      -3.604      -0.076\n",
       "C(active)[T.1]               -0.1464      0.654     -0.224      0.823      -1.428       1.135\n",
       "C(active)[T.2]               -1.1946      1.089     -1.097      0.273      -3.329       0.940\n",
       "age                          -0.6218      0.253     -2.455      0.014      -1.118      -0.125\n",
       "np.square(age)                0.0047      0.003      1.777      0.076      -0.000       0.010\n",
       "smokeintensity               -0.4187      0.223     -1.880      0.060      -0.855       0.018\n",
       "np.square(smokeintensity)     0.0057      0.008      0.672      0.502      -0.011       0.022\n",
       "smokeyrs                      0.3048      0.140      2.171      0.030       0.030       0.580\n",
       "np.square(smokeyrs)          -0.0042      0.002     -1.796      0.073      -0.009       0.000\n",
       "wt71                         -0.0870      0.136     -0.641      0.522      -0.353       0.179\n",
       "np.square(wt71)               0.0007      0.001      0.810      0.418      -0.001       0.002\n",
       "=============================================================================================\n",
       "\n",
       "If the model instance has been used for another fit with different fit\n",
       "parameters, then the fit options might not be the correct ones anymore .\n",
       "\"\"\""
      ]
     },
     "execution_count": 73,
     "metadata": {},
     "output_type": "execute_result"
    }
   ],
   "source": [
    "mod3 = smf.rlm(formula=formula,data=nhefs1)\n",
    "result3 = mod3.fit()\n",
    "result3.summary()"
   ]
  },
  {
   "cell_type": "code",
   "execution_count": 74,
   "metadata": {
    "collapsed": true
   },
   "outputs": [],
   "source": [
    "from scipy.stats import norm"
   ]
  },
  {
   "cell_type": "code",
   "execution_count": 75,
   "metadata": {
    "collapsed": true
   },
   "outputs": [],
   "source": [
    "p_den = result3.predict() \n",
    "dens_den = norm.pdf(x=nhefs1['smkintensity82_71'],loc=p_den,scale=result3.resid.std())"
   ]
  },
  {
   "cell_type": "markdown",
   "metadata": {},
   "source": [
    "estimation of numerator of ip weights"
   ]
  },
  {
   "cell_type": "code",
   "execution_count": 76,
   "metadata": {
    "scrolled": true
   },
   "outputs": [
    {
     "data": {
      "text/html": [
       "<table class=\"simpletable\">\n",
       "<caption>Robust linear Model Regression Results</caption>\n",
       "<tr>\n",
       "  <th>Dep. Variable:</th>  <td>smkintensity82_71</td> <th>  No. Observations:  </th> <td>  1162</td>\n",
       "</tr>\n",
       "<tr>\n",
       "  <th>Model:</th>                 <td>RLM</td>        <th>  Df Residuals:      </th> <td>  1161</td>\n",
       "</tr>\n",
       "<tr>\n",
       "  <th>Method:</th>               <td>IRLS</td>        <th>  Df Model:          </th> <td>     0</td>\n",
       "</tr>\n",
       "<tr>\n",
       "  <th>Norm:</th>                <td>HuberT</td>       <th>                     </th>    <td> </td>  \n",
       "</tr>\n",
       "<tr>\n",
       "  <th>Scale Est.:</th>            <td>mad</td>        <th>                     </th>    <td> </td>  \n",
       "</tr>\n",
       "<tr>\n",
       "  <th>Cov Type:</th>              <td>H1</td>         <th>                     </th>    <td> </td>  \n",
       "</tr>\n",
       "<tr>\n",
       "  <th>Date:</th>           <td>Fri, 02 Feb 2018</td>  <th>                     </th>    <td> </td>  \n",
       "</tr>\n",
       "<tr>\n",
       "  <th>Time:</th>               <td>03:22:25</td>      <th>                     </th>    <td> </td>  \n",
       "</tr>\n",
       "<tr>\n",
       "  <th>No. Iterations:</th>        <td>10</td>         <th>                     </th>    <td> </td>  \n",
       "</tr>\n",
       "</table>\n",
       "<table class=\"simpletable\">\n",
       "<tr>\n",
       "      <td></td>         <th>coef</th>     <th>std err</th>      <th>z</th>      <th>P>|z|</th>  <th>[0.025</th>    <th>0.975]</th>  \n",
       "</tr>\n",
       "<tr>\n",
       "  <th>Intercept</th> <td>   -2.0917</td> <td>    0.291</td> <td>   -7.189</td> <td> 0.000</td> <td>   -2.662</td> <td>   -1.521</td>\n",
       "</tr>\n",
       "</table>"
      ],
      "text/plain": [
       "<class 'statsmodels.iolib.summary.Summary'>\n",
       "\"\"\"\n",
       "                    Robust linear Model Regression Results                    \n",
       "==============================================================================\n",
       "Dep. Variable:      smkintensity82_71   No. Observations:                 1162\n",
       "Model:                            RLM   Df Residuals:                     1161\n",
       "Method:                          IRLS   Df Model:                            0\n",
       "Norm:                          HuberT                                         \n",
       "Scale Est.:                       mad                                         \n",
       "Cov Type:                          H1                                         \n",
       "Date:                Fri, 02 Feb 2018                                         \n",
       "Time:                        03:22:25                                         \n",
       "No. Iterations:                    10                                         \n",
       "==============================================================================\n",
       "                 coef    std err          z      P>|z|      [0.025      0.975]\n",
       "------------------------------------------------------------------------------\n",
       "Intercept     -2.0917      0.291     -7.189      0.000      -2.662      -1.521\n",
       "==============================================================================\n",
       "\n",
       "If the model instance has been used for another fit with different fit\n",
       "parameters, then the fit options might not be the correct ones anymore .\n",
       "\"\"\""
      ]
     },
     "execution_count": 76,
     "metadata": {},
     "output_type": "execute_result"
    }
   ],
   "source": [
    "mod4 = smf.rlm(formula='smkintensity82_71 ~ 1',data=nhefs1)\n",
    "result4 = mod4.fit()\n",
    "result4.summary()"
   ]
  },
  {
   "cell_type": "code",
   "execution_count": 77,
   "metadata": {
    "collapsed": true
   },
   "outputs": [],
   "source": [
    "p_num  = result4.predict() \n",
    "dens_num = norm.pdf(x=nhefs1['smkintensity82_71'], loc=p_num, scale=result4.resid.std())"
   ]
  },
  {
   "cell_type": "code",
   "execution_count": 78,
   "metadata": {
    "scrolled": true
   },
   "outputs": [
    {
     "data": {
      "text/plain": [
       "count    1162.000000\n",
       "mean        1.000347\n",
       "std         0.362164\n",
       "min         0.242912\n",
       "25%         0.890135\n",
       "50%         0.963882\n",
       "75%         1.048326\n",
       "max         4.946293\n",
       "Name: sw_a, dtype: float64"
      ]
     },
     "execution_count": 78,
     "metadata": {},
     "output_type": "execute_result"
    }
   ],
   "source": [
    "# estimation of Stabilized weights\n",
    "nhefs1['sw_a'] = dens_num/dens_den\n",
    "nhefs1['sw_a'].describe()"
   ]
  },
  {
   "cell_type": "code",
   "execution_count": 79,
   "metadata": {
    "collapsed": true
   },
   "outputs": [],
   "source": [
    "nhefs1['smkintensity82_71_2'] = nhefs1['smkintensity82_71'].apply(lambda a: a*a)"
   ]
  },
  {
   "cell_type": "code",
   "execution_count": 80,
   "metadata": {},
   "outputs": [
    {
     "name": "stdout",
     "output_type": "stream",
     "text": [
      "                               GEE Regression Results                              \n",
      "===================================================================================\n",
      "Dep. Variable:                     wt82_71   No. Observations:                 1162\n",
      "Model:                                 GEE   No. clusters:                     1125\n",
      "Method:                        Generalized   Min. cluster size:                   1\n",
      "                      Estimating Equations   Max. cluster size:                   2\n",
      "Family:                           Gaussian   Mean cluster size:                 1.0\n",
      "Dependence structure:         Independence   Num. iterations:                     2\n",
      "Date:                     Fri, 02 Feb 2018   Scale:                          60.418\n",
      "Covariance type:                    robust   Time:                         03:22:25\n",
      "=======================================================================================\n",
      "                          coef    std err          z      P>|z|      [0.025      0.975]\n",
      "---------------------------------------------------------------------------------------\n",
      "Intercept               2.0172      0.294      6.867      0.000       1.441       2.593\n",
      "smkintensity82_71      -0.1135      0.029     -3.893      0.000      -0.171      -0.056\n",
      "smkintensity82_71_2     0.0024      0.002      1.128      0.260      -0.002       0.007\n",
      "==============================================================================\n",
      "Skew:                          0.0239   Kurtosis:                       2.8692\n",
      "Centered skew:                 0.0000   Centered kurtosis:             46.4394\n",
      "==============================================================================\n"
     ]
    }
   ],
   "source": [
    "geeglm = sm.GEE.from_formula(formula='wt82_71~smkintensity82_71 + smkintensity82_71_2'\\\n",
    "                             ,data=nhefs1,weights=nhefs1['sw_a'], groups='wt82_71')\n",
    "result = geeglm.fit()\n",
    "print(result.summary())"
   ]
  },
  {
   "cell_type": "code",
   "execution_count": 81,
   "metadata": {},
   "outputs": [
    {
     "data": {
      "text/html": [
       "<div>\n",
       "<style>\n",
       "    .dataframe thead tr:only-child th {\n",
       "        text-align: right;\n",
       "    }\n",
       "\n",
       "    .dataframe thead th {\n",
       "        text-align: left;\n",
       "    }\n",
       "\n",
       "    .dataframe tbody tr th {\n",
       "        vertical-align: top;\n",
       "    }\n",
       "</style>\n",
       "<table border=\"1\" class=\"dataframe\">\n",
       "  <thead>\n",
       "    <tr style=\"text-align: right;\">\n",
       "      <th></th>\n",
       "      <th>0</th>\n",
       "      <th>1</th>\n",
       "    </tr>\n",
       "  </thead>\n",
       "  <tbody>\n",
       "    <tr>\n",
       "      <th>Intercept</th>\n",
       "      <td>1.441455</td>\n",
       "      <td>2.592850</td>\n",
       "    </tr>\n",
       "    <tr>\n",
       "      <th>smkintensity82_71</th>\n",
       "      <td>-0.170689</td>\n",
       "      <td>-0.056371</td>\n",
       "    </tr>\n",
       "    <tr>\n",
       "      <th>smkintensity82_71_2</th>\n",
       "      <td>-0.001795</td>\n",
       "      <td>0.006657</td>\n",
       "    </tr>\n",
       "  </tbody>\n",
       "</table>\n",
       "</div>"
      ],
      "text/plain": [
       "                            0         1\n",
       "Intercept            1.441455  2.592850\n",
       "smkintensity82_71   -0.170689 -0.056371\n",
       "smkintensity82_71_2 -0.001795  0.006657"
      ]
     },
     "execution_count": 81,
     "metadata": {},
     "output_type": "execute_result"
    }
   ],
   "source": [
    "result.conf_int()"
   ]
  },
  {
   "cell_type": "code",
   "execution_count": 82,
   "metadata": {
    "scrolled": true
   },
   "outputs": [
    {
     "data": {
      "text/html": [
       "<div>\n",
       "<style>\n",
       "    .dataframe thead tr:only-child th {\n",
       "        text-align: right;\n",
       "    }\n",
       "\n",
       "    .dataframe thead th {\n",
       "        text-align: left;\n",
       "    }\n",
       "\n",
       "    .dataframe tbody tr th {\n",
       "        vertical-align: top;\n",
       "    }\n",
       "</style>\n",
       "<table border=\"1\" class=\"dataframe\">\n",
       "  <thead>\n",
       "    <tr style=\"text-align: right;\">\n",
       "      <th></th>\n",
       "      <th>Intercept</th>\n",
       "      <th>smkintensity82_71</th>\n",
       "      <th>smkintensity82_71_2</th>\n",
       "    </tr>\n",
       "  </thead>\n",
       "  <tbody>\n",
       "    <tr>\n",
       "      <th>Intercept</th>\n",
       "      <td>0.086277</td>\n",
       "      <td>-0.000766</td>\n",
       "      <td>-0.000364</td>\n",
       "    </tr>\n",
       "    <tr>\n",
       "      <th>smkintensity82_71</th>\n",
       "      <td>-0.000766</td>\n",
       "      <td>0.000850</td>\n",
       "      <td>0.000029</td>\n",
       "    </tr>\n",
       "    <tr>\n",
       "      <th>smkintensity82_71_2</th>\n",
       "      <td>-0.000364</td>\n",
       "      <td>0.000029</td>\n",
       "      <td>0.000005</td>\n",
       "    </tr>\n",
       "  </tbody>\n",
       "</table>\n",
       "</div>"
      ],
      "text/plain": [
       "                     Intercept  smkintensity82_71  smkintensity82_71_2\n",
       "Intercept             0.086277          -0.000766            -0.000364\n",
       "smkintensity82_71    -0.000766           0.000850             0.000029\n",
       "smkintensity82_71_2  -0.000364           0.000029             0.000005"
      ]
     },
     "execution_count": 82,
     "metadata": {},
     "output_type": "execute_result"
    }
   ],
   "source": [
    "result.cov_params()"
   ]
  },
  {
   "cell_type": "markdown",
   "metadata": {},
   "source": [
    "#####################################################\n",
    "\n",
    "## PROGRAM 12.5\n",
    "\n",
    "Estimating the parameters of a marginal structural logistic model\n",
    "\n",
    " Data from NHEFS\n",
    "#####################################################"
   ]
  },
  {
   "cell_type": "code",
   "execution_count": 83,
   "metadata": {
    "collapsed": true
   },
   "outputs": [],
   "source": [
    "# using the dataset nhefs0 from PROGRAM 12.3\n",
    "# weights sw are also calculated in PROGRAM 12.3\n",
    "# Estimating the parameters of a marginal structural logistic model"
   ]
  },
  {
   "cell_type": "code",
   "execution_count": 84,
   "metadata": {
    "collapsed": true
   },
   "outputs": [],
   "source": [
    "formula2  = 'death ~ qsmk + gid'"
   ]
  },
  {
   "cell_type": "code",
   "execution_count": 85,
   "metadata": {},
   "outputs": [
    {
     "data": {
      "text/html": [
       "<table class=\"simpletable\">\n",
       "<caption>Generalized Linear Model Regression Results</caption>\n",
       "<tr>\n",
       "  <th>Dep. Variable:</th>        <td>death</td>      <th>  No. Observations:  </th>  <td>  1566</td> \n",
       "</tr>\n",
       "<tr>\n",
       "  <th>Model:</th>                 <td>GLM</td>       <th>  Df Residuals:      </th>  <td>  1561</td> \n",
       "</tr>\n",
       "<tr>\n",
       "  <th>Model Family:</th>       <td>Binomial</td>     <th>  Df Model:          </th>  <td>     2</td> \n",
       "</tr>\n",
       "<tr>\n",
       "  <th>Link Function:</th>        <td>logit</td>      <th>  Scale:             </th>    <td>1.0</td>  \n",
       "</tr>\n",
       "<tr>\n",
       "  <th>Method:</th>               <td>IRLS</td>       <th>  Log-Likelihood:    </th> <td> -743.31</td>\n",
       "</tr>\n",
       "<tr>\n",
       "  <th>Date:</th>           <td>Fri, 02 Feb 2018</td> <th>  Deviance:          </th> <td>  1486.6</td>\n",
       "</tr>\n",
       "<tr>\n",
       "  <th>Time:</th>               <td>03:22:26</td>     <th>  Pearson chi2:      </th> <td>1.56e+03</td>\n",
       "</tr>\n",
       "<tr>\n",
       "  <th>No. Iterations:</th>         <td>4</td>        <th>                     </th>     <td> </td>   \n",
       "</tr>\n",
       "</table>\n",
       "<table class=\"simpletable\">\n",
       "<tr>\n",
       "      <td></td>         <th>coef</th>     <th>std err</th>      <th>z</th>      <th>P>|z|</th>  <th>[0.025</th>    <th>0.975]</th>  \n",
       "</tr>\n",
       "<tr>\n",
       "  <th>Intercept</th> <td>   -0.8562</td> <td>    0.148</td> <td>   -5.773</td> <td> 0.000</td> <td>   -1.147</td> <td>   -0.565</td>\n",
       "</tr>\n",
       "<tr>\n",
       "  <th>qsmk</th>      <td>    0.0287</td> <td>    0.149</td> <td>    0.193</td> <td> 0.847</td> <td>   -0.263</td> <td>    0.320</td>\n",
       "</tr>\n",
       "<tr>\n",
       "  <th>gid</th>       <td>-3.869e-05</td> <td> 8.28e-06</td> <td>   -4.673</td> <td> 0.000</td> <td>-5.49e-05</td> <td>-2.25e-05</td>\n",
       "</tr>\n",
       "</table>"
      ],
      "text/plain": [
       "<class 'statsmodels.iolib.summary.Summary'>\n",
       "\"\"\"\n",
       "                 Generalized Linear Model Regression Results                  \n",
       "==============================================================================\n",
       "Dep. Variable:                  death   No. Observations:                 1566\n",
       "Model:                            GLM   Df Residuals:                     1561\n",
       "Model Family:                Binomial   Df Model:                            2\n",
       "Link Function:                  logit   Scale:                             1.0\n",
       "Method:                          IRLS   Log-Likelihood:                -743.31\n",
       "Date:                Fri, 02 Feb 2018   Deviance:                       1486.6\n",
       "Time:                        03:22:26   Pearson chi2:                 1.56e+03\n",
       "No. Iterations:                     4                                         \n",
       "==============================================================================\n",
       "                 coef    std err          z      P>|z|      [0.025      0.975]\n",
       "------------------------------------------------------------------------------\n",
       "Intercept     -0.8562      0.148     -5.773      0.000      -1.147      -0.565\n",
       "qsmk           0.0287      0.149      0.193      0.847      -0.263       0.320\n",
       "gid        -3.869e-05   8.28e-06     -4.673      0.000   -5.49e-05   -2.25e-05\n",
       "==============================================================================\n",
       "\"\"\""
      ]
     },
     "execution_count": 85,
     "metadata": {},
     "output_type": "execute_result"
    }
   ],
   "source": [
    "fit_kwds = dict(cov_kwds={'groups': gid})\n",
    "mod5 = smf.glm(formula=formula2, data=nhefs0,family=sm.families.Binomial(),\\\n",
    "               freq_weights=dta3['sw'] )\n",
    "result3 = mod5.fit(**fit_kwds)\n",
    "result3.summary()"
   ]
  },
  {
   "cell_type": "code",
   "execution_count": 86,
   "metadata": {},
   "outputs": [
    {
     "data": {
      "text/html": [
       "<div>\n",
       "<style>\n",
       "    .dataframe thead tr:only-child th {\n",
       "        text-align: right;\n",
       "    }\n",
       "\n",
       "    .dataframe thead th {\n",
       "        text-align: left;\n",
       "    }\n",
       "\n",
       "    .dataframe tbody tr th {\n",
       "        vertical-align: top;\n",
       "    }\n",
       "</style>\n",
       "<table border=\"1\" class=\"dataframe\">\n",
       "  <thead>\n",
       "    <tr style=\"text-align: right;\">\n",
       "      <th></th>\n",
       "      <th>0</th>\n",
       "      <th>1</th>\n",
       "    </tr>\n",
       "  </thead>\n",
       "  <tbody>\n",
       "    <tr>\n",
       "      <th>Intercept</th>\n",
       "      <td>-1.146860</td>\n",
       "      <td>-0.565475</td>\n",
       "    </tr>\n",
       "    <tr>\n",
       "      <th>qsmk</th>\n",
       "      <td>-0.262743</td>\n",
       "      <td>0.320232</td>\n",
       "    </tr>\n",
       "    <tr>\n",
       "      <th>gid</th>\n",
       "      <td>-0.000055</td>\n",
       "      <td>-0.000022</td>\n",
       "    </tr>\n",
       "  </tbody>\n",
       "</table>\n",
       "</div>"
      ],
      "text/plain": [
       "                  0         1\n",
       "Intercept -1.146860 -0.565475\n",
       "qsmk      -0.262743  0.320232\n",
       "gid       -0.000055 -0.000022"
      ]
     },
     "execution_count": 86,
     "metadata": {},
     "output_type": "execute_result"
    }
   ],
   "source": [
    "result3.conf_int()"
   ]
  },
  {
   "cell_type": "code",
   "execution_count": 87,
   "metadata": {},
   "outputs": [
    {
     "data": {
      "text/html": [
       "<div>\n",
       "<style>\n",
       "    .dataframe thead tr:only-child th {\n",
       "        text-align: right;\n",
       "    }\n",
       "\n",
       "    .dataframe thead th {\n",
       "        text-align: left;\n",
       "    }\n",
       "\n",
       "    .dataframe tbody tr th {\n",
       "        vertical-align: top;\n",
       "    }\n",
       "</style>\n",
       "<table border=\"1\" class=\"dataframe\">\n",
       "  <thead>\n",
       "    <tr style=\"text-align: right;\">\n",
       "      <th></th>\n",
       "      <th>Intercept</th>\n",
       "      <th>qsmk</th>\n",
       "      <th>gid</th>\n",
       "    </tr>\n",
       "  </thead>\n",
       "  <tbody>\n",
       "    <tr>\n",
       "      <th>Intercept</th>\n",
       "      <td>0.021997</td>\n",
       "      <td>-5.939033e-03</td>\n",
       "      <td>-1.054891e-06</td>\n",
       "    </tr>\n",
       "    <tr>\n",
       "      <th>qsmk</th>\n",
       "      <td>-0.005939</td>\n",
       "      <td>2.211786e-02</td>\n",
       "      <td>1.112947e-08</td>\n",
       "    </tr>\n",
       "    <tr>\n",
       "      <th>gid</th>\n",
       "      <td>-0.000001</td>\n",
       "      <td>1.112947e-08</td>\n",
       "      <td>6.856579e-11</td>\n",
       "    </tr>\n",
       "  </tbody>\n",
       "</table>\n",
       "</div>"
      ],
      "text/plain": [
       "           Intercept          qsmk           gid\n",
       "Intercept   0.021997 -5.939033e-03 -1.054891e-06\n",
       "qsmk       -0.005939  2.211786e-02  1.112947e-08\n",
       "gid        -0.000001  1.112947e-08  6.856579e-11"
      ]
     },
     "execution_count": 87,
     "metadata": {},
     "output_type": "execute_result"
    }
   ],
   "source": [
    "result3.cov_params()"
   ]
  },
  {
   "cell_type": "code",
   "execution_count": 88,
   "metadata": {},
   "outputs": [
    {
     "data": {
      "text/plain": [
       "array([ 1.03,  0.77,  1.38])"
      ]
     },
     "execution_count": 88,
     "metadata": {},
     "output_type": "execute_result"
    }
   ],
   "source": [
    "hc0_result = get_robustcov_results(result3._results,'HC0')\n",
    "SE = np.sqrt(np.diag(hc0_result.cov_params()))\n",
    "beta = result3.params\n",
    "lcl = beta-1.96*SE \n",
    "ucl = beta+1.96*SE\n",
    "np.array(list(map(np.exp,np.c_[beta, lcl, ucl][1]))).round(decimals=2)"
   ]
  },
  {
   "cell_type": "markdown",
   "metadata": {},
   "source": [
    "#####################################################\n",
    "\n",
    "## PROGRAM 12.6\n",
    "\n",
    "Assessing effect modification by sex using a marginal structural mean model\n",
    "\n",
    "Data from NHEFS\n",
    "\n",
    "#####################################################"
   ]
  },
  {
   "cell_type": "code",
   "execution_count": 89,
   "metadata": {
    "collapsed": true
   },
   "outputs": [],
   "source": [
    "dta4 = dta3.copy()"
   ]
  },
  {
   "cell_type": "code",
   "execution_count": 90,
   "metadata": {},
   "outputs": [
    {
     "data": {
      "text/plain": [
       "1    804\n",
       "0    762\n",
       "Name: sex, dtype: int64"
      ]
     },
     "execution_count": 90,
     "metadata": {},
     "output_type": "execute_result"
    }
   ],
   "source": [
    "dta4['sex'].value_counts()"
   ]
  },
  {
   "cell_type": "code",
   "execution_count": 91,
   "metadata": {
    "collapsed": true
   },
   "outputs": [],
   "source": [
    "# estimation of denominator of ip weights"
   ]
  },
  {
   "cell_type": "code",
   "execution_count": 92,
   "metadata": {},
   "outputs": [
    {
     "data": {
      "text/plain": [
       "'qsmk ~ C(sex) + C(race) + age + np.square(age) + C(education_code) + smokeintensity + np.square(smokeintensity) + smokeyrs + np.square(smokeyrs) + C(exercise) + C(active) + wt71 + np.square(wt71)'"
      ]
     },
     "execution_count": 92,
     "metadata": {},
     "output_type": "execute_result"
    }
   ],
   "source": [
    "formula3  = 'qsmk ~ C(sex) + C(race) + age + np.square(age) + C(education_code) + smokeintensity + ' \n",
    "formula3 += 'np.square(smokeintensity) + smokeyrs + np.square(smokeyrs) + C(exercise) + C(active) + '\n",
    "formula3 += 'wt71 + np.square(wt71)'\n",
    "formula3"
   ]
  },
  {
   "cell_type": "code",
   "execution_count": 93,
   "metadata": {},
   "outputs": [
    {
     "data": {
      "text/html": [
       "<table class=\"simpletable\">\n",
       "<caption>Generalized Linear Model Regression Results</caption>\n",
       "<tr>\n",
       "  <th>Dep. Variable:</th>        <td>qsmk</td>       <th>  No. Observations:  </th>  <td>  1566</td> \n",
       "</tr>\n",
       "<tr>\n",
       "  <th>Model:</th>                 <td>GLM</td>       <th>  Df Residuals:      </th>  <td>  1547</td> \n",
       "</tr>\n",
       "<tr>\n",
       "  <th>Model Family:</th>       <td>Binomial</td>     <th>  Df Model:          </th>  <td>    18</td> \n",
       "</tr>\n",
       "<tr>\n",
       "  <th>Link Function:</th>        <td>logit</td>      <th>  Scale:             </th>    <td>1.0</td>  \n",
       "</tr>\n",
       "<tr>\n",
       "  <th>Method:</th>               <td>IRLS</td>       <th>  Log-Likelihood:    </th> <td> -838.45</td>\n",
       "</tr>\n",
       "<tr>\n",
       "  <th>Date:</th>           <td>Fri, 02 Feb 2018</td> <th>  Deviance:          </th> <td>  1676.9</td>\n",
       "</tr>\n",
       "<tr>\n",
       "  <th>Time:</th>               <td>03:22:27</td>     <th>  Pearson chi2:      </th> <td>1.56e+03</td>\n",
       "</tr>\n",
       "<tr>\n",
       "  <th>No. Iterations:</th>         <td>4</td>        <th>                     </th>     <td> </td>   \n",
       "</tr>\n",
       "</table>\n",
       "<table class=\"simpletable\">\n",
       "<tr>\n",
       "              <td></td>                 <th>coef</th>     <th>std err</th>      <th>z</th>      <th>P>|z|</th>  <th>[0.025</th>    <th>0.975]</th>  \n",
       "</tr>\n",
       "<tr>\n",
       "  <th>Intercept</th>                 <td>   -2.2425</td> <td>    1.381</td> <td>   -1.624</td> <td> 0.104</td> <td>   -4.949</td> <td>    0.464</td>\n",
       "</tr>\n",
       "<tr>\n",
       "  <th>C(sex)[T.1]</th>               <td>   -0.5275</td> <td>    0.154</td> <td>   -3.424</td> <td> 0.001</td> <td>   -0.829</td> <td>   -0.226</td>\n",
       "</tr>\n",
       "<tr>\n",
       "  <th>C(race)[T.1]</th>              <td>   -0.8393</td> <td>    0.210</td> <td>   -3.995</td> <td> 0.000</td> <td>   -1.251</td> <td>   -0.428</td>\n",
       "</tr>\n",
       "<tr>\n",
       "  <th>C(education_code)[T.2]</th>    <td>   -0.0288</td> <td>    0.198</td> <td>   -0.145</td> <td> 0.885</td> <td>   -0.418</td> <td>    0.360</td>\n",
       "</tr>\n",
       "<tr>\n",
       "  <th>C(education_code)[T.3]</th>    <td>    0.0864</td> <td>    0.178</td> <td>    0.485</td> <td> 0.627</td> <td>   -0.263</td> <td>    0.435</td>\n",
       "</tr>\n",
       "<tr>\n",
       "  <th>C(education_code)[T.4]</th>    <td>    0.0636</td> <td>    0.273</td> <td>    0.233</td> <td> 0.816</td> <td>   -0.472</td> <td>    0.599</td>\n",
       "</tr>\n",
       "<tr>\n",
       "  <th>C(education_code)[T.5]</th>    <td>    0.4760</td> <td>    0.226</td> <td>    2.104</td> <td> 0.035</td> <td>    0.033</td> <td>    0.919</td>\n",
       "</tr>\n",
       "<tr>\n",
       "  <th>C(exercise)[T.1]</th>          <td>    0.3548</td> <td>    0.180</td> <td>    1.970</td> <td> 0.049</td> <td>    0.002</td> <td>    0.708</td>\n",
       "</tr>\n",
       "<tr>\n",
       "  <th>C(exercise)[T.2]</th>          <td>    0.3957</td> <td>    0.187</td> <td>    2.113</td> <td> 0.035</td> <td>    0.029</td> <td>    0.763</td>\n",
       "</tr>\n",
       "<tr>\n",
       "  <th>C(active)[T.1]</th>            <td>    0.0319</td> <td>    0.133</td> <td>    0.240</td> <td> 0.810</td> <td>   -0.229</td> <td>    0.292</td>\n",
       "</tr>\n",
       "<tr>\n",
       "  <th>C(active)[T.2]</th>            <td>    0.1768</td> <td>    0.215</td> <td>    0.822</td> <td> 0.411</td> <td>   -0.245</td> <td>    0.598</td>\n",
       "</tr>\n",
       "<tr>\n",
       "  <th>age</th>                       <td>    0.1212</td> <td>    0.051</td> <td>    2.364</td> <td> 0.018</td> <td>    0.021</td> <td>    0.222</td>\n",
       "</tr>\n",
       "<tr>\n",
       "  <th>np.square(age)</th>            <td>   -0.0008</td> <td>    0.001</td> <td>   -1.538</td> <td> 0.124</td> <td>   -0.002</td> <td>    0.000</td>\n",
       "</tr>\n",
       "<tr>\n",
       "  <th>smokeintensity</th>            <td>   -0.0773</td> <td>    0.015</td> <td>   -5.067</td> <td> 0.000</td> <td>   -0.107</td> <td>   -0.047</td>\n",
       "</tr>\n",
       "<tr>\n",
       "  <th>np.square(smokeintensity)</th> <td>    0.0010</td> <td>    0.000</td> <td>    3.647</td> <td> 0.000</td> <td>    0.000</td> <td>    0.002</td>\n",
       "</tr>\n",
       "<tr>\n",
       "  <th>smokeyrs</th>                  <td>   -0.0736</td> <td>    0.028</td> <td>   -2.650</td> <td> 0.008</td> <td>   -0.128</td> <td>   -0.019</td>\n",
       "</tr>\n",
       "<tr>\n",
       "  <th>np.square(smokeyrs)</th>       <td>    0.0008</td> <td>    0.000</td> <td>    1.822</td> <td> 0.068</td> <td>-6.37e-05</td> <td>    0.002</td>\n",
       "</tr>\n",
       "<tr>\n",
       "  <th>wt71</th>                      <td>   -0.0152</td> <td>    0.026</td> <td>   -0.579</td> <td> 0.563</td> <td>   -0.067</td> <td>    0.036</td>\n",
       "</tr>\n",
       "<tr>\n",
       "  <th>np.square(wt71)</th>           <td>    0.0001</td> <td>    0.000</td> <td>    0.829</td> <td> 0.407</td> <td>   -0.000</td> <td>    0.000</td>\n",
       "</tr>\n",
       "</table>"
      ],
      "text/plain": [
       "<class 'statsmodels.iolib.summary.Summary'>\n",
       "\"\"\"\n",
       "                 Generalized Linear Model Regression Results                  \n",
       "==============================================================================\n",
       "Dep. Variable:                   qsmk   No. Observations:                 1566\n",
       "Model:                            GLM   Df Residuals:                     1547\n",
       "Model Family:                Binomial   Df Model:                           18\n",
       "Link Function:                  logit   Scale:                             1.0\n",
       "Method:                          IRLS   Log-Likelihood:                -838.45\n",
       "Date:                Fri, 02 Feb 2018   Deviance:                       1676.9\n",
       "Time:                        03:22:27   Pearson chi2:                 1.56e+03\n",
       "No. Iterations:                     4                                         \n",
       "=============================================================================================\n",
       "                                coef    std err          z      P>|z|      [0.025      0.975]\n",
       "---------------------------------------------------------------------------------------------\n",
       "Intercept                    -2.2425      1.381     -1.624      0.104      -4.949       0.464\n",
       "C(sex)[T.1]                  -0.5275      0.154     -3.424      0.001      -0.829      -0.226\n",
       "C(race)[T.1]                 -0.8393      0.210     -3.995      0.000      -1.251      -0.428\n",
       "C(education_code)[T.2]       -0.0288      0.198     -0.145      0.885      -0.418       0.360\n",
       "C(education_code)[T.3]        0.0864      0.178      0.485      0.627      -0.263       0.435\n",
       "C(education_code)[T.4]        0.0636      0.273      0.233      0.816      -0.472       0.599\n",
       "C(education_code)[T.5]        0.4760      0.226      2.104      0.035       0.033       0.919\n",
       "C(exercise)[T.1]              0.3548      0.180      1.970      0.049       0.002       0.708\n",
       "C(exercise)[T.2]              0.3957      0.187      2.113      0.035       0.029       0.763\n",
       "C(active)[T.1]                0.0319      0.133      0.240      0.810      -0.229       0.292\n",
       "C(active)[T.2]                0.1768      0.215      0.822      0.411      -0.245       0.598\n",
       "age                           0.1212      0.051      2.364      0.018       0.021       0.222\n",
       "np.square(age)               -0.0008      0.001     -1.538      0.124      -0.002       0.000\n",
       "smokeintensity               -0.0773      0.015     -5.067      0.000      -0.107      -0.047\n",
       "np.square(smokeintensity)     0.0010      0.000      3.647      0.000       0.000       0.002\n",
       "smokeyrs                     -0.0736      0.028     -2.650      0.008      -0.128      -0.019\n",
       "np.square(smokeyrs)           0.0008      0.000      1.822      0.068   -6.37e-05       0.002\n",
       "wt71                         -0.0152      0.026     -0.579      0.563      -0.067       0.036\n",
       "np.square(wt71)               0.0001      0.000      0.829      0.407      -0.000       0.000\n",
       "=============================================================================================\n",
       "\"\"\""
      ]
     },
     "execution_count": 93,
     "metadata": {},
     "output_type": "execute_result"
    }
   ],
   "source": [
    "denom = smf.glm(formula=formula3, data=dta4,family=sm.families.Binomial())\n",
    "denom_fit = denom.fit()\n",
    "denom_fit.summary()"
   ]
  },
  {
   "cell_type": "code",
   "execution_count": 94,
   "metadata": {
    "collapsed": true
   },
   "outputs": [],
   "source": [
    "dta4['denom_p'] = denom_fit.predict()"
   ]
  },
  {
   "cell_type": "code",
   "execution_count": 95,
   "metadata": {
    "collapsed": true
   },
   "outputs": [],
   "source": [
    "# estimation of numerator of ip weights"
   ]
  },
  {
   "cell_type": "code",
   "execution_count": 96,
   "metadata": {},
   "outputs": [
    {
     "data": {
      "text/html": [
       "<table class=\"simpletable\">\n",
       "<caption>Generalized Linear Model Regression Results</caption>\n",
       "<tr>\n",
       "  <th>Dep. Variable:</th>        <td>qsmk</td>       <th>  No. Observations:  </th>  <td>  1566</td> \n",
       "</tr>\n",
       "<tr>\n",
       "  <th>Model:</th>                 <td>GLM</td>       <th>  Df Residuals:      </th>  <td>  1564</td> \n",
       "</tr>\n",
       "<tr>\n",
       "  <th>Model Family:</th>       <td>Binomial</td>     <th>  Df Model:          </th>  <td>     1</td> \n",
       "</tr>\n",
       "<tr>\n",
       "  <th>Link Function:</th>        <td>logit</td>      <th>  Scale:             </th>    <td>1.0</td>  \n",
       "</tr>\n",
       "<tr>\n",
       "  <th>Method:</th>               <td>IRLS</td>       <th>  Log-Likelihood:    </th> <td> -889.20</td>\n",
       "</tr>\n",
       "<tr>\n",
       "  <th>Date:</th>           <td>Fri, 02 Feb 2018</td> <th>  Deviance:          </th> <td>  1778.4</td>\n",
       "</tr>\n",
       "<tr>\n",
       "  <th>Time:</th>               <td>03:22:27</td>     <th>  Pearson chi2:      </th> <td>1.57e+03</td>\n",
       "</tr>\n",
       "<tr>\n",
       "  <th>No. Iterations:</th>         <td>4</td>        <th>                     </th>     <td> </td>   \n",
       "</tr>\n",
       "</table>\n",
       "<table class=\"simpletable\">\n",
       "<tr>\n",
       "       <td></td>          <th>coef</th>     <th>std err</th>      <th>z</th>      <th>P>|z|</th>  <th>[0.025</th>    <th>0.975]</th>  \n",
       "</tr>\n",
       "<tr>\n",
       "  <th>Intercept</th>   <td>   -0.9016</td> <td>    0.080</td> <td>  -11.279</td> <td> 0.000</td> <td>   -1.058</td> <td>   -0.745</td>\n",
       "</tr>\n",
       "<tr>\n",
       "  <th>C(sex)[T.1]</th> <td>   -0.3202</td> <td>    0.116</td> <td>   -2.759</td> <td> 0.006</td> <td>   -0.548</td> <td>   -0.093</td>\n",
       "</tr>\n",
       "</table>"
      ],
      "text/plain": [
       "<class 'statsmodels.iolib.summary.Summary'>\n",
       "\"\"\"\n",
       "                 Generalized Linear Model Regression Results                  \n",
       "==============================================================================\n",
       "Dep. Variable:                   qsmk   No. Observations:                 1566\n",
       "Model:                            GLM   Df Residuals:                     1564\n",
       "Model Family:                Binomial   Df Model:                            1\n",
       "Link Function:                  logit   Scale:                             1.0\n",
       "Method:                          IRLS   Log-Likelihood:                -889.20\n",
       "Date:                Fri, 02 Feb 2018   Deviance:                       1778.4\n",
       "Time:                        03:22:27   Pearson chi2:                 1.57e+03\n",
       "No. Iterations:                     4                                         \n",
       "===============================================================================\n",
       "                  coef    std err          z      P>|z|      [0.025      0.975]\n",
       "-------------------------------------------------------------------------------\n",
       "Intercept      -0.9016      0.080    -11.279      0.000      -1.058      -0.745\n",
       "C(sex)[T.1]    -0.3202      0.116     -2.759      0.006      -0.548      -0.093\n",
       "===============================================================================\n",
       "\"\"\""
      ]
     },
     "execution_count": 96,
     "metadata": {},
     "output_type": "execute_result"
    }
   ],
   "source": [
    "numer = smf.glm(formula='qsmk ~ C(sex)', data=dta4,family=sm.families.Binomial())\n",
    "numer_fit = numer.fit()\n",
    "numer_fit.summary()"
   ]
  },
  {
   "cell_type": "code",
   "execution_count": 97,
   "metadata": {
    "collapsed": true
   },
   "outputs": [],
   "source": [
    "dta4['numer_p'] = numer_fit.predict()"
   ]
  },
  {
   "cell_type": "code",
   "execution_count": 98,
   "metadata": {},
   "outputs": [
    {
     "data": {
      "text/plain": [
       "count    1566.000000\n",
       "mean        0.998931\n",
       "std         0.270590\n",
       "min         0.292979\n",
       "25%         0.875119\n",
       "50%         0.955405\n",
       "75%         1.080260\n",
       "max         3.801141\n",
       "Name: sw, dtype: float64"
      ]
     },
     "execution_count": 98,
     "metadata": {},
     "output_type": "execute_result"
    }
   ],
   "source": [
    "dta4['sw'] = list(map(lambda q: float(q[2]/q[1]) if q[0]==1 else float((1-q[2])/(1-q[1]))\\\n",
    "             ,zip(dta4['qsmk'],dta4['denom_p'],dta4['numer_p'])))\n",
    "dta4['sw'].describe()"
   ]
  },
  {
   "cell_type": "code",
   "execution_count": 99,
   "metadata": {},
   "outputs": [
    {
     "data": {
      "text/plain": [
       "'wt82_71 ~ C(qsmk) + C(sex) + C(qsmk):C(sex) + gid'"
      ]
     },
     "execution_count": 99,
     "metadata": {},
     "output_type": "execute_result"
    }
   ],
   "source": [
    "formula3  = 'wt82_71 ~ C(qsmk) + C(sex) + C(qsmk):C(sex) + gid' \n",
    "formula3"
   ]
  },
  {
   "cell_type": "code",
   "execution_count": 100,
   "metadata": {
    "collapsed": true
   },
   "outputs": [],
   "source": [
    "dta4.reset_index(inplace=True)\n",
    "gid = np.asarray(dta4['seqn'], int)\n",
    "dta4.set_index('seqn',inplace=True)"
   ]
  },
  {
   "cell_type": "code",
   "execution_count": 101,
   "metadata": {},
   "outputs": [
    {
     "data": {
      "text/html": [
       "<table class=\"simpletable\">\n",
       "<caption>Generalized Linear Model Regression Results</caption>\n",
       "<tr>\n",
       "  <th>Dep. Variable:</th>       <td>wt82_71</td>     <th>  No. Observations:  </th>    <td>  1566</td>    \n",
       "</tr>\n",
       "<tr>\n",
       "  <th>Model:</th>                 <td>GLM</td>       <th>  Df Residuals:      </th>    <td>  1559</td>    \n",
       "</tr>\n",
       "<tr>\n",
       "  <th>Model Family:</th>       <td>Gaussian</td>     <th>  Df Model:          </th>    <td>     4</td>    \n",
       "</tr>\n",
       "<tr>\n",
       "  <th>Link Function:</th>      <td>identity</td>     <th>  Scale:             </th> <td>60.9010640823</td>\n",
       "</tr>\n",
       "<tr>\n",
       "  <th>Method:</th>               <td>IRLS</td>       <th>  Log-Likelihood:    </th>   <td> -5434.3</td>   \n",
       "</tr>\n",
       "<tr>\n",
       "  <th>Date:</th>           <td>Fri, 02 Feb 2018</td> <th>  Deviance:          </th>   <td>  94965.</td>   \n",
       "</tr>\n",
       "<tr>\n",
       "  <th>Time:</th>               <td>03:22:28</td>     <th>  Pearson chi2:      </th>   <td>9.50e+04</td>   \n",
       "</tr>\n",
       "<tr>\n",
       "  <th>No. Iterations:</th>         <td>2</td>        <th>                     </th>       <td> </td>      \n",
       "</tr>\n",
       "</table>\n",
       "<table class=\"simpletable\">\n",
       "<tr>\n",
       "              <td></td>                <th>coef</th>     <th>std err</th>      <th>z</th>      <th>P>|z|</th>  <th>[0.025</th>    <th>0.975]</th>  \n",
       "</tr>\n",
       "<tr>\n",
       "  <th>Intercept</th>                <td>    1.1250</td> <td>    0.547</td> <td>    2.058</td> <td> 0.040</td> <td>    0.054</td> <td>    2.196</td>\n",
       "</tr>\n",
       "<tr>\n",
       "  <th>C(qsmk)[T.1]</th>             <td>    3.5158</td> <td>    0.623</td> <td>    5.641</td> <td> 0.000</td> <td>    2.294</td> <td>    4.737</td>\n",
       "</tr>\n",
       "<tr>\n",
       "  <th>C(sex)[T.1]</th>              <td>   -0.0360</td> <td>    0.459</td> <td>   -0.078</td> <td> 0.937</td> <td>   -0.936</td> <td>    0.864</td>\n",
       "</tr>\n",
       "<tr>\n",
       "  <th>C(qsmk)[T.1]:C(sex)[T.1]</th> <td>   -0.1362</td> <td>    0.907</td> <td>   -0.150</td> <td> 0.881</td> <td>   -1.914</td> <td>    1.641</td>\n",
       "</tr>\n",
       "<tr>\n",
       "  <th>gid</th>                      <td> 4.023e-05</td> <td> 2.64e-05</td> <td>    1.527</td> <td> 0.127</td> <td>-1.14e-05</td> <td> 9.19e-05</td>\n",
       "</tr>\n",
       "</table>"
      ],
      "text/plain": [
       "<class 'statsmodels.iolib.summary.Summary'>\n",
       "\"\"\"\n",
       "                 Generalized Linear Model Regression Results                  \n",
       "==============================================================================\n",
       "Dep. Variable:                wt82_71   No. Observations:                 1566\n",
       "Model:                            GLM   Df Residuals:                     1559\n",
       "Model Family:                Gaussian   Df Model:                            4\n",
       "Link Function:               identity   Scale:                   60.9010640823\n",
       "Method:                          IRLS   Log-Likelihood:                -5434.3\n",
       "Date:                Fri, 02 Feb 2018   Deviance:                       94965.\n",
       "Time:                        03:22:28   Pearson chi2:                 9.50e+04\n",
       "No. Iterations:                     2                                         \n",
       "============================================================================================\n",
       "                               coef    std err          z      P>|z|      [0.025      0.975]\n",
       "--------------------------------------------------------------------------------------------\n",
       "Intercept                    1.1250      0.547      2.058      0.040       0.054       2.196\n",
       "C(qsmk)[T.1]                 3.5158      0.623      5.641      0.000       2.294       4.737\n",
       "C(sex)[T.1]                 -0.0360      0.459     -0.078      0.937      -0.936       0.864\n",
       "C(qsmk)[T.1]:C(sex)[T.1]    -0.1362      0.907     -0.150      0.881      -1.914       1.641\n",
       "gid                       4.023e-05   2.64e-05      1.527      0.127   -1.14e-05    9.19e-05\n",
       "============================================================================================\n",
       "\"\"\""
      ]
     },
     "execution_count": 101,
     "metadata": {},
     "output_type": "execute_result"
    }
   ],
   "source": [
    "fit_kwds = dict(cov_kwds={'groups': gid})\n",
    "mod5 = smf.glm(formula=formula3, data=dta4,\\\n",
    "               freq_weights=dta4['sw'] )\n",
    "result3 = mod5.fit(**fit_kwds)\n",
    "result3.summary()"
   ]
  },
  {
   "cell_type": "code",
   "execution_count": 102,
   "metadata": {},
   "outputs": [
    {
     "data": {
      "text/html": [
       "<div>\n",
       "<style>\n",
       "    .dataframe thead tr:only-child th {\n",
       "        text-align: right;\n",
       "    }\n",
       "\n",
       "    .dataframe thead th {\n",
       "        text-align: left;\n",
       "    }\n",
       "\n",
       "    .dataframe tbody tr th {\n",
       "        vertical-align: top;\n",
       "    }\n",
       "</style>\n",
       "<table border=\"1\" class=\"dataframe\">\n",
       "  <thead>\n",
       "    <tr style=\"text-align: right;\">\n",
       "      <th></th>\n",
       "      <th>0</th>\n",
       "      <th>1</th>\n",
       "    </tr>\n",
       "  </thead>\n",
       "  <tbody>\n",
       "    <tr>\n",
       "      <th>Intercept</th>\n",
       "      <td>0.053714</td>\n",
       "      <td>2.196214</td>\n",
       "    </tr>\n",
       "    <tr>\n",
       "      <th>C(qsmk)[T.1]</th>\n",
       "      <td>2.294332</td>\n",
       "      <td>4.737230</td>\n",
       "    </tr>\n",
       "    <tr>\n",
       "      <th>C(sex)[T.1]</th>\n",
       "      <td>-0.935867</td>\n",
       "      <td>0.863850</td>\n",
       "    </tr>\n",
       "    <tr>\n",
       "      <th>C(qsmk)[T.1]:C(sex)[T.1]</th>\n",
       "      <td>-1.913825</td>\n",
       "      <td>1.641378</td>\n",
       "    </tr>\n",
       "    <tr>\n",
       "      <th>gid</th>\n",
       "      <td>-0.000011</td>\n",
       "      <td>0.000092</td>\n",
       "    </tr>\n",
       "  </tbody>\n",
       "</table>\n",
       "</div>"
      ],
      "text/plain": [
       "                                 0         1\n",
       "Intercept                 0.053714  2.196214\n",
       "C(qsmk)[T.1]              2.294332  4.737230\n",
       "C(sex)[T.1]              -0.935867  0.863850\n",
       "C(qsmk)[T.1]:C(sex)[T.1] -1.913825  1.641378\n",
       "gid                      -0.000011  0.000092"
      ]
     },
     "execution_count": 102,
     "metadata": {},
     "output_type": "execute_result"
    }
   ],
   "source": [
    "result3.conf_int()"
   ]
  },
  {
   "cell_type": "code",
   "execution_count": 103,
   "metadata": {},
   "outputs": [
    {
     "data": {
      "text/html": [
       "<div>\n",
       "<style>\n",
       "    .dataframe thead tr:only-child th {\n",
       "        text-align: right;\n",
       "    }\n",
       "\n",
       "    .dataframe thead th {\n",
       "        text-align: left;\n",
       "    }\n",
       "\n",
       "    .dataframe tbody tr th {\n",
       "        vertical-align: top;\n",
       "    }\n",
       "</style>\n",
       "<table border=\"1\" class=\"dataframe\">\n",
       "  <thead>\n",
       "    <tr style=\"text-align: right;\">\n",
       "      <th></th>\n",
       "      <th>Intercept</th>\n",
       "      <th>C(qsmk)[T.1]</th>\n",
       "      <th>C(sex)[T.1]</th>\n",
       "      <th>C(qsmk)[T.1]:C(sex)[T.1]</th>\n",
       "      <th>gid</th>\n",
       "    </tr>\n",
       "  </thead>\n",
       "  <tbody>\n",
       "    <tr>\n",
       "      <th>Intercept</th>\n",
       "      <td>0.298734</td>\n",
       "      <td>-1.103736e-01</td>\n",
       "      <td>-1.044069e-01</td>\n",
       "      <td>1.055467e-01</td>\n",
       "      <td>-1.138368e-05</td>\n",
       "    </tr>\n",
       "    <tr>\n",
       "      <th>C(qsmk)[T.1]</th>\n",
       "      <td>-0.110374</td>\n",
       "      <td>3.883780e-01</td>\n",
       "      <td>1.121995e-01</td>\n",
       "      <td>-3.884233e-01</td>\n",
       "      <td>-1.069656e-07</td>\n",
       "    </tr>\n",
       "    <tr>\n",
       "      <th>C(sex)[T.1]</th>\n",
       "      <td>-0.104407</td>\n",
       "      <td>1.121995e-01</td>\n",
       "      <td>2.107911e-01</td>\n",
       "      <td>-2.107439e-01</td>\n",
       "      <td>-4.709548e-07</td>\n",
       "    </tr>\n",
       "    <tr>\n",
       "      <th>C(qsmk)[T.1]:C(sex)[T.1]</th>\n",
       "      <td>0.105547</td>\n",
       "      <td>-3.884233e-01</td>\n",
       "      <td>-2.107439e-01</td>\n",
       "      <td>8.225693e-01</td>\n",
       "      <td>4.014193e-07</td>\n",
       "    </tr>\n",
       "    <tr>\n",
       "      <th>gid</th>\n",
       "      <td>-0.000011</td>\n",
       "      <td>-1.069656e-07</td>\n",
       "      <td>-4.709548e-07</td>\n",
       "      <td>4.014193e-07</td>\n",
       "      <td>6.944428e-10</td>\n",
       "    </tr>\n",
       "  </tbody>\n",
       "</table>\n",
       "</div>"
      ],
      "text/plain": [
       "                          Intercept  C(qsmk)[T.1]   C(sex)[T.1]  \\\n",
       "Intercept                  0.298734 -1.103736e-01 -1.044069e-01   \n",
       "C(qsmk)[T.1]              -0.110374  3.883780e-01  1.121995e-01   \n",
       "C(sex)[T.1]               -0.104407  1.121995e-01  2.107911e-01   \n",
       "C(qsmk)[T.1]:C(sex)[T.1]   0.105547 -3.884233e-01 -2.107439e-01   \n",
       "gid                       -0.000011 -1.069656e-07 -4.709548e-07   \n",
       "\n",
       "                          C(qsmk)[T.1]:C(sex)[T.1]           gid  \n",
       "Intercept                             1.055467e-01 -1.138368e-05  \n",
       "C(qsmk)[T.1]                         -3.884233e-01 -1.069656e-07  \n",
       "C(sex)[T.1]                          -2.107439e-01 -4.709548e-07  \n",
       "C(qsmk)[T.1]:C(sex)[T.1]              8.225693e-01  4.014193e-07  \n",
       "gid                                   4.014193e-07  6.944428e-10  "
      ]
     },
     "execution_count": 103,
     "metadata": {},
     "output_type": "execute_result"
    }
   ],
   "source": [
    "result3.cov_params()"
   ]
  },
  {
   "cell_type": "code",
   "execution_count": 104,
   "metadata": {
    "collapsed": true
   },
   "outputs": [],
   "source": [
    "hc0_result = get_robustcov_results(result3._results,'HC0')\n",
    "SE = np.sqrt(np.diag(hc0_result.cov_params()))\n",
    "beta = result3.params\n",
    "lcl = beta-1.96*SE \n",
    "ucl = beta+1.96*SE"
   ]
  },
  {
   "cell_type": "code",
   "execution_count": 105,
   "metadata": {
    "collapsed": true
   },
   "outputs": [],
   "source": [
    "p_value = 2*(1-norm.ppf(q=np.abs(beta/SE)))"
   ]
  },
  {
   "cell_type": "code",
   "execution_count": 106,
   "metadata": {},
   "outputs": [
    {
     "data": {
      "text/plain": [
       "array([ 3.52,  0.64,  2.27,  4.76,   nan])"
      ]
     },
     "execution_count": 106,
     "metadata": {},
     "output_type": "execute_result"
    }
   ],
   "source": [
    "np.c_[beta, SE, lcl, ucl,p_value].round(decimals=2)[1]"
   ]
  },
  {
   "cell_type": "markdown",
   "metadata": {},
   "source": [
    "################################################################\n",
    "\n",
    "## PROGRAM 13.1\n",
    "\n",
    "Estimating the mean outcome within levels of treatment \n",
    "\n",
    "and confounders: Data from NHEFS\n",
    "    \n",
    "################################################################"
   ]
  },
  {
   "cell_type": "code",
   "execution_count": 107,
   "metadata": {},
   "outputs": [
    {
     "data": {
      "text/plain": [
       "0    1163\n",
       "1     403\n",
       "Name: qsmk, dtype: int64"
      ]
     },
     "execution_count": 107,
     "metadata": {},
     "output_type": "execute_result"
    }
   ],
   "source": [
    "nhefs0['qsmk'].value_counts()"
   ]
  },
  {
   "cell_type": "code",
   "execution_count": 108,
   "metadata": {
    "collapsed": true
   },
   "outputs": [],
   "source": [
    "nhefs2 = nhefs0[['id', 'qsmk', 'sex', 'race', 'age', 'school', 'smokeintensity',\\\n",
    "        'smokeyrs', 'exercise', 'active', 'wt71', 'wt82']]"
   ]
  },
  {
   "cell_type": "code",
   "execution_count": 109,
   "metadata": {},
   "outputs": [
    {
     "data": {
      "text/plain": [
       "(1566, 12)"
      ]
     },
     "execution_count": 109,
     "metadata": {},
     "output_type": "execute_result"
    }
   ],
   "source": [
    "nhefs2.shape"
   ]
  },
  {
   "cell_type": "code",
   "execution_count": 110,
   "metadata": {},
   "outputs": [
    {
     "name": "stderr",
     "output_type": "stream",
     "text": [
      "C:\\ProgramData\\Anaconda3\\lib\\site-packages\\ipykernel_launcher.py:2: SettingWithCopyWarning: \n",
      "A value is trying to be set on a copy of a slice from a DataFrame\n",
      "\n",
      "See the caveats in the documentation: http://pandas.pydata.org/pandas-docs/stable/indexing.html#indexing-view-versus-copy\n",
      "  \n"
     ]
    },
    {
     "data": {
      "text/plain": [
       "(1566, 12)"
      ]
     },
     "execution_count": 110,
     "metadata": {},
     "output_type": "execute_result"
    }
   ],
   "source": [
    "# restricting data for non-missing\n",
    "nhefs2.dropna(inplace=True)\n",
    "nhefs2.shape"
   ]
  },
  {
   "cell_type": "code",
   "execution_count": 111,
   "metadata": {
    "collapsed": true
   },
   "outputs": [],
   "source": [
    "dta4 = nhefs0.copy()"
   ]
  },
  {
   "cell_type": "code",
   "execution_count": 112,
   "metadata": {},
   "outputs": [
    {
     "data": {
      "text/plain": [
       "'wt82_71 ~ C(qsmk) + C(sex) + C(race) + age + np.square(age) + C(education) + smokeintensity + np.square(smokeintensity) + smokeyrs + np.square(smokeyrs) + C(exercise) + C(active) + wt71 + np.square(wt71) + qsmk*smokeintensity'"
      ]
     },
     "execution_count": 112,
     "metadata": {},
     "output_type": "execute_result"
    }
   ],
   "source": [
    "formula  = 'wt82_71 ~ C(qsmk) + C(sex) + C(race) + age + np.square(age) + C(education) + smokeintensity + ' \n",
    "formula += 'np.square(smokeintensity) + smokeyrs + np.square(smokeyrs) + C(exercise) + C(active) + '\n",
    "formula += 'wt71 + np.square(wt71) + qsmk*smokeintensity'\n",
    "formula"
   ]
  },
  {
   "cell_type": "code",
   "execution_count": 113,
   "metadata": {},
   "outputs": [
    {
     "data": {
      "text/html": [
       "<table class=\"simpletable\">\n",
       "<caption>Generalized Linear Model Regression Results</caption>\n",
       "<tr>\n",
       "  <th>Dep. Variable:</th>       <td>wt82_71</td>     <th>  No. Observations:  </th>    <td>  1566</td>    \n",
       "</tr>\n",
       "<tr>\n",
       "  <th>Model:</th>                 <td>GLM</td>       <th>  Df Residuals:      </th>    <td>  1545</td>    \n",
       "</tr>\n",
       "<tr>\n",
       "  <th>Model Family:</th>       <td>Gaussian</td>     <th>  Df Model:          </th>    <td>    20</td>    \n",
       "</tr>\n",
       "<tr>\n",
       "  <th>Link Function:</th>      <td>identity</td>     <th>  Scale:             </th> <td>53.5683033141</td>\n",
       "</tr>\n",
       "<tr>\n",
       "  <th>Method:</th>               <td>IRLS</td>       <th>  Log-Likelihood:    </th>   <td> -5328.6</td>   \n",
       "</tr>\n",
       "<tr>\n",
       "  <th>Date:</th>           <td>Fri, 02 Feb 2018</td> <th>  Deviance:          </th>   <td>  82763.</td>   \n",
       "</tr>\n",
       "<tr>\n",
       "  <th>Time:</th>               <td>03:22:29</td>     <th>  Pearson chi2:      </th>   <td>8.28e+04</td>   \n",
       "</tr>\n",
       "<tr>\n",
       "  <th>No. Iterations:</th>         <td>2</td>        <th>                     </th>       <td> </td>      \n",
       "</tr>\n",
       "</table>\n",
       "<table class=\"simpletable\">\n",
       "<tr>\n",
       "                   <td></td>                     <th>coef</th>     <th>std err</th>      <th>z</th>      <th>P>|z|</th>  <th>[0.025</th>    <th>0.975]</th>  \n",
       "</tr>\n",
       "<tr>\n",
       "  <th>Intercept</th>                          <td>   -1.5882</td> <td>    4.313</td> <td>   -0.368</td> <td> 0.713</td> <td>  -10.042</td> <td>    6.865</td>\n",
       "</tr>\n",
       "<tr>\n",
       "  <th>C(qsmk)[T.1]</th>                       <td>    1.2798</td> <td>    0.405</td> <td>    3.163</td> <td> 0.002</td> <td>    0.487</td> <td>    2.073</td>\n",
       "</tr>\n",
       "<tr>\n",
       "  <th>C(sex)[T.1]</th>                        <td>   -1.4303</td> <td>    0.469</td> <td>   -3.050</td> <td> 0.002</td> <td>   -2.349</td> <td>   -0.511</td>\n",
       "</tr>\n",
       "<tr>\n",
       "  <th>C(race)[T.1]</th>                       <td>    0.5601</td> <td>    0.582</td> <td>    0.963</td> <td> 0.336</td> <td>   -0.580</td> <td>    1.701</td>\n",
       "</tr>\n",
       "<tr>\n",
       "  <th>C(education)[T.2. HS dropout]</th>      <td>    0.7904</td> <td>    0.607</td> <td>    1.302</td> <td> 0.193</td> <td>   -0.399</td> <td>    1.980</td>\n",
       "</tr>\n",
       "<tr>\n",
       "  <th>C(education)[T.3. HS]</th>              <td>    0.5563</td> <td>    0.556</td> <td>    1.000</td> <td> 0.317</td> <td>   -0.534</td> <td>    1.646</td>\n",
       "</tr>\n",
       "<tr>\n",
       "  <th>C(education)[T.4. College dropout]</th> <td>    1.4916</td> <td>    0.832</td> <td>    1.792</td> <td> 0.073</td> <td>   -0.140</td> <td>    3.123</td>\n",
       "</tr>\n",
       "<tr>\n",
       "  <th>C(education)[T.5. College or more]</th> <td>   -0.1950</td> <td>    0.741</td> <td>   -0.263</td> <td> 0.793</td> <td>   -1.648</td> <td>    1.258</td>\n",
       "</tr>\n",
       "<tr>\n",
       "  <th>C(exercise)[T.1]</th>                   <td>    0.2960</td> <td>    0.535</td> <td>    0.553</td> <td> 0.580</td> <td>   -0.753</td> <td>    1.345</td>\n",
       "</tr>\n",
       "<tr>\n",
       "  <th>C(exercise)[T.2]</th>                   <td>    0.3539</td> <td>    0.559</td> <td>    0.633</td> <td> 0.527</td> <td>   -0.741</td> <td>    1.449</td>\n",
       "</tr>\n",
       "<tr>\n",
       "  <th>C(active)[T.1]</th>                     <td>   -0.9476</td> <td>    0.410</td> <td>   -2.312</td> <td> 0.021</td> <td>   -1.751</td> <td>   -0.144</td>\n",
       "</tr>\n",
       "<tr>\n",
       "  <th>C(active)[T.2]</th>                     <td>   -0.2614</td> <td>    0.685</td> <td>   -0.382</td> <td> 0.703</td> <td>   -1.603</td> <td>    1.080</td>\n",
       "</tr>\n",
       "<tr>\n",
       "  <th>age</th>                                <td>    0.3596</td> <td>    0.163</td> <td>    2.202</td> <td> 0.028</td> <td>    0.040</td> <td>    0.680</td>\n",
       "</tr>\n",
       "<tr>\n",
       "  <th>np.square(age)</th>                     <td>   -0.0061</td> <td>    0.002</td> <td>   -3.534</td> <td> 0.000</td> <td>   -0.009</td> <td>   -0.003</td>\n",
       "</tr>\n",
       "<tr>\n",
       "  <th>smokeintensity</th>                     <td>    0.0491</td> <td>    0.052</td> <td>    0.950</td> <td> 0.342</td> <td>   -0.052</td> <td>    0.151</td>\n",
       "</tr>\n",
       "<tr>\n",
       "  <th>np.square(smokeintensity)</th>          <td>   -0.0010</td> <td>    0.001</td> <td>   -1.056</td> <td> 0.291</td> <td>   -0.003</td> <td>    0.001</td>\n",
       "</tr>\n",
       "<tr>\n",
       "  <th>smokeyrs</th>                           <td>    0.1344</td> <td>    0.092</td> <td>    1.465</td> <td> 0.143</td> <td>   -0.045</td> <td>    0.314</td>\n",
       "</tr>\n",
       "<tr>\n",
       "  <th>np.square(smokeyrs)</th>                <td>   -0.0019</td> <td>    0.002</td> <td>   -1.209</td> <td> 0.227</td> <td>   -0.005</td> <td>    0.001</td>\n",
       "</tr>\n",
       "<tr>\n",
       "  <th>wt71</th>                               <td>    0.0455</td> <td>    0.083</td> <td>    0.546</td> <td> 0.585</td> <td>   -0.118</td> <td>    0.209</td>\n",
       "</tr>\n",
       "<tr>\n",
       "  <th>np.square(wt71)</th>                    <td>   -0.0010</td> <td>    0.001</td> <td>   -1.840</td> <td> 0.066</td> <td>   -0.002</td> <td> 6.31e-05</td>\n",
       "</tr>\n",
       "<tr>\n",
       "  <th>qsmk</th>                               <td>    1.2798</td> <td>    0.405</td> <td>    3.163</td> <td> 0.002</td> <td>    0.487</td> <td>    2.073</td>\n",
       "</tr>\n",
       "<tr>\n",
       "  <th>qsmk:smokeintensity</th>                <td>    0.0467</td> <td>    0.035</td> <td>    1.328</td> <td> 0.184</td> <td>   -0.022</td> <td>    0.116</td>\n",
       "</tr>\n",
       "</table>"
      ],
      "text/plain": [
       "<class 'statsmodels.iolib.summary.Summary'>\n",
       "\"\"\"\n",
       "                 Generalized Linear Model Regression Results                  \n",
       "==============================================================================\n",
       "Dep. Variable:                wt82_71   No. Observations:                 1566\n",
       "Model:                            GLM   Df Residuals:                     1545\n",
       "Model Family:                Gaussian   Df Model:                           20\n",
       "Link Function:               identity   Scale:                   53.5683033141\n",
       "Method:                          IRLS   Log-Likelihood:                -5328.6\n",
       "Date:                Fri, 02 Feb 2018   Deviance:                       82763.\n",
       "Time:                        03:22:29   Pearson chi2:                 8.28e+04\n",
       "No. Iterations:                     2                                         \n",
       "======================================================================================================\n",
       "                                         coef    std err          z      P>|z|      [0.025      0.975]\n",
       "------------------------------------------------------------------------------------------------------\n",
       "Intercept                             -1.5882      4.313     -0.368      0.713     -10.042       6.865\n",
       "C(qsmk)[T.1]                           1.2798      0.405      3.163      0.002       0.487       2.073\n",
       "C(sex)[T.1]                           -1.4303      0.469     -3.050      0.002      -2.349      -0.511\n",
       "C(race)[T.1]                           0.5601      0.582      0.963      0.336      -0.580       1.701\n",
       "C(education)[T.2. HS dropout]          0.7904      0.607      1.302      0.193      -0.399       1.980\n",
       "C(education)[T.3. HS]                  0.5563      0.556      1.000      0.317      -0.534       1.646\n",
       "C(education)[T.4. College dropout]     1.4916      0.832      1.792      0.073      -0.140       3.123\n",
       "C(education)[T.5. College or more]    -0.1950      0.741     -0.263      0.793      -1.648       1.258\n",
       "C(exercise)[T.1]                       0.2960      0.535      0.553      0.580      -0.753       1.345\n",
       "C(exercise)[T.2]                       0.3539      0.559      0.633      0.527      -0.741       1.449\n",
       "C(active)[T.1]                        -0.9476      0.410     -2.312      0.021      -1.751      -0.144\n",
       "C(active)[T.2]                        -0.2614      0.685     -0.382      0.703      -1.603       1.080\n",
       "age                                    0.3596      0.163      2.202      0.028       0.040       0.680\n",
       "np.square(age)                        -0.0061      0.002     -3.534      0.000      -0.009      -0.003\n",
       "smokeintensity                         0.0491      0.052      0.950      0.342      -0.052       0.151\n",
       "np.square(smokeintensity)             -0.0010      0.001     -1.056      0.291      -0.003       0.001\n",
       "smokeyrs                               0.1344      0.092      1.465      0.143      -0.045       0.314\n",
       "np.square(smokeyrs)                   -0.0019      0.002     -1.209      0.227      -0.005       0.001\n",
       "wt71                                   0.0455      0.083      0.546      0.585      -0.118       0.209\n",
       "np.square(wt71)                       -0.0010      0.001     -1.840      0.066      -0.002    6.31e-05\n",
       "qsmk                                   1.2798      0.405      3.163      0.002       0.487       2.073\n",
       "qsmk:smokeintensity                    0.0467      0.035      1.328      0.184      -0.022       0.116\n",
       "======================================================================================================\n",
       "\"\"\""
      ]
     },
     "execution_count": 113,
     "metadata": {},
     "output_type": "execute_result"
    }
   ],
   "source": [
    "mod3 = smf.glm(formula=formula, data=dta4).fit()\n",
    "mod3.summary()"
   ]
  },
  {
   "cell_type": "code",
   "execution_count": 114,
   "metadata": {
    "collapsed": true
   },
   "outputs": [],
   "source": [
    "dta4['meanY'] = mod3.predict()"
   ]
  },
  {
   "cell_type": "code",
   "execution_count": 115,
   "metadata": {},
   "outputs": [
    {
     "data": {
      "text/plain": [
       "meanY                       0.342157\n",
       "qsmk                               0\n",
       "sex                                0\n",
       "race                               0\n",
       "age                               26\n",
       "education         4. College dropout\n",
       "smokeintensity                    15\n",
       "smokeyrs                          12\n",
       "exercise                           1\n",
       "active                             0\n",
       "wt71                          111.58\n",
       "Name: 24770, dtype: object"
      ]
     },
     "execution_count": 115,
     "metadata": {},
     "output_type": "execute_result"
    }
   ],
   "source": [
    "# print variable values corresponding to subject with unique identifier 24770\n",
    "dta4[['meanY', 'qsmk', 'sex', 'race', 'age', 'education',\\\n",
    "        'smokeintensity', 'smokeyrs', 'exercise', 'active', 'wt71']].loc[24770]"
   ]
  },
  {
   "cell_type": "markdown",
   "metadata": {},
   "source": [
    "################################################################\n",
    "\n",
    "## PROGRAM 13.2\n",
    "\n",
    "Standardizing the mean outcome to the baseline confounders\n",
    "Data from Table 2.2\n",
    "\n",
    "################################################################"
   ]
  },
  {
   "cell_type": "code",
   "execution_count": 116,
   "metadata": {
    "collapsed": true
   },
   "outputs": [],
   "source": [
    "id = ['Rheia','Kronos','Demeter','Hades','Hestia',\\\n",
    "      'Poseidon','Hera','Zeus','Artemis','Apollo',\\\n",
    "      'Leto','Ares','Athena','Hephaestus','Aphrodite',\\\n",
    "      'Cyclope','Persephone','Hermes','Hebe','Dionysus']\n",
    "N = len(id)\n",
    "L = np.array([0, 0, 0, 0, 0, 0, 0, 0, 1, 1, 1, 1, 1, 1, 1, 1, 1, 1, 1, 1])\n",
    "A = np.array([0, 0, 0, 0, 1, 1, 1, 1, 0, 0, 0, 1, 1, 1, 1, 1, 1, 1, 1, 1])\n",
    "Y = np.array([0, 1, 0, 0, 0, 0, 0, 1, 1, 1, 0, 1, 1, 1, 1, 1, 1, 0, 0, 0])   "
   ]
  },
  {
   "cell_type": "code",
   "execution_count": 117,
   "metadata": {
    "collapsed": true
   },
   "outputs": [],
   "source": [
    "interv = np.repeat(-1,N)"
   ]
  },
  {
   "cell_type": "code",
   "execution_count": 118,
   "metadata": {},
   "outputs": [
    {
     "data": {
      "text/html": [
       "<div>\n",
       "<style>\n",
       "    .dataframe thead tr:only-child th {\n",
       "        text-align: right;\n",
       "    }\n",
       "\n",
       "    .dataframe thead th {\n",
       "        text-align: left;\n",
       "    }\n",
       "\n",
       "    .dataframe tbody tr th {\n",
       "        vertical-align: top;\n",
       "    }\n",
       "</style>\n",
       "<table border=\"1\" class=\"dataframe\">\n",
       "  <thead>\n",
       "    <tr style=\"text-align: right;\">\n",
       "      <th></th>\n",
       "      <th>L</th>\n",
       "      <th>A</th>\n",
       "      <th>Y</th>\n",
       "      <th>interv</th>\n",
       "    </tr>\n",
       "  </thead>\n",
       "  <tbody>\n",
       "    <tr>\n",
       "      <th>0</th>\n",
       "      <td>0</td>\n",
       "      <td>0</td>\n",
       "      <td>0</td>\n",
       "      <td>-1</td>\n",
       "    </tr>\n",
       "    <tr>\n",
       "      <th>1</th>\n",
       "      <td>0</td>\n",
       "      <td>0</td>\n",
       "      <td>1</td>\n",
       "      <td>-1</td>\n",
       "    </tr>\n",
       "    <tr>\n",
       "      <th>2</th>\n",
       "      <td>0</td>\n",
       "      <td>0</td>\n",
       "      <td>0</td>\n",
       "      <td>-1</td>\n",
       "    </tr>\n",
       "    <tr>\n",
       "      <th>3</th>\n",
       "      <td>0</td>\n",
       "      <td>0</td>\n",
       "      <td>0</td>\n",
       "      <td>-1</td>\n",
       "    </tr>\n",
       "    <tr>\n",
       "      <th>4</th>\n",
       "      <td>0</td>\n",
       "      <td>1</td>\n",
       "      <td>0</td>\n",
       "      <td>-1</td>\n",
       "    </tr>\n",
       "    <tr>\n",
       "      <th>5</th>\n",
       "      <td>0</td>\n",
       "      <td>1</td>\n",
       "      <td>0</td>\n",
       "      <td>-1</td>\n",
       "    </tr>\n",
       "    <tr>\n",
       "      <th>6</th>\n",
       "      <td>0</td>\n",
       "      <td>1</td>\n",
       "      <td>0</td>\n",
       "      <td>-1</td>\n",
       "    </tr>\n",
       "    <tr>\n",
       "      <th>7</th>\n",
       "      <td>0</td>\n",
       "      <td>1</td>\n",
       "      <td>1</td>\n",
       "      <td>-1</td>\n",
       "    </tr>\n",
       "    <tr>\n",
       "      <th>8</th>\n",
       "      <td>1</td>\n",
       "      <td>0</td>\n",
       "      <td>1</td>\n",
       "      <td>-1</td>\n",
       "    </tr>\n",
       "    <tr>\n",
       "      <th>9</th>\n",
       "      <td>1</td>\n",
       "      <td>0</td>\n",
       "      <td>1</td>\n",
       "      <td>-1</td>\n",
       "    </tr>\n",
       "    <tr>\n",
       "      <th>10</th>\n",
       "      <td>1</td>\n",
       "      <td>0</td>\n",
       "      <td>0</td>\n",
       "      <td>-1</td>\n",
       "    </tr>\n",
       "    <tr>\n",
       "      <th>11</th>\n",
       "      <td>1</td>\n",
       "      <td>1</td>\n",
       "      <td>1</td>\n",
       "      <td>-1</td>\n",
       "    </tr>\n",
       "    <tr>\n",
       "      <th>12</th>\n",
       "      <td>1</td>\n",
       "      <td>1</td>\n",
       "      <td>1</td>\n",
       "      <td>-1</td>\n",
       "    </tr>\n",
       "    <tr>\n",
       "      <th>13</th>\n",
       "      <td>1</td>\n",
       "      <td>1</td>\n",
       "      <td>1</td>\n",
       "      <td>-1</td>\n",
       "    </tr>\n",
       "    <tr>\n",
       "      <th>14</th>\n",
       "      <td>1</td>\n",
       "      <td>1</td>\n",
       "      <td>1</td>\n",
       "      <td>-1</td>\n",
       "    </tr>\n",
       "    <tr>\n",
       "      <th>15</th>\n",
       "      <td>1</td>\n",
       "      <td>1</td>\n",
       "      <td>1</td>\n",
       "      <td>-1</td>\n",
       "    </tr>\n",
       "    <tr>\n",
       "      <th>16</th>\n",
       "      <td>1</td>\n",
       "      <td>1</td>\n",
       "      <td>1</td>\n",
       "      <td>-1</td>\n",
       "    </tr>\n",
       "    <tr>\n",
       "      <th>17</th>\n",
       "      <td>1</td>\n",
       "      <td>1</td>\n",
       "      <td>0</td>\n",
       "      <td>-1</td>\n",
       "    </tr>\n",
       "    <tr>\n",
       "      <th>18</th>\n",
       "      <td>1</td>\n",
       "      <td>1</td>\n",
       "      <td>0</td>\n",
       "      <td>-1</td>\n",
       "    </tr>\n",
       "    <tr>\n",
       "      <th>19</th>\n",
       "      <td>1</td>\n",
       "      <td>1</td>\n",
       "      <td>0</td>\n",
       "      <td>-1</td>\n",
       "    </tr>\n",
       "  </tbody>\n",
       "</table>\n",
       "</div>"
      ],
      "text/plain": [
       "    L  A  Y  interv\n",
       "0   0  0  0      -1\n",
       "1   0  0  1      -1\n",
       "2   0  0  0      -1\n",
       "3   0  0  0      -1\n",
       "4   0  1  0      -1\n",
       "5   0  1  0      -1\n",
       "6   0  1  0      -1\n",
       "7   0  1  1      -1\n",
       "8   1  0  1      -1\n",
       "9   1  0  1      -1\n",
       "10  1  0  0      -1\n",
       "11  1  1  1      -1\n",
       "12  1  1  1      -1\n",
       "13  1  1  1      -1\n",
       "14  1  1  1      -1\n",
       "15  1  1  1      -1\n",
       "16  1  1  1      -1\n",
       "17  1  1  0      -1\n",
       "18  1  1  0      -1\n",
       "19  1  1  0      -1"
      ]
     },
     "execution_count": 118,
     "metadata": {},
     "output_type": "execute_result"
    }
   ],
   "source": [
    "observed = pd.DataFrame(np.array((L, A, Y, interv)).T, columns=['L', 'A', 'Y', 'interv'])\n",
    "observed"
   ]
  },
  {
   "cell_type": "code",
   "execution_count": 119,
   "metadata": {},
   "outputs": [
    {
     "data": {
      "text/html": [
       "<div>\n",
       "<style>\n",
       "    .dataframe thead tr:only-child th {\n",
       "        text-align: right;\n",
       "    }\n",
       "\n",
       "    .dataframe thead th {\n",
       "        text-align: left;\n",
       "    }\n",
       "\n",
       "    .dataframe tbody tr th {\n",
       "        vertical-align: top;\n",
       "    }\n",
       "</style>\n",
       "<table border=\"1\" class=\"dataframe\">\n",
       "  <thead>\n",
       "    <tr style=\"text-align: right;\">\n",
       "      <th></th>\n",
       "      <th>L</th>\n",
       "      <th>A</th>\n",
       "      <th>Y</th>\n",
       "      <th>interv</th>\n",
       "    </tr>\n",
       "  </thead>\n",
       "  <tbody>\n",
       "    <tr>\n",
       "      <th>0</th>\n",
       "      <td>0.0</td>\n",
       "      <td>0.0</td>\n",
       "      <td>NaN</td>\n",
       "      <td>0.0</td>\n",
       "    </tr>\n",
       "    <tr>\n",
       "      <th>1</th>\n",
       "      <td>0.0</td>\n",
       "      <td>0.0</td>\n",
       "      <td>NaN</td>\n",
       "      <td>0.0</td>\n",
       "    </tr>\n",
       "    <tr>\n",
       "      <th>2</th>\n",
       "      <td>0.0</td>\n",
       "      <td>0.0</td>\n",
       "      <td>NaN</td>\n",
       "      <td>0.0</td>\n",
       "    </tr>\n",
       "    <tr>\n",
       "      <th>3</th>\n",
       "      <td>0.0</td>\n",
       "      <td>0.0</td>\n",
       "      <td>NaN</td>\n",
       "      <td>0.0</td>\n",
       "    </tr>\n",
       "    <tr>\n",
       "      <th>4</th>\n",
       "      <td>0.0</td>\n",
       "      <td>0.0</td>\n",
       "      <td>NaN</td>\n",
       "      <td>0.0</td>\n",
       "    </tr>\n",
       "    <tr>\n",
       "      <th>5</th>\n",
       "      <td>0.0</td>\n",
       "      <td>0.0</td>\n",
       "      <td>NaN</td>\n",
       "      <td>0.0</td>\n",
       "    </tr>\n",
       "    <tr>\n",
       "      <th>6</th>\n",
       "      <td>0.0</td>\n",
       "      <td>0.0</td>\n",
       "      <td>NaN</td>\n",
       "      <td>0.0</td>\n",
       "    </tr>\n",
       "    <tr>\n",
       "      <th>7</th>\n",
       "      <td>0.0</td>\n",
       "      <td>0.0</td>\n",
       "      <td>NaN</td>\n",
       "      <td>0.0</td>\n",
       "    </tr>\n",
       "    <tr>\n",
       "      <th>8</th>\n",
       "      <td>1.0</td>\n",
       "      <td>0.0</td>\n",
       "      <td>NaN</td>\n",
       "      <td>0.0</td>\n",
       "    </tr>\n",
       "    <tr>\n",
       "      <th>9</th>\n",
       "      <td>1.0</td>\n",
       "      <td>0.0</td>\n",
       "      <td>NaN</td>\n",
       "      <td>0.0</td>\n",
       "    </tr>\n",
       "    <tr>\n",
       "      <th>10</th>\n",
       "      <td>1.0</td>\n",
       "      <td>0.0</td>\n",
       "      <td>NaN</td>\n",
       "      <td>0.0</td>\n",
       "    </tr>\n",
       "    <tr>\n",
       "      <th>11</th>\n",
       "      <td>1.0</td>\n",
       "      <td>0.0</td>\n",
       "      <td>NaN</td>\n",
       "      <td>0.0</td>\n",
       "    </tr>\n",
       "    <tr>\n",
       "      <th>12</th>\n",
       "      <td>1.0</td>\n",
       "      <td>0.0</td>\n",
       "      <td>NaN</td>\n",
       "      <td>0.0</td>\n",
       "    </tr>\n",
       "    <tr>\n",
       "      <th>13</th>\n",
       "      <td>1.0</td>\n",
       "      <td>0.0</td>\n",
       "      <td>NaN</td>\n",
       "      <td>0.0</td>\n",
       "    </tr>\n",
       "    <tr>\n",
       "      <th>14</th>\n",
       "      <td>1.0</td>\n",
       "      <td>0.0</td>\n",
       "      <td>NaN</td>\n",
       "      <td>0.0</td>\n",
       "    </tr>\n",
       "    <tr>\n",
       "      <th>15</th>\n",
       "      <td>1.0</td>\n",
       "      <td>0.0</td>\n",
       "      <td>NaN</td>\n",
       "      <td>0.0</td>\n",
       "    </tr>\n",
       "    <tr>\n",
       "      <th>16</th>\n",
       "      <td>1.0</td>\n",
       "      <td>0.0</td>\n",
       "      <td>NaN</td>\n",
       "      <td>0.0</td>\n",
       "    </tr>\n",
       "    <tr>\n",
       "      <th>17</th>\n",
       "      <td>1.0</td>\n",
       "      <td>0.0</td>\n",
       "      <td>NaN</td>\n",
       "      <td>0.0</td>\n",
       "    </tr>\n",
       "    <tr>\n",
       "      <th>18</th>\n",
       "      <td>1.0</td>\n",
       "      <td>0.0</td>\n",
       "      <td>NaN</td>\n",
       "      <td>0.0</td>\n",
       "    </tr>\n",
       "    <tr>\n",
       "      <th>19</th>\n",
       "      <td>1.0</td>\n",
       "      <td>0.0</td>\n",
       "      <td>NaN</td>\n",
       "      <td>0.0</td>\n",
       "    </tr>\n",
       "  </tbody>\n",
       "</table>\n",
       "</div>"
      ],
      "text/plain": [
       "      L    A   Y  interv\n",
       "0   0.0  0.0 NaN     0.0\n",
       "1   0.0  0.0 NaN     0.0\n",
       "2   0.0  0.0 NaN     0.0\n",
       "3   0.0  0.0 NaN     0.0\n",
       "4   0.0  0.0 NaN     0.0\n",
       "5   0.0  0.0 NaN     0.0\n",
       "6   0.0  0.0 NaN     0.0\n",
       "7   0.0  0.0 NaN     0.0\n",
       "8   1.0  0.0 NaN     0.0\n",
       "9   1.0  0.0 NaN     0.0\n",
       "10  1.0  0.0 NaN     0.0\n",
       "11  1.0  0.0 NaN     0.0\n",
       "12  1.0  0.0 NaN     0.0\n",
       "13  1.0  0.0 NaN     0.0\n",
       "14  1.0  0.0 NaN     0.0\n",
       "15  1.0  0.0 NaN     0.0\n",
       "16  1.0  0.0 NaN     0.0\n",
       "17  1.0  0.0 NaN     0.0\n",
       "18  1.0  0.0 NaN     0.0\n",
       "19  1.0  0.0 NaN     0.0"
      ]
     },
     "execution_count": 119,
     "metadata": {},
     "output_type": "execute_result"
    }
   ],
   "source": [
    "untreated = pd.DataFrame(np.array((L, np.repeat(0, N), np.repeat(np.nan, N), np.repeat(0, N))).T, columns=['L', 'A', 'Y', 'interv'])\n",
    "untreated"
   ]
  },
  {
   "cell_type": "code",
   "execution_count": 120,
   "metadata": {},
   "outputs": [
    {
     "data": {
      "text/html": [
       "<div>\n",
       "<style>\n",
       "    .dataframe thead tr:only-child th {\n",
       "        text-align: right;\n",
       "    }\n",
       "\n",
       "    .dataframe thead th {\n",
       "        text-align: left;\n",
       "    }\n",
       "\n",
       "    .dataframe tbody tr th {\n",
       "        vertical-align: top;\n",
       "    }\n",
       "</style>\n",
       "<table border=\"1\" class=\"dataframe\">\n",
       "  <thead>\n",
       "    <tr style=\"text-align: right;\">\n",
       "      <th></th>\n",
       "      <th>L</th>\n",
       "      <th>A</th>\n",
       "      <th>Y</th>\n",
       "      <th>interv</th>\n",
       "    </tr>\n",
       "  </thead>\n",
       "  <tbody>\n",
       "    <tr>\n",
       "      <th>0</th>\n",
       "      <td>0.0</td>\n",
       "      <td>1.0</td>\n",
       "      <td>NaN</td>\n",
       "      <td>1.0</td>\n",
       "    </tr>\n",
       "    <tr>\n",
       "      <th>1</th>\n",
       "      <td>0.0</td>\n",
       "      <td>1.0</td>\n",
       "      <td>NaN</td>\n",
       "      <td>1.0</td>\n",
       "    </tr>\n",
       "    <tr>\n",
       "      <th>2</th>\n",
       "      <td>0.0</td>\n",
       "      <td>1.0</td>\n",
       "      <td>NaN</td>\n",
       "      <td>1.0</td>\n",
       "    </tr>\n",
       "    <tr>\n",
       "      <th>3</th>\n",
       "      <td>0.0</td>\n",
       "      <td>1.0</td>\n",
       "      <td>NaN</td>\n",
       "      <td>1.0</td>\n",
       "    </tr>\n",
       "    <tr>\n",
       "      <th>4</th>\n",
       "      <td>0.0</td>\n",
       "      <td>1.0</td>\n",
       "      <td>NaN</td>\n",
       "      <td>1.0</td>\n",
       "    </tr>\n",
       "    <tr>\n",
       "      <th>5</th>\n",
       "      <td>0.0</td>\n",
       "      <td>1.0</td>\n",
       "      <td>NaN</td>\n",
       "      <td>1.0</td>\n",
       "    </tr>\n",
       "    <tr>\n",
       "      <th>6</th>\n",
       "      <td>0.0</td>\n",
       "      <td>1.0</td>\n",
       "      <td>NaN</td>\n",
       "      <td>1.0</td>\n",
       "    </tr>\n",
       "    <tr>\n",
       "      <th>7</th>\n",
       "      <td>0.0</td>\n",
       "      <td>1.0</td>\n",
       "      <td>NaN</td>\n",
       "      <td>1.0</td>\n",
       "    </tr>\n",
       "    <tr>\n",
       "      <th>8</th>\n",
       "      <td>1.0</td>\n",
       "      <td>1.0</td>\n",
       "      <td>NaN</td>\n",
       "      <td>1.0</td>\n",
       "    </tr>\n",
       "    <tr>\n",
       "      <th>9</th>\n",
       "      <td>1.0</td>\n",
       "      <td>1.0</td>\n",
       "      <td>NaN</td>\n",
       "      <td>1.0</td>\n",
       "    </tr>\n",
       "    <tr>\n",
       "      <th>10</th>\n",
       "      <td>1.0</td>\n",
       "      <td>1.0</td>\n",
       "      <td>NaN</td>\n",
       "      <td>1.0</td>\n",
       "    </tr>\n",
       "    <tr>\n",
       "      <th>11</th>\n",
       "      <td>1.0</td>\n",
       "      <td>1.0</td>\n",
       "      <td>NaN</td>\n",
       "      <td>1.0</td>\n",
       "    </tr>\n",
       "    <tr>\n",
       "      <th>12</th>\n",
       "      <td>1.0</td>\n",
       "      <td>1.0</td>\n",
       "      <td>NaN</td>\n",
       "      <td>1.0</td>\n",
       "    </tr>\n",
       "    <tr>\n",
       "      <th>13</th>\n",
       "      <td>1.0</td>\n",
       "      <td>1.0</td>\n",
       "      <td>NaN</td>\n",
       "      <td>1.0</td>\n",
       "    </tr>\n",
       "    <tr>\n",
       "      <th>14</th>\n",
       "      <td>1.0</td>\n",
       "      <td>1.0</td>\n",
       "      <td>NaN</td>\n",
       "      <td>1.0</td>\n",
       "    </tr>\n",
       "    <tr>\n",
       "      <th>15</th>\n",
       "      <td>1.0</td>\n",
       "      <td>1.0</td>\n",
       "      <td>NaN</td>\n",
       "      <td>1.0</td>\n",
       "    </tr>\n",
       "    <tr>\n",
       "      <th>16</th>\n",
       "      <td>1.0</td>\n",
       "      <td>1.0</td>\n",
       "      <td>NaN</td>\n",
       "      <td>1.0</td>\n",
       "    </tr>\n",
       "    <tr>\n",
       "      <th>17</th>\n",
       "      <td>1.0</td>\n",
       "      <td>1.0</td>\n",
       "      <td>NaN</td>\n",
       "      <td>1.0</td>\n",
       "    </tr>\n",
       "    <tr>\n",
       "      <th>18</th>\n",
       "      <td>1.0</td>\n",
       "      <td>1.0</td>\n",
       "      <td>NaN</td>\n",
       "      <td>1.0</td>\n",
       "    </tr>\n",
       "    <tr>\n",
       "      <th>19</th>\n",
       "      <td>1.0</td>\n",
       "      <td>1.0</td>\n",
       "      <td>NaN</td>\n",
       "      <td>1.0</td>\n",
       "    </tr>\n",
       "  </tbody>\n",
       "</table>\n",
       "</div>"
      ],
      "text/plain": [
       "      L    A   Y  interv\n",
       "0   0.0  1.0 NaN     1.0\n",
       "1   0.0  1.0 NaN     1.0\n",
       "2   0.0  1.0 NaN     1.0\n",
       "3   0.0  1.0 NaN     1.0\n",
       "4   0.0  1.0 NaN     1.0\n",
       "5   0.0  1.0 NaN     1.0\n",
       "6   0.0  1.0 NaN     1.0\n",
       "7   0.0  1.0 NaN     1.0\n",
       "8   1.0  1.0 NaN     1.0\n",
       "9   1.0  1.0 NaN     1.0\n",
       "10  1.0  1.0 NaN     1.0\n",
       "11  1.0  1.0 NaN     1.0\n",
       "12  1.0  1.0 NaN     1.0\n",
       "13  1.0  1.0 NaN     1.0\n",
       "14  1.0  1.0 NaN     1.0\n",
       "15  1.0  1.0 NaN     1.0\n",
       "16  1.0  1.0 NaN     1.0\n",
       "17  1.0  1.0 NaN     1.0\n",
       "18  1.0  1.0 NaN     1.0\n",
       "19  1.0  1.0 NaN     1.0"
      ]
     },
     "execution_count": 120,
     "metadata": {},
     "output_type": "execute_result"
    }
   ],
   "source": [
    "treated = pd.DataFrame(np.array((L,np.repeat(1, N), np.repeat(np.nan, N), np.repeat(1, N))).T, columns=['L', 'A', 'Y', 'interv'])\n",
    "treated"
   ]
  },
  {
   "cell_type": "code",
   "execution_count": 121,
   "metadata": {},
   "outputs": [
    {
     "data": {
      "text/html": [
       "<div>\n",
       "<style>\n",
       "    .dataframe thead tr:only-child th {\n",
       "        text-align: right;\n",
       "    }\n",
       "\n",
       "    .dataframe thead th {\n",
       "        text-align: left;\n",
       "    }\n",
       "\n",
       "    .dataframe tbody tr th {\n",
       "        vertical-align: top;\n",
       "    }\n",
       "</style>\n",
       "<table border=\"1\" class=\"dataframe\">\n",
       "  <thead>\n",
       "    <tr style=\"text-align: right;\">\n",
       "      <th></th>\n",
       "      <th>L</th>\n",
       "      <th>A</th>\n",
       "      <th>Y</th>\n",
       "      <th>interv</th>\n",
       "      <th>id</th>\n",
       "    </tr>\n",
       "  </thead>\n",
       "  <tbody>\n",
       "    <tr>\n",
       "      <th>0</th>\n",
       "      <td>0.0</td>\n",
       "      <td>0.0</td>\n",
       "      <td>0.0</td>\n",
       "      <td>-1.0</td>\n",
       "      <td>Rheia</td>\n",
       "    </tr>\n",
       "    <tr>\n",
       "      <th>1</th>\n",
       "      <td>0.0</td>\n",
       "      <td>0.0</td>\n",
       "      <td>1.0</td>\n",
       "      <td>-1.0</td>\n",
       "      <td>Kronos</td>\n",
       "    </tr>\n",
       "    <tr>\n",
       "      <th>2</th>\n",
       "      <td>0.0</td>\n",
       "      <td>0.0</td>\n",
       "      <td>0.0</td>\n",
       "      <td>-1.0</td>\n",
       "      <td>Demeter</td>\n",
       "    </tr>\n",
       "    <tr>\n",
       "      <th>3</th>\n",
       "      <td>0.0</td>\n",
       "      <td>0.0</td>\n",
       "      <td>0.0</td>\n",
       "      <td>-1.0</td>\n",
       "      <td>Hades</td>\n",
       "    </tr>\n",
       "    <tr>\n",
       "      <th>4</th>\n",
       "      <td>0.0</td>\n",
       "      <td>1.0</td>\n",
       "      <td>0.0</td>\n",
       "      <td>-1.0</td>\n",
       "      <td>Hestia</td>\n",
       "    </tr>\n",
       "  </tbody>\n",
       "</table>\n",
       "</div>"
      ],
      "text/plain": [
       "     L    A    Y  interv       id\n",
       "0  0.0  0.0  0.0    -1.0    Rheia\n",
       "1  0.0  0.0  1.0    -1.0   Kronos\n",
       "2  0.0  0.0  0.0    -1.0  Demeter\n",
       "3  0.0  0.0  0.0    -1.0    Hades\n",
       "4  0.0  1.0  0.0    -1.0   Hestia"
      ]
     },
     "execution_count": 121,
     "metadata": {},
     "output_type": "execute_result"
    }
   ],
   "source": [
    "data = pd.concat([observed,untreated, treated])\n",
    "data['id'] = np.tile(id, 3)\n",
    "data.head()"
   ]
  },
  {
   "cell_type": "code",
   "execution_count": 122,
   "metadata": {},
   "outputs": [
    {
     "data": {
      "text/html": [
       "<table class=\"simpletable\">\n",
       "<caption>Generalized Linear Model Regression Results</caption>\n",
       "<tr>\n",
       "  <th>Dep. Variable:</th>          <td>Y</td>        <th>  No. Observations:  </th>     <td>    20</td>    \n",
       "</tr>\n",
       "<tr>\n",
       "  <th>Model:</th>                 <td>GLM</td>       <th>  Df Residuals:      </th>     <td>    16</td>    \n",
       "</tr>\n",
       "<tr>\n",
       "  <th>Model Family:</th>       <td>Gaussian</td>     <th>  Df Model:          </th>     <td>     3</td>    \n",
       "</tr>\n",
       "<tr>\n",
       "  <th>Link Function:</th>      <td>identity</td>     <th>  Scale:             </th> <td>0.260416666667</td>\n",
       "</tr>\n",
       "<tr>\n",
       "  <th>Method:</th>               <td>IRLS</td>       <th>  Log-Likelihood:    </th>    <td> -12.693</td>   \n",
       "</tr>\n",
       "<tr>\n",
       "  <th>Date:</th>           <td>Fri, 02 Feb 2018</td> <th>  Deviance:          </th>    <td>  4.1667</td>   \n",
       "</tr>\n",
       "<tr>\n",
       "  <th>Time:</th>               <td>03:22:30</td>     <th>  Pearson chi2:      </th>     <td>  4.17</td>    \n",
       "</tr>\n",
       "<tr>\n",
       "  <th>No. Iterations:</th>         <td>2</td>        <th>                     </th>        <td> </td>      \n",
       "</tr>\n",
       "</table>\n",
       "<table class=\"simpletable\">\n",
       "<tr>\n",
       "      <td></td>         <th>coef</th>     <th>std err</th>      <th>z</th>      <th>P>|z|</th>  <th>[0.025</th>    <th>0.975]</th>  \n",
       "</tr>\n",
       "<tr>\n",
       "  <th>Intercept</th> <td>    0.2500</td> <td>    0.255</td> <td>    0.980</td> <td> 0.327</td> <td>   -0.250</td> <td>    0.750</td>\n",
       "</tr>\n",
       "<tr>\n",
       "  <th>A</th>         <td> 1.665e-16</td> <td>    0.361</td> <td> 4.62e-16</td> <td> 1.000</td> <td>   -0.707</td> <td>    0.707</td>\n",
       "</tr>\n",
       "<tr>\n",
       "  <th>L</th>         <td>    0.4167</td> <td>    0.390</td> <td>    1.069</td> <td> 0.285</td> <td>   -0.347</td> <td>    1.181</td>\n",
       "</tr>\n",
       "<tr>\n",
       "  <th>A:L</th>       <td> 9.714e-17</td> <td>    0.496</td> <td> 1.96e-16</td> <td> 1.000</td> <td>   -0.972</td> <td>    0.972</td>\n",
       "</tr>\n",
       "</table>"
      ],
      "text/plain": [
       "<class 'statsmodels.iolib.summary.Summary'>\n",
       "\"\"\"\n",
       "                 Generalized Linear Model Regression Results                  \n",
       "==============================================================================\n",
       "Dep. Variable:                      Y   No. Observations:                   20\n",
       "Model:                            GLM   Df Residuals:                       16\n",
       "Model Family:                Gaussian   Df Model:                            3\n",
       "Link Function:               identity   Scale:                  0.260416666667\n",
       "Method:                          IRLS   Log-Likelihood:                -12.693\n",
       "Date:                Fri, 02 Feb 2018   Deviance:                       4.1667\n",
       "Time:                        03:22:30   Pearson chi2:                     4.17\n",
       "No. Iterations:                     2                                         \n",
       "==============================================================================\n",
       "                 coef    std err          z      P>|z|      [0.025      0.975]\n",
       "------------------------------------------------------------------------------\n",
       "Intercept      0.2500      0.255      0.980      0.327      -0.250       0.750\n",
       "A           1.665e-16      0.361   4.62e-16      1.000      -0.707       0.707\n",
       "L              0.4167      0.390      1.069      0.285      -0.347       1.181\n",
       "A:L         9.714e-17      0.496   1.96e-16      1.000      -0.972       0.972\n",
       "==============================================================================\n",
       "\"\"\""
      ]
     },
     "execution_count": 122,
     "metadata": {},
     "output_type": "execute_result"
    }
   ],
   "source": [
    "# Estimates\n",
    "mod3 = smf.glm(formula='Y ~ A*L', data=data).fit()\n",
    "mod3.summary()"
   ]
  },
  {
   "cell_type": "code",
   "execution_count": 123,
   "metadata": {
    "collapsed": true
   },
   "outputs": [],
   "source": [
    "data['meanY'] = mod3.predict(data)"
   ]
  },
  {
   "cell_type": "code",
   "execution_count": 124,
   "metadata": {},
   "outputs": [
    {
     "data": {
      "text/plain": [
       "interv\n",
       "-1.0    0.5\n",
       " 0.0    0.5\n",
       " 1.0    0.5\n",
       "Name: meanY, dtype: float64"
      ]
     },
     "execution_count": 124,
     "metadata": {},
     "output_type": "execute_result"
    }
   ],
   "source": [
    "data.groupby(['interv'])['meanY'].mean()"
   ]
  },
  {
   "cell_type": "markdown",
   "metadata": {},
   "source": [
    "################################################################\n",
    "\n",
    "## PROGRAM 13.3\n",
    "\n",
    "Standardizing the mean outcome to the baseline confounders:\n",
    "    \n",
    "Data from NHEFS\n",
    "\n",
    "################################################################"
   ]
  },
  {
   "cell_type": "code",
   "execution_count": 125,
   "metadata": {
    "collapsed": true
   },
   "outputs": [],
   "source": [
    "# 1st copy: equal to original one"
   ]
  },
  {
   "cell_type": "code",
   "execution_count": 126,
   "metadata": {},
   "outputs": [
    {
     "data": {
      "text/html": [
       "<div>\n",
       "<style>\n",
       "    .dataframe thead tr:only-child th {\n",
       "        text-align: right;\n",
       "    }\n",
       "\n",
       "    .dataframe thead th {\n",
       "        text-align: left;\n",
       "    }\n",
       "\n",
       "    .dataframe tbody tr th {\n",
       "        vertical-align: top;\n",
       "    }\n",
       "</style>\n",
       "<table border=\"1\" class=\"dataframe\">\n",
       "  <thead>\n",
       "    <tr style=\"text-align: right;\">\n",
       "      <th></th>\n",
       "      <th>id</th>\n",
       "      <th>qsmk</th>\n",
       "      <th>death</th>\n",
       "      <th>yrdth</th>\n",
       "      <th>sbp</th>\n",
       "      <th>dbp</th>\n",
       "      <th>sex</th>\n",
       "      <th>age</th>\n",
       "      <th>race</th>\n",
       "      <th>income</th>\n",
       "      <th>...</th>\n",
       "      <th>price71</th>\n",
       "      <th>price82</th>\n",
       "      <th>tax71</th>\n",
       "      <th>tax82</th>\n",
       "      <th>price71_82</th>\n",
       "      <th>tax71_82</th>\n",
       "      <th>cens</th>\n",
       "      <th>older</th>\n",
       "      <th>education_code</th>\n",
       "      <th>education</th>\n",
       "    </tr>\n",
       "    <tr>\n",
       "      <th>seqn</th>\n",
       "      <th></th>\n",
       "      <th></th>\n",
       "      <th></th>\n",
       "      <th></th>\n",
       "      <th></th>\n",
       "      <th></th>\n",
       "      <th></th>\n",
       "      <th></th>\n",
       "      <th></th>\n",
       "      <th></th>\n",
       "      <th></th>\n",
       "      <th></th>\n",
       "      <th></th>\n",
       "      <th></th>\n",
       "      <th></th>\n",
       "      <th></th>\n",
       "      <th></th>\n",
       "      <th></th>\n",
       "      <th></th>\n",
       "      <th></th>\n",
       "      <th></th>\n",
       "    </tr>\n",
       "  </thead>\n",
       "  <tbody>\n",
       "    <tr>\n",
       "      <th>233</th>\n",
       "      <td>1</td>\n",
       "      <td>0</td>\n",
       "      <td>0</td>\n",
       "      <td>NaN</td>\n",
       "      <td>175.0</td>\n",
       "      <td>96.0</td>\n",
       "      <td>0</td>\n",
       "      <td>42</td>\n",
       "      <td>1</td>\n",
       "      <td>19.0</td>\n",
       "      <td>...</td>\n",
       "      <td>2.183594</td>\n",
       "      <td>1.739990</td>\n",
       "      <td>1.102295</td>\n",
       "      <td>0.461975</td>\n",
       "      <td>0.443787</td>\n",
       "      <td>0.640381</td>\n",
       "      <td>0</td>\n",
       "      <td>0</td>\n",
       "      <td>1</td>\n",
       "      <td>1. 8th grade or less</td>\n",
       "    </tr>\n",
       "    <tr>\n",
       "      <th>235</th>\n",
       "      <td>2</td>\n",
       "      <td>0</td>\n",
       "      <td>0</td>\n",
       "      <td>NaN</td>\n",
       "      <td>123.0</td>\n",
       "      <td>80.0</td>\n",
       "      <td>0</td>\n",
       "      <td>36</td>\n",
       "      <td>0</td>\n",
       "      <td>18.0</td>\n",
       "      <td>...</td>\n",
       "      <td>2.346680</td>\n",
       "      <td>1.797363</td>\n",
       "      <td>1.364990</td>\n",
       "      <td>0.571899</td>\n",
       "      <td>0.549316</td>\n",
       "      <td>0.792969</td>\n",
       "      <td>0</td>\n",
       "      <td>0</td>\n",
       "      <td>2</td>\n",
       "      <td>2. HS dropout</td>\n",
       "    </tr>\n",
       "    <tr>\n",
       "      <th>244</th>\n",
       "      <td>3</td>\n",
       "      <td>0</td>\n",
       "      <td>0</td>\n",
       "      <td>NaN</td>\n",
       "      <td>115.0</td>\n",
       "      <td>75.0</td>\n",
       "      <td>1</td>\n",
       "      <td>56</td>\n",
       "      <td>1</td>\n",
       "      <td>15.0</td>\n",
       "      <td>...</td>\n",
       "      <td>1.569580</td>\n",
       "      <td>1.513428</td>\n",
       "      <td>0.551270</td>\n",
       "      <td>0.230988</td>\n",
       "      <td>0.056198</td>\n",
       "      <td>0.320251</td>\n",
       "      <td>0</td>\n",
       "      <td>1</td>\n",
       "      <td>2</td>\n",
       "      <td>2. HS dropout</td>\n",
       "    </tr>\n",
       "    <tr>\n",
       "      <th>245</th>\n",
       "      <td>4</td>\n",
       "      <td>0</td>\n",
       "      <td>1</td>\n",
       "      <td>85.0</td>\n",
       "      <td>148.0</td>\n",
       "      <td>78.0</td>\n",
       "      <td>0</td>\n",
       "      <td>68</td>\n",
       "      <td>1</td>\n",
       "      <td>15.0</td>\n",
       "      <td>...</td>\n",
       "      <td>1.506592</td>\n",
       "      <td>1.451904</td>\n",
       "      <td>0.524902</td>\n",
       "      <td>0.219971</td>\n",
       "      <td>0.054794</td>\n",
       "      <td>0.304993</td>\n",
       "      <td>0</td>\n",
       "      <td>1</td>\n",
       "      <td>1</td>\n",
       "      <td>1. 8th grade or less</td>\n",
       "    </tr>\n",
       "    <tr>\n",
       "      <th>252</th>\n",
       "      <td>5</td>\n",
       "      <td>0</td>\n",
       "      <td>0</td>\n",
       "      <td>NaN</td>\n",
       "      <td>118.0</td>\n",
       "      <td>77.0</td>\n",
       "      <td>0</td>\n",
       "      <td>40</td>\n",
       "      <td>0</td>\n",
       "      <td>18.0</td>\n",
       "      <td>...</td>\n",
       "      <td>2.346680</td>\n",
       "      <td>1.797363</td>\n",
       "      <td>1.364990</td>\n",
       "      <td>0.571899</td>\n",
       "      <td>0.549316</td>\n",
       "      <td>0.792969</td>\n",
       "      <td>0</td>\n",
       "      <td>0</td>\n",
       "      <td>2</td>\n",
       "      <td>2. HS dropout</td>\n",
       "    </tr>\n",
       "  </tbody>\n",
       "</table>\n",
       "<p>5 rows × 65 columns</p>\n",
       "</div>"
      ],
      "text/plain": [
       "      id  qsmk  death  yrdth    sbp   dbp  sex  age  race  income  \\\n",
       "seqn                                                                \n",
       "233    1     0      0    NaN  175.0  96.0    0   42     1    19.0   \n",
       "235    2     0      0    NaN  123.0  80.0    0   36     0    18.0   \n",
       "244    3     0      0    NaN  115.0  75.0    1   56     1    15.0   \n",
       "245    4     0      1   85.0  148.0  78.0    0   68     1    15.0   \n",
       "252    5     0      0    NaN  118.0  77.0    0   40     0    18.0   \n",
       "\n",
       "              ...            price71   price82     tax71     tax82  \\\n",
       "seqn          ...                                                    \n",
       "233           ...           2.183594  1.739990  1.102295  0.461975   \n",
       "235           ...           2.346680  1.797363  1.364990  0.571899   \n",
       "244           ...           1.569580  1.513428  0.551270  0.230988   \n",
       "245           ...           1.506592  1.451904  0.524902  0.219971   \n",
       "252           ...           2.346680  1.797363  1.364990  0.571899   \n",
       "\n",
       "      price71_82  tax71_82  cens  older  education_code             education  \n",
       "seqn                                                                           \n",
       "233     0.443787  0.640381     0      0               1  1. 8th grade or less  \n",
       "235     0.549316  0.792969     0      0               2         2. HS dropout  \n",
       "244     0.056198  0.320251     0      1               2         2. HS dropout  \n",
       "245     0.054794  0.304993     0      1               1  1. 8th grade or less  \n",
       "252     0.549316  0.792969     0      0               2         2. HS dropout  \n",
       "\n",
       "[5 rows x 65 columns]"
      ]
     },
     "execution_count": 126,
     "metadata": {},
     "output_type": "execute_result"
    }
   ],
   "source": [
    "nhefs.head()"
   ]
  },
  {
   "cell_type": "code",
   "execution_count": 127,
   "metadata": {
    "collapsed": true
   },
   "outputs": [],
   "source": [
    "nhefs0['interv'] = np.repeat(-1, len(nhefs0))"
   ]
  },
  {
   "cell_type": "code",
   "execution_count": 128,
   "metadata": {},
   "outputs": [
    {
     "data": {
      "text/plain": [
       "(1566, 67)"
      ]
     },
     "execution_count": 128,
     "metadata": {},
     "output_type": "execute_result"
    }
   ],
   "source": [
    "nhefs0.shape"
   ]
  },
  {
   "cell_type": "code",
   "execution_count": 129,
   "metadata": {},
   "outputs": [
    {
     "data": {
      "text/plain": [
       "(1566, 67)"
      ]
     },
     "execution_count": 129,
     "metadata": {},
     "output_type": "execute_result"
    }
   ],
   "source": [
    "# 2nd copy: treatment set to 0, outcome to missing\n",
    "nhefs_untr = nhefs0.copy()\n",
    "nhefs_untr['interv'] = np.repeat(0, len(nhefs_untr))\n",
    "nhefs_untr['qsmk'] = np.repeat(0, len(nhefs_untr))\n",
    "nhefs_untr['wt82_71'] = np.repeat(np.nan, len(nhefs_untr))\n",
    "nhefs_untr.shape"
   ]
  },
  {
   "cell_type": "code",
   "execution_count": 130,
   "metadata": {},
   "outputs": [
    {
     "data": {
      "text/plain": [
       "(1566, 67)"
      ]
     },
     "execution_count": 130,
     "metadata": {},
     "output_type": "execute_result"
    }
   ],
   "source": [
    "# 3rd copy: treatment set to 1, outcome to missing\n",
    "nhefs_tr = nhefs0.copy()\n",
    "nhefs_tr['interv'] = np.repeat(1, len(nhefs_untr))\n",
    "nhefs_tr['qsmk'] = np.repeat(1, len(nhefs_untr))\n",
    "nhefs_tr['wt82_71'] = np.repeat(np.nan, len(nhefs_untr))\n",
    "nhefs_tr.shape"
   ]
  },
  {
   "cell_type": "code",
   "execution_count": 131,
   "metadata": {},
   "outputs": [
    {
     "data": {
      "text/plain": [
       "(4698, 67)"
      ]
     },
     "execution_count": 131,
     "metadata": {},
     "output_type": "execute_result"
    }
   ],
   "source": [
    "# create a dataset with 3 copies of each subject\n",
    "onesample = pd.concat([nhefs0,nhefs_untr, nhefs_tr])\n",
    "onesample.shape"
   ]
  },
  {
   "cell_type": "code",
   "execution_count": 132,
   "metadata": {
    "collapsed": true
   },
   "outputs": [],
   "source": [
    "# Estimates\n",
    "# linear model to estimate mean outcome conditional on treatment & confounders,\n",
    "# parameters are estimated using original observations only (interv= -1),\n",
    "# parameter estimates are used to predict mean outcome for observations \n",
    "# with treatment set to 0 (interv=0) and to 1 (innterv=1);"
   ]
  },
  {
   "cell_type": "code",
   "execution_count": 133,
   "metadata": {},
   "outputs": [
    {
     "data": {
      "text/plain": [
       "'wt82_71 ~ C(qsmk) + C(sex) + C(race) + age + np.square(age) + C(education) + smokeintensity + np.square(smokeintensity) + smokeyrs + np.square(smokeyrs) + C(exercise) + C(active) + wt71 + np.square(wt71)'"
      ]
     },
     "execution_count": 133,
     "metadata": {},
     "output_type": "execute_result"
    }
   ],
   "source": [
    "formula  = 'wt82_71 ~ C(qsmk) + C(sex) + C(race) + age + np.square(age) + C(education) + smokeintensity + ' \n",
    "formula += 'np.square(smokeintensity) + smokeyrs + np.square(smokeyrs) + C(exercise) + C(active) + '\n",
    "formula += 'wt71 + np.square(wt71)'\n",
    "formula"
   ]
  },
  {
   "cell_type": "code",
   "execution_count": 134,
   "metadata": {},
   "outputs": [
    {
     "data": {
      "text/html": [
       "<table class=\"simpletable\">\n",
       "<caption>Generalized Linear Model Regression Results</caption>\n",
       "<tr>\n",
       "  <th>Dep. Variable:</th>       <td>wt82_71</td>     <th>  No. Observations:  </th>    <td>  1566</td>    \n",
       "</tr>\n",
       "<tr>\n",
       "  <th>Model:</th>                 <td>GLM</td>       <th>  Df Residuals:      </th>    <td>  1546</td>    \n",
       "</tr>\n",
       "<tr>\n",
       "  <th>Model Family:</th>       <td>Gaussian</td>     <th>  Df Model:          </th>    <td>    19</td>    \n",
       "</tr>\n",
       "<tr>\n",
       "  <th>Link Function:</th>      <td>identity</td>     <th>  Scale:             </th> <td>53.5947365389</td>\n",
       "</tr>\n",
       "<tr>\n",
       "  <th>Method:</th>               <td>IRLS</td>       <th>  Log-Likelihood:    </th>   <td> -5329.5</td>   \n",
       "</tr>\n",
       "<tr>\n",
       "  <th>Date:</th>           <td>Fri, 02 Feb 2018</td> <th>  Deviance:          </th>   <td>  82857.</td>   \n",
       "</tr>\n",
       "<tr>\n",
       "  <th>Time:</th>               <td>03:22:32</td>     <th>  Pearson chi2:      </th>   <td>8.29e+04</td>   \n",
       "</tr>\n",
       "<tr>\n",
       "  <th>No. Iterations:</th>         <td>2</td>        <th>                     </th>       <td> </td>      \n",
       "</tr>\n",
       "</table>\n",
       "<table class=\"simpletable\">\n",
       "<tr>\n",
       "                   <td></td>                     <th>coef</th>     <th>std err</th>      <th>z</th>      <th>P>|z|</th>  <th>[0.025</th>    <th>0.975]</th>  \n",
       "</tr>\n",
       "<tr>\n",
       "  <th>Intercept</th>                          <td>   -1.6586</td> <td>    4.314</td> <td>   -0.384</td> <td> 0.701</td> <td>  -10.113</td> <td>    6.796</td>\n",
       "</tr>\n",
       "<tr>\n",
       "  <th>C(qsmk)[T.1]</th>                       <td>    3.4626</td> <td>    0.438</td> <td>    7.897</td> <td> 0.000</td> <td>    2.603</td> <td>    4.322</td>\n",
       "</tr>\n",
       "<tr>\n",
       "  <th>C(sex)[T.1]</th>                        <td>   -1.4650</td> <td>    0.468</td> <td>   -3.128</td> <td> 0.002</td> <td>   -2.383</td> <td>   -0.547</td>\n",
       "</tr>\n",
       "<tr>\n",
       "  <th>C(race)[T.1]</th>                       <td>    0.5864</td> <td>    0.582</td> <td>    1.008</td> <td> 0.313</td> <td>   -0.554</td> <td>    1.727</td>\n",
       "</tr>\n",
       "<tr>\n",
       "  <th>C(education)[T.2. HS dropout]</th>      <td>    0.8185</td> <td>    0.607</td> <td>    1.349</td> <td> 0.177</td> <td>   -0.371</td> <td>    2.008</td>\n",
       "</tr>\n",
       "<tr>\n",
       "  <th>C(education)[T.3. HS]</th>              <td>    0.5715</td> <td>    0.556</td> <td>    1.028</td> <td> 0.304</td> <td>   -0.518</td> <td>    1.661</td>\n",
       "</tr>\n",
       "<tr>\n",
       "  <th>C(education)[T.4. College dropout]</th> <td>    1.5085</td> <td>    0.832</td> <td>    1.812</td> <td> 0.070</td> <td>   -0.123</td> <td>    3.140</td>\n",
       "</tr>\n",
       "<tr>\n",
       "  <th>C(education)[T.5. College or more]</th> <td>   -0.1708</td> <td>    0.741</td> <td>   -0.230</td> <td> 0.818</td> <td>   -1.624</td> <td>    1.282</td>\n",
       "</tr>\n",
       "<tr>\n",
       "  <th>C(exercise)[T.1]</th>                   <td>    0.3207</td> <td>    0.535</td> <td>    0.599</td> <td> 0.549</td> <td>   -0.728</td> <td>    1.369</td>\n",
       "</tr>\n",
       "<tr>\n",
       "  <th>C(exercise)[T.2]</th>                   <td>    0.3629</td> <td>    0.559</td> <td>    0.649</td> <td> 0.516</td> <td>   -0.733</td> <td>    1.458</td>\n",
       "</tr>\n",
       "<tr>\n",
       "  <th>C(active)[T.1]</th>                     <td>   -0.9430</td> <td>    0.410</td> <td>   -2.300</td> <td> 0.021</td> <td>   -1.747</td> <td>   -0.139</td>\n",
       "</tr>\n",
       "<tr>\n",
       "  <th>C(active)[T.2]</th>                     <td>   -0.2580</td> <td>    0.685</td> <td>   -0.377</td> <td> 0.706</td> <td>   -1.600</td> <td>    1.084</td>\n",
       "</tr>\n",
       "<tr>\n",
       "  <th>age</th>                                <td>    0.3627</td> <td>    0.163</td> <td>    2.220</td> <td> 0.026</td> <td>    0.043</td> <td>    0.683</td>\n",
       "</tr>\n",
       "<tr>\n",
       "  <th>np.square(age)</th>                     <td>   -0.0061</td> <td>    0.002</td> <td>   -3.555</td> <td> 0.000</td> <td>   -0.010</td> <td>   -0.003</td>\n",
       "</tr>\n",
       "<tr>\n",
       "  <th>smokeintensity</th>                     <td>    0.0652</td> <td>    0.050</td> <td>    1.295</td> <td> 0.195</td> <td>   -0.033</td> <td>    0.164</td>\n",
       "</tr>\n",
       "<tr>\n",
       "  <th>np.square(smokeintensity)</th>          <td>   -0.0010</td> <td>    0.001</td> <td>   -1.117</td> <td> 0.264</td> <td>   -0.003</td> <td>    0.001</td>\n",
       "</tr>\n",
       "<tr>\n",
       "  <th>smokeyrs</th>                           <td>    0.1334</td> <td>    0.092</td> <td>    1.454</td> <td> 0.146</td> <td>   -0.046</td> <td>    0.313</td>\n",
       "</tr>\n",
       "<tr>\n",
       "  <th>np.square(smokeyrs)</th>                <td>   -0.0018</td> <td>    0.002</td> <td>   -1.183</td> <td> 0.237</td> <td>   -0.005</td> <td>    0.001</td>\n",
       "</tr>\n",
       "<tr>\n",
       "  <th>wt71</th>                               <td>    0.0374</td> <td>    0.083</td> <td>    0.449</td> <td> 0.653</td> <td>   -0.126</td> <td>    0.200</td>\n",
       "</tr>\n",
       "<tr>\n",
       "  <th>np.square(wt71)</th>                    <td>   -0.0009</td> <td>    0.001</td> <td>   -1.749</td> <td> 0.080</td> <td>   -0.002</td> <td>    0.000</td>\n",
       "</tr>\n",
       "</table>"
      ],
      "text/plain": [
       "<class 'statsmodels.iolib.summary.Summary'>\n",
       "\"\"\"\n",
       "                 Generalized Linear Model Regression Results                  \n",
       "==============================================================================\n",
       "Dep. Variable:                wt82_71   No. Observations:                 1566\n",
       "Model:                            GLM   Df Residuals:                     1546\n",
       "Model Family:                Gaussian   Df Model:                           19\n",
       "Link Function:               identity   Scale:                   53.5947365389\n",
       "Method:                          IRLS   Log-Likelihood:                -5329.5\n",
       "Date:                Fri, 02 Feb 2018   Deviance:                       82857.\n",
       "Time:                        03:22:32   Pearson chi2:                 8.29e+04\n",
       "No. Iterations:                     2                                         \n",
       "======================================================================================================\n",
       "                                         coef    std err          z      P>|z|      [0.025      0.975]\n",
       "------------------------------------------------------------------------------------------------------\n",
       "Intercept                             -1.6586      4.314     -0.384      0.701     -10.113       6.796\n",
       "C(qsmk)[T.1]                           3.4626      0.438      7.897      0.000       2.603       4.322\n",
       "C(sex)[T.1]                           -1.4650      0.468     -3.128      0.002      -2.383      -0.547\n",
       "C(race)[T.1]                           0.5864      0.582      1.008      0.313      -0.554       1.727\n",
       "C(education)[T.2. HS dropout]          0.8185      0.607      1.349      0.177      -0.371       2.008\n",
       "C(education)[T.3. HS]                  0.5715      0.556      1.028      0.304      -0.518       1.661\n",
       "C(education)[T.4. College dropout]     1.5085      0.832      1.812      0.070      -0.123       3.140\n",
       "C(education)[T.5. College or more]    -0.1708      0.741     -0.230      0.818      -1.624       1.282\n",
       "C(exercise)[T.1]                       0.3207      0.535      0.599      0.549      -0.728       1.369\n",
       "C(exercise)[T.2]                       0.3629      0.559      0.649      0.516      -0.733       1.458\n",
       "C(active)[T.1]                        -0.9430      0.410     -2.300      0.021      -1.747      -0.139\n",
       "C(active)[T.2]                        -0.2580      0.685     -0.377      0.706      -1.600       1.084\n",
       "age                                    0.3627      0.163      2.220      0.026       0.043       0.683\n",
       "np.square(age)                        -0.0061      0.002     -3.555      0.000      -0.010      -0.003\n",
       "smokeintensity                         0.0652      0.050      1.295      0.195      -0.033       0.164\n",
       "np.square(smokeintensity)             -0.0010      0.001     -1.117      0.264      -0.003       0.001\n",
       "smokeyrs                               0.1334      0.092      1.454      0.146      -0.046       0.313\n",
       "np.square(smokeyrs)                   -0.0018      0.002     -1.183      0.237      -0.005       0.001\n",
       "wt71                                   0.0374      0.083      0.449      0.653      -0.126       0.200\n",
       "np.square(wt71)                       -0.0009      0.001     -1.749      0.080      -0.002       0.000\n",
       "======================================================================================================\n",
       "\"\"\""
      ]
     },
     "execution_count": 134,
     "metadata": {},
     "output_type": "execute_result"
    }
   ],
   "source": [
    "mod3 = smf.glm(formula=formula, data=onesample).fit()\n",
    "mod3.summary()"
   ]
  },
  {
   "cell_type": "code",
   "execution_count": 135,
   "metadata": {},
   "outputs": [
    {
     "data": {
      "text/plain": [
       "interv\n",
       "-1    2.638300\n",
       " 0    1.747216\n",
       " 1    5.209838\n",
       "Name: meanY, dtype: float64"
      ]
     },
     "execution_count": 135,
     "metadata": {},
     "output_type": "execute_result"
    }
   ],
   "source": [
    "onesample['meanY'] = mod3.predict(onesample)\n",
    "onesample.groupby(['interv'])['meanY'].mean()"
   ]
  },
  {
   "cell_type": "markdown",
   "metadata": {},
   "source": [
    "################################################################\n",
    "\n",
    "## PROGRAM 13.4\n",
    "\n",
    "Computing the 95% confidence interval of the standardized means \n",
    "\n",
    "and their difference: Data from NHEFS\n",
    "\n",
    "################################################################"
   ]
  },
  {
   "cell_type": "code",
   "execution_count": 136,
   "metadata": {
    "collapsed": true
   },
   "outputs": [],
   "source": [
    "# Compute basic bootstrap confidence interval.\n",
    "# Below is the function to estimate mean outcome in each of the groups \n",
    "# interv=-1, interv=0 & interv=1 conditional on treatment and confounders,\n",
    "# also include the mean outcome of interv = 1 vs. interv = 0"
   ]
  },
  {
   "cell_type": "code",
   "execution_count": 137,
   "metadata": {
    "collapsed": true
   },
   "outputs": [],
   "source": [
    "def bootstrap_resample(X, n=None):\n",
    "    \"\"\" Bootstrap resample an array_like\n",
    "    Parameters\n",
    "    ----------\n",
    "    X : array_like\n",
    "      data to resample\n",
    "    n : int, optional\n",
    "      length of resampled array, equal to len(X) if n==None\n",
    "    Results\n",
    "    -------\n",
    "    returns X_resamples\n",
    "    \"\"\"\n",
    "    if isinstance(X, pd.Series):\n",
    "        X = X.copy()\n",
    "        X.index = range(len(X.index))\n",
    "    if n == None:\n",
    "        n = len(X)\n",
    "        \n",
    "    resample_i = np.floor(np.random.rand(n)*len(X)).astype(int)\n",
    "    X_resample = np.array(X[resample_i])  # TODO: write a test demonstrating why array() is important\n",
    "    return X_resample"
   ]
  },
  {
   "cell_type": "code",
   "execution_count": 138,
   "metadata": {
    "collapsed": true
   },
   "outputs": [],
   "source": [
    "df_resampled = pd.DataFrame(index=onesample.index,\\\n",
    "                            columns=onesample.columns.tolist()\n",
    "                           )"
   ]
  },
  {
   "cell_type": "code",
   "execution_count": 139,
   "metadata": {},
   "outputs": [
    {
     "data": {
      "text/plain": [
       "(4698, 68)"
      ]
     },
     "execution_count": 139,
     "metadata": {},
     "output_type": "execute_result"
    }
   ],
   "source": [
    "onesample.shape"
   ]
  },
  {
   "cell_type": "code",
   "execution_count": 140,
   "metadata": {
    "collapsed": true
   },
   "outputs": [],
   "source": [
    "df_resampled = onesample.loc[bootstrap_resample(onesample.index,100)].copy()\n"
   ]
  },
  {
   "cell_type": "code",
   "execution_count": 141,
   "metadata": {},
   "outputs": [
    {
     "data": {
      "text/plain": [
       "(300, 68)"
      ]
     },
     "execution_count": 141,
     "metadata": {},
     "output_type": "execute_result"
    }
   ],
   "source": [
    "df_resampled.shape"
   ]
  },
  {
   "cell_type": "code",
   "execution_count": 142,
   "metadata": {},
   "outputs": [
    {
     "data": {
      "text/plain": [
       "'wt82_71 ~ C(qsmk) + C(sex) + C(race) + age + np.square(age) + C(education) + smokeintensity + np.square(smokeintensity) + smokeyrs + np.square(smokeyrs) + C(exercise) + C(active) + wt71 + np.square(wt71)'"
      ]
     },
     "execution_count": 142,
     "metadata": {},
     "output_type": "execute_result"
    }
   ],
   "source": [
    "formulaBS  = 'wt82_71 ~ C(qsmk) + C(sex) + C(race) + age + np.square(age) + C(education) + smokeintensity + ' \n",
    "formulaBS += 'np.square(smokeintensity) + smokeyrs + np.square(smokeyrs) + C(exercise) + C(active) + '\n",
    "formulaBS += 'wt71 + np.square(wt71)'\n",
    "formulaBS"
   ]
  },
  {
   "cell_type": "code",
   "execution_count": 143,
   "metadata": {},
   "outputs": [
    {
     "data": {
      "text/plain": [
       "interv\n",
       "-1    3.605602\n",
       " 0    2.513834\n",
       " 1    6.278552\n",
       "Name: meanY, dtype: float64"
      ]
     },
     "execution_count": 143,
     "metadata": {},
     "output_type": "execute_result"
    }
   ],
   "source": [
    "mod3 = smf.glm(formula=formulaBS, data=df_resampled).fit()\n",
    "df_resampled['meanY'] = mod3.predict(df_resampled)\n",
    "df_resampled.groupby(['interv'])['meanY'].mean()"
   ]
  },
  {
   "cell_type": "code",
   "execution_count": 145,
   "metadata": {},
   "outputs": [
    {
     "data": {
      "text/plain": [
       "[3.6056023722054595, 2.5138340713893834, 6.278552350065513]"
      ]
     },
     "execution_count": 145,
     "metadata": {},
     "output_type": "execute_result"
    }
   ],
   "source": [
    "std_mean_sm = df_resampled.groupby(['interv'])['meanY'].mean().tolist()\n",
    "std_mean_sm"
   ]
  },
  {
   "cell_type": "code",
   "execution_count": 146,
   "metadata": {},
   "outputs": [
    {
     "data": {
      "text/plain": [
       "[3.6056023722054595, 2.5138340713893834, 6.278552350065513, 3.7647182786761295]"
      ]
     },
     "execution_count": 146,
     "metadata": {},
     "output_type": "execute_result"
    }
   ],
   "source": [
    "std_mean_sm + [ std_mean_sm[2] - std_mean_sm[1]]"
   ]
  },
  {
   "cell_type": "code",
   "execution_count": 147,
   "metadata": {},
   "outputs": [
    {
     "data": {
      "text/plain": [
       "[4.691376436643867, 4.13650319265165, 4.13650319265165]"
      ]
     },
     "execution_count": 147,
     "metadata": {},
     "output_type": "execute_result"
    }
   ],
   "source": [
    "std_mean_std = df_resampled.groupby(['interv'])['meanY'].std().tolist()\n",
    "std_mean_std"
   ]
  },
  {
   "cell_type": "markdown",
   "metadata": {},
   "source": [
    "################################################################\n",
    "\n",
    "## PROGRAM 14.1\n",
    "\n",
    "Preprocessing, ranks of extreme observations, IP weights for censoring\n",
    "\n",
    "Data from NHEFS\n",
    "\n",
    "################################################################\n"
   ]
  },
  {
   "cell_type": "code",
   "execution_count": 148,
   "metadata": {
    "collapsed": true
   },
   "outputs": [],
   "source": [
    "nhefs = pd.read_csv('nhefs.csv')\n",
    "nhefs.set_index('seqn', inplace=True)"
   ]
  },
  {
   "cell_type": "code",
   "execution_count": 149,
   "metadata": {
    "collapsed": true
   },
   "outputs": [],
   "source": [
    "nhefs.insert(0, 'id', range(1, len(nhefs)+1))"
   ]
  },
  {
   "cell_type": "code",
   "execution_count": 150,
   "metadata": {
    "collapsed": true
   },
   "outputs": [],
   "source": [
    "nhefs['cens'] = nhefs['wt82'].isnull().apply(lambda x: int(x))\n",
    "nhefs['older'] = ((nhefs['age'] > 50) & nhefs['age'].notnull()).apply(int)"
   ]
  },
  {
   "cell_type": "code",
   "execution_count": 151,
   "metadata": {},
   "outputs": [
    {
     "name": "stderr",
     "output_type": "stream",
     "text": [
      "C:\\ProgramData\\Anaconda3\\lib\\site-packages\\ipykernel_launcher.py:1: SettingWithCopyWarning: \n",
      "A value is trying to be set on a copy of a slice from a DataFrame\n",
      "\n",
      "See the caveats in the documentation: http://pandas.pydata.org/pandas-docs/stable/indexing.html#indexing-view-versus-copy\n",
      "  \"\"\"Entry point for launching an IPython kernel.\n"
     ]
    }
   ],
   "source": [
    "nhefs['school'][nhefs['school'].isnull()] = -10"
   ]
  },
  {
   "cell_type": "code",
   "execution_count": 152,
   "metadata": {},
   "outputs": [
    {
     "data": {
      "text/plain": [
       "117"
      ]
     },
     "execution_count": 152,
     "metadata": {},
     "output_type": "execute_result"
    }
   ],
   "source": [
    "nhefs['school'][nhefs['school']== -10].count()"
   ]
  },
  {
   "cell_type": "code",
   "execution_count": 153,
   "metadata": {
    "collapsed": true
   },
   "outputs": [],
   "source": [
    "nhefs['education_code'] = nhefs['school'].apply(lambda s: 1 if s in range(0,9)\\\n",
    "                                                else (2 if s in range(9,11)\\\n",
    "                                                else (3 if s == 12\\\n",
    "                                                else (4 if s in range(13,16)\\\n",
    "                                                else (5 if s >= 16\\\n",
    "                                                else (6 if s == -10\\\n",
    "                                                else s))))))"
   ]
  },
  {
   "cell_type": "code",
   "execution_count": 154,
   "metadata": {
    "collapsed": true
   },
   "outputs": [],
   "source": [
    "nhefs['education'] =\\\n",
    "nhefs['education_code'].apply(lambda s: '1. 8th grade or less' if s==1\\\n",
    "                              else ('2. HS dropout' if s==2\\\n",
    "                              else ('3. HS'  if s==3\\\n",
    "                              else ('4. College dropout' if s==4\\\n",
    "                              else ('5. College or more' if s==5\\\n",
    "                              else (np.nan if s==6 else s))))))"
   ]
  },
  {
   "cell_type": "code",
   "execution_count": 155,
   "metadata": {},
   "outputs": [
    {
     "data": {
      "text/plain": [
       "(1746, 65)"
      ]
     },
     "execution_count": 155,
     "metadata": {},
     "output_type": "execute_result"
    }
   ],
   "source": [
    "# with non-missing values in the following covariates\n",
    "nhefs_original = nhefs.copy() # Original data saved for later use\n",
    "nhefs.shape"
   ]
  },
  {
   "cell_type": "code",
   "execution_count": 156,
   "metadata": {},
   "outputs": [
    {
     "data": {
      "text/plain": [
       "(1746, 15)"
      ]
     },
     "execution_count": 156,
     "metadata": {},
     "output_type": "execute_result"
    }
   ],
   "source": [
    "nhefs_all = nhefs_original[['id','qsmk','sex','race',\\\n",
    "                            'age','school','smokeintensity',\\\n",
    "                            'smokeyrs','exercise','active',\\\n",
    "                            'wt71','wt82','education','cens','wt82_71']]\n",
    "nhefs_all.shape"
   ]
  },
  {
   "cell_type": "code",
   "execution_count": 157,
   "metadata": {},
   "outputs": [
    {
     "data": {
      "text/plain": [
       "(1629, 15)"
      ]
     },
     "execution_count": 157,
     "metadata": {},
     "output_type": "execute_result"
    }
   ],
   "source": [
    "nhefs_nonmissing = nhefs_all[nhefs_all['education'].notnull()].copy()\n",
    "nhefs_nonmissing.shape"
   ]
  },
  {
   "cell_type": "code",
   "execution_count": 158,
   "metadata": {},
   "outputs": [
    {
     "data": {
      "text/plain": [
       "(1566, 15)"
      ]
     },
     "execution_count": 158,
     "metadata": {},
     "output_type": "execute_result"
    }
   ],
   "source": [
    "# restricting data for uncensored\n",
    "nhefs0 = nhefs_nonmissing[nhefs_nonmissing['cens'] == 0].copy()\n",
    "nhefs0.shape"
   ]
  },
  {
   "cell_type": "code",
   "execution_count": 159,
   "metadata": {},
   "outputs": [
    {
     "data": {
      "text/plain": [
       "count    1566.000000\n",
       "mean        2.638300\n",
       "std         7.879913\n",
       "min       -41.280470\n",
       "25%        -1.478399\n",
       "50%         2.603811\n",
       "75%         6.689581\n",
       "max        48.538386\n",
       "Name: wt82_71, dtype: float64"
      ]
     },
     "execution_count": 159,
     "metadata": {},
     "output_type": "execute_result"
    }
   ],
   "source": [
    "nhefs0['wt82_71'].describe()"
   ]
  },
  {
   "cell_type": "markdown",
   "metadata": {},
   "source": [
    "### Ranking of Extreme Observations"
   ]
  },
  {
   "cell_type": "code",
   "execution_count": 160,
   "metadata": {},
   "outputs": [
    {
     "data": {
      "text/plain": [
       "(1629, 15)"
      ]
     },
     "execution_count": 160,
     "metadata": {},
     "output_type": "execute_result"
    }
   ],
   "source": [
    "nhefs_nonmissing.shape"
   ]
  },
  {
   "cell_type": "code",
   "execution_count": 161,
   "metadata": {},
   "outputs": [
    {
     "data": {
      "text/plain": [
       "'cens ~  C(qsmk) + C(sex) + C(race) + age + np.square(age) + C(education) + smokeintensity + np.square(smokeintensity) + smokeyrs + np.square(smokeyrs) + C(exercise) + C(active) + wt71 + np.square(wt71)'"
      ]
     },
     "execution_count": 161,
     "metadata": {},
     "output_type": "execute_result"
    }
   ],
   "source": [
    "formula1  = 'cens ~  C(qsmk) + C(sex) + C(race) + age + np.square(age) + C(education) + smokeintensity + ' \n",
    "formula1 += 'np.square(smokeintensity) + smokeyrs + np.square(smokeyrs) + C(exercise) + C(active) + '\n",
    "formula1 += 'wt71 + np.square(wt71)'\n",
    "formula1"
   ]
  },
  {
   "cell_type": "code",
   "execution_count": 162,
   "metadata": {
    "scrolled": true
   },
   "outputs": [
    {
     "data": {
      "text/html": [
       "<table class=\"simpletable\">\n",
       "<caption>Generalized Linear Model Regression Results</caption>\n",
       "<tr>\n",
       "  <th>Dep. Variable:</th>        <td>cens</td>       <th>  No. Observations:  </th>  <td>  1629</td> \n",
       "</tr>\n",
       "<tr>\n",
       "  <th>Model:</th>                 <td>GLM</td>       <th>  Df Residuals:      </th>  <td>  1608</td> \n",
       "</tr>\n",
       "<tr>\n",
       "  <th>Model Family:</th>       <td>Binomial</td>     <th>  Df Model:          </th>  <td>    20</td> \n",
       "</tr>\n",
       "<tr>\n",
       "  <th>Link Function:</th>        <td>logit</td>      <th>  Scale:             </th>    <td>1.0</td>  \n",
       "</tr>\n",
       "<tr>\n",
       "  <th>Method:</th>               <td>IRLS</td>       <th>  Log-Likelihood:    </th> <td> -231.30</td>\n",
       "</tr>\n",
       "<tr>\n",
       "  <th>Date:</th>           <td>Fri, 02 Feb 2018</td> <th>  Deviance:          </th> <td>  462.59</td>\n",
       "</tr>\n",
       "<tr>\n",
       "  <th>Time:</th>               <td>03:23:39</td>     <th>  Pearson chi2:      </th> <td>1.77e+03</td>\n",
       "</tr>\n",
       "<tr>\n",
       "  <th>No. Iterations:</th>         <td>8</td>        <th>                     </th>     <td> </td>   \n",
       "</tr>\n",
       "</table>\n",
       "<table class=\"simpletable\">\n",
       "<tr>\n",
       "                    <td></td>                      <th>coef</th>     <th>std err</th>      <th>z</th>      <th>P>|z|</th>  <th>[0.025</th>    <th>0.975]</th>  \n",
       "</tr>\n",
       "<tr>\n",
       "  <th>Intercept</th>                            <td>    2.5799</td> <td>    2.709</td> <td>    0.952</td> <td> 0.341</td> <td>   -2.729</td> <td>    7.888</td>\n",
       "</tr>\n",
       "<tr>\n",
       "  <th>C(qsmk)[T.1]</th>                         <td>    0.4967</td> <td>    0.288</td> <td>    1.725</td> <td> 0.085</td> <td>   -0.068</td> <td>    1.061</td>\n",
       "</tr>\n",
       "<tr>\n",
       "  <th>C(sex)[T.1]</th>                          <td>    0.0638</td> <td>    0.332</td> <td>    0.192</td> <td> 0.848</td> <td>   -0.586</td> <td>    0.714</td>\n",
       "</tr>\n",
       "<tr>\n",
       "  <th>C(race)[T.1]</th>                         <td>   -0.0003</td> <td>    0.452</td> <td>   -0.001</td> <td> 1.000</td> <td>   -0.886</td> <td>    0.886</td>\n",
       "</tr>\n",
       "<tr>\n",
       "  <th>C(education)[T.1. 8th grade or less]</th> <td>    1.7197</td> <td>    1.085</td> <td>    1.585</td> <td> 0.113</td> <td>   -0.406</td> <td>    3.846</td>\n",
       "</tr>\n",
       "<tr>\n",
       "  <th>C(education)[T.2. HS dropout]</th>        <td>    1.5357</td> <td>    1.102</td> <td>    1.393</td> <td> 0.164</td> <td>   -0.625</td> <td>    3.696</td>\n",
       "</tr>\n",
       "<tr>\n",
       "  <th>C(education)[T.3. HS]</th>                <td>    1.5473</td> <td>    1.075</td> <td>    1.439</td> <td> 0.150</td> <td>   -0.560</td> <td>    3.654</td>\n",
       "</tr>\n",
       "<tr>\n",
       "  <th>C(education)[T.4. College dropout]</th>   <td>    1.8534</td> <td>    1.157</td> <td>    1.602</td> <td> 0.109</td> <td>   -0.415</td> <td>    4.122</td>\n",
       "</tr>\n",
       "<tr>\n",
       "  <th>C(education)[T.5. College or more]</th>   <td>    1.3365</td> <td>    1.156</td> <td>    1.156</td> <td> 0.248</td> <td>   -0.929</td> <td>    3.602</td>\n",
       "</tr>\n",
       "<tr>\n",
       "  <th>C(exercise)[T.1]</th>                     <td>   -0.9585</td> <td>    0.388</td> <td>   -2.467</td> <td> 0.014</td> <td>   -1.720</td> <td>   -0.197</td>\n",
       "</tr>\n",
       "<tr>\n",
       "  <th>C(exercise)[T.2]</th>                     <td>   -0.5607</td> <td>    0.373</td> <td>   -1.504</td> <td> 0.133</td> <td>   -1.292</td> <td>    0.170</td>\n",
       "</tr>\n",
       "<tr>\n",
       "  <th>C(active)[T.1]</th>                       <td>   -0.2603</td> <td>    0.327</td> <td>   -0.796</td> <td> 0.426</td> <td>   -0.901</td> <td>    0.381</td>\n",
       "</tr>\n",
       "<tr>\n",
       "  <th>C(active)[T.2]</th>                       <td>    0.6995</td> <td>    0.398</td> <td>    1.759</td> <td> 0.079</td> <td>   -0.080</td> <td>    1.479</td>\n",
       "</tr>\n",
       "<tr>\n",
       "  <th>age</th>                                  <td>   -0.2696</td> <td>    0.118</td> <td>   -2.294</td> <td> 0.022</td> <td>   -0.500</td> <td>   -0.039</td>\n",
       "</tr>\n",
       "<tr>\n",
       "  <th>np.square(age)</th>                       <td>    0.0029</td> <td>    0.001</td> <td>    2.584</td> <td> 0.010</td> <td>    0.001</td> <td>    0.005</td>\n",
       "</tr>\n",
       "<tr>\n",
       "  <th>smokeintensity</th>                       <td>    0.0153</td> <td>    0.035</td> <td>    0.442</td> <td> 0.658</td> <td>   -0.053</td> <td>    0.083</td>\n",
       "</tr>\n",
       "<tr>\n",
       "  <th>np.square(smokeintensity)</th>            <td>   -0.0001</td> <td>    0.001</td> <td>   -0.183</td> <td> 0.855</td> <td>   -0.001</td> <td>    0.001</td>\n",
       "</tr>\n",
       "<tr>\n",
       "  <th>smokeyrs</th>                             <td>    0.0807</td> <td>    0.075</td> <td>    1.075</td> <td> 0.282</td> <td>   -0.066</td> <td>    0.228</td>\n",
       "</tr>\n",
       "<tr>\n",
       "  <th>np.square(smokeyrs)</th>                  <td>   -0.0006</td> <td>    0.001</td> <td>   -0.575</td> <td> 0.566</td> <td>   -0.003</td> <td>    0.001</td>\n",
       "</tr>\n",
       "<tr>\n",
       "  <th>wt71</th>                                 <td>   -0.0956</td> <td>    0.042</td> <td>   -2.295</td> <td> 0.022</td> <td>   -0.177</td> <td>   -0.014</td>\n",
       "</tr>\n",
       "<tr>\n",
       "  <th>np.square(wt71)</th>                      <td>    0.0007</td> <td>    0.000</td> <td>    2.878</td> <td> 0.004</td> <td>    0.000</td> <td>    0.001</td>\n",
       "</tr>\n",
       "</table>"
      ],
      "text/plain": [
       "<class 'statsmodels.iolib.summary.Summary'>\n",
       "\"\"\"\n",
       "                 Generalized Linear Model Regression Results                  \n",
       "==============================================================================\n",
       "Dep. Variable:                   cens   No. Observations:                 1629\n",
       "Model:                            GLM   Df Residuals:                     1608\n",
       "Model Family:                Binomial   Df Model:                           20\n",
       "Link Function:                  logit   Scale:                             1.0\n",
       "Method:                          IRLS   Log-Likelihood:                -231.30\n",
       "Date:                Fri, 02 Feb 2018   Deviance:                       462.59\n",
       "Time:                        03:23:39   Pearson chi2:                 1.77e+03\n",
       "No. Iterations:                     8                                         \n",
       "========================================================================================================\n",
       "                                           coef    std err          z      P>|z|      [0.025      0.975]\n",
       "--------------------------------------------------------------------------------------------------------\n",
       "Intercept                                2.5799      2.709      0.952      0.341      -2.729       7.888\n",
       "C(qsmk)[T.1]                             0.4967      0.288      1.725      0.085      -0.068       1.061\n",
       "C(sex)[T.1]                              0.0638      0.332      0.192      0.848      -0.586       0.714\n",
       "C(race)[T.1]                            -0.0003      0.452     -0.001      1.000      -0.886       0.886\n",
       "C(education)[T.1. 8th grade or less]     1.7197      1.085      1.585      0.113      -0.406       3.846\n",
       "C(education)[T.2. HS dropout]            1.5357      1.102      1.393      0.164      -0.625       3.696\n",
       "C(education)[T.3. HS]                    1.5473      1.075      1.439      0.150      -0.560       3.654\n",
       "C(education)[T.4. College dropout]       1.8534      1.157      1.602      0.109      -0.415       4.122\n",
       "C(education)[T.5. College or more]       1.3365      1.156      1.156      0.248      -0.929       3.602\n",
       "C(exercise)[T.1]                        -0.9585      0.388     -2.467      0.014      -1.720      -0.197\n",
       "C(exercise)[T.2]                        -0.5607      0.373     -1.504      0.133      -1.292       0.170\n",
       "C(active)[T.1]                          -0.2603      0.327     -0.796      0.426      -0.901       0.381\n",
       "C(active)[T.2]                           0.6995      0.398      1.759      0.079      -0.080       1.479\n",
       "age                                     -0.2696      0.118     -2.294      0.022      -0.500      -0.039\n",
       "np.square(age)                           0.0029      0.001      2.584      0.010       0.001       0.005\n",
       "smokeintensity                           0.0153      0.035      0.442      0.658      -0.053       0.083\n",
       "np.square(smokeintensity)               -0.0001      0.001     -0.183      0.855      -0.001       0.001\n",
       "smokeyrs                                 0.0807      0.075      1.075      0.282      -0.066       0.228\n",
       "np.square(smokeyrs)                     -0.0006      0.001     -0.575      0.566      -0.003       0.001\n",
       "wt71                                    -0.0956      0.042     -2.295      0.022      -0.177      -0.014\n",
       "np.square(wt71)                          0.0007      0.000      2.878      0.004       0.000       0.001\n",
       "========================================================================================================\n",
       "\"\"\""
      ]
     },
     "execution_count": 162,
     "metadata": {},
     "output_type": "execute_result"
    }
   ],
   "source": [
    "mod3 = smf.glm(formula=formula1, data=nhefs_nonmissing,\n",
    "               family=sm.families.Binomial(sm.families.links.logit)).fit()\n",
    "mod3.summary()"
   ]
  },
  {
   "cell_type": "code",
   "execution_count": 163,
   "metadata": {},
   "outputs": [
    {
     "data": {
      "text/plain": [
       "count    1566.000000\n",
       "mean        1.038996\n",
       "std         0.055925\n",
       "min         1.000733\n",
       "25%         1.012868\n",
       "50%         1.022800\n",
       "75%         1.043285\n",
       "max         1.796786\n",
       "Name: w_cens, dtype: float64"
      ]
     },
     "execution_count": 163,
     "metadata": {},
     "output_type": "execute_result"
    }
   ],
   "source": [
    "nhefs0['w_cens'] = 1/(1-mod3.predict(nhefs0))\n",
    "nhefs0['w_cens'].describe()"
   ]
  },
  {
   "cell_type": "markdown",
   "metadata": {},
   "source": [
    "##################################################################\n",
    "##  PROGRAM 14.2\n",
    "\n",
    "G-estimation of a 1-parameter structural nested mean model\n",
    "\n",
    "Brute force search\n",
    "\n",
    "Data from NHEFS\n",
    "\n",
    "##################################################################"
   ]
  },
  {
   "cell_type": "code",
   "execution_count": 164,
   "metadata": {
    "collapsed": true
   },
   "outputs": [],
   "source": [
    "nhefs_g_est = nhefs0.copy()"
   ]
  },
  {
   "cell_type": "code",
   "execution_count": 165,
   "metadata": {
    "collapsed": true
   },
   "outputs": [],
   "source": [
    "nhefs_g_est['Hpsi'] = nhefs_g_est['wt82_71'] - (3.446 * nhefs_g_est['qsmk'])"
   ]
  },
  {
   "cell_type": "code",
   "execution_count": 166,
   "metadata": {},
   "outputs": [
    {
     "data": {
      "text/plain": [
       "'qsmk ~ C(sex) + C(race) + age + np.square(age) + C(education) + smokeintensity + np.square(smokeintensity) + smokeyrs + np.square(smokeyrs) + C(exercise) + C(active) + wt71 + np.square(wt71) + Hpsi'"
      ]
     },
     "execution_count": 166,
     "metadata": {},
     "output_type": "execute_result"
    }
   ],
   "source": [
    "formula1  = 'qsmk ~ C(sex) + C(race) + age + np.square(age) + C(education) + smokeintensity + ' \n",
    "formula1 += 'np.square(smokeintensity) + smokeyrs + np.square(smokeyrs) + C(exercise) + C(active) + '\n",
    "formula1 += 'wt71 + np.square(wt71) + Hpsi'\n",
    "formula1"
   ]
  },
  {
   "cell_type": "code",
   "execution_count": 167,
   "metadata": {
    "collapsed": true
   },
   "outputs": [],
   "source": [
    "geeglm = sm.GEE.from_formula(formula1,data=nhefs_g_est,\\\n",
    "                            weights=nhefs_g_est['w_cens'],\\\n",
    "                            cov_struct = sm.cov_struct.Independence(),\\\n",
    "                            family=sm.families.Binomial(sm.families.links.logit),\\\n",
    "                            groups='qsmk')\n"
   ]
  },
  {
   "cell_type": "code",
   "execution_count": 168,
   "metadata": {},
   "outputs": [
    {
     "data": {
      "text/html": [
       "<table class=\"simpletable\">\n",
       "<caption>GEE Regression Results</caption>\n",
       "<tr>\n",
       "  <th>Dep. Variable:</th>                <td>qsmk</td>         <th>  No. Observations:  </th>   <td>1566</td>  \n",
       "</tr>\n",
       "<tr>\n",
       "  <th>Model:</th>                         <td>GEE</td>         <th>  No. clusters:      </th>     <td>2</td>   \n",
       "</tr>\n",
       "<tr>\n",
       "  <th>Method:</th>                    <td>Generalized</td>     <th>  Min. cluster size: </th>    <td>403</td>  \n",
       "</tr>\n",
       "<tr>\n",
       "  <th></th>                      <td>Estimating Equations</td> <th>  Max. cluster size: </th>   <td>1163</td>  \n",
       "</tr>\n",
       "<tr>\n",
       "  <th>Family:</th>                     <td>Binomial</td>       <th>  Mean cluster size: </th>   <td>783.0</td> \n",
       "</tr>\n",
       "<tr>\n",
       "  <th>Dependence structure:</th>     <td>Independence</td>     <th>  Num. iterations:   </th>     <td>6</td>   \n",
       "</tr>\n",
       "<tr>\n",
       "  <th>Date:</th>                   <td>Fri, 02 Feb 2018</td>   <th>  Scale:             </th>   <td>1.000</td> \n",
       "</tr>\n",
       "<tr>\n",
       "  <th>Covariance type: </th>            <td>robust</td>        <th>  Time:              </th> <td>03:23:54</td>\n",
       "</tr>\n",
       "</table>\n",
       "<table class=\"simpletable\">\n",
       "<tr>\n",
       "                    <td></td>                      <th>coef</th>     <th>std err</th>      <th>z</th>      <th>P>|z|</th>  <th>[0.025</th>    <th>0.975]</th>  \n",
       "</tr>\n",
       "<tr>\n",
       "  <th>Intercept</th>                            <td>   -2.3510</td> <td>    1.665</td> <td>   -1.412</td> <td> 0.158</td> <td>   -5.615</td> <td>    0.913</td>\n",
       "</tr>\n",
       "<tr>\n",
       "  <th>C(sex)[T.1]</th>                          <td>   -0.5284</td> <td>    0.034</td> <td>  -15.359</td> <td> 0.000</td> <td>   -0.596</td> <td>   -0.461</td>\n",
       "</tr>\n",
       "<tr>\n",
       "  <th>C(race)[T.1]</th>                         <td>   -0.8384</td> <td>    0.016</td> <td>  -51.420</td> <td> 0.000</td> <td>   -0.870</td> <td>   -0.806</td>\n",
       "</tr>\n",
       "<tr>\n",
       "  <th>C(education)[T.1. 8th grade or less]</th> <td>    0.1537</td> <td>    0.007</td> <td>   22.943</td> <td> 0.000</td> <td>    0.141</td> <td>    0.167</td>\n",
       "</tr>\n",
       "<tr>\n",
       "  <th>C(education)[T.2. HS dropout]</th>        <td>    0.1741</td> <td>    0.040</td> <td>    4.351</td> <td> 0.000</td> <td>    0.096</td> <td>    0.253</td>\n",
       "</tr>\n",
       "<tr>\n",
       "  <th>C(education)[T.3. HS]</th>                <td>    0.2383</td> <td>    0.017</td> <td>   13.734</td> <td> 0.000</td> <td>    0.204</td> <td>    0.272</td>\n",
       "</tr>\n",
       "<tr>\n",
       "  <th>C(education)[T.4. College dropout]</th>   <td>    0.2148</td> <td>    0.040</td> <td>    5.406</td> <td> 0.000</td> <td>    0.137</td> <td>    0.293</td>\n",
       "</tr>\n",
       "<tr>\n",
       "  <th>C(education)[T.5. College or more]</th>   <td>    0.6277</td> <td>    0.047</td> <td>   13.322</td> <td> 0.000</td> <td>    0.535</td> <td>    0.720</td>\n",
       "</tr>\n",
       "<tr>\n",
       "  <th>C(exercise)[T.1]</th>                     <td>    0.3569</td> <td>    0.003</td> <td>  137.727</td> <td> 0.000</td> <td>    0.352</td> <td>    0.362</td>\n",
       "</tr>\n",
       "<tr>\n",
       "  <th>C(exercise)[T.2]</th>                     <td>    0.3989</td> <td>    0.037</td> <td>   10.694</td> <td> 0.000</td> <td>    0.326</td> <td>    0.472</td>\n",
       "</tr>\n",
       "<tr>\n",
       "  <th>C(active)[T.1]</th>                       <td>    0.0331</td> <td>    0.031</td> <td>    1.059</td> <td> 0.290</td> <td>   -0.028</td> <td>    0.094</td>\n",
       "</tr>\n",
       "<tr>\n",
       "  <th>C(active)[T.2]</th>                       <td>    0.1786</td> <td>    0.007</td> <td>   27.203</td> <td> 0.000</td> <td>    0.166</td> <td>    0.191</td>\n",
       "</tr>\n",
       "<tr>\n",
       "  <th>age</th>                                  <td>    0.1215</td> <td>    0.001</td> <td>  165.801</td> <td> 0.000</td> <td>    0.120</td> <td>    0.123</td>\n",
       "</tr>\n",
       "<tr>\n",
       "  <th>np.square(age)</th>                       <td>   -0.0008</td> <td> 4.29e-06</td> <td> -192.955</td> <td> 0.000</td> <td>   -0.001</td> <td>   -0.001</td>\n",
       "</tr>\n",
       "<tr>\n",
       "  <th>smokeintensity</th>                       <td>   -0.0771</td> <td>    0.001</td> <td>  -55.121</td> <td> 0.000</td> <td>   -0.080</td> <td>   -0.074</td>\n",
       "</tr>\n",
       "<tr>\n",
       "  <th>np.square(smokeintensity)</th>            <td>    0.0010</td> <td> 5.32e-05</td> <td>   19.589</td> <td> 0.000</td> <td>    0.001</td> <td>    0.001</td>\n",
       "</tr>\n",
       "<tr>\n",
       "  <th>smokeyrs</th>                             <td>   -0.0738</td> <td>    0.001</td> <td> -139.009</td> <td> 0.000</td> <td>   -0.075</td> <td>   -0.073</td>\n",
       "</tr>\n",
       "<tr>\n",
       "  <th>np.square(smokeyrs)</th>                  <td>    0.0008</td> <td> 1.18e-05</td> <td>   71.778</td> <td> 0.000</td> <td>    0.001</td> <td>    0.001</td>\n",
       "</tr>\n",
       "<tr>\n",
       "  <th>wt71</th>                                 <td>   -0.0169</td> <td>    0.007</td> <td>   -2.486</td> <td> 0.013</td> <td>   -0.030</td> <td>   -0.004</td>\n",
       "</tr>\n",
       "<tr>\n",
       "  <th>np.square(wt71)</th>                      <td>    0.0001</td> <td>  3.8e-05</td> <td>    3.828</td> <td> 0.000</td> <td>  7.1e-05</td> <td>    0.000</td>\n",
       "</tr>\n",
       "<tr>\n",
       "  <th>Hpsi</th>                                 <td>    0.0003</td> <td>    0.001</td> <td>    0.281</td> <td> 0.779</td> <td>   -0.002</td> <td>    0.002</td>\n",
       "</tr>\n",
       "</table>\n",
       "<table class=\"simpletable\">\n",
       "<tr>\n",
       "  <th>Skew:</th>          <td>      1.0177</td> <th>  Kurtosis:          </th> <td>     -0.5954</td>\n",
       "</tr>\n",
       "<tr>\n",
       "  <th>Centered skew:</th> <td>     -0.8634</td> <th>  Centered kurtosis: </th> <td>      0.7992</td>\n",
       "</tr>\n",
       "</table>"
      ],
      "text/plain": [
       "<class 'statsmodels.iolib.summary.Summary'>\n",
       "\"\"\"\n",
       "                               GEE Regression Results                              \n",
       "===================================================================================\n",
       "Dep. Variable:                        qsmk   No. Observations:                 1566\n",
       "Model:                                 GEE   No. clusters:                        2\n",
       "Method:                        Generalized   Min. cluster size:                 403\n",
       "                      Estimating Equations   Max. cluster size:                1163\n",
       "Family:                           Binomial   Mean cluster size:               783.0\n",
       "Dependence structure:         Independence   Num. iterations:                     6\n",
       "Date:                     Fri, 02 Feb 2018   Scale:                           1.000\n",
       "Covariance type:                    robust   Time:                         03:23:54\n",
       "========================================================================================================\n",
       "                                           coef    std err          z      P>|z|      [0.025      0.975]\n",
       "--------------------------------------------------------------------------------------------------------\n",
       "Intercept                               -2.3510      1.665     -1.412      0.158      -5.615       0.913\n",
       "C(sex)[T.1]                             -0.5284      0.034    -15.359      0.000      -0.596      -0.461\n",
       "C(race)[T.1]                            -0.8384      0.016    -51.420      0.000      -0.870      -0.806\n",
       "C(education)[T.1. 8th grade or less]     0.1537      0.007     22.943      0.000       0.141       0.167\n",
       "C(education)[T.2. HS dropout]            0.1741      0.040      4.351      0.000       0.096       0.253\n",
       "C(education)[T.3. HS]                    0.2383      0.017     13.734      0.000       0.204       0.272\n",
       "C(education)[T.4. College dropout]       0.2148      0.040      5.406      0.000       0.137       0.293\n",
       "C(education)[T.5. College or more]       0.6277      0.047     13.322      0.000       0.535       0.720\n",
       "C(exercise)[T.1]                         0.3569      0.003    137.727      0.000       0.352       0.362\n",
       "C(exercise)[T.2]                         0.3989      0.037     10.694      0.000       0.326       0.472\n",
       "C(active)[T.1]                           0.0331      0.031      1.059      0.290      -0.028       0.094\n",
       "C(active)[T.2]                           0.1786      0.007     27.203      0.000       0.166       0.191\n",
       "age                                      0.1215      0.001    165.801      0.000       0.120       0.123\n",
       "np.square(age)                          -0.0008   4.29e-06   -192.955      0.000      -0.001      -0.001\n",
       "smokeintensity                          -0.0771      0.001    -55.121      0.000      -0.080      -0.074\n",
       "np.square(smokeintensity)                0.0010   5.32e-05     19.589      0.000       0.001       0.001\n",
       "smokeyrs                                -0.0738      0.001   -139.009      0.000      -0.075      -0.073\n",
       "np.square(smokeyrs)                      0.0008   1.18e-05     71.778      0.000       0.001       0.001\n",
       "wt71                                    -0.0169      0.007     -2.486      0.013      -0.030      -0.004\n",
       "np.square(wt71)                          0.0001    3.8e-05      3.828      0.000     7.1e-05       0.000\n",
       "Hpsi                                     0.0003      0.001      0.281      0.779      -0.002       0.002\n",
       "==============================================================================\n",
       "Skew:                          1.0177   Kurtosis:                      -0.5954\n",
       "Centered skew:                -0.8634   Centered kurtosis:              0.7992\n",
       "==============================================================================\n",
       "\"\"\""
      ]
     },
     "execution_count": 168,
     "metadata": {},
     "output_type": "execute_result"
    }
   ],
   "source": [
    "gee_res = geeglm.fit()\n",
    "gee_res.summary()"
   ]
  },
  {
   "cell_type": "code",
   "execution_count": 169,
   "metadata": {},
   "outputs": [
    {
     "data": {
      "text/plain": [
       "0.00031157511660438638"
      ]
     },
     "execution_count": 169,
     "metadata": {},
     "output_type": "execute_result"
    }
   ],
   "source": [
    "gee_res.params['Hpsi']"
   ]
  },
  {
   "cell_type": "code",
   "execution_count": 170,
   "metadata": {},
   "outputs": [
    {
     "data": {
      "text/plain": [
       "0   -0.001863\n",
       "1    0.002486\n",
       "Name: Hpsi, dtype: float64"
      ]
     },
     "execution_count": 170,
     "metadata": {},
     "output_type": "execute_result"
    }
   ],
   "source": [
    "gee_res.conf_int().loc['Hpsi']"
   ]
  },
  {
   "cell_type": "markdown",
   "metadata": {},
   "source": [
    "##################################################################\n",
    "## G-estimation: Checking multiple possible values of psi\n",
    "##################################################################"
   ]
  },
  {
   "cell_type": "code",
   "execution_count": 171,
   "metadata": {
    "collapsed": true
   },
   "outputs": [],
   "source": [
    "dta= nhefs_g_est.copy()\n",
    "grid = np.arange(2, 5.1, 0.1)"
   ]
  },
  {
   "cell_type": "code",
   "execution_count": 172,
   "metadata": {
    "collapsed": true
   },
   "outputs": [],
   "source": [
    "store_Hpsi_coefs = np.zeros(len(grid))"
   ]
  },
  {
   "cell_type": "code",
   "execution_count": 173,
   "metadata": {
    "collapsed": true
   },
   "outputs": [],
   "source": [
    "j = 0\n",
    "for i in grid:\n",
    "    \n",
    "    \n",
    "    nhefs_g_est['psi'] = i\n",
    "    nhefs_g_est['Hpsi'] = list(map(lambda n: n[0]-(n[1]*n[2]),\\\n",
    "                           zip(nhefs_g_est['wt82_71'],nhefs_g_est['psi'],\\\n",
    "                               nhefs_g_est['qsmk'])))\n",
    "    \n",
    "    geeglm = sm.GEE.from_formula(formula1,data=nhefs_g_est,\\\n",
    "                            weights=nhefs_g_est['w_cens'],\\\n",
    "                            cov_struct = sm.cov_struct.Independence(),\\\n",
    "                            family=sm.families.Binomial(sm.families.links.logit),\\\n",
    "                            groups='qsmk')\n",
    "    gee_res = geeglm.fit()\n",
    "    store_Hpsi_coefs[j] = gee_res.params['Hpsi']\n",
    "    j += 1\n",
    "    "
   ]
  },
  {
   "cell_type": "code",
   "execution_count": 174,
   "metadata": {},
   "outputs": [
    {
     "data": {
      "text/plain": [
       "array([ 0.02722209,  0.0253828 ,  0.02354169,  0.0216984 ,  0.01985258,\n",
       "        0.01800387,  0.01615193,  0.01429641,  0.01243699,  0.01057337,\n",
       "        0.00870523,  0.00683231,  0.00495434,  0.00307108,  0.00118231,\n",
       "       -0.00071216, -0.00261251, -0.0045189 , -0.00643146, -0.0083503 ,\n",
       "       -0.01027552, -0.01220721, -0.01414543, -0.01609024, -0.01804166,\n",
       "       -0.01999974, -0.02196449, -0.02393593, -0.02591405, -0.02789886,\n",
       "       -0.02989034])"
      ]
     },
     "execution_count": 174,
     "metadata": {},
     "output_type": "execute_result"
    }
   ],
   "source": [
    "store_Hpsi_coefs"
   ]
  },
  {
   "cell_type": "code",
   "execution_count": 175,
   "metadata": {
    "collapsed": true
   },
   "outputs": [],
   "source": [
    "store_results = pd.DataFrame(np.array([grid,np.abs(store_Hpsi_coefs)]).T,\\\n",
    "                             columns=['grid','Hpsi_est'])"
   ]
  },
  {
   "cell_type": "code",
   "execution_count": 176,
   "metadata": {
    "scrolled": true
   },
   "outputs": [
    {
     "data": {
      "text/html": [
       "<div>\n",
       "<style>\n",
       "    .dataframe thead tr:only-child th {\n",
       "        text-align: right;\n",
       "    }\n",
       "\n",
       "    .dataframe thead th {\n",
       "        text-align: left;\n",
       "    }\n",
       "\n",
       "    .dataframe tbody tr th {\n",
       "        vertical-align: top;\n",
       "    }\n",
       "</style>\n",
       "<table border=\"1\" class=\"dataframe\">\n",
       "  <thead>\n",
       "    <tr style=\"text-align: right;\">\n",
       "      <th></th>\n",
       "      <th>grid</th>\n",
       "      <th>Hpsi_est</th>\n",
       "    </tr>\n",
       "  </thead>\n",
       "  <tbody>\n",
       "    <tr>\n",
       "      <th>15</th>\n",
       "      <td>3.5</td>\n",
       "      <td>0.000712</td>\n",
       "    </tr>\n",
       "  </tbody>\n",
       "</table>\n",
       "</div>"
      ],
      "text/plain": [
       "    grid  Hpsi_est\n",
       "15   3.5  0.000712"
      ]
     },
     "execution_count": 176,
     "metadata": {},
     "output_type": "execute_result"
    }
   ],
   "source": [
    "store_results[store_results['Hpsi_est'] == store_results['Hpsi_est'].min()]"
   ]
  },
  {
   "cell_type": "markdown",
   "metadata": {},
   "source": [
    "##################################################################\n",
    "##  PROGRAM 14.3\n",
    "\n",
    "G-estimation for 2-parameter structural nested mean model\n",
    "\n",
    "Closed form estimator\n",
    "\n",
    "Data from NHEFS\n",
    "\n",
    "##################################################################"
   ]
  },
  {
   "cell_type": "markdown",
   "metadata": {},
   "source": [
    "##################################################################\n",
    "## G-estimation: Closed form estimator linear mean models  \n",
    "##################################################################"
   ]
  },
  {
   "cell_type": "code",
   "execution_count": 177,
   "metadata": {},
   "outputs": [
    {
     "data": {
      "text/plain": [
       "'qsmk ~ sex + race + age + np.square(age) + education + smokeintensity + np.square(smokeintensity) + smokeyrs + np.square(smokeyrs) + exercise + active + wt71 + np.square(wt71)'"
      ]
     },
     "execution_count": 177,
     "metadata": {},
     "output_type": "execute_result"
    }
   ],
   "source": [
    "formula1  = 'qsmk ~ sex + race + age + np.square(age) + education + smokeintensity + ' \n",
    "formula1 += 'np.square(smokeintensity) + smokeyrs + np.square(smokeyrs) + exercise + active + '\n",
    "formula1 += 'wt71 + np.square(wt71)'\n",
    "formula1"
   ]
  },
  {
   "cell_type": "code",
   "execution_count": 178,
   "metadata": {},
   "outputs": [
    {
     "data": {
      "text/html": [
       "<table class=\"simpletable\">\n",
       "<caption>Generalized Linear Model Regression Results</caption>\n",
       "<tr>\n",
       "  <th>Dep. Variable:</th>        <td>qsmk</td>       <th>  No. Observations:  </th>  <td>  1566</td> \n",
       "</tr>\n",
       "<tr>\n",
       "  <th>Model:</th>                 <td>GLM</td>       <th>  Df Residuals:      </th>  <td>  1548</td> \n",
       "</tr>\n",
       "<tr>\n",
       "  <th>Model Family:</th>       <td>Binomial</td>     <th>  Df Model:          </th>  <td>    17</td> \n",
       "</tr>\n",
       "<tr>\n",
       "  <th>Link Function:</th>        <td>logit</td>      <th>  Scale:             </th>    <td>1.0</td>  \n",
       "</tr>\n",
       "<tr>\n",
       "  <th>Method:</th>               <td>IRLS</td>       <th>  Log-Likelihood:    </th> <td> -839.02</td>\n",
       "</tr>\n",
       "<tr>\n",
       "  <th>Date:</th>           <td>Fri, 02 Feb 2018</td> <th>  Deviance:          </th> <td>  1678.0</td>\n",
       "</tr>\n",
       "<tr>\n",
       "  <th>Time:</th>               <td>03:24:10</td>     <th>  Pearson chi2:      </th> <td>1.56e+03</td>\n",
       "</tr>\n",
       "<tr>\n",
       "  <th>No. Iterations:</th>         <td>4</td>        <th>                     </th>     <td> </td>   \n",
       "</tr>\n",
       "</table>\n",
       "<table class=\"simpletable\">\n",
       "<tr>\n",
       "                  <td></td>                     <th>coef</th>     <th>std err</th>      <th>z</th>      <th>P>|z|</th>  <th>[0.025</th>    <th>0.975]</th>  \n",
       "</tr>\n",
       "<tr>\n",
       "  <th>Intercept</th>                         <td>   -2.2261</td> <td>    1.382</td> <td>   -1.610</td> <td> 0.107</td> <td>   -4.936</td> <td>    0.483</td>\n",
       "</tr>\n",
       "<tr>\n",
       "  <th>education[T.1. 8th grade or less]</th> <td>    0.1381</td> <td>    0.295</td> <td>    0.468</td> <td> 0.640</td> <td>   -0.440</td> <td>    0.717</td>\n",
       "</tr>\n",
       "<tr>\n",
       "  <th>education[T.2. HS dropout]</th>        <td>    0.1715</td> <td>    0.303</td> <td>    0.566</td> <td> 0.571</td> <td>   -0.422</td> <td>    0.765</td>\n",
       "</tr>\n",
       "<tr>\n",
       "  <th>education[T.3. HS]</th>                <td>    0.2419</td> <td>    0.274</td> <td>    0.884</td> <td> 0.377</td> <td>   -0.294</td> <td>    0.778</td>\n",
       "</tr>\n",
       "<tr>\n",
       "  <th>education[T.4. College dropout]</th>   <td>    0.2229</td> <td>    0.341</td> <td>    0.653</td> <td> 0.514</td> <td>   -0.446</td> <td>    0.892</td>\n",
       "</tr>\n",
       "<tr>\n",
       "  <th>education[T.5. College or more]</th>   <td>    0.6305</td> <td>    0.307</td> <td>    2.053</td> <td> 0.040</td> <td>    0.029</td> <td>    1.232</td>\n",
       "</tr>\n",
       "<tr>\n",
       "  <th>sex</th>                               <td>   -0.5305</td> <td>    0.154</td> <td>   -3.454</td> <td> 0.001</td> <td>   -0.832</td> <td>   -0.229</td>\n",
       "</tr>\n",
       "<tr>\n",
       "  <th>race</th>                              <td>   -0.8497</td> <td>    0.210</td> <td>   -4.040</td> <td> 0.000</td> <td>   -1.262</td> <td>   -0.438</td>\n",
       "</tr>\n",
       "<tr>\n",
       "  <th>age</th>                               <td>    0.1222</td> <td>    0.051</td> <td>    2.388</td> <td> 0.017</td> <td>    0.022</td> <td>    0.223</td>\n",
       "</tr>\n",
       "<tr>\n",
       "  <th>np.square(age)</th>                    <td>   -0.0008</td> <td>    0.001</td> <td>   -1.566</td> <td> 0.117</td> <td>   -0.002</td> <td>    0.000</td>\n",
       "</tr>\n",
       "<tr>\n",
       "  <th>smokeintensity</th>                    <td>   -0.0764</td> <td>    0.015</td> <td>   -5.019</td> <td> 0.000</td> <td>   -0.106</td> <td>   -0.047</td>\n",
       "</tr>\n",
       "<tr>\n",
       "  <th>np.square(smokeintensity)</th>         <td>    0.0010</td> <td>    0.000</td> <td>    3.591</td> <td> 0.000</td> <td>    0.000</td> <td>    0.002</td>\n",
       "</tr>\n",
       "<tr>\n",
       "  <th>smokeyrs</th>                          <td>   -0.0740</td> <td>    0.028</td> <td>   -2.667</td> <td> 0.008</td> <td>   -0.128</td> <td>   -0.020</td>\n",
       "</tr>\n",
       "<tr>\n",
       "  <th>np.square(smokeyrs)</th>               <td>    0.0009</td> <td>    0.000</td> <td>    1.849</td> <td> 0.064</td> <td>-5.11e-05</td> <td>    0.002</td>\n",
       "</tr>\n",
       "<tr>\n",
       "  <th>exercise</th>                          <td>    0.1702</td> <td>    0.089</td> <td>    1.916</td> <td> 0.055</td> <td>   -0.004</td> <td>    0.344</td>\n",
       "</tr>\n",
       "<tr>\n",
       "  <th>active</th>                            <td>    0.0798</td> <td>    0.096</td> <td>    0.831</td> <td> 0.406</td> <td>   -0.108</td> <td>    0.268</td>\n",
       "</tr>\n",
       "<tr>\n",
       "  <th>wt71</th>                              <td>   -0.0178</td> <td>    0.026</td> <td>   -0.674</td> <td> 0.501</td> <td>   -0.070</td> <td>    0.034</td>\n",
       "</tr>\n",
       "<tr>\n",
       "  <th>np.square(wt71)</th>                   <td>    0.0002</td> <td>    0.000</td> <td>    0.915</td> <td> 0.360</td> <td>   -0.000</td> <td>    0.000</td>\n",
       "</tr>\n",
       "</table>"
      ],
      "text/plain": [
       "<class 'statsmodels.iolib.summary.Summary'>\n",
       "\"\"\"\n",
       "                 Generalized Linear Model Regression Results                  \n",
       "==============================================================================\n",
       "Dep. Variable:                   qsmk   No. Observations:                 1566\n",
       "Model:                            GLM   Df Residuals:                     1548\n",
       "Model Family:                Binomial   Df Model:                           17\n",
       "Link Function:                  logit   Scale:                             1.0\n",
       "Method:                          IRLS   Log-Likelihood:                -839.02\n",
       "Date:                Fri, 02 Feb 2018   Deviance:                       1678.0\n",
       "Time:                        03:24:10   Pearson chi2:                 1.56e+03\n",
       "No. Iterations:                     4                                         \n",
       "=====================================================================================================\n",
       "                                        coef    std err          z      P>|z|      [0.025      0.975]\n",
       "-----------------------------------------------------------------------------------------------------\n",
       "Intercept                            -2.2261      1.382     -1.610      0.107      -4.936       0.483\n",
       "education[T.1. 8th grade or less]     0.1381      0.295      0.468      0.640      -0.440       0.717\n",
       "education[T.2. HS dropout]            0.1715      0.303      0.566      0.571      -0.422       0.765\n",
       "education[T.3. HS]                    0.2419      0.274      0.884      0.377      -0.294       0.778\n",
       "education[T.4. College dropout]       0.2229      0.341      0.653      0.514      -0.446       0.892\n",
       "education[T.5. College or more]       0.6305      0.307      2.053      0.040       0.029       1.232\n",
       "sex                                  -0.5305      0.154     -3.454      0.001      -0.832      -0.229\n",
       "race                                 -0.8497      0.210     -4.040      0.000      -1.262      -0.438\n",
       "age                                   0.1222      0.051      2.388      0.017       0.022       0.223\n",
       "np.square(age)                       -0.0008      0.001     -1.566      0.117      -0.002       0.000\n",
       "smokeintensity                       -0.0764      0.015     -5.019      0.000      -0.106      -0.047\n",
       "np.square(smokeintensity)             0.0010      0.000      3.591      0.000       0.000       0.002\n",
       "smokeyrs                             -0.0740      0.028     -2.667      0.008      -0.128      -0.020\n",
       "np.square(smokeyrs)                   0.0009      0.000      1.849      0.064   -5.11e-05       0.002\n",
       "exercise                              0.1702      0.089      1.916      0.055      -0.004       0.344\n",
       "active                                0.0798      0.096      0.831      0.406      -0.108       0.268\n",
       "wt71                                 -0.0178      0.026     -0.674      0.501      -0.070       0.034\n",
       "np.square(wt71)                       0.0002      0.000      0.915      0.360      -0.000       0.000\n",
       "=====================================================================================================\n",
       "\"\"\""
      ]
     },
     "execution_count": 178,
     "metadata": {},
     "output_type": "execute_result"
    }
   ],
   "source": [
    "mod3 = smf.glm(formula=formula1, data=nhefs0,\\\n",
    "               weights=nhefs0['w_cens'],\n",
    "               family=sm.families.Binomial(sm.families.links.logit)).fit()\n",
    "mod3.summary()"
   ]
  },
  {
   "cell_type": "code",
   "execution_count": 179,
   "metadata": {
    "scrolled": true
   },
   "outputs": [
    {
     "data": {
      "text/plain": [
       "count    1566.000000\n",
       "mean        0.257344\n",
       "std         0.115634\n",
       "min         0.040330\n",
       "25%         0.176249\n",
       "50%         0.237116\n",
       "75%         0.318702\n",
       "max         0.771460\n",
       "Name: qsmk_pred, dtype: float64"
      ]
     },
     "execution_count": 179,
     "metadata": {},
     "output_type": "execute_result"
    }
   ],
   "source": [
    "nhefs0['qsmk_pred'] = mod3.predict()\n",
    "nhefs0['qsmk_pred'].describe()"
   ]
  },
  {
   "cell_type": "code",
   "execution_count": 180,
   "metadata": {
    "collapsed": true
   },
   "outputs": [],
   "source": [
    "# solve sum(w_c * H(psi) * (qsmk - E[qsmk | L]))  = 0\n",
    "# for a single psi and H(psi) = wt82_71 - psi * qsmk\n",
    "# this can be solved as psi = sum( w_c * wt82_71 * (qsmk - pqsmk)) / sum(w_c * qsmk * (qsmk - pqsmk))"
   ]
  },
  {
   "cell_type": "code",
   "execution_count": 181,
   "metadata": {},
   "outputs": [
    {
     "data": {
      "text/plain": [
       "3.453028578899382"
      ]
     },
     "execution_count": 181,
     "metadata": {},
     "output_type": "execute_result"
    }
   ],
   "source": [
    "(nhefs0['w_cens'] * nhefs0['wt82_71'] * \\\n",
    " (nhefs0['qsmk'].astype(int) - nhefs0['qsmk_pred'])).sum()\\\n",
    "/(nhefs0['w_cens'] * nhefs0['qsmk'].astype(int) * \\\n",
    "  (nhefs0['qsmk'].astype(int) - nhefs0['qsmk_pred'])).sum()"
   ]
  },
  {
   "cell_type": "markdown",
   "metadata": {},
   "source": [
    "#####################################################################################\n",
    "## G-estimation: Closed form estimator for 2-parameter model\n",
    "######################################################################################"
   ]
  },
  {
   "cell_type": "code",
   "execution_count": 182,
   "metadata": {
    "collapsed": true
   },
   "outputs": [],
   "source": [
    "diff = nhefs0['qsmk'] - nhefs0['qsmk_pred']\n",
    "diff2 = nhefs0['w_cens'] * diff"
   ]
  },
  {
   "cell_type": "code",
   "execution_count": 183,
   "metadata": {
    "collapsed": true
   },
   "outputs": [],
   "source": [
    "lhs11 = (nhefs0['qsmk'] * diff2).sum()"
   ]
  },
  {
   "cell_type": "code",
   "execution_count": 184,
   "metadata": {
    "collapsed": true
   },
   "outputs": [],
   "source": [
    "lhs1 = [(nhefs0['qsmk'] * diff2).sum(),\\\n",
    "        (nhefs0['qsmk'] * nhefs0['smokeintensity'] * diff2).sum()]       "
   ]
  },
  {
   "cell_type": "code",
   "execution_count": 185,
   "metadata": {
    "collapsed": true
   },
   "outputs": [],
   "source": [
    "lhs2 = [(nhefs0['qsmk'] * nhefs0['smokeintensity'] * diff2).sum(),\\\n",
    "        (nhefs0['qsmk'] * nhefs0['smokeintensity'] * nhefs0['smokeintensity'] * diff2).sum()]"
   ]
  },
  {
   "cell_type": "code",
   "execution_count": 186,
   "metadata": {},
   "outputs": [
    {
     "data": {
      "text/html": [
       "<div>\n",
       "<style>\n",
       "    .dataframe thead tr:only-child th {\n",
       "        text-align: right;\n",
       "    }\n",
       "\n",
       "    .dataframe thead th {\n",
       "        text-align: left;\n",
       "    }\n",
       "\n",
       "    .dataframe tbody tr th {\n",
       "        vertical-align: top;\n",
       "    }\n",
       "</style>\n",
       "<table border=\"1\" class=\"dataframe\">\n",
       "  <thead>\n",
       "    <tr style=\"text-align: right;\">\n",
       "      <th></th>\n",
       "      <th>0</th>\n",
       "      <th>1</th>\n",
       "    </tr>\n",
       "  </thead>\n",
       "  <tbody>\n",
       "    <tr>\n",
       "      <th>0</th>\n",
       "      <td>293.978781</td>\n",
       "      <td>5739.921761</td>\n",
       "    </tr>\n",
       "    <tr>\n",
       "      <th>1</th>\n",
       "      <td>5739.921761</td>\n",
       "      <td>154280.527768</td>\n",
       "    </tr>\n",
       "  </tbody>\n",
       "</table>\n",
       "</div>"
      ],
      "text/plain": [
       "             0              1\n",
       "0   293.978781    5739.921761\n",
       "1  5739.921761  154280.527768"
      ]
     },
     "execution_count": 186,
     "metadata": {},
     "output_type": "execute_result"
    }
   ],
   "source": [
    "pd.DataFrame([lhs1,lhs2])"
   ]
  },
  {
   "cell_type": "code",
   "execution_count": 187,
   "metadata": {},
   "outputs": [
    {
     "data": {
      "text/html": [
       "<div>\n",
       "<style>\n",
       "    .dataframe thead tr:only-child th {\n",
       "        text-align: right;\n",
       "    }\n",
       "\n",
       "    .dataframe thead th {\n",
       "        text-align: left;\n",
       "    }\n",
       "\n",
       "    .dataframe tbody tr th {\n",
       "        vertical-align: top;\n",
       "    }\n",
       "</style>\n",
       "<table border=\"1\" class=\"dataframe\">\n",
       "  <thead>\n",
       "    <tr style=\"text-align: right;\">\n",
       "      <th></th>\n",
       "      <th>0</th>\n",
       "    </tr>\n",
       "  </thead>\n",
       "  <tbody>\n",
       "    <tr>\n",
       "      <th>0</th>\n",
       "      <td>1015.117133</td>\n",
       "    </tr>\n",
       "    <tr>\n",
       "      <th>1</th>\n",
       "      <td>21238.601835</td>\n",
       "    </tr>\n",
       "  </tbody>\n",
       "</table>\n",
       "</div>"
      ],
      "text/plain": [
       "              0\n",
       "0   1015.117133\n",
       "1  21238.601835"
      ]
     },
     "execution_count": 187,
     "metadata": {},
     "output_type": "execute_result"
    }
   ],
   "source": [
    "rhs1 = [(nhefs0['wt82_71'] * diff2).sum(),\\\n",
    "        (nhefs0['wt82_71'] * nhefs0['smokeintensity'] * diff2).sum()]\n",
    "pd.DataFrame(rhs1)"
   ]
  },
  {
   "cell_type": "code",
   "execution_count": 188,
   "metadata": {},
   "outputs": [
    {
     "data": {
      "text/plain": [
       "array([ 2.79686465,  0.03360643])"
      ]
     },
     "execution_count": 188,
     "metadata": {},
     "output_type": "execute_result"
    }
   ],
   "source": [
    "#psi\n",
    "np.linalg.solve([lhs1,lhs2],rhs1)"
   ]
  },
  {
   "cell_type": "markdown",
   "metadata": {
    "collapsed": true
   },
   "source": [
    "################################################################################\n",
    "\n",
    "## Program 15.1                                                  \n",
    "#### Estimating the average causal effect within levels of confounders             \n",
    "#### under the assumption of effect-measure modification by smoking intensity ONLY ####\n",
    "#### Data from NHEFS                                                               \n",
    "################################################################################"
   ]
  },
  {
   "cell_type": "code",
   "execution_count": 189,
   "metadata": {
    "collapsed": true
   },
   "outputs": [],
   "source": [
    "nhefs = pd.read_csv('nhefs.csv')\n",
    "nhefs.set_index('seqn', inplace=True)"
   ]
  },
  {
   "cell_type": "code",
   "execution_count": 190,
   "metadata": {
    "collapsed": true
   },
   "outputs": [],
   "source": [
    "# define censoring variable cens\n",
    "nhefs['cens'] = nhefs['wt82_71'].isnull().apply(lambda x: 1 if x is True else 0)"
   ]
  },
  {
   "cell_type": "code",
   "execution_count": 191,
   "metadata": {
    "collapsed": true
   },
   "outputs": [],
   "source": [
    "nhefs['education'] = pd.cut(x=nhefs['school'],bins=np.array([0, 8, 11, 12, 15, 20]),\\\n",
    "       right=True,\\\n",
    "       labels=np.array(['1. 8th Grage or Less',\\\n",
    "                           '2. HS Dropout',\\\n",
    "                           '3. HS',\\\n",
    "                           '4. College Dropout',\\\n",
    "                           '5. College or More']))"
   ]
  },
  {
   "cell_type": "code",
   "execution_count": 192,
   "metadata": {
    "collapsed": true
   },
   "outputs": [],
   "source": [
    "nhefs['active'] = nhefs['active'].astype('category')\n",
    "nhefs['exercise'] = nhefs['exercise'].astype('category')"
   ]
  },
  {
   "cell_type": "code",
   "execution_count": 193,
   "metadata": {
    "collapsed": true
   },
   "outputs": [],
   "source": [
    "# create a treatment label variable\n",
    "nhefs['qsmklabel'] = nhefs['qsmk']\\\n",
    ".apply(lambda x: 'Quit Smoking 1971-1982' if x ==1 else 'Did Not Quit Smoking 1971-1982' )"
   ]
  },
  {
   "cell_type": "code",
   "execution_count": 194,
   "metadata": {
    "collapsed": true
   },
   "outputs": [],
   "source": [
    "nhefs = nhefs[nhefs['education'].notnull()]"
   ]
  },
  {
   "cell_type": "code",
   "execution_count": 195,
   "metadata": {},
   "outputs": [
    {
     "data": {
      "text/html": [
       "<div>\n",
       "<style>\n",
       "    .dataframe thead tr:only-child th {\n",
       "        text-align: right;\n",
       "    }\n",
       "\n",
       "    .dataframe thead th {\n",
       "        text-align: left;\n",
       "    }\n",
       "\n",
       "    .dataframe tbody tr th {\n",
       "        vertical-align: top;\n",
       "    }\n",
       "</style>\n",
       "<table border=\"1\" class=\"dataframe\">\n",
       "  <thead>\n",
       "    <tr style=\"text-align: right;\">\n",
       "      <th>education</th>\n",
       "      <th>1. 8th Grage or Less</th>\n",
       "      <th>2. HS Dropout</th>\n",
       "      <th>3. HS</th>\n",
       "      <th>4. College Dropout</th>\n",
       "      <th>5. College or More</th>\n",
       "    </tr>\n",
       "    <tr>\n",
       "      <th>school</th>\n",
       "      <th></th>\n",
       "      <th></th>\n",
       "      <th></th>\n",
       "      <th></th>\n",
       "      <th></th>\n",
       "    </tr>\n",
       "  </thead>\n",
       "  <tbody>\n",
       "    <tr>\n",
       "      <th>1.0</th>\n",
       "      <td>6</td>\n",
       "      <td>0</td>\n",
       "      <td>0</td>\n",
       "      <td>0</td>\n",
       "      <td>0</td>\n",
       "    </tr>\n",
       "    <tr>\n",
       "      <th>2.0</th>\n",
       "      <td>8</td>\n",
       "      <td>0</td>\n",
       "      <td>0</td>\n",
       "      <td>0</td>\n",
       "      <td>0</td>\n",
       "    </tr>\n",
       "    <tr>\n",
       "      <th>3.0</th>\n",
       "      <td>14</td>\n",
       "      <td>0</td>\n",
       "      <td>0</td>\n",
       "      <td>0</td>\n",
       "      <td>0</td>\n",
       "    </tr>\n",
       "    <tr>\n",
       "      <th>4.0</th>\n",
       "      <td>15</td>\n",
       "      <td>0</td>\n",
       "      <td>0</td>\n",
       "      <td>0</td>\n",
       "      <td>0</td>\n",
       "    </tr>\n",
       "    <tr>\n",
       "      <th>5.0</th>\n",
       "      <td>16</td>\n",
       "      <td>0</td>\n",
       "      <td>0</td>\n",
       "      <td>0</td>\n",
       "      <td>0</td>\n",
       "    </tr>\n",
       "    <tr>\n",
       "      <th>6.0</th>\n",
       "      <td>37</td>\n",
       "      <td>0</td>\n",
       "      <td>0</td>\n",
       "      <td>0</td>\n",
       "      <td>0</td>\n",
       "    </tr>\n",
       "    <tr>\n",
       "      <th>7.0</th>\n",
       "      <td>54</td>\n",
       "      <td>0</td>\n",
       "      <td>0</td>\n",
       "      <td>0</td>\n",
       "      <td>0</td>\n",
       "    </tr>\n",
       "    <tr>\n",
       "      <th>8.0</th>\n",
       "      <td>149</td>\n",
       "      <td>0</td>\n",
       "      <td>0</td>\n",
       "      <td>0</td>\n",
       "      <td>0</td>\n",
       "    </tr>\n",
       "    <tr>\n",
       "      <th>9.0</th>\n",
       "      <td>0</td>\n",
       "      <td>85</td>\n",
       "      <td>0</td>\n",
       "      <td>0</td>\n",
       "      <td>0</td>\n",
       "    </tr>\n",
       "    <tr>\n",
       "      <th>10.0</th>\n",
       "      <td>0</td>\n",
       "      <td>158</td>\n",
       "      <td>0</td>\n",
       "      <td>0</td>\n",
       "      <td>0</td>\n",
       "    </tr>\n",
       "    <tr>\n",
       "      <th>11.0</th>\n",
       "      <td>0</td>\n",
       "      <td>108</td>\n",
       "      <td>0</td>\n",
       "      <td>0</td>\n",
       "      <td>0</td>\n",
       "    </tr>\n",
       "    <tr>\n",
       "      <th>12.0</th>\n",
       "      <td>0</td>\n",
       "      <td>0</td>\n",
       "      <td>659</td>\n",
       "      <td>0</td>\n",
       "      <td>0</td>\n",
       "    </tr>\n",
       "    <tr>\n",
       "      <th>13.0</th>\n",
       "      <td>0</td>\n",
       "      <td>0</td>\n",
       "      <td>0</td>\n",
       "      <td>91</td>\n",
       "      <td>0</td>\n",
       "    </tr>\n",
       "    <tr>\n",
       "      <th>15.0</th>\n",
       "      <td>0</td>\n",
       "      <td>0</td>\n",
       "      <td>0</td>\n",
       "      <td>35</td>\n",
       "      <td>0</td>\n",
       "    </tr>\n",
       "    <tr>\n",
       "      <th>16.0</th>\n",
       "      <td>0</td>\n",
       "      <td>0</td>\n",
       "      <td>0</td>\n",
       "      <td>0</td>\n",
       "      <td>100</td>\n",
       "    </tr>\n",
       "    <tr>\n",
       "      <th>17.0</th>\n",
       "      <td>0</td>\n",
       "      <td>0</td>\n",
       "      <td>0</td>\n",
       "      <td>0</td>\n",
       "      <td>82</td>\n",
       "    </tr>\n",
       "  </tbody>\n",
       "</table>\n",
       "</div>"
      ],
      "text/plain": [
       "education  1. 8th Grage or Less  2. HS Dropout  3. HS  4. College Dropout  \\\n",
       "school                                                                      \n",
       "1.0                           6              0      0                   0   \n",
       "2.0                           8              0      0                   0   \n",
       "3.0                          14              0      0                   0   \n",
       "4.0                          15              0      0                   0   \n",
       "5.0                          16              0      0                   0   \n",
       "6.0                          37              0      0                   0   \n",
       "7.0                          54              0      0                   0   \n",
       "8.0                         149              0      0                   0   \n",
       "9.0                           0             85      0                   0   \n",
       "10.0                          0            158      0                   0   \n",
       "11.0                          0            108      0                   0   \n",
       "12.0                          0              0    659                   0   \n",
       "13.0                          0              0      0                  91   \n",
       "15.0                          0              0      0                  35   \n",
       "16.0                          0              0      0                   0   \n",
       "17.0                          0              0      0                   0   \n",
       "\n",
       "education  5. College or More  \n",
       "school                         \n",
       "1.0                         0  \n",
       "2.0                         0  \n",
       "3.0                         0  \n",
       "4.0                         0  \n",
       "5.0                         0  \n",
       "6.0                         0  \n",
       "7.0                         0  \n",
       "8.0                         0  \n",
       "9.0                         0  \n",
       "10.0                        0  \n",
       "11.0                        0  \n",
       "12.0                        0  \n",
       "13.0                        0  \n",
       "15.0                        0  \n",
       "16.0                      100  \n",
       "17.0                       82  "
      ]
     },
     "execution_count": 195,
     "metadata": {},
     "output_type": "execute_result"
    }
   ],
   "source": [
    "pd.crosstab(nhefs['school'], nhefs['education'])"
   ]
  },
  {
   "cell_type": "code",
   "execution_count": 196,
   "metadata": {
    "collapsed": true
   },
   "outputs": [],
   "source": [
    "# model 1: regression on covariates, allowing for some effect modification"
   ]
  },
  {
   "cell_type": "code",
   "execution_count": 197,
   "metadata": {
    "collapsed": true
   },
   "outputs": [],
   "source": [
    "# notes: (1) poly(x, 2) adds an orthogonal polynomial of degree 2, add the argument raw = TRUE \n",
    "#            if you want it to produce the same coefficients as would x + x^2\n",
    "#        (2) x1*x2 enters the main effects of x1 and x2 and their product term\n",
    "#            x1:x2 enters just the product term (necessary here for smokeintensity because\n",
    "#            we want smokeintensity treated linearly in the interaction but quadratically in\n",
    "#            the main effect and thus a linear term for smokeintensity is not estimable)\n",
    "#        (3) observations with missing values are automatically deleted"
   ]
  },
  {
   "cell_type": "code",
   "execution_count": 198,
   "metadata": {
    "collapsed": true
   },
   "outputs": [],
   "source": [
    "from numpy.polynomial.polynomial import polyvander as polyv"
   ]
  },
  {
   "cell_type": "code",
   "execution_count": 199,
   "metadata": {},
   "outputs": [
    {
     "data": {
      "text/plain": [
       "'wt82_71 ~ qsmk + sex + race +  polyv(age,2) +  education + polyv(smokeintensity,2) + polyv(smokeyrs,2) + exercise + active + polyv(wt71,2) + qsmk:smokeintensity'"
      ]
     },
     "execution_count": 199,
     "metadata": {},
     "output_type": "execute_result"
    }
   ],
   "source": [
    "formula  = 'wt82_71 ~ qsmk + sex + race + '\n",
    "formula += ' polyv(age,2) + ' \n",
    "formula += ' education + ' \n",
    "formula += 'polyv(smokeintensity,2) + '\n",
    "formula += 'polyv(smokeyrs,2) + '\n",
    "formula += 'exercise + active + '\n",
    "formula += 'polyv(wt71,2) + qsmk:smokeintensity'\n",
    "formula"
   ]
  },
  {
   "cell_type": "code",
   "execution_count": 200,
   "metadata": {
    "scrolled": true
   },
   "outputs": [
    {
     "data": {
      "text/html": [
       "<table class=\"simpletable\">\n",
       "<caption>Generalized Linear Model Regression Results</caption>\n",
       "<tr>\n",
       "  <th>Dep. Variable:</th>       <td>wt82_71</td>     <th>  No. Observations:  </th>    <td>  1555</td>    \n",
       "</tr>\n",
       "<tr>\n",
       "  <th>Model:</th>                 <td>GLM</td>       <th>  Df Residuals:      </th>    <td>  1534</td>    \n",
       "</tr>\n",
       "<tr>\n",
       "  <th>Model Family:</th>       <td>Gaussian</td>     <th>  Df Model:          </th>    <td>    20</td>    \n",
       "</tr>\n",
       "<tr>\n",
       "  <th>Link Function:</th>      <td>identity</td>     <th>  Scale:             </th> <td>53.5325790661</td>\n",
       "</tr>\n",
       "<tr>\n",
       "  <th>Method:</th>               <td>IRLS</td>       <th>  Log-Likelihood:    </th>   <td> -5290.6</td>   \n",
       "</tr>\n",
       "<tr>\n",
       "  <th>Date:</th>           <td>Fri, 02 Feb 2018</td> <th>  Deviance:          </th>   <td>  82119.</td>   \n",
       "</tr>\n",
       "<tr>\n",
       "  <th>Time:</th>               <td>03:24:31</td>     <th>  Pearson chi2:      </th>   <td>8.21e+04</td>   \n",
       "</tr>\n",
       "<tr>\n",
       "  <th>No. Iterations:</th>         <td>2</td>        <th>                     </th>       <td> </td>      \n",
       "</tr>\n",
       "</table>\n",
       "<table class=\"simpletable\">\n",
       "<tr>\n",
       "                 <td></td>                    <th>coef</th>     <th>std err</th>      <th>z</th>      <th>P>|z|</th>  <th>[0.025</th>    <th>0.975]</th>  \n",
       "</tr>\n",
       "<tr>\n",
       "  <th>Intercept</th>                       <td>   -0.1854</td> <td>    0.864</td> <td>   -0.215</td> <td> 0.830</td> <td>   -1.878</td> <td>    1.507</td>\n",
       "</tr>\n",
       "<tr>\n",
       "  <th>education[T.2. HS Dropout]</th>      <td>    0.7685</td> <td>    0.612</td> <td>    1.255</td> <td> 0.210</td> <td>   -0.432</td> <td>    1.969</td>\n",
       "</tr>\n",
       "<tr>\n",
       "  <th>education[T.3. HS]</th>              <td>    0.5488</td> <td>    0.562</td> <td>    0.977</td> <td> 0.329</td> <td>   -0.552</td> <td>    1.650</td>\n",
       "</tr>\n",
       "<tr>\n",
       "  <th>education[T.4. College Dropout]</th> <td>    1.4745</td> <td>    0.836</td> <td>    1.764</td> <td> 0.078</td> <td>   -0.164</td> <td>    3.113</td>\n",
       "</tr>\n",
       "<tr>\n",
       "  <th>education[T.5. College or More]</th> <td>   -0.2135</td> <td>    0.746</td> <td>   -0.286</td> <td> 0.775</td> <td>   -1.675</td> <td>    1.248</td>\n",
       "</tr>\n",
       "<tr>\n",
       "  <th>exercise[T.1]</th>                   <td>    0.3230</td> <td>    0.536</td> <td>    0.602</td> <td> 0.547</td> <td>   -0.728</td> <td>    1.374</td>\n",
       "</tr>\n",
       "<tr>\n",
       "  <th>exercise[T.2]</th>                   <td>    0.3177</td> <td>    0.561</td> <td>    0.567</td> <td> 0.571</td> <td>   -0.781</td> <td>    1.417</td>\n",
       "</tr>\n",
       "<tr>\n",
       "  <th>active[T.1]</th>                     <td>   -0.9180</td> <td>    0.411</td> <td>   -2.233</td> <td> 0.026</td> <td>   -1.724</td> <td>   -0.112</td>\n",
       "</tr>\n",
       "<tr>\n",
       "  <th>active[T.2]</th>                     <td>   -0.2328</td> <td>    0.687</td> <td>   -0.339</td> <td> 0.735</td> <td>   -1.579</td> <td>    1.113</td>\n",
       "</tr>\n",
       "<tr>\n",
       "  <th>qsmk</th>                            <td>    2.6793</td> <td>    0.814</td> <td>    3.291</td> <td> 0.001</td> <td>    1.084</td> <td>    4.275</td>\n",
       "</tr>\n",
       "<tr>\n",
       "  <th>sex</th>                             <td>   -1.3922</td> <td>    0.470</td> <td>   -2.959</td> <td> 0.003</td> <td>   -2.314</td> <td>   -0.470</td>\n",
       "</tr>\n",
       "<tr>\n",
       "  <th>race</th>                            <td>    0.6979</td> <td>    0.587</td> <td>    1.190</td> <td> 0.234</td> <td>   -0.452</td> <td>    1.848</td>\n",
       "</tr>\n",
       "<tr>\n",
       "  <th>polyv(age, 2)[0]</th>                <td>   -0.1854</td> <td>    0.864</td> <td>   -0.215</td> <td> 0.830</td> <td>   -1.878</td> <td>    1.507</td>\n",
       "</tr>\n",
       "<tr>\n",
       "  <th>polyv(age, 2)[1]</th>                <td>    0.3100</td> <td>    0.164</td> <td>    1.887</td> <td> 0.059</td> <td>   -0.012</td> <td>    0.632</td>\n",
       "</tr>\n",
       "<tr>\n",
       "  <th>polyv(age, 2)[2]</th>                <td>   -0.0055</td> <td>    0.002</td> <td>   -3.186</td> <td> 0.001</td> <td>   -0.009</td> <td>   -0.002</td>\n",
       "</tr>\n",
       "<tr>\n",
       "  <th>polyv(smokeintensity, 2)[0]</th>     <td>   -0.1854</td> <td>    0.864</td> <td>   -0.215</td> <td> 0.830</td> <td>   -1.878</td> <td>    1.507</td>\n",
       "</tr>\n",
       "<tr>\n",
       "  <th>polyv(smokeintensity, 2)[1]</th>     <td>    0.0531</td> <td>    0.052</td> <td>    1.025</td> <td> 0.306</td> <td>   -0.048</td> <td>    0.155</td>\n",
       "</tr>\n",
       "<tr>\n",
       "  <th>polyv(smokeintensity, 2)[2]</th>     <td>   -0.0010</td> <td>    0.001</td> <td>   -1.063</td> <td> 0.288</td> <td>   -0.003</td> <td>    0.001</td>\n",
       "</tr>\n",
       "<tr>\n",
       "  <th>polyv(smokeyrs, 2)[0]</th>           <td>   -0.1854</td> <td>    0.864</td> <td>   -0.215</td> <td> 0.830</td> <td>   -1.878</td> <td>    1.507</td>\n",
       "</tr>\n",
       "<tr>\n",
       "  <th>polyv(smokeyrs, 2)[1]</th>           <td>    0.1450</td> <td>    0.092</td> <td>    1.573</td> <td> 0.116</td> <td>   -0.036</td> <td>    0.326</td>\n",
       "</tr>\n",
       "<tr>\n",
       "  <th>polyv(smokeyrs, 2)[2]</th>           <td>   -0.0020</td> <td>    0.002</td> <td>   -1.303</td> <td> 0.193</td> <td>   -0.005</td> <td>    0.001</td>\n",
       "</tr>\n",
       "<tr>\n",
       "  <th>polyv(wt71, 2)[0]</th>               <td>   -0.1854</td> <td>    0.864</td> <td>   -0.215</td> <td> 0.830</td> <td>   -1.878</td> <td>    1.507</td>\n",
       "</tr>\n",
       "<tr>\n",
       "  <th>polyv(wt71, 2)[1]</th>               <td>    0.0476</td> <td>    0.083</td> <td>    0.571</td> <td> 0.568</td> <td>   -0.116</td> <td>    0.211</td>\n",
       "</tr>\n",
       "<tr>\n",
       "  <th>polyv(wt71, 2)[2]</th>               <td>   -0.0010</td> <td>    0.001</td> <td>   -1.863</td> <td> 0.062</td> <td>   -0.002</td> <td>  5.1e-05</td>\n",
       "</tr>\n",
       "<tr>\n",
       "  <th>qsmk:smokeintensity</th>             <td>    0.0465</td> <td>    0.035</td> <td>    1.314</td> <td> 0.189</td> <td>   -0.023</td> <td>    0.116</td>\n",
       "</tr>\n",
       "</table>"
      ],
      "text/plain": [
       "<class 'statsmodels.iolib.summary.Summary'>\n",
       "\"\"\"\n",
       "                 Generalized Linear Model Regression Results                  \n",
       "==============================================================================\n",
       "Dep. Variable:                wt82_71   No. Observations:                 1555\n",
       "Model:                            GLM   Df Residuals:                     1534\n",
       "Model Family:                Gaussian   Df Model:                           20\n",
       "Link Function:               identity   Scale:                   53.5325790661\n",
       "Method:                          IRLS   Log-Likelihood:                -5290.6\n",
       "Date:                Fri, 02 Feb 2018   Deviance:                       82119.\n",
       "Time:                        03:24:31   Pearson chi2:                 8.21e+04\n",
       "No. Iterations:                     2                                         \n",
       "===================================================================================================\n",
       "                                      coef    std err          z      P>|z|      [0.025      0.975]\n",
       "---------------------------------------------------------------------------------------------------\n",
       "Intercept                          -0.1854      0.864     -0.215      0.830      -1.878       1.507\n",
       "education[T.2. HS Dropout]          0.7685      0.612      1.255      0.210      -0.432       1.969\n",
       "education[T.3. HS]                  0.5488      0.562      0.977      0.329      -0.552       1.650\n",
       "education[T.4. College Dropout]     1.4745      0.836      1.764      0.078      -0.164       3.113\n",
       "education[T.5. College or More]    -0.2135      0.746     -0.286      0.775      -1.675       1.248\n",
       "exercise[T.1]                       0.3230      0.536      0.602      0.547      -0.728       1.374\n",
       "exercise[T.2]                       0.3177      0.561      0.567      0.571      -0.781       1.417\n",
       "active[T.1]                        -0.9180      0.411     -2.233      0.026      -1.724      -0.112\n",
       "active[T.2]                        -0.2328      0.687     -0.339      0.735      -1.579       1.113\n",
       "qsmk                                2.6793      0.814      3.291      0.001       1.084       4.275\n",
       "sex                                -1.3922      0.470     -2.959      0.003      -2.314      -0.470\n",
       "race                                0.6979      0.587      1.190      0.234      -0.452       1.848\n",
       "polyv(age, 2)[0]                   -0.1854      0.864     -0.215      0.830      -1.878       1.507\n",
       "polyv(age, 2)[1]                    0.3100      0.164      1.887      0.059      -0.012       0.632\n",
       "polyv(age, 2)[2]                   -0.0055      0.002     -3.186      0.001      -0.009      -0.002\n",
       "polyv(smokeintensity, 2)[0]        -0.1854      0.864     -0.215      0.830      -1.878       1.507\n",
       "polyv(smokeintensity, 2)[1]         0.0531      0.052      1.025      0.306      -0.048       0.155\n",
       "polyv(smokeintensity, 2)[2]        -0.0010      0.001     -1.063      0.288      -0.003       0.001\n",
       "polyv(smokeyrs, 2)[0]              -0.1854      0.864     -0.215      0.830      -1.878       1.507\n",
       "polyv(smokeyrs, 2)[1]               0.1450      0.092      1.573      0.116      -0.036       0.326\n",
       "polyv(smokeyrs, 2)[2]              -0.0020      0.002     -1.303      0.193      -0.005       0.001\n",
       "polyv(wt71, 2)[0]                  -0.1854      0.864     -0.215      0.830      -1.878       1.507\n",
       "polyv(wt71, 2)[1]                   0.0476      0.083      0.571      0.568      -0.116       0.211\n",
       "polyv(wt71, 2)[2]                  -0.0010      0.001     -1.863      0.062      -0.002     5.1e-05\n",
       "qsmk:smokeintensity                 0.0465      0.035      1.314      0.189      -0.023       0.116\n",
       "===================================================================================================\n",
       "\"\"\""
      ]
     },
     "execution_count": 200,
     "metadata": {},
     "output_type": "execute_result"
    }
   ],
   "source": [
    "mod3 = smf.glm(formula=formula, data=nhefs).fit()\n",
    "mod3.summary()"
   ]
  },
  {
   "cell_type": "code",
   "execution_count": 201,
   "metadata": {},
   "outputs": [
    {
     "data": {
      "text/html": [
       "<div>\n",
       "<style>\n",
       "    .dataframe thead tr:only-child th {\n",
       "        text-align: right;\n",
       "    }\n",
       "\n",
       "    .dataframe thead th {\n",
       "        text-align: left;\n",
       "    }\n",
       "\n",
       "    .dataframe tbody tr th {\n",
       "        vertical-align: top;\n",
       "    }\n",
       "</style>\n",
       "<table border=\"1\" class=\"dataframe\">\n",
       "  <thead>\n",
       "    <tr style=\"text-align: right;\">\n",
       "      <th></th>\n",
       "      <th>0</th>\n",
       "      <th>1</th>\n",
       "    </tr>\n",
       "  </thead>\n",
       "  <tbody>\n",
       "    <tr>\n",
       "      <th>Intercept</th>\n",
       "      <td>-1.877953</td>\n",
       "      <td>1.507188</td>\n",
       "    </tr>\n",
       "    <tr>\n",
       "      <th>education[T.2. HS Dropout]</th>\n",
       "      <td>-0.431849</td>\n",
       "      <td>1.968801</td>\n",
       "    </tr>\n",
       "    <tr>\n",
       "      <th>education[T.3. HS]</th>\n",
       "      <td>-0.552331</td>\n",
       "      <td>1.649871</td>\n",
       "    </tr>\n",
       "    <tr>\n",
       "      <th>education[T.4. College Dropout]</th>\n",
       "      <td>-0.163805</td>\n",
       "      <td>3.112835</td>\n",
       "    </tr>\n",
       "    <tr>\n",
       "      <th>education[T.5. College or More]</th>\n",
       "      <td>-1.674796</td>\n",
       "      <td>1.247705</td>\n",
       "    </tr>\n",
       "    <tr>\n",
       "      <th>exercise[T.1]</th>\n",
       "      <td>-0.728329</td>\n",
       "      <td>1.374356</td>\n",
       "    </tr>\n",
       "    <tr>\n",
       "      <th>exercise[T.2]</th>\n",
       "      <td>-0.781387</td>\n",
       "      <td>1.416817</td>\n",
       "    </tr>\n",
       "    <tr>\n",
       "      <th>active[T.1]</th>\n",
       "      <td>-1.723661</td>\n",
       "      <td>-0.112294</td>\n",
       "    </tr>\n",
       "    <tr>\n",
       "      <th>active[T.2]</th>\n",
       "      <td>-1.578516</td>\n",
       "      <td>1.112856</td>\n",
       "    </tr>\n",
       "    <tr>\n",
       "      <th>qsmk</th>\n",
       "      <td>1.083543</td>\n",
       "      <td>4.275137</td>\n",
       "    </tr>\n",
       "    <tr>\n",
       "      <th>sex</th>\n",
       "      <td>-2.314272</td>\n",
       "      <td>-0.470083</td>\n",
       "    </tr>\n",
       "    <tr>\n",
       "      <th>race</th>\n",
       "      <td>-0.451822</td>\n",
       "      <td>1.847550</td>\n",
       "    </tr>\n",
       "    <tr>\n",
       "      <th>polyv(age, 2)[0]</th>\n",
       "      <td>-1.877953</td>\n",
       "      <td>1.507188</td>\n",
       "    </tr>\n",
       "    <tr>\n",
       "      <th>polyv(age, 2)[1]</th>\n",
       "      <td>-0.012061</td>\n",
       "      <td>0.632114</td>\n",
       "    </tr>\n",
       "    <tr>\n",
       "      <th>polyv(age, 2)[2]</th>\n",
       "      <td>-0.008953</td>\n",
       "      <td>-0.002134</td>\n",
       "    </tr>\n",
       "    <tr>\n",
       "      <th>polyv(smokeintensity, 2)[0]</th>\n",
       "      <td>-1.877953</td>\n",
       "      <td>1.507188</td>\n",
       "    </tr>\n",
       "    <tr>\n",
       "      <th>polyv(smokeintensity, 2)[1]</th>\n",
       "      <td>-0.048475</td>\n",
       "      <td>0.154666</td>\n",
       "    </tr>\n",
       "    <tr>\n",
       "      <th>polyv(smokeintensity, 2)[2]</th>\n",
       "      <td>-0.002840</td>\n",
       "      <td>0.000842</td>\n",
       "    </tr>\n",
       "    <tr>\n",
       "      <th>polyv(smokeyrs, 2)[0]</th>\n",
       "      <td>-1.877953</td>\n",
       "      <td>1.507188</td>\n",
       "    </tr>\n",
       "    <tr>\n",
       "      <th>polyv(smokeyrs, 2)[1]</th>\n",
       "      <td>-0.035688</td>\n",
       "      <td>0.325688</td>\n",
       "    </tr>\n",
       "    <tr>\n",
       "      <th>polyv(smokeyrs, 2)[2]</th>\n",
       "      <td>-0.005083</td>\n",
       "      <td>0.001024</td>\n",
       "    </tr>\n",
       "    <tr>\n",
       "      <th>polyv(wt71, 2)[0]</th>\n",
       "      <td>-1.877953</td>\n",
       "      <td>1.507188</td>\n",
       "    </tr>\n",
       "    <tr>\n",
       "      <th>polyv(wt71, 2)[1]</th>\n",
       "      <td>-0.115964</td>\n",
       "      <td>0.211218</td>\n",
       "    </tr>\n",
       "    <tr>\n",
       "      <th>polyv(wt71, 2)[2]</th>\n",
       "      <td>-0.002008</td>\n",
       "      <td>0.000051</td>\n",
       "    </tr>\n",
       "    <tr>\n",
       "      <th>qsmk:smokeintensity</th>\n",
       "      <td>-0.022827</td>\n",
       "      <td>0.115786</td>\n",
       "    </tr>\n",
       "  </tbody>\n",
       "</table>\n",
       "</div>"
      ],
      "text/plain": [
       "                                        0         1\n",
       "Intercept                       -1.877953  1.507188\n",
       "education[T.2. HS Dropout]      -0.431849  1.968801\n",
       "education[T.3. HS]              -0.552331  1.649871\n",
       "education[T.4. College Dropout] -0.163805  3.112835\n",
       "education[T.5. College or More] -1.674796  1.247705\n",
       "exercise[T.1]                   -0.728329  1.374356\n",
       "exercise[T.2]                   -0.781387  1.416817\n",
       "active[T.1]                     -1.723661 -0.112294\n",
       "active[T.2]                     -1.578516  1.112856\n",
       "qsmk                             1.083543  4.275137\n",
       "sex                             -2.314272 -0.470083\n",
       "race                            -0.451822  1.847550\n",
       "polyv(age, 2)[0]                -1.877953  1.507188\n",
       "polyv(age, 2)[1]                -0.012061  0.632114\n",
       "polyv(age, 2)[2]                -0.008953 -0.002134\n",
       "polyv(smokeintensity, 2)[0]     -1.877953  1.507188\n",
       "polyv(smokeintensity, 2)[1]     -0.048475  0.154666\n",
       "polyv(smokeintensity, 2)[2]     -0.002840  0.000842\n",
       "polyv(smokeyrs, 2)[0]           -1.877953  1.507188\n",
       "polyv(smokeyrs, 2)[1]           -0.035688  0.325688\n",
       "polyv(smokeyrs, 2)[2]           -0.005083  0.001024\n",
       "polyv(wt71, 2)[0]               -1.877953  1.507188\n",
       "polyv(wt71, 2)[1]               -0.115964  0.211218\n",
       "polyv(wt71, 2)[2]               -0.002008  0.000051\n",
       "qsmk:smokeintensity             -0.022827  0.115786"
      ]
     },
     "execution_count": 201,
     "metadata": {},
     "output_type": "execute_result"
    }
   ],
   "source": [
    "mod3.conf_int()"
   ]
  },
  {
   "cell_type": "code",
   "execution_count": 202,
   "metadata": {
    "collapsed": true
   },
   "outputs": [],
   "source": [
    "# estimate the effect of quitting smoking at various smoking intensities\n",
    "# see help(glht) for details on estimating linear contrasts\n",
    "\n",
    "# (step 1) build the contrast matrix with all zeros\n",
    "# this function builds the blank matrix "
   ]
  },
  {
   "cell_type": "code",
   "execution_count": 203,
   "metadata": {
    "collapsed": true
   },
   "outputs": [],
   "source": [
    "def makeContrastMatrix(model, nrow, names):\n",
    "    \n",
    "    df = pd.DataFrame(np.zeros(shape=(nrow,len(model.params))).T,\\\n",
    "                     columns=names)\n",
    "    df.insert(0,'name',model.params.index.tolist())\n",
    "    df.set_index('name',inplace=True)\n",
    "    \n",
    "    return df\n",
    "    "
   ]
  },
  {
   "cell_type": "code",
   "execution_count": 204,
   "metadata": {
    "collapsed": true
   },
   "outputs": [],
   "source": [
    "K1 = makeContrastMatrix(mod3, 2, ['Effect of Quitting Smoking at Smokeintensity of 5',\\\n",
    "             'Effect of Quitting Smoking at Smokeintensity of 40'])\n"
   ]
  },
  {
   "cell_type": "code",
   "execution_count": 205,
   "metadata": {
    "collapsed": true
   },
   "outputs": [],
   "source": [
    "# (step 2) fill in the relevant non-zero elements "
   ]
  },
  {
   "cell_type": "code",
   "execution_count": 206,
   "metadata": {
    "collapsed": true
   },
   "outputs": [],
   "source": [
    "K1.loc['qsmk'] = 1\n",
    "K1.loc['qsmk:smokeintensity'] = [5,40]"
   ]
  },
  {
   "cell_type": "code",
   "execution_count": 207,
   "metadata": {},
   "outputs": [],
   "source": [
    "#K1.drop(K1.index[0], inplace=True)\n",
    "#K1"
   ]
  },
  {
   "cell_type": "code",
   "execution_count": 208,
   "metadata": {
    "collapsed": true
   },
   "outputs": [],
   "source": [
    "H1 = [K1['Effect of Quitting Smoking at Smokeintensity of 5'].tolist(),\\\n",
    "     K1['Effect of Quitting Smoking at Smokeintensity of 40'].tolist()]"
   ]
  },
  {
   "cell_type": "code",
   "execution_count": 209,
   "metadata": {},
   "outputs": [
    {
     "data": {
      "text/html": [
       "<table class=\"simpletable\">\n",
       "<caption>Test for Constraints</caption>\n",
       "<tr>\n",
       "   <td></td>     <th>coef</th>     <th>std err</th>      <th>z</th>      <th>P>|z|</th>  <th>[0.025</th>    <th>0.975]</th>  \n",
       "</tr>\n",
       "<tr>\n",
       "  <th>c0</th> <td>    2.9117</td> <td>    0.672</td> <td>    4.331</td> <td> 0.000</td> <td>    1.594</td> <td>    4.229</td>\n",
       "</tr>\n",
       "<tr>\n",
       "  <th>c1</th> <td>    4.5385</td> <td>    0.852</td> <td>    5.327</td> <td> 0.000</td> <td>    2.869</td> <td>    6.208</td>\n",
       "</tr>\n",
       "</table>"
      ],
      "text/plain": [
       "<class 'statsmodels.iolib.table.SimpleTable'>"
      ]
     },
     "execution_count": 209,
     "metadata": {},
     "output_type": "execute_result"
    }
   ],
   "source": [
    "mod3.t_test(H1).summary()"
   ]
  },
  {
   "cell_type": "code",
   "execution_count": 210,
   "metadata": {},
   "outputs": [
    {
     "data": {
      "text/plain": [
       "'wt82_71 ~ qsmk + sex + race +  polyv(age,2) +  education + polyv(smokeintensity,2) + polyv(smokeyrs,2) + exercise + active + polyv(wt71,2)'"
      ]
     },
     "execution_count": 210,
     "metadata": {},
     "output_type": "execute_result"
    }
   ],
   "source": [
    "formula  = 'wt82_71 ~ qsmk + sex + race + '\n",
    "formula += ' polyv(age,2) + ' \n",
    "formula += ' education + ' \n",
    "formula += 'polyv(smokeintensity,2) + '\n",
    "formula += 'polyv(smokeyrs,2) + '\n",
    "formula += 'exercise + active + '\n",
    "formula += 'polyv(wt71,2)'\n",
    "formula"
   ]
  },
  {
   "cell_type": "code",
   "execution_count": 211,
   "metadata": {
    "scrolled": true
   },
   "outputs": [
    {
     "data": {
      "text/html": [
       "<table class=\"simpletable\">\n",
       "<caption>Generalized Linear Model Regression Results</caption>\n",
       "<tr>\n",
       "  <th>Dep. Variable:</th>       <td>wt82_71</td>     <th>  No. Observations:  </th>    <td>  1555</td>    \n",
       "</tr>\n",
       "<tr>\n",
       "  <th>Model:</th>                 <td>GLM</td>       <th>  Df Residuals:      </th>    <td>  1535</td>    \n",
       "</tr>\n",
       "<tr>\n",
       "  <th>Model Family:</th>       <td>Gaussian</td>     <th>  Df Model:          </th>    <td>    19</td>    \n",
       "</tr>\n",
       "<tr>\n",
       "  <th>Link Function:</th>      <td>identity</td>     <th>  Scale:             </th> <td>53.5579576346</td>\n",
       "</tr>\n",
       "<tr>\n",
       "  <th>Method:</th>               <td>IRLS</td>       <th>  Log-Likelihood:    </th>   <td> -5291.4</td>   \n",
       "</tr>\n",
       "<tr>\n",
       "  <th>Date:</th>           <td>Fri, 02 Feb 2018</td> <th>  Deviance:          </th>   <td>  82211.</td>   \n",
       "</tr>\n",
       "<tr>\n",
       "  <th>Time:</th>               <td>03:24:46</td>     <th>  Pearson chi2:      </th>   <td>8.22e+04</td>   \n",
       "</tr>\n",
       "<tr>\n",
       "  <th>No. Iterations:</th>         <td>2</td>        <th>                     </th>       <td> </td>      \n",
       "</tr>\n",
       "</table>\n",
       "<table class=\"simpletable\">\n",
       "<tr>\n",
       "                 <td></td>                    <th>coef</th>     <th>std err</th>      <th>z</th>      <th>P>|z|</th>  <th>[0.025</th>    <th>0.975]</th>  \n",
       "</tr>\n",
       "<tr>\n",
       "  <th>Intercept</th>                       <td>   -0.2009</td> <td>    0.864</td> <td>   -0.233</td> <td> 0.816</td> <td>   -1.894</td> <td>    1.492</td>\n",
       "</tr>\n",
       "<tr>\n",
       "  <th>education[T.2. HS Dropout]</th>      <td>    0.7974</td> <td>    0.612</td> <td>    1.303</td> <td> 0.193</td> <td>   -0.402</td> <td>    1.997</td>\n",
       "</tr>\n",
       "<tr>\n",
       "  <th>education[T.3. HS]</th>              <td>    0.5652</td> <td>    0.562</td> <td>    1.006</td> <td> 0.314</td> <td>   -0.536</td> <td>    1.666</td>\n",
       "</tr>\n",
       "<tr>\n",
       "  <th>education[T.4. College Dropout]</th> <td>    1.4930</td> <td>    0.836</td> <td>    1.786</td> <td> 0.074</td> <td>   -0.145</td> <td>    3.131</td>\n",
       "</tr>\n",
       "<tr>\n",
       "  <th>education[T.5. College or More]</th> <td>   -0.1884</td> <td>    0.745</td> <td>   -0.253</td> <td> 0.801</td> <td>   -1.649</td> <td>    1.273</td>\n",
       "</tr>\n",
       "<tr>\n",
       "  <th>exercise[T.1]</th>                   <td>    0.3459</td> <td>    0.536</td> <td>    0.645</td> <td> 0.519</td> <td>   -0.705</td> <td>    1.397</td>\n",
       "</tr>\n",
       "<tr>\n",
       "  <th>exercise[T.2]</th>                   <td>    0.3261</td> <td>    0.561</td> <td>    0.581</td> <td> 0.561</td> <td>   -0.773</td> <td>    1.425</td>\n",
       "</tr>\n",
       "<tr>\n",
       "  <th>active[T.1]</th>                     <td>   -0.9129</td> <td>    0.411</td> <td>   -2.220</td> <td> 0.026</td> <td>   -1.719</td> <td>   -0.107</td>\n",
       "</tr>\n",
       "<tr>\n",
       "  <th>active[T.2]</th>                     <td>   -0.2273</td> <td>    0.687</td> <td>   -0.331</td> <td> 0.741</td> <td>   -1.573</td> <td>    1.119</td>\n",
       "</tr>\n",
       "<tr>\n",
       "  <th>qsmk</th>                            <td>    3.5797</td> <td>    0.440</td> <td>    8.130</td> <td> 0.000</td> <td>    2.717</td> <td>    4.443</td>\n",
       "</tr>\n",
       "<tr>\n",
       "  <th>sex</th>                             <td>   -1.4298</td> <td>    0.470</td> <td>   -3.044</td> <td> 0.002</td> <td>   -2.350</td> <td>   -0.509</td>\n",
       "</tr>\n",
       "<tr>\n",
       "  <th>race</th>                            <td>    0.7286</td> <td>    0.586</td> <td>    1.243</td> <td> 0.214</td> <td>   -0.420</td> <td>    1.878</td>\n",
       "</tr>\n",
       "<tr>\n",
       "  <th>polyv(age, 2)[0]</th>                <td>   -0.2009</td> <td>    0.864</td> <td>   -0.233</td> <td> 0.816</td> <td>   -1.894</td> <td>    1.492</td>\n",
       "</tr>\n",
       "<tr>\n",
       "  <th>polyv(age, 2)[1]</th>                <td>    0.3146</td> <td>    0.164</td> <td>    1.914</td> <td> 0.056</td> <td>   -0.008</td> <td>    0.637</td>\n",
       "</tr>\n",
       "<tr>\n",
       "  <th>polyv(age, 2)[2]</th>                <td>   -0.0056</td> <td>    0.002</td> <td>   -3.219</td> <td> 0.001</td> <td>   -0.009</td> <td>   -0.002</td>\n",
       "</tr>\n",
       "<tr>\n",
       "  <th>polyv(smokeintensity, 2)[0]</th>     <td>   -0.2009</td> <td>    0.864</td> <td>   -0.233</td> <td> 0.816</td> <td>   -1.894</td> <td>    1.492</td>\n",
       "</tr>\n",
       "<tr>\n",
       "  <th>polyv(smokeintensity, 2)[1]</th>     <td>    0.0689</td> <td>    0.050</td> <td>    1.367</td> <td> 0.172</td> <td>   -0.030</td> <td>    0.168</td>\n",
       "</tr>\n",
       "<tr>\n",
       "  <th>polyv(smokeintensity, 2)[2]</th>     <td>   -0.0011</td> <td>    0.001</td> <td>   -1.123</td> <td> 0.262</td> <td>   -0.003</td> <td>    0.001</td>\n",
       "</tr>\n",
       "<tr>\n",
       "  <th>polyv(smokeyrs, 2)[0]</th>           <td>   -0.2009</td> <td>    0.864</td> <td>   -0.233</td> <td> 0.816</td> <td>   -1.894</td> <td>    1.492</td>\n",
       "</tr>\n",
       "<tr>\n",
       "  <th>polyv(smokeyrs, 2)[1]</th>           <td>    0.1432</td> <td>    0.092</td> <td>    1.553</td> <td> 0.120</td> <td>   -0.038</td> <td>    0.324</td>\n",
       "</tr>\n",
       "<tr>\n",
       "  <th>polyv(smokeyrs, 2)[2]</th>           <td>   -0.0020</td> <td>    0.002</td> <td>   -1.265</td> <td> 0.206</td> <td>   -0.005</td> <td>    0.001</td>\n",
       "</tr>\n",
       "<tr>\n",
       "  <th>polyv(wt71, 2)[0]</th>               <td>   -0.2009</td> <td>    0.864</td> <td>   -0.233</td> <td> 0.816</td> <td>   -1.894</td> <td>    1.492</td>\n",
       "</tr>\n",
       "<tr>\n",
       "  <th>polyv(wt71, 2)[1]</th>               <td>    0.0393</td> <td>    0.083</td> <td>    0.472</td> <td> 0.637</td> <td>   -0.124</td> <td>    0.202</td>\n",
       "</tr>\n",
       "<tr>\n",
       "  <th>polyv(wt71, 2)[2]</th>               <td>   -0.0009</td> <td>    0.001</td> <td>   -1.771</td> <td> 0.077</td> <td>   -0.002</td> <td> 9.91e-05</td>\n",
       "</tr>\n",
       "</table>"
      ],
      "text/plain": [
       "<class 'statsmodels.iolib.summary.Summary'>\n",
       "\"\"\"\n",
       "                 Generalized Linear Model Regression Results                  \n",
       "==============================================================================\n",
       "Dep. Variable:                wt82_71   No. Observations:                 1555\n",
       "Model:                            GLM   Df Residuals:                     1535\n",
       "Model Family:                Gaussian   Df Model:                           19\n",
       "Link Function:               identity   Scale:                   53.5579576346\n",
       "Method:                          IRLS   Log-Likelihood:                -5291.4\n",
       "Date:                Fri, 02 Feb 2018   Deviance:                       82211.\n",
       "Time:                        03:24:46   Pearson chi2:                 8.22e+04\n",
       "No. Iterations:                     2                                         \n",
       "===================================================================================================\n",
       "                                      coef    std err          z      P>|z|      [0.025      0.975]\n",
       "---------------------------------------------------------------------------------------------------\n",
       "Intercept                          -0.2009      0.864     -0.233      0.816      -1.894       1.492\n",
       "education[T.2. HS Dropout]          0.7974      0.612      1.303      0.193      -0.402       1.997\n",
       "education[T.3. HS]                  0.5652      0.562      1.006      0.314      -0.536       1.666\n",
       "education[T.4. College Dropout]     1.4930      0.836      1.786      0.074      -0.145       3.131\n",
       "education[T.5. College or More]    -0.1884      0.745     -0.253      0.801      -1.649       1.273\n",
       "exercise[T.1]                       0.3459      0.536      0.645      0.519      -0.705       1.397\n",
       "exercise[T.2]                       0.3261      0.561      0.581      0.561      -0.773       1.425\n",
       "active[T.1]                        -0.9129      0.411     -2.220      0.026      -1.719      -0.107\n",
       "active[T.2]                        -0.2273      0.687     -0.331      0.741      -1.573       1.119\n",
       "qsmk                                3.5797      0.440      8.130      0.000       2.717       4.443\n",
       "sex                                -1.4298      0.470     -3.044      0.002      -2.350      -0.509\n",
       "race                                0.7286      0.586      1.243      0.214      -0.420       1.878\n",
       "polyv(age, 2)[0]                   -0.2009      0.864     -0.233      0.816      -1.894       1.492\n",
       "polyv(age, 2)[1]                    0.3146      0.164      1.914      0.056      -0.008       0.637\n",
       "polyv(age, 2)[2]                   -0.0056      0.002     -3.219      0.001      -0.009      -0.002\n",
       "polyv(smokeintensity, 2)[0]        -0.2009      0.864     -0.233      0.816      -1.894       1.492\n",
       "polyv(smokeintensity, 2)[1]         0.0689      0.050      1.367      0.172      -0.030       0.168\n",
       "polyv(smokeintensity, 2)[2]        -0.0011      0.001     -1.123      0.262      -0.003       0.001\n",
       "polyv(smokeyrs, 2)[0]              -0.2009      0.864     -0.233      0.816      -1.894       1.492\n",
       "polyv(smokeyrs, 2)[1]               0.1432      0.092      1.553      0.120      -0.038       0.324\n",
       "polyv(smokeyrs, 2)[2]              -0.0020      0.002     -1.265      0.206      -0.005       0.001\n",
       "polyv(wt71, 2)[0]                  -0.2009      0.864     -0.233      0.816      -1.894       1.492\n",
       "polyv(wt71, 2)[1]                   0.0393      0.083      0.472      0.637      -0.124       0.202\n",
       "polyv(wt71, 2)[2]                  -0.0009      0.001     -1.771      0.077      -0.002    9.91e-05\n",
       "===================================================================================================\n",
       "\"\"\""
      ]
     },
     "execution_count": 211,
     "metadata": {},
     "output_type": "execute_result"
    }
   ],
   "source": [
    "mod3 = smf.glm(formula=formula, data=nhefs).fit()\n",
    "mod3.summary()\n"
   ]
  },
  {
   "cell_type": "code",
   "execution_count": 212,
   "metadata": {},
   "outputs": [
    {
     "data": {
      "text/html": [
       "<div>\n",
       "<style>\n",
       "    .dataframe thead tr:only-child th {\n",
       "        text-align: right;\n",
       "    }\n",
       "\n",
       "    .dataframe thead th {\n",
       "        text-align: left;\n",
       "    }\n",
       "\n",
       "    .dataframe tbody tr th {\n",
       "        vertical-align: top;\n",
       "    }\n",
       "</style>\n",
       "<table border=\"1\" class=\"dataframe\">\n",
       "  <thead>\n",
       "    <tr style=\"text-align: right;\">\n",
       "      <th></th>\n",
       "      <th>0</th>\n",
       "      <th>1</th>\n",
       "    </tr>\n",
       "  </thead>\n",
       "  <tbody>\n",
       "    <tr>\n",
       "      <th>Intercept</th>\n",
       "      <td>-1.893759</td>\n",
       "      <td>1.491865</td>\n",
       "    </tr>\n",
       "    <tr>\n",
       "      <th>education[T.2. HS Dropout]</th>\n",
       "      <td>-0.402421</td>\n",
       "      <td>1.997246</td>\n",
       "    </tr>\n",
       "    <tr>\n",
       "      <th>education[T.3. HS]</th>\n",
       "      <td>-0.535919</td>\n",
       "      <td>1.666262</td>\n",
       "    </tr>\n",
       "    <tr>\n",
       "      <th>education[T.4. College Dropout]</th>\n",
       "      <td>-0.145471</td>\n",
       "      <td>3.131481</td>\n",
       "    </tr>\n",
       "    <tr>\n",
       "      <th>education[T.5. College or More]</th>\n",
       "      <td>-1.649476</td>\n",
       "      <td>1.272752</td>\n",
       "    </tr>\n",
       "    <tr>\n",
       "      <th>exercise[T.1]</th>\n",
       "      <td>-0.705167</td>\n",
       "      <td>1.396910</td>\n",
       "    </tr>\n",
       "    <tr>\n",
       "      <th>exercise[T.2]</th>\n",
       "      <td>-0.773152</td>\n",
       "      <td>1.425430</td>\n",
       "    </tr>\n",
       "    <tr>\n",
       "      <th>active[T.1]</th>\n",
       "      <td>-1.718765</td>\n",
       "      <td>-0.107087</td>\n",
       "    </tr>\n",
       "    <tr>\n",
       "      <th>active[T.2]</th>\n",
       "      <td>-1.573238</td>\n",
       "      <td>1.118721</td>\n",
       "    </tr>\n",
       "    <tr>\n",
       "      <th>qsmk</th>\n",
       "      <td>2.716718</td>\n",
       "      <td>4.442597</td>\n",
       "    </tr>\n",
       "    <tr>\n",
       "      <th>sex</th>\n",
       "      <td>-2.350417</td>\n",
       "      <td>-0.509210</td>\n",
       "    </tr>\n",
       "    <tr>\n",
       "      <th>race</th>\n",
       "      <td>-0.420452</td>\n",
       "      <td>1.877638</td>\n",
       "    </tr>\n",
       "    <tr>\n",
       "      <th>polyv(age, 2)[0]</th>\n",
       "      <td>-1.893759</td>\n",
       "      <td>1.491865</td>\n",
       "    </tr>\n",
       "    <tr>\n",
       "      <th>polyv(age, 2)[1]</th>\n",
       "      <td>-0.007507</td>\n",
       "      <td>0.636678</td>\n",
       "    </tr>\n",
       "    <tr>\n",
       "      <th>polyv(age, 2)[2]</th>\n",
       "      <td>-0.009009</td>\n",
       "      <td>-0.002190</td>\n",
       "    </tr>\n",
       "    <tr>\n",
       "      <th>polyv(smokeintensity, 2)[0]</th>\n",
       "      <td>-1.893759</td>\n",
       "      <td>1.491865</td>\n",
       "    </tr>\n",
       "    <tr>\n",
       "      <th>polyv(smokeintensity, 2)[1]</th>\n",
       "      <td>-0.029907</td>\n",
       "      <td>0.167729</td>\n",
       "    </tr>\n",
       "    <tr>\n",
       "      <th>polyv(smokeintensity, 2)[2]</th>\n",
       "      <td>-0.002893</td>\n",
       "      <td>0.000786</td>\n",
       "    </tr>\n",
       "    <tr>\n",
       "      <th>polyv(smokeyrs, 2)[0]</th>\n",
       "      <td>-1.893759</td>\n",
       "      <td>1.491865</td>\n",
       "    </tr>\n",
       "    <tr>\n",
       "      <th>polyv(smokeyrs, 2)[1]</th>\n",
       "      <td>-0.037516</td>\n",
       "      <td>0.323905</td>\n",
       "    </tr>\n",
       "    <tr>\n",
       "      <th>polyv(smokeyrs, 2)[2]</th>\n",
       "      <td>-0.005024</td>\n",
       "      <td>0.001083</td>\n",
       "    </tr>\n",
       "    <tr>\n",
       "      <th>polyv(wt71, 2)[0]</th>\n",
       "      <td>-1.893759</td>\n",
       "      <td>1.491865</td>\n",
       "    </tr>\n",
       "    <tr>\n",
       "      <th>polyv(wt71, 2)[1]</th>\n",
       "      <td>-0.123890</td>\n",
       "      <td>0.202417</td>\n",
       "    </tr>\n",
       "    <tr>\n",
       "      <th>polyv(wt71, 2)[2]</th>\n",
       "      <td>-0.001955</td>\n",
       "      <td>0.000099</td>\n",
       "    </tr>\n",
       "  </tbody>\n",
       "</table>\n",
       "</div>"
      ],
      "text/plain": [
       "                                        0         1\n",
       "Intercept                       -1.893759  1.491865\n",
       "education[T.2. HS Dropout]      -0.402421  1.997246\n",
       "education[T.3. HS]              -0.535919  1.666262\n",
       "education[T.4. College Dropout] -0.145471  3.131481\n",
       "education[T.5. College or More] -1.649476  1.272752\n",
       "exercise[T.1]                   -0.705167  1.396910\n",
       "exercise[T.2]                   -0.773152  1.425430\n",
       "active[T.1]                     -1.718765 -0.107087\n",
       "active[T.2]                     -1.573238  1.118721\n",
       "qsmk                             2.716718  4.442597\n",
       "sex                             -2.350417 -0.509210\n",
       "race                            -0.420452  1.877638\n",
       "polyv(age, 2)[0]                -1.893759  1.491865\n",
       "polyv(age, 2)[1]                -0.007507  0.636678\n",
       "polyv(age, 2)[2]                -0.009009 -0.002190\n",
       "polyv(smokeintensity, 2)[0]     -1.893759  1.491865\n",
       "polyv(smokeintensity, 2)[1]     -0.029907  0.167729\n",
       "polyv(smokeintensity, 2)[2]     -0.002893  0.000786\n",
       "polyv(smokeyrs, 2)[0]           -1.893759  1.491865\n",
       "polyv(smokeyrs, 2)[1]           -0.037516  0.323905\n",
       "polyv(smokeyrs, 2)[2]           -0.005024  0.001083\n",
       "polyv(wt71, 2)[0]               -1.893759  1.491865\n",
       "polyv(wt71, 2)[1]               -0.123890  0.202417\n",
       "polyv(wt71, 2)[2]               -0.001955  0.000099"
      ]
     },
     "execution_count": 212,
     "metadata": {},
     "output_type": "execute_result"
    }
   ],
   "source": [
    "mod3.conf_int()"
   ]
  },
  {
   "cell_type": "markdown",
   "metadata": {},
   "source": [
    "#######################################################################################\n",
    "## Program 15.2                                                                  ####\n",
    "#### Estimating and plotting the propensity score                                  ####\n",
    "#### Data from NHEFS                                                               ####\n",
    "#######################################################################################\n"
   ]
  },
  {
   "cell_type": "code",
   "execution_count": 213,
   "metadata": {},
   "outputs": [
    {
     "data": {
      "text/plain": [
       "'qsmk ~ sex + race + age + age*age +  age:age +education + smokeintensity + smokeintensity*smokeintensity + smokeintensity:smokeintensity +smokeyrs + smokeyrs*smokeyrs + smokeyrs:smokeyrs + exercise + active + wt71 + wt71*wt71'"
      ]
     },
     "execution_count": 213,
     "metadata": {},
     "output_type": "execute_result"
    }
   ],
   "source": [
    "formula1  = 'qsmk ~ sex + race + '\n",
    "formula1 += 'age + age*age +  age:age +' \n",
    "formula1 += 'education + ' \n",
    "formula1 += 'smokeintensity + smokeintensity*smokeintensity + smokeintensity:smokeintensity +' \n",
    "formula1 += 'smokeyrs + smokeyrs*smokeyrs + smokeyrs:smokeyrs + '\n",
    "formula1 += 'exercise + active + '\n",
    "formula1 += 'wt71 + wt71*wt71'\n",
    "formula1"
   ]
  },
  {
   "cell_type": "code",
   "execution_count": 214,
   "metadata": {},
   "outputs": [
    {
     "data": {
      "text/plain": [
       "\"formula1  = 'qsmk ~ sex + race + '\\nformula1 += 'polyv(age,2) + '\\nformula1 += 'education + ' \\nformula1 += 'polyv(smokeintensity,2) + '\\nformula1 += 'polyv(smokeyrs,2) + '\\nformula1 += 'exercise + active + '\\nformula1 += 'polyv(wt71,2)'\\nformula1\""
      ]
     },
     "execution_count": 214,
     "metadata": {},
     "output_type": "execute_result"
    }
   ],
   "source": [
    "'''formula1  = 'qsmk ~ sex + race + '\n",
    "formula1 += 'polyv(age,2) + '\n",
    "formula1 += 'education + ' \n",
    "formula1 += 'polyv(smokeintensity,2) + '\n",
    "formula1 += 'polyv(smokeyrs,2) + '\n",
    "formula1 += 'exercise + active + '\n",
    "formula1 += 'polyv(wt71,2)'\n",
    "formula1'''"
   ]
  },
  {
   "cell_type": "code",
   "execution_count": 215,
   "metadata": {
    "collapsed": true
   },
   "outputs": [],
   "source": [
    "# model to estimate propensity score"
   ]
  },
  {
   "cell_type": "code",
   "execution_count": 216,
   "metadata": {
    "scrolled": false
   },
   "outputs": [
    {
     "data": {
      "text/html": [
       "<table class=\"simpletable\">\n",
       "<caption>Generalized Linear Model Regression Results</caption>\n",
       "<tr>\n",
       "  <th>Dep. Variable:</th>        <td>qsmk</td>       <th>  No. Observations:  </th>  <td>  1617</td> \n",
       "</tr>\n",
       "<tr>\n",
       "  <th>Model:</th>                 <td>GLM</td>       <th>  Df Residuals:      </th>  <td>  1602</td> \n",
       "</tr>\n",
       "<tr>\n",
       "  <th>Model Family:</th>       <td>Binomial</td>     <th>  Df Model:          </th>  <td>    14</td> \n",
       "</tr>\n",
       "<tr>\n",
       "  <th>Link Function:</th>        <td>logit</td>      <th>  Scale:             </th>    <td>1.0</td>  \n",
       "</tr>\n",
       "<tr>\n",
       "  <th>Method:</th>               <td>IRLS</td>       <th>  Log-Likelihood:    </th> <td> -882.84</td>\n",
       "</tr>\n",
       "<tr>\n",
       "  <th>Date:</th>           <td>Fri, 02 Feb 2018</td> <th>  Deviance:          </th> <td>  1765.7</td>\n",
       "</tr>\n",
       "<tr>\n",
       "  <th>Time:</th>               <td>03:24:53</td>     <th>  Pearson chi2:      </th> <td>1.61e+03</td>\n",
       "</tr>\n",
       "<tr>\n",
       "  <th>No. Iterations:</th>         <td>4</td>        <th>                     </th>     <td> </td>   \n",
       "</tr>\n",
       "</table>\n",
       "<table class=\"simpletable\">\n",
       "<tr>\n",
       "                 <td></td>                    <th>coef</th>     <th>std err</th>      <th>z</th>      <th>P>|z|</th>  <th>[0.025</th>    <th>0.975]</th>  \n",
       "</tr>\n",
       "<tr>\n",
       "  <th>Intercept</th>                       <td>   -2.3492</td> <td>    0.469</td> <td>   -5.014</td> <td> 0.000</td> <td>   -3.268</td> <td>   -1.431</td>\n",
       "</tr>\n",
       "<tr>\n",
       "  <th>education[T.2. HS Dropout]</th>      <td>   -0.1254</td> <td>    0.191</td> <td>   -0.658</td> <td> 0.511</td> <td>   -0.499</td> <td>    0.248</td>\n",
       "</tr>\n",
       "<tr>\n",
       "  <th>education[T.3. HS]</th>              <td>   -0.0095</td> <td>    0.171</td> <td>   -0.055</td> <td> 0.956</td> <td>   -0.344</td> <td>    0.325</td>\n",
       "</tr>\n",
       "<tr>\n",
       "  <th>education[T.4. College Dropout]</th> <td>   -0.0031</td> <td>    0.262</td> <td>   -0.012</td> <td> 0.991</td> <td>   -0.517</td> <td>    0.511</td>\n",
       "</tr>\n",
       "<tr>\n",
       "  <th>education[T.5. College or More]</th> <td>    0.3807</td> <td>    0.220</td> <td>    1.730</td> <td> 0.084</td> <td>   -0.051</td> <td>    0.812</td>\n",
       "</tr>\n",
       "<tr>\n",
       "  <th>exercise[T.1]</th>                   <td>    0.2809</td> <td>    0.173</td> <td>    1.625</td> <td> 0.104</td> <td>   -0.058</td> <td>    0.620</td>\n",
       "</tr>\n",
       "<tr>\n",
       "  <th>exercise[T.2]</th>                   <td>    0.3844</td> <td>    0.179</td> <td>    2.144</td> <td> 0.032</td> <td>    0.033</td> <td>    0.736</td>\n",
       "</tr>\n",
       "<tr>\n",
       "  <th>active[T.1]</th>                     <td>    0.0110</td> <td>    0.129</td> <td>    0.085</td> <td> 0.932</td> <td>   -0.242</td> <td>    0.264</td>\n",
       "</tr>\n",
       "<tr>\n",
       "  <th>active[T.2]</th>                     <td>    0.0402</td> <td>    0.208</td> <td>    0.193</td> <td> 0.847</td> <td>   -0.368</td> <td>    0.449</td>\n",
       "</tr>\n",
       "<tr>\n",
       "  <th>sex</th>                             <td>   -0.4930</td> <td>    0.142</td> <td>   -3.464</td> <td> 0.001</td> <td>   -0.772</td> <td>   -0.214</td>\n",
       "</tr>\n",
       "<tr>\n",
       "  <th>race</th>                            <td>   -0.8286</td> <td>    0.206</td> <td>   -4.017</td> <td> 0.000</td> <td>   -1.233</td> <td>   -0.424</td>\n",
       "</tr>\n",
       "<tr>\n",
       "  <th>age</th>                             <td>    0.0465</td> <td>    0.010</td> <td>    4.810</td> <td> 0.000</td> <td>    0.028</td> <td>    0.066</td>\n",
       "</tr>\n",
       "<tr>\n",
       "  <th>smokeintensity</th>                  <td>   -0.0243</td> <td>    0.005</td> <td>   -4.422</td> <td> 0.000</td> <td>   -0.035</td> <td>   -0.014</td>\n",
       "</tr>\n",
       "<tr>\n",
       "  <th>smokeyrs</th>                        <td>   -0.0276</td> <td>    0.010</td> <td>   -2.821</td> <td> 0.005</td> <td>   -0.047</td> <td>   -0.008</td>\n",
       "</tr>\n",
       "<tr>\n",
       "  <th>wt71</th>                            <td>    0.0064</td> <td>    0.004</td> <td>    1.541</td> <td> 0.123</td> <td>   -0.002</td> <td>    0.015</td>\n",
       "</tr>\n",
       "</table>"
      ],
      "text/plain": [
       "<class 'statsmodels.iolib.summary.Summary'>\n",
       "\"\"\"\n",
       "                 Generalized Linear Model Regression Results                  \n",
       "==============================================================================\n",
       "Dep. Variable:                   qsmk   No. Observations:                 1617\n",
       "Model:                            GLM   Df Residuals:                     1602\n",
       "Model Family:                Binomial   Df Model:                           14\n",
       "Link Function:                  logit   Scale:                             1.0\n",
       "Method:                          IRLS   Log-Likelihood:                -882.84\n",
       "Date:                Fri, 02 Feb 2018   Deviance:                       1765.7\n",
       "Time:                        03:24:53   Pearson chi2:                 1.61e+03\n",
       "No. Iterations:                     4                                         \n",
       "===================================================================================================\n",
       "                                      coef    std err          z      P>|z|      [0.025      0.975]\n",
       "---------------------------------------------------------------------------------------------------\n",
       "Intercept                          -2.3492      0.469     -5.014      0.000      -3.268      -1.431\n",
       "education[T.2. HS Dropout]         -0.1254      0.191     -0.658      0.511      -0.499       0.248\n",
       "education[T.3. HS]                 -0.0095      0.171     -0.055      0.956      -0.344       0.325\n",
       "education[T.4. College Dropout]    -0.0031      0.262     -0.012      0.991      -0.517       0.511\n",
       "education[T.5. College or More]     0.3807      0.220      1.730      0.084      -0.051       0.812\n",
       "exercise[T.1]                       0.2809      0.173      1.625      0.104      -0.058       0.620\n",
       "exercise[T.2]                       0.3844      0.179      2.144      0.032       0.033       0.736\n",
       "active[T.1]                         0.0110      0.129      0.085      0.932      -0.242       0.264\n",
       "active[T.2]                         0.0402      0.208      0.193      0.847      -0.368       0.449\n",
       "sex                                -0.4930      0.142     -3.464      0.001      -0.772      -0.214\n",
       "race                               -0.8286      0.206     -4.017      0.000      -1.233      -0.424\n",
       "age                                 0.0465      0.010      4.810      0.000       0.028       0.066\n",
       "smokeintensity                     -0.0243      0.005     -4.422      0.000      -0.035      -0.014\n",
       "smokeyrs                           -0.0276      0.010     -2.821      0.005      -0.047      -0.008\n",
       "wt71                                0.0064      0.004      1.541      0.123      -0.002       0.015\n",
       "===================================================================================================\n",
       "\"\"\""
      ]
     },
     "execution_count": 216,
     "metadata": {},
     "output_type": "execute_result"
    }
   ],
   "source": [
    "mod3 = smf.glm(formula=formula1,\\\n",
    "               family=sm.families.Binomial()\\\n",
    "               , data=nhefs).fit()\n",
    "#fit_regularized(method='elastic_net',alpha=0.01,refit=True)\n",
    "mod3.summary()\n"
   ]
  },
  {
   "cell_type": "code",
   "execution_count": 217,
   "metadata": {
    "collapsed": true
   },
   "outputs": [],
   "source": [
    "# predict PS values and assign to variable in dataset\n",
    "nhefs['p_qsmk'] = mod3.predict(nhefs)"
   ]
  },
  {
   "cell_type": "code",
   "execution_count": 218,
   "metadata": {},
   "outputs": [
    {
     "data": {
      "text/html": [
       "<div>\n",
       "<style>\n",
       "    .dataframe thead tr:only-child th {\n",
       "        text-align: right;\n",
       "    }\n",
       "\n",
       "    .dataframe thead th {\n",
       "        text-align: left;\n",
       "    }\n",
       "\n",
       "    .dataframe tbody tr th {\n",
       "        vertical-align: top;\n",
       "    }\n",
       "</style>\n",
       "<table border=\"1\" class=\"dataframe\">\n",
       "  <thead>\n",
       "    <tr style=\"text-align: right;\">\n",
       "      <th>qsmk</th>\n",
       "      <th>0</th>\n",
       "      <th>1</th>\n",
       "    </tr>\n",
       "  </thead>\n",
       "  <tbody>\n",
       "    <tr>\n",
       "      <th>count</th>\n",
       "      <td>1193.000000</td>\n",
       "      <td>424.000000</td>\n",
       "    </tr>\n",
       "    <tr>\n",
       "      <th>mean</th>\n",
       "      <td>0.246848</td>\n",
       "      <td>0.305448</td>\n",
       "    </tr>\n",
       "    <tr>\n",
       "      <th>std</th>\n",
       "      <td>0.099415</td>\n",
       "      <td>0.113834</td>\n",
       "    </tr>\n",
       "    <tr>\n",
       "      <th>min</th>\n",
       "      <td>0.046296</td>\n",
       "      <td>0.073334</td>\n",
       "    </tr>\n",
       "    <tr>\n",
       "      <th>25%</th>\n",
       "      <td>0.174373</td>\n",
       "      <td>0.223879</td>\n",
       "    </tr>\n",
       "    <tr>\n",
       "      <th>50%</th>\n",
       "      <td>0.235041</td>\n",
       "      <td>0.292087</td>\n",
       "    </tr>\n",
       "    <tr>\n",
       "      <th>75%</th>\n",
       "      <td>0.311051</td>\n",
       "      <td>0.373695</td>\n",
       "    </tr>\n",
       "    <tr>\n",
       "      <th>max</th>\n",
       "      <td>0.655367</td>\n",
       "      <td>0.775983</td>\n",
       "    </tr>\n",
       "  </tbody>\n",
       "</table>\n",
       "</div>"
      ],
      "text/plain": [
       "qsmk             0           1\n",
       "count  1193.000000  424.000000\n",
       "mean      0.246848    0.305448\n",
       "std       0.099415    0.113834\n",
       "min       0.046296    0.073334\n",
       "25%       0.174373    0.223879\n",
       "50%       0.235041    0.292087\n",
       "75%       0.311051    0.373695\n",
       "max       0.655367    0.775983"
      ]
     },
     "execution_count": 218,
     "metadata": {},
     "output_type": "execute_result"
    }
   ],
   "source": [
    "# view summary statistics for PS by qsmk \n",
    "nhefs.groupby('qsmk').describe()['p_qsmk'].T"
   ]
  },
  {
   "cell_type": "code",
   "execution_count": 219,
   "metadata": {},
   "outputs": [
    {
     "name": "stderr",
     "output_type": "stream",
     "text": [
      "C:\\ProgramData\\Anaconda3\\lib\\site-packages\\ggplot\\utils.py:81: FutureWarning: pandas.tslib is deprecated and will be removed in a future version.\n",
      "You can access Timestamp as pandas.Timestamp\n",
      "  pd.tslib.Timestamp,\n",
      "C:\\ProgramData\\Anaconda3\\lib\\site-packages\\ggplot\\stats\\smoothers.py:4: FutureWarning: The pandas.lib module is deprecated and will be removed in a future version. These are private functions and can be accessed from pandas._libs.lib instead\n",
      "  from pandas.lib import Timestamp\n"
     ]
    }
   ],
   "source": [
    "from ggplot import *"
   ]
  },
  {
   "cell_type": "code",
   "execution_count": 220,
   "metadata": {},
   "outputs": [
    {
     "data": {
      "image/png": "[encoded data removed]",
      "text/plain": [
       "<matplotlib.figure.Figure at 0x2a5d7ba9d30>"
      ]
     },
     "metadata": {},
     "output_type": "display_data"
    },
    {
     "data": {
      "text/plain": [
       "<ggplot: (-9223371854897763896)>"
      ]
     },
     "execution_count": 220,
     "metadata": {},
     "output_type": "execute_result"
    }
   ],
   "source": [
    "ggplot(aes(x='p_qsmk', color='qsmklabel'),data=nhefs) +\\\n",
    "geom_density()+\\\n",
    "xlab('Probability of Quitting Smoking During Follow-up') +\\\n",
    "ggtitle('Propensity Score Distribution by Treatment Group')\n"
   ]
  },
  {
   "cell_type": "code",
   "execution_count": 221,
   "metadata": {
    "scrolled": true
   },
   "outputs": [
    {
     "data": {
      "image/png": "[encoded data removed]",
      "text/plain": [
       "<matplotlib.figure.Figure at 0x2a5d7bc8c18>"
      ]
     },
     "metadata": {},
     "output_type": "display_data"
    },
    {
     "data": {
      "text/plain": [
       "<ggplot: (-9223371854897756107)>"
      ]
     },
     "execution_count": 221,
     "metadata": {},
     "output_type": "execute_result"
    }
   ],
   "source": [
    "# alternative plot with histograms  \n",
    "ggplot(aes(x='p_qsmk', fill ='qsmklabel' , color='qsmklabel'),data=nhefs) +\\\n",
    "geom_histogram(alpha = 0.3, position = 'identity') +\\\n",
    "facet_grid('qsmklabel') +\\\n",
    "xlab('Probability of Quitting Smoking During Follow-up') +\\\n",
    "ggtitle('Propensity Score Distribution by Treatment Group')\n",
    "\n"
   ]
  },
  {
   "cell_type": "code",
   "execution_count": 222,
   "metadata": {
    "collapsed": true
   },
   "outputs": [],
   "source": [
    "nhefs['ps_grp'] = nhefs['p_qsmk'].apply(lambda x: np.round(x/0.05)* 0.05)"
   ]
  },
  {
   "cell_type": "code",
   "execution_count": 223,
   "metadata": {
    "collapsed": true
   },
   "outputs": [],
   "source": [
    "n = pd.DataFrame(nhefs.groupby(['qsmk', 'qsmklabel', 'ps_grp'])['qsmk'].count())\n",
    "n = n.add_suffix('c').reset_index()"
   ]
  },
  {
   "cell_type": "code",
   "execution_count": 224,
   "metadata": {
    "collapsed": true
   },
   "outputs": [],
   "source": [
    "n['n2'] = list(map(lambda n: n[1] if n[0]==0 else -1*n[1],\\\n",
    "         zip(n['qsmk'],n['qsmkc'])))"
   ]
  },
  {
   "cell_type": "code",
   "execution_count": 225,
   "metadata": {
    "collapsed": true
   },
   "outputs": [],
   "source": [
    "n['ny'] = n['qsmk'].apply(lambda x : 8 if x==0 else -8)\n",
    "n['ny'] = n['n2'] + n['ny']"
   ]
  },
  {
   "cell_type": "code",
   "execution_count": 226,
   "metadata": {},
   "outputs": [
    {
     "data": {
      "text/html": [
       "<div>\n",
       "<style>\n",
       "    .dataframe thead tr:only-child th {\n",
       "        text-align: right;\n",
       "    }\n",
       "\n",
       "    .dataframe thead th {\n",
       "        text-align: left;\n",
       "    }\n",
       "\n",
       "    .dataframe tbody tr th {\n",
       "        vertical-align: top;\n",
       "    }\n",
       "</style>\n",
       "<table border=\"1\" class=\"dataframe\">\n",
       "  <thead>\n",
       "    <tr style=\"text-align: right;\">\n",
       "      <th></th>\n",
       "      <th>qsmk</th>\n",
       "      <th>qsmklabel</th>\n",
       "      <th>ps_grp</th>\n",
       "      <th>qsmkc</th>\n",
       "      <th>n2</th>\n",
       "      <th>ny</th>\n",
       "    </tr>\n",
       "  </thead>\n",
       "  <tbody>\n",
       "    <tr>\n",
       "      <th>0</th>\n",
       "      <td>0</td>\n",
       "      <td>Did Not Quit Smoking 1971-1982</td>\n",
       "      <td>0.05</td>\n",
       "      <td>10</td>\n",
       "      <td>10</td>\n",
       "      <td>18</td>\n",
       "    </tr>\n",
       "    <tr>\n",
       "      <th>1</th>\n",
       "      <td>0</td>\n",
       "      <td>Did Not Quit Smoking 1971-1982</td>\n",
       "      <td>0.10</td>\n",
       "      <td>103</td>\n",
       "      <td>103</td>\n",
       "      <td>111</td>\n",
       "    </tr>\n",
       "    <tr>\n",
       "      <th>2</th>\n",
       "      <td>0</td>\n",
       "      <td>Did Not Quit Smoking 1971-1982</td>\n",
       "      <td>0.15</td>\n",
       "      <td>187</td>\n",
       "      <td>187</td>\n",
       "      <td>195</td>\n",
       "    </tr>\n",
       "    <tr>\n",
       "      <th>3</th>\n",
       "      <td>0</td>\n",
       "      <td>Did Not Quit Smoking 1971-1982</td>\n",
       "      <td>0.20</td>\n",
       "      <td>254</td>\n",
       "      <td>254</td>\n",
       "      <td>262</td>\n",
       "    </tr>\n",
       "    <tr>\n",
       "      <th>4</th>\n",
       "      <td>0</td>\n",
       "      <td>Did Not Quit Smoking 1971-1982</td>\n",
       "      <td>0.25</td>\n",
       "      <td>216</td>\n",
       "      <td>216</td>\n",
       "      <td>224</td>\n",
       "    </tr>\n",
       "    <tr>\n",
       "      <th>5</th>\n",
       "      <td>0</td>\n",
       "      <td>Did Not Quit Smoking 1971-1982</td>\n",
       "      <td>0.30</td>\n",
       "      <td>174</td>\n",
       "      <td>174</td>\n",
       "      <td>182</td>\n",
       "    </tr>\n",
       "    <tr>\n",
       "      <th>6</th>\n",
       "      <td>0</td>\n",
       "      <td>Did Not Quit Smoking 1971-1982</td>\n",
       "      <td>0.35</td>\n",
       "      <td>116</td>\n",
       "      <td>116</td>\n",
       "      <td>124</td>\n",
       "    </tr>\n",
       "    <tr>\n",
       "      <th>7</th>\n",
       "      <td>0</td>\n",
       "      <td>Did Not Quit Smoking 1971-1982</td>\n",
       "      <td>0.40</td>\n",
       "      <td>75</td>\n",
       "      <td>75</td>\n",
       "      <td>83</td>\n",
       "    </tr>\n",
       "    <tr>\n",
       "      <th>8</th>\n",
       "      <td>0</td>\n",
       "      <td>Did Not Quit Smoking 1971-1982</td>\n",
       "      <td>0.45</td>\n",
       "      <td>28</td>\n",
       "      <td>28</td>\n",
       "      <td>36</td>\n",
       "    </tr>\n",
       "    <tr>\n",
       "      <th>9</th>\n",
       "      <td>0</td>\n",
       "      <td>Did Not Quit Smoking 1971-1982</td>\n",
       "      <td>0.50</td>\n",
       "      <td>22</td>\n",
       "      <td>22</td>\n",
       "      <td>30</td>\n",
       "    </tr>\n",
       "    <tr>\n",
       "      <th>10</th>\n",
       "      <td>0</td>\n",
       "      <td>Did Not Quit Smoking 1971-1982</td>\n",
       "      <td>0.55</td>\n",
       "      <td>3</td>\n",
       "      <td>3</td>\n",
       "      <td>11</td>\n",
       "    </tr>\n",
       "    <tr>\n",
       "      <th>11</th>\n",
       "      <td>0</td>\n",
       "      <td>Did Not Quit Smoking 1971-1982</td>\n",
       "      <td>0.60</td>\n",
       "      <td>3</td>\n",
       "      <td>3</td>\n",
       "      <td>11</td>\n",
       "    </tr>\n",
       "    <tr>\n",
       "      <th>12</th>\n",
       "      <td>0</td>\n",
       "      <td>Did Not Quit Smoking 1971-1982</td>\n",
       "      <td>0.65</td>\n",
       "      <td>2</td>\n",
       "      <td>2</td>\n",
       "      <td>10</td>\n",
       "    </tr>\n",
       "    <tr>\n",
       "      <th>13</th>\n",
       "      <td>1</td>\n",
       "      <td>Quit Smoking 1971-1982</td>\n",
       "      <td>0.05</td>\n",
       "      <td>2</td>\n",
       "      <td>-2</td>\n",
       "      <td>-10</td>\n",
       "    </tr>\n",
       "    <tr>\n",
       "      <th>14</th>\n",
       "      <td>1</td>\n",
       "      <td>Quit Smoking 1971-1982</td>\n",
       "      <td>0.10</td>\n",
       "      <td>8</td>\n",
       "      <td>-8</td>\n",
       "      <td>-16</td>\n",
       "    </tr>\n",
       "    <tr>\n",
       "      <th>15</th>\n",
       "      <td>1</td>\n",
       "      <td>Quit Smoking 1971-1982</td>\n",
       "      <td>0.15</td>\n",
       "      <td>37</td>\n",
       "      <td>-37</td>\n",
       "      <td>-45</td>\n",
       "    </tr>\n",
       "    <tr>\n",
       "      <th>16</th>\n",
       "      <td>1</td>\n",
       "      <td>Quit Smoking 1971-1982</td>\n",
       "      <td>0.20</td>\n",
       "      <td>60</td>\n",
       "      <td>-60</td>\n",
       "      <td>-68</td>\n",
       "    </tr>\n",
       "    <tr>\n",
       "      <th>17</th>\n",
       "      <td>1</td>\n",
       "      <td>Quit Smoking 1971-1982</td>\n",
       "      <td>0.25</td>\n",
       "      <td>83</td>\n",
       "      <td>-83</td>\n",
       "      <td>-91</td>\n",
       "    </tr>\n",
       "    <tr>\n",
       "      <th>18</th>\n",
       "      <td>1</td>\n",
       "      <td>Quit Smoking 1971-1982</td>\n",
       "      <td>0.30</td>\n",
       "      <td>70</td>\n",
       "      <td>-70</td>\n",
       "      <td>-78</td>\n",
       "    </tr>\n",
       "    <tr>\n",
       "      <th>19</th>\n",
       "      <td>1</td>\n",
       "      <td>Quit Smoking 1971-1982</td>\n",
       "      <td>0.35</td>\n",
       "      <td>60</td>\n",
       "      <td>-60</td>\n",
       "      <td>-68</td>\n",
       "    </tr>\n",
       "    <tr>\n",
       "      <th>20</th>\n",
       "      <td>1</td>\n",
       "      <td>Quit Smoking 1971-1982</td>\n",
       "      <td>0.40</td>\n",
       "      <td>45</td>\n",
       "      <td>-45</td>\n",
       "      <td>-53</td>\n",
       "    </tr>\n",
       "    <tr>\n",
       "      <th>21</th>\n",
       "      <td>1</td>\n",
       "      <td>Quit Smoking 1971-1982</td>\n",
       "      <td>0.45</td>\n",
       "      <td>24</td>\n",
       "      <td>-24</td>\n",
       "      <td>-32</td>\n",
       "    </tr>\n",
       "    <tr>\n",
       "      <th>22</th>\n",
       "      <td>1</td>\n",
       "      <td>Quit Smoking 1971-1982</td>\n",
       "      <td>0.50</td>\n",
       "      <td>12</td>\n",
       "      <td>-12</td>\n",
       "      <td>-20</td>\n",
       "    </tr>\n",
       "    <tr>\n",
       "      <th>23</th>\n",
       "      <td>1</td>\n",
       "      <td>Quit Smoking 1971-1982</td>\n",
       "      <td>0.55</td>\n",
       "      <td>16</td>\n",
       "      <td>-16</td>\n",
       "      <td>-24</td>\n",
       "    </tr>\n",
       "    <tr>\n",
       "      <th>24</th>\n",
       "      <td>1</td>\n",
       "      <td>Quit Smoking 1971-1982</td>\n",
       "      <td>0.60</td>\n",
       "      <td>4</td>\n",
       "      <td>-4</td>\n",
       "      <td>-12</td>\n",
       "    </tr>\n",
       "    <tr>\n",
       "      <th>25</th>\n",
       "      <td>1</td>\n",
       "      <td>Quit Smoking 1971-1982</td>\n",
       "      <td>0.65</td>\n",
       "      <td>2</td>\n",
       "      <td>-2</td>\n",
       "      <td>-10</td>\n",
       "    </tr>\n",
       "    <tr>\n",
       "      <th>26</th>\n",
       "      <td>1</td>\n",
       "      <td>Quit Smoking 1971-1982</td>\n",
       "      <td>0.80</td>\n",
       "      <td>1</td>\n",
       "      <td>-1</td>\n",
       "      <td>-9</td>\n",
       "    </tr>\n",
       "  </tbody>\n",
       "</table>\n",
       "</div>"
      ],
      "text/plain": [
       "    qsmk                       qsmklabel  ps_grp  qsmkc   n2   ny\n",
       "0      0  Did Not Quit Smoking 1971-1982    0.05     10   10   18\n",
       "1      0  Did Not Quit Smoking 1971-1982    0.10    103  103  111\n",
       "2      0  Did Not Quit Smoking 1971-1982    0.15    187  187  195\n",
       "3      0  Did Not Quit Smoking 1971-1982    0.20    254  254  262\n",
       "4      0  Did Not Quit Smoking 1971-1982    0.25    216  216  224\n",
       "5      0  Did Not Quit Smoking 1971-1982    0.30    174  174  182\n",
       "6      0  Did Not Quit Smoking 1971-1982    0.35    116  116  124\n",
       "7      0  Did Not Quit Smoking 1971-1982    0.40     75   75   83\n",
       "8      0  Did Not Quit Smoking 1971-1982    0.45     28   28   36\n",
       "9      0  Did Not Quit Smoking 1971-1982    0.50     22   22   30\n",
       "10     0  Did Not Quit Smoking 1971-1982    0.55      3    3   11\n",
       "11     0  Did Not Quit Smoking 1971-1982    0.60      3    3   11\n",
       "12     0  Did Not Quit Smoking 1971-1982    0.65      2    2   10\n",
       "13     1          Quit Smoking 1971-1982    0.05      2   -2  -10\n",
       "14     1          Quit Smoking 1971-1982    0.10      8   -8  -16\n",
       "15     1          Quit Smoking 1971-1982    0.15     37  -37  -45\n",
       "16     1          Quit Smoking 1971-1982    0.20     60  -60  -68\n",
       "17     1          Quit Smoking 1971-1982    0.25     83  -83  -91\n",
       "18     1          Quit Smoking 1971-1982    0.30     70  -70  -78\n",
       "19     1          Quit Smoking 1971-1982    0.35     60  -60  -68\n",
       "20     1          Quit Smoking 1971-1982    0.40     45  -45  -53\n",
       "21     1          Quit Smoking 1971-1982    0.45     24  -24  -32\n",
       "22     1          Quit Smoking 1971-1982    0.50     12  -12  -20\n",
       "23     1          Quit Smoking 1971-1982    0.55     16  -16  -24\n",
       "24     1          Quit Smoking 1971-1982    0.60      4   -4  -12\n",
       "25     1          Quit Smoking 1971-1982    0.65      2   -2  -10\n",
       "26     1          Quit Smoking 1971-1982    0.80      1   -1   -9"
      ]
     },
     "execution_count": 226,
     "metadata": {},
     "output_type": "execute_result"
    }
   ],
   "source": [
    "n"
   ]
  },
  {
   "cell_type": "code",
   "execution_count": 227,
   "metadata": {},
   "outputs": [
    {
     "data": {
      "image/png": "[encoded data removed]",
      "text/plain": [
       "<matplotlib.figure.Figure at 0x2a5d7cba2e8>"
      ]
     },
     "metadata": {},
     "output_type": "display_data"
    },
    {
     "data": {
      "text/plain": [
       "<ggplot: (181957023720)>"
      ]
     },
     "execution_count": 227,
     "metadata": {},
     "output_type": "execute_result"
    }
   ],
   "source": [
    "ggplot(aes(x = 'ps_grp', y = 'n2', weight = 'n2', fill = 'qsmklabel'),data=n)+\\\n",
    "geom_bar( position = 'stack')+\\\n",
    "ylab('N')+\\\n",
    "xlab('Probability of Quitting Smoking During Follow-up') +\\\n",
    "ggtitle('Propensity Score Distribution by Treatment Group')\n"
   ]
  },
  {
   "cell_type": "markdown",
   "metadata": {},
   "source": [
    "#######################################################################################\n",
    "## Program 15.3                                                                  ####\n",
    "#### Stratification on the propensity score                                        ####\n",
    "#### Data from NHEFS                                                               ####\n",
    "#######################################################################################\n"
   ]
  },
  {
   "cell_type": "code",
   "execution_count": 228,
   "metadata": {
    "collapsed": true
   },
   "outputs": [],
   "source": [
    "# function to create deciles easily\n",
    "def decile(x):\n",
    "    return pd.qcut(x,np.arange(0, 1, 0.1), labels=False).astype('category')"
   ]
  },
  {
   "cell_type": "code",
   "execution_count": 229,
   "metadata": {},
   "outputs": [
    {
     "data": {
      "text/html": [
       "<table class=\"simpletable\">\n",
       "<caption>Generalized Linear Model Regression Results</caption>\n",
       "<tr>\n",
       "  <th>Dep. Variable:</th>       <td>wt82_71</td>     <th>  No. Observations:  </th>    <td>  1403</td>    \n",
       "</tr>\n",
       "<tr>\n",
       "  <th>Model:</th>                 <td>GLM</td>       <th>  Df Residuals:      </th>    <td>  1393</td>    \n",
       "</tr>\n",
       "<tr>\n",
       "  <th>Model Family:</th>       <td>Gaussian</td>     <th>  Df Model:          </th>    <td>     9</td>    \n",
       "</tr>\n",
       "<tr>\n",
       "  <th>Link Function:</th>      <td>identity</td>     <th>  Scale:             </th> <td>56.8754090416</td>\n",
       "</tr>\n",
       "<tr>\n",
       "  <th>Method:</th>               <td>IRLS</td>       <th>  Log-Likelihood:    </th>   <td> -4820.4</td>   \n",
       "</tr>\n",
       "<tr>\n",
       "  <th>Date:</th>           <td>Fri, 02 Feb 2018</td> <th>  Deviance:          </th>   <td>  79227.</td>   \n",
       "</tr>\n",
       "<tr>\n",
       "  <th>Time:</th>               <td>03:25:13</td>     <th>  Pearson chi2:      </th>   <td>7.92e+04</td>   \n",
       "</tr>\n",
       "<tr>\n",
       "  <th>No. Iterations:</th>         <td>2</td>        <th>                     </th>       <td> </td>      \n",
       "</tr>\n",
       "</table>\n",
       "<table class=\"simpletable\">\n",
       "<tr>\n",
       "            <td></td>               <th>coef</th>     <th>std err</th>      <th>z</th>      <th>P>|z|</th>  <th>[0.025</th>    <th>0.975]</th>  \n",
       "</tr>\n",
       "<tr>\n",
       "  <th>Intercept</th>             <td>    3.6576</td> <td>    0.607</td> <td>    6.025</td> <td> 0.000</td> <td>    2.468</td> <td>    4.848</td>\n",
       "</tr>\n",
       "<tr>\n",
       "  <th>decile(p_qsmk)[T.1.0]</th> <td>   -0.5895</td> <td>    0.861</td> <td>   -0.685</td> <td> 0.493</td> <td>   -2.277</td> <td>    1.098</td>\n",
       "</tr>\n",
       "<tr>\n",
       "  <th>decile(p_qsmk)[T.2.0]</th> <td>   -1.0377</td> <td>    0.850</td> <td>   -1.220</td> <td> 0.222</td> <td>   -2.704</td> <td>    0.629</td>\n",
       "</tr>\n",
       "<tr>\n",
       "  <th>decile(p_qsmk)[T.3.0]</th> <td>   -0.3612</td> <td>    0.853</td> <td>   -0.424</td> <td> 0.672</td> <td>   -2.033</td> <td>    1.310</td>\n",
       "</tr>\n",
       "<tr>\n",
       "  <th>decile(p_qsmk)[T.4.0]</th> <td>   -1.0926</td> <td>    0.857</td> <td>   -1.275</td> <td> 0.202</td> <td>   -2.773</td> <td>    0.587</td>\n",
       "</tr>\n",
       "<tr>\n",
       "  <th>decile(p_qsmk)[T.5.0]</th> <td>   -1.7610</td> <td>    0.856</td> <td>   -2.057</td> <td> 0.040</td> <td>   -3.439</td> <td>   -0.083</td>\n",
       "</tr>\n",
       "<tr>\n",
       "  <th>decile(p_qsmk)[T.6.0]</th> <td>   -1.7169</td> <td>    0.862</td> <td>   -1.991</td> <td> 0.046</td> <td>   -3.407</td> <td>   -0.027</td>\n",
       "</tr>\n",
       "<tr>\n",
       "  <th>decile(p_qsmk)[T.7.0]</th> <td>   -3.0935</td> <td>    0.868</td> <td>   -3.563</td> <td> 0.000</td> <td>   -4.795</td> <td>   -1.392</td>\n",
       "</tr>\n",
       "<tr>\n",
       "  <th>decile(p_qsmk)[T.8.0]</th> <td>   -4.5711</td> <td>    0.871</td> <td>   -5.246</td> <td> 0.000</td> <td>   -6.279</td> <td>   -2.863</td>\n",
       "</tr>\n",
       "<tr>\n",
       "  <th>qsmk</th>                  <td>    3.6434</td> <td>    0.485</td> <td>    7.510</td> <td> 0.000</td> <td>    2.693</td> <td>    4.594</td>\n",
       "</tr>\n",
       "</table>"
      ],
      "text/plain": [
       "<class 'statsmodels.iolib.summary.Summary'>\n",
       "\"\"\"\n",
       "                 Generalized Linear Model Regression Results                  \n",
       "==============================================================================\n",
       "Dep. Variable:                wt82_71   No. Observations:                 1403\n",
       "Model:                            GLM   Df Residuals:                     1393\n",
       "Model Family:                Gaussian   Df Model:                            9\n",
       "Link Function:               identity   Scale:                   56.8754090416\n",
       "Method:                          IRLS   Log-Likelihood:                -4820.4\n",
       "Date:                Fri, 02 Feb 2018   Deviance:                       79227.\n",
       "Time:                        03:25:13   Pearson chi2:                 7.92e+04\n",
       "No. Iterations:                     2                                         \n",
       "=========================================================================================\n",
       "                            coef    std err          z      P>|z|      [0.025      0.975]\n",
       "-----------------------------------------------------------------------------------------\n",
       "Intercept                 3.6576      0.607      6.025      0.000       2.468       4.848\n",
       "decile(p_qsmk)[T.1.0]    -0.5895      0.861     -0.685      0.493      -2.277       1.098\n",
       "decile(p_qsmk)[T.2.0]    -1.0377      0.850     -1.220      0.222      -2.704       0.629\n",
       "decile(p_qsmk)[T.3.0]    -0.3612      0.853     -0.424      0.672      -2.033       1.310\n",
       "decile(p_qsmk)[T.4.0]    -1.0926      0.857     -1.275      0.202      -2.773       0.587\n",
       "decile(p_qsmk)[T.5.0]    -1.7610      0.856     -2.057      0.040      -3.439      -0.083\n",
       "decile(p_qsmk)[T.6.0]    -1.7169      0.862     -1.991      0.046      -3.407      -0.027\n",
       "decile(p_qsmk)[T.7.0]    -3.0935      0.868     -3.563      0.000      -4.795      -1.392\n",
       "decile(p_qsmk)[T.8.0]    -4.5711      0.871     -5.246      0.000      -6.279      -2.863\n",
       "qsmk                      3.6434      0.485      7.510      0.000       2.693       4.594\n",
       "=========================================================================================\n",
       "\"\"\""
      ]
     },
     "execution_count": 229,
     "metadata": {},
     "output_type": "execute_result"
    }
   ],
   "source": [
    "# regression on PS deciles, not allowing for effect modification\n",
    "mod2 = smf.glm(formula='wt82_71 ~ qsmk + decile(p_qsmk)', data=nhefs).fit()\n",
    "mod2.summary()"
   ]
  },
  {
   "cell_type": "code",
   "execution_count": 230,
   "metadata": {},
   "outputs": [
    {
     "data": {
      "text/html": [
       "<div>\n",
       "<style>\n",
       "    .dataframe thead tr:only-child th {\n",
       "        text-align: right;\n",
       "    }\n",
       "\n",
       "    .dataframe thead th {\n",
       "        text-align: left;\n",
       "    }\n",
       "\n",
       "    .dataframe tbody tr th {\n",
       "        vertical-align: top;\n",
       "    }\n",
       "</style>\n",
       "<table border=\"1\" class=\"dataframe\">\n",
       "  <thead>\n",
       "    <tr style=\"text-align: right;\">\n",
       "      <th></th>\n",
       "      <th>2.5 %</th>\n",
       "      <th>97.5 %</th>\n",
       "    </tr>\n",
       "  </thead>\n",
       "  <tbody>\n",
       "    <tr>\n",
       "      <th>Intercept</th>\n",
       "      <td>2.467702</td>\n",
       "      <td>4.847565</td>\n",
       "    </tr>\n",
       "    <tr>\n",
       "      <th>decile(p_qsmk)[T.1.0]</th>\n",
       "      <td>-2.276646</td>\n",
       "      <td>1.097649</td>\n",
       "    </tr>\n",
       "    <tr>\n",
       "      <th>decile(p_qsmk)[T.2.0]</th>\n",
       "      <td>-2.704363</td>\n",
       "      <td>0.628928</td>\n",
       "    </tr>\n",
       "    <tr>\n",
       "      <th>decile(p_qsmk)[T.3.0]</th>\n",
       "      <td>-2.032511</td>\n",
       "      <td>1.310012</td>\n",
       "    </tr>\n",
       "    <tr>\n",
       "      <th>decile(p_qsmk)[T.4.0]</th>\n",
       "      <td>-2.772551</td>\n",
       "      <td>0.587403</td>\n",
       "    </tr>\n",
       "    <tr>\n",
       "      <th>decile(p_qsmk)[T.5.0]</th>\n",
       "      <td>-3.438803</td>\n",
       "      <td>-0.083113</td>\n",
       "    </tr>\n",
       "    <tr>\n",
       "      <th>decile(p_qsmk)[T.6.0]</th>\n",
       "      <td>-3.406622</td>\n",
       "      <td>-0.027084</td>\n",
       "    </tr>\n",
       "    <tr>\n",
       "      <th>decile(p_qsmk)[T.7.0]</th>\n",
       "      <td>-4.795100</td>\n",
       "      <td>-1.391907</td>\n",
       "    </tr>\n",
       "    <tr>\n",
       "      <th>decile(p_qsmk)[T.8.0]</th>\n",
       "      <td>-6.278938</td>\n",
       "      <td>-2.863189</td>\n",
       "    </tr>\n",
       "    <tr>\n",
       "      <th>qsmk</th>\n",
       "      <td>2.692570</td>\n",
       "      <td>4.594275</td>\n",
       "    </tr>\n",
       "  </tbody>\n",
       "</table>\n",
       "</div>"
      ],
      "text/plain": [
       "                          2.5 %    97.5 %\n",
       "Intercept              2.467702  4.847565\n",
       "decile(p_qsmk)[T.1.0] -2.276646  1.097649\n",
       "decile(p_qsmk)[T.2.0] -2.704363  0.628928\n",
       "decile(p_qsmk)[T.3.0] -2.032511  1.310012\n",
       "decile(p_qsmk)[T.4.0] -2.772551  0.587403\n",
       "decile(p_qsmk)[T.5.0] -3.438803 -0.083113\n",
       "decile(p_qsmk)[T.6.0] -3.406622 -0.027084\n",
       "decile(p_qsmk)[T.7.0] -4.795100 -1.391907\n",
       "decile(p_qsmk)[T.8.0] -6.278938 -2.863189\n",
       "qsmk                   2.692570  4.594275"
      ]
     },
     "execution_count": 230,
     "metadata": {},
     "output_type": "execute_result"
    }
   ],
   "source": [
    "mc = mod2.conf_int()\n",
    "mc.columns = ['2.5 %','97.5 %']\n",
    "mc"
   ]
  },
  {
   "cell_type": "code",
   "execution_count": 231,
   "metadata": {},
   "outputs": [
    {
     "data": {
      "text/html": [
       "<table class=\"simpletable\">\n",
       "<caption>Generalized Linear Model Regression Results</caption>\n",
       "<tr>\n",
       "  <th>Dep. Variable:</th>       <td>wt82_71</td>     <th>  No. Observations:  </th>    <td>  1403</td>    \n",
       "</tr>\n",
       "<tr>\n",
       "  <th>Model:</th>                 <td>GLM</td>       <th>  Df Residuals:      </th>    <td>  1385</td>    \n",
       "</tr>\n",
       "<tr>\n",
       "  <th>Model Family:</th>       <td>Gaussian</td>     <th>  Df Model:          </th>    <td>    17</td>    \n",
       "</tr>\n",
       "<tr>\n",
       "  <th>Link Function:</th>      <td>identity</td>     <th>  Scale:             </th> <td>56.9675991586</td>\n",
       "</tr>\n",
       "<tr>\n",
       "  <th>Method:</th>               <td>IRLS</td>       <th>  Log-Likelihood:    </th>   <td> -4817.5</td>   \n",
       "</tr>\n",
       "<tr>\n",
       "  <th>Date:</th>           <td>Fri, 02 Feb 2018</td> <th>  Deviance:          </th>   <td>  78900.</td>   \n",
       "</tr>\n",
       "<tr>\n",
       "  <th>Time:</th>               <td>03:25:17</td>     <th>  Pearson chi2:      </th>   <td>7.89e+04</td>   \n",
       "</tr>\n",
       "<tr>\n",
       "  <th>No. Iterations:</th>         <td>2</td>        <th>                     </th>       <td> </td>      \n",
       "</tr>\n",
       "</table>\n",
       "<table class=\"simpletable\">\n",
       "<tr>\n",
       "               <td></td>                 <th>coef</th>     <th>std err</th>      <th>z</th>      <th>P>|z|</th>  <th>[0.025</th>    <th>0.975]</th>  \n",
       "</tr>\n",
       "<tr>\n",
       "  <th>Intercept</th>                  <td>    3.8420</td> <td>    0.633</td> <td>    6.066</td> <td> 0.000</td> <td>    2.601</td> <td>    5.083</td>\n",
       "</tr>\n",
       "<tr>\n",
       "  <th>decile(p_qsmk)[T.1.0]</th>      <td>   -0.5715</td> <td>    0.926</td> <td>   -0.617</td> <td> 0.537</td> <td>   -2.386</td> <td>    1.243</td>\n",
       "</tr>\n",
       "<tr>\n",
       "  <th>decile(p_qsmk)[T.2.0]</th>      <td>   -1.5672</td> <td>    0.902</td> <td>   -1.737</td> <td> 0.082</td> <td>   -3.335</td> <td>    0.201</td>\n",
       "</tr>\n",
       "<tr>\n",
       "  <th>decile(p_qsmk)[T.3.0]</th>      <td>   -0.5685</td> <td>    0.928</td> <td>   -0.613</td> <td> 0.540</td> <td>   -2.387</td> <td>    1.250</td>\n",
       "</tr>\n",
       "<tr>\n",
       "  <th>decile(p_qsmk)[T.4.0]</th>      <td>   -1.1779</td> <td>    0.945</td> <td>   -1.247</td> <td> 0.212</td> <td>   -3.029</td> <td>    0.673</td>\n",
       "</tr>\n",
       "<tr>\n",
       "  <th>decile(p_qsmk)[T.5.0]</th>      <td>   -2.1332</td> <td>    0.945</td> <td>   -2.258</td> <td> 0.024</td> <td>   -3.985</td> <td>   -0.282</td>\n",
       "</tr>\n",
       "<tr>\n",
       "  <th>decile(p_qsmk)[T.6.0]</th>      <td>   -2.2702</td> <td>    0.956</td> <td>   -2.374</td> <td> 0.018</td> <td>   -4.144</td> <td>   -0.396</td>\n",
       "</tr>\n",
       "<tr>\n",
       "  <th>decile(p_qsmk)[T.7.0]</th>      <td>   -2.9296</td> <td>    0.966</td> <td>   -3.032</td> <td> 0.002</td> <td>   -4.823</td> <td>   -1.036</td>\n",
       "</tr>\n",
       "<tr>\n",
       "  <th>decile(p_qsmk)[T.8.0]</th>      <td>   -4.6216</td> <td>    0.994</td> <td>   -4.648</td> <td> 0.000</td> <td>   -6.570</td> <td>   -2.673</td>\n",
       "</tr>\n",
       "<tr>\n",
       "  <th>qsmk</th>                       <td>    1.4453</td> <td>    2.187</td> <td>    0.661</td> <td> 0.509</td> <td>   -2.841</td> <td>    5.732</td>\n",
       "</tr>\n",
       "<tr>\n",
       "  <th>qsmk:decile(p_qsmk)[T.1.0]</th> <td>    1.0925</td> <td>    2.697</td> <td>    0.405</td> <td> 0.685</td> <td>   -4.193</td> <td>    6.378</td>\n",
       "</tr>\n",
       "<tr>\n",
       "  <th>qsmk:decile(p_qsmk)[T.2.0]</th> <td>    4.7078</td> <td>    2.790</td> <td>    1.687</td> <td> 0.092</td> <td>   -0.761</td> <td>   10.177</td>\n",
       "</tr>\n",
       "<tr>\n",
       "  <th>qsmk:decile(p_qsmk)[T.3.0]</th> <td>    2.2997</td> <td>    2.612</td> <td>    0.880</td> <td> 0.379</td> <td>   -2.821</td> <td>    7.420</td>\n",
       "</tr>\n",
       "<tr>\n",
       "  <th>qsmk:decile(p_qsmk)[T.4.0]</th> <td>    1.8257</td> <td>    2.575</td> <td>    0.709</td> <td> 0.478</td> <td>   -3.221</td> <td>    6.873</td>\n",
       "</tr>\n",
       "<tr>\n",
       "  <th>qsmk:decile(p_qsmk)[T.5.0]</th> <td>    2.8927</td> <td>    2.569</td> <td>    1.126</td> <td> 0.260</td> <td>   -2.142</td> <td>    7.928</td>\n",
       "</tr>\n",
       "<tr>\n",
       "  <th>qsmk:decile(p_qsmk)[T.6.0]</th> <td>    3.4982</td> <td>    2.567</td> <td>    1.363</td> <td> 0.173</td> <td>   -1.534</td> <td>    8.530</td>\n",
       "</tr>\n",
       "<tr>\n",
       "  <th>qsmk:decile(p_qsmk)[T.7.0]</th> <td>    1.0028</td> <td>    2.571</td> <td>    0.390</td> <td> 0.696</td> <td>   -4.036</td> <td>    6.042</td>\n",
       "</tr>\n",
       "<tr>\n",
       "  <th>qsmk:decile(p_qsmk)[T.8.0]</th> <td>    1.8284</td> <td>    2.531</td> <td>    0.722</td> <td> 0.470</td> <td>   -3.132</td> <td>    6.789</td>\n",
       "</tr>\n",
       "</table>"
      ],
      "text/plain": [
       "<class 'statsmodels.iolib.summary.Summary'>\n",
       "\"\"\"\n",
       "                 Generalized Linear Model Regression Results                  \n",
       "==============================================================================\n",
       "Dep. Variable:                wt82_71   No. Observations:                 1403\n",
       "Model:                            GLM   Df Residuals:                     1385\n",
       "Model Family:                Gaussian   Df Model:                           17\n",
       "Link Function:               identity   Scale:                   56.9675991586\n",
       "Method:                          IRLS   Log-Likelihood:                -4817.5\n",
       "Date:                Fri, 02 Feb 2018   Deviance:                       78900.\n",
       "Time:                        03:25:17   Pearson chi2:                 7.89e+04\n",
       "No. Iterations:                     2                                         \n",
       "==============================================================================================\n",
       "                                 coef    std err          z      P>|z|      [0.025      0.975]\n",
       "----------------------------------------------------------------------------------------------\n",
       "Intercept                      3.8420      0.633      6.066      0.000       2.601       5.083\n",
       "decile(p_qsmk)[T.1.0]         -0.5715      0.926     -0.617      0.537      -2.386       1.243\n",
       "decile(p_qsmk)[T.2.0]         -1.5672      0.902     -1.737      0.082      -3.335       0.201\n",
       "decile(p_qsmk)[T.3.0]         -0.5685      0.928     -0.613      0.540      -2.387       1.250\n",
       "decile(p_qsmk)[T.4.0]         -1.1779      0.945     -1.247      0.212      -3.029       0.673\n",
       "decile(p_qsmk)[T.5.0]         -2.1332      0.945     -2.258      0.024      -3.985      -0.282\n",
       "decile(p_qsmk)[T.6.0]         -2.2702      0.956     -2.374      0.018      -4.144      -0.396\n",
       "decile(p_qsmk)[T.7.0]         -2.9296      0.966     -3.032      0.002      -4.823      -1.036\n",
       "decile(p_qsmk)[T.8.0]         -4.6216      0.994     -4.648      0.000      -6.570      -2.673\n",
       "qsmk                           1.4453      2.187      0.661      0.509      -2.841       5.732\n",
       "qsmk:decile(p_qsmk)[T.1.0]     1.0925      2.697      0.405      0.685      -4.193       6.378\n",
       "qsmk:decile(p_qsmk)[T.2.0]     4.7078      2.790      1.687      0.092      -0.761      10.177\n",
       "qsmk:decile(p_qsmk)[T.3.0]     2.2997      2.612      0.880      0.379      -2.821       7.420\n",
       "qsmk:decile(p_qsmk)[T.4.0]     1.8257      2.575      0.709      0.478      -3.221       6.873\n",
       "qsmk:decile(p_qsmk)[T.5.0]     2.8927      2.569      1.126      0.260      -2.142       7.928\n",
       "qsmk:decile(p_qsmk)[T.6.0]     3.4982      2.567      1.363      0.173      -1.534       8.530\n",
       "qsmk:decile(p_qsmk)[T.7.0]     1.0028      2.571      0.390      0.696      -4.036       6.042\n",
       "qsmk:decile(p_qsmk)[T.8.0]     1.8284      2.531      0.722      0.470      -3.132       6.789\n",
       "==============================================================================================\n",
       "\"\"\""
      ]
     },
     "execution_count": 231,
     "metadata": {},
     "output_type": "execute_result"
    }
   ],
   "source": [
    "# regression on PS deciles, allowing for effect modification\n",
    "mod5 = smf.glm(formula='wt82_71 ~ qsmk*decile(p_qsmk)', data=nhefs).fit()\n",
    "mod5.summary()"
   ]
  },
  {
   "cell_type": "code",
   "execution_count": 233,
   "metadata": {},
   "outputs": [],
   "source": [
    "#del K5"
   ]
  },
  {
   "cell_type": "code",
   "execution_count": 234,
   "metadata": {
    "scrolled": true
   },
   "outputs": [],
   "source": [
    "l = list(map(lambda x: str('Effect of Quitting Smoking in PS Decile ')+\\\n",
    "             str(x), range(1,11)))\n",
    "K5 = makeContrastMatrix(mod5, len(l),l)"
   ]
  },
  {
   "cell_type": "code",
   "execution_count": 235,
   "metadata": {},
   "outputs": [],
   "source": [
    "for i in range(0,10):\n",
    "    K5.loc['qsmk'][i] = 1"
   ]
  },
  {
   "cell_type": "code",
   "execution_count": 236,
   "metadata": {},
   "outputs": [],
   "source": [
    "for j, i in zip(list(map(lambda x: \\\n",
    "                         str('qsmk:decile(p_qsmk)[T.')+str(x)+str('.0]')\\\n",
    "         , range(1,9))),range(0,8)):\n",
    "    \n",
    "    #print(str(j)+' '+str(i))\n",
    "    K5.loc[j][i] = 1"
   ]
  },
  {
   "cell_type": "code",
   "execution_count": 237,
   "metadata": {},
   "outputs": [
    {
     "data": {
      "text/plain": [
       "(10, 18)"
      ]
     },
     "execution_count": 237,
     "metadata": {},
     "output_type": "execute_result"
    }
   ],
   "source": [
    "H5 = K5.values.T\n",
    "H5.shape"
   ]
  },
  {
   "cell_type": "code",
   "execution_count": 238,
   "metadata": {},
   "outputs": [
    {
     "data": {
      "text/html": [
       "<table class=\"simpletable\">\n",
       "<caption>Test for Constraints</caption>\n",
       "<tr>\n",
       "   <td></td>     <th>coef</th>     <th>std err</th>      <th>z</th>      <th>P>|z|</th>  <th>[0.025</th>    <th>0.975]</th>  \n",
       "</tr>\n",
       "<tr>\n",
       "  <th>c0</th> <td>    2.5378</td> <td>    1.578</td> <td>    1.608</td> <td> 0.108</td> <td>   -0.555</td> <td>    5.631</td>\n",
       "</tr>\n",
       "<tr>\n",
       "  <th>c1</th> <td>    6.1531</td> <td>    1.733</td> <td>    3.551</td> <td> 0.000</td> <td>    2.757</td> <td>    9.549</td>\n",
       "</tr>\n",
       "<tr>\n",
       "  <th>c2</th> <td>    3.7449</td> <td>    1.429</td> <td>    2.621</td> <td> 0.009</td> <td>    0.944</td> <td>    6.546</td>\n",
       "</tr>\n",
       "<tr>\n",
       "  <th>c3</th> <td>    3.2709</td> <td>    1.359</td> <td>    2.406</td> <td> 0.016</td> <td>    0.607</td> <td>    5.935</td>\n",
       "</tr>\n",
       "<tr>\n",
       "  <th>c4</th> <td>    4.3380</td> <td>    1.348</td> <td>    3.219</td> <td> 0.001</td> <td>    1.697</td> <td>    6.979</td>\n",
       "</tr>\n",
       "<tr>\n",
       "  <th>c5</th> <td>    4.9434</td> <td>    1.345</td> <td>    3.677</td> <td> 0.000</td> <td>    2.308</td> <td>    7.579</td>\n",
       "</tr>\n",
       "<tr>\n",
       "  <th>c6</th> <td>    2.4481</td> <td>    1.352</td> <td>    1.811</td> <td> 0.070</td> <td>   -0.201</td> <td>    5.097</td>\n",
       "</tr>\n",
       "<tr>\n",
       "  <th>c7</th> <td>    3.2736</td> <td>    1.274</td> <td>    2.570</td> <td> 0.010</td> <td>    0.777</td> <td>    5.771</td>\n",
       "</tr>\n",
       "<tr>\n",
       "  <th>c8</th> <td>    1.4453</td> <td>    2.187</td> <td>    0.661</td> <td> 0.509</td> <td>   -2.841</td> <td>    5.732</td>\n",
       "</tr>\n",
       "<tr>\n",
       "  <th>c9</th> <td>    1.4453</td> <td>    2.187</td> <td>    0.661</td> <td> 0.509</td> <td>   -2.841</td> <td>    5.732</td>\n",
       "</tr>\n",
       "</table>"
      ],
      "text/plain": [
       "<class 'statsmodels.iolib.table.SimpleTable'>"
      ]
     },
     "execution_count": 238,
     "metadata": {},
     "output_type": "execute_result"
    }
   ],
   "source": [
    "# estimate contrasts and view tests and CIs\n",
    "mod5.t_test(H5).summary()"
   ]
  },
  {
   "cell_type": "markdown",
   "metadata": {},
   "source": [
    "#######################################################################################\n",
    "## Program 15.4                                                                  ####\n",
    "#### Standardization using the propensity score                                    ####\n",
    "#### Data from NHEFS                                                               ####\n",
    "#######################################################################################\n"
   ]
  },
  {
   "cell_type": "code",
   "execution_count": 239,
   "metadata": {},
   "outputs": [
    {
     "data": {
      "text/html": [
       "<table class=\"simpletable\">\n",
       "<caption>Generalized Linear Model Regression Results</caption>\n",
       "<tr>\n",
       "  <th>Dep. Variable:</th>       <td>wt82_71</td>     <th>  No. Observations:  </th>    <td>  1555</td>    \n",
       "</tr>\n",
       "<tr>\n",
       "  <th>Model:</th>                 <td>GLM</td>       <th>  Df Residuals:      </th>    <td>  1552</td>    \n",
       "</tr>\n",
       "<tr>\n",
       "  <th>Model Family:</th>       <td>Gaussian</td>     <th>  Df Model:          </th>    <td>     2</td>    \n",
       "</tr>\n",
       "<tr>\n",
       "  <th>Link Function:</th>      <td>identity</td>     <th>  Scale:             </th> <td>58.0259862174</td>\n",
       "</tr>\n",
       "<tr>\n",
       "  <th>Method:</th>               <td>IRLS</td>       <th>  Log-Likelihood:    </th>   <td> -5362.3</td>   \n",
       "</tr>\n",
       "<tr>\n",
       "  <th>Date:</th>           <td>Fri, 02 Feb 2018</td> <th>  Deviance:          </th>   <td>  90056.</td>   \n",
       "</tr>\n",
       "<tr>\n",
       "  <th>Time:</th>               <td>03:25:39</td>     <th>  Pearson chi2:      </th>   <td>9.01e+04</td>   \n",
       "</tr>\n",
       "<tr>\n",
       "  <th>No. Iterations:</th>         <td>2</td>        <th>                     </th>       <td> </td>      \n",
       "</tr>\n",
       "</table>\n",
       "<table class=\"simpletable\">\n",
       "<tr>\n",
       "      <td></td>         <th>coef</th>     <th>std err</th>      <th>z</th>      <th>P>|z|</th>  <th>[0.025</th>    <th>0.975]</th>  \n",
       "</tr>\n",
       "<tr>\n",
       "  <th>Intercept</th> <td>    5.8206</td> <td>    0.515</td> <td>   11.297</td> <td> 0.000</td> <td>    4.811</td> <td>    6.830</td>\n",
       "</tr>\n",
       "<tr>\n",
       "  <th>qsmk</th>      <td>    3.5819</td> <td>    0.456</td> <td>    7.862</td> <td> 0.000</td> <td>    2.689</td> <td>    4.475</td>\n",
       "</tr>\n",
       "<tr>\n",
       "  <th>p_qsmk</th>    <td>  -15.6273</td> <td>    1.886</td> <td>   -8.286</td> <td> 0.000</td> <td>  -19.324</td> <td>  -11.931</td>\n",
       "</tr>\n",
       "</table>"
      ],
      "text/plain": [
       "<class 'statsmodels.iolib.summary.Summary'>\n",
       "\"\"\"\n",
       "                 Generalized Linear Model Regression Results                  \n",
       "==============================================================================\n",
       "Dep. Variable:                wt82_71   No. Observations:                 1555\n",
       "Model:                            GLM   Df Residuals:                     1552\n",
       "Model Family:                Gaussian   Df Model:                            2\n",
       "Link Function:               identity   Scale:                   58.0259862174\n",
       "Method:                          IRLS   Log-Likelihood:                -5362.3\n",
       "Date:                Fri, 02 Feb 2018   Deviance:                       90056.\n",
       "Time:                        03:25:39   Pearson chi2:                 9.01e+04\n",
       "No. Iterations:                     2                                         \n",
       "==============================================================================\n",
       "                 coef    std err          z      P>|z|      [0.025      0.975]\n",
       "------------------------------------------------------------------------------\n",
       "Intercept      5.8206      0.515     11.297      0.000       4.811       6.830\n",
       "qsmk           3.5819      0.456      7.862      0.000       2.689       4.475\n",
       "p_qsmk       -15.6273      1.886     -8.286      0.000     -19.324     -11.931\n",
       "==============================================================================\n",
       "\"\"\""
      ]
     },
     "execution_count": 239,
     "metadata": {},
     "output_type": "execute_result"
    }
   ],
   "source": [
    "# regression on the propensity score (linear term)\n",
    "mod6 = smf.glm(formula='wt82_71 ~ qsmk + p_qsmk', data=nhefs).fit()\n",
    "mod6.summary()\n"
   ]
  },
  {
   "cell_type": "code",
   "execution_count": 318,
   "metadata": {
    "collapsed": true
   },
   "outputs": [],
   "source": [
    "# standarization on the propensity score\n",
    "# (step 1) create two new datasets, one with all treated and one with all untreated\n",
    "treated = nhefs.copy()\n",
    "treated['qsmk'] = 1\n",
    "\n",
    "untreated = nhefs.copy()\n",
    "untreated['qsmk'] = 0"
   ]
  },
  {
   "cell_type": "code",
   "execution_count": 319,
   "metadata": {
    "collapsed": true
   },
   "outputs": [],
   "source": [
    "# (step 2) predict values for everyone in each new dataset based on above model\n",
    "treated['pred_y'] = mod6.predict(treated)\n",
    "untreated['pred_y'] =  mod6.predict(untreated)"
   ]
  },
  {
   "cell_type": "code",
   "execution_count": 320,
   "metadata": {
    "scrolled": true
   },
   "outputs": [
    {
     "name": "stdout",
     "output_type": "stream",
     "text": [
      "mean of treated: 5.30476813384\n",
      "mean of untreated: 1.72287755794\n",
      "diff of means: 3.5818905759\n"
     ]
    }
   ],
   "source": [
    "# (step 3) compare mean weight loss had all been treated vs. that had all been untreated\n",
    "mean1 = np.nanmean(treated['pred_y'])\n",
    "mean0 = np.nanmean(untreated['pred_y'])\n",
    "print('mean of treated: '+ str(mean1))\n",
    "print('mean of untreated: '+str(mean0))\n",
    "print('diff of means: '+str(mean1 - mean0))"
   ]
  },
  {
   "cell_type": "code",
   "execution_count": 321,
   "metadata": {
    "collapsed": true
   },
   "outputs": [],
   "source": [
    "sampl_treated = nhefs.copy()\n",
    "sampl_treated['qsmk'] = 1\n",
    "\n",
    "sampl_untreated = nhefs.copy()\n",
    "sampl_untreated['qsmk'] = 0"
   ]
  },
  {
   "cell_type": "code",
   "execution_count": 323,
   "metadata": {
    "collapsed": true
   },
   "outputs": [],
   "source": [
    "tdf_resampled = sampl_treated.\\\n",
    "loc[bootstrap_resample(sampl_treated.index,100)].copy()\n",
    "mod3 = smf.glm(formula='wt82_71 ~ qsmk + p_qsmk', data=tdf_resampled).fit()\n",
    "tdf_resampled['pred_y'] = mod3.predict(tdf_resampled)"
   ]
  },
  {
   "cell_type": "code",
   "execution_count": 324,
   "metadata": {},
   "outputs": [
    {
     "name": "stdout",
     "output_type": "stream",
     "text": [
      "mean of treated: 4.26298207718\n"
     ]
    }
   ],
   "source": [
    "mean1 = np.nanmean(tdf_resampled['pred_y'])\n",
    "print('mean of treated: '+ str(mean1))"
   ]
  },
  {
   "cell_type": "code",
   "execution_count": 325,
   "metadata": {
    "collapsed": true
   },
   "outputs": [],
   "source": [
    "utdf_resampled = sampl_untreated.\\\n",
    "loc[bootstrap_resample(sampl_untreated.index,100)].copy()\n",
    "mod3 = smf.glm(formula='wt82_71 ~ qsmk + p_qsmk', data=utdf_resampled).fit()\n",
    "utdf_resampled['pred_y'] = mod3.predict(utdf_resampled)"
   ]
  },
  {
   "cell_type": "code",
   "execution_count": 326,
   "metadata": {},
   "outputs": [
    {
     "name": "stdout",
     "output_type": "stream",
     "text": [
      "mean of treated: 2.15447522022\n"
     ]
    }
   ],
   "source": [
    "mean0 = np.nanmean(utdf_resampled['pred_y'])\n",
    "print('mean of treated: '+ str(mean0))"
   ]
  },
  {
   "cell_type": "code",
   "execution_count": 327,
   "metadata": {},
   "outputs": [
    {
     "name": "stdout",
     "output_type": "stream",
     "text": [
      "diff of means: 2.10850685696\n"
     ]
    }
   ],
   "source": [
    "diff = mean1 - mean0\n",
    "print('diff of means: '+str(diff))"
   ]
  },
  {
   "cell_type": "code",
   "execution_count": null,
   "metadata": {
    "collapsed": true
   },
   "outputs": [],
   "source": []
  }
 ],
 "metadata": {
  "kernelspec": {
   "display_name": "Python 3",
   "language": "python",
   "name": "python3"
  },
  "language_info": {
   "codemirror_mode": {
    "name": "ipython",
    "version": 3
   },
   "file_extension": ".py",
   "mimetype": "text/x-python",
   "name": "python",
   "nbconvert_exporter": "python",
   "pygments_lexer": "ipython3",
   "version": "3.6.3"
  }
 },
 "nbformat": 4,
 "nbformat_minor": 2
}
