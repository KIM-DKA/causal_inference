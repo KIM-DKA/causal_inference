{
 "metadata": {
  "language_info": {
   "codemirror_mode": {
    "name": "ipython",
    "version": 3
   },
   "file_extension": ".py",
   "mimetype": "text/x-python",
   "name": "python",
   "nbconvert_exporter": "python",
   "pygments_lexer": "ipython3",
   "version": "3.9.2"
  },
  "orig_nbformat": 2,
  "kernelspec": {
   "name": "python392jvsc74a57bd0715bf7a6667270417f7c31e47569efe69a18b8404c324f9a090329b0089f2c4c",
   "display_name": "Python 3.9.2 64-bit"
  },
  "metadata": {
   "interpreter": {
    "hash": "715bf7a6667270417f7c31e47569efe69a18b8404c324f9a090329b0089f2c4c"
   }
  }
 },
 "nbformat": 4,
 "nbformat_minor": 2,
 "cells": [
  {
   "source": [
    "# Causal Inference\n",
    "## 실험 단계\n",
    "### 1. Science Experiment \n",
    "- A,B 두 집단을 Random 하게(RCT) 분리한 후 모든 조건을 동일하게 하여 실험을 진행함\n",
    "\n",
    "### 2. AB Test \n",
    "- A,B 두 집단을 Random 하게(RCT) 분리 한 후 모든 조건을 통제 할 수는 없음 \n",
    "\n",
    "### 3. Natural Test (Quasi Experiment)\n",
    "- A,B 두 집단이 나눠진 이유가 어떠한 자연적인 이유로 나눠지게 되었음\n",
    "<br>ex) 미세먼지가 폐암에 주는 효과를 측정하기 위하여 미세먼지가 많은 도시와 그렇지 않은 도시의 사람들을 추출 하게 됨 \n",
    "\n",
    "### 4. Counter Factual World(평행이론, Causal Inference 분야의 가장 핵심)\n",
    "- Observational Study (Cohort, Case-Control) 즉 이미 관측된 데이터를 기반으로 인과관계를 추정해야 하는 상황으로 \n",
    "<br> 담배를 핀 \"나\"와 담배를 안핀 \"나\"를 비교해야 되는 사실상 불가능한 상황에서 최대한 인과관계를 추론(**Inference**)\n",
    "\n",
    "## DAG 용어 정리 \n",
    "### Causal Inferece를 이해하기 위해 사용되는 기본 용어들 \n",
    "### 다음 챕터인 DAG(Directed acyclic graph) 에서 더 자세히 다룰것\n",
    "- **X** : Cause, Treatment, Exposure, to be intervented\n",
    "- **Y** : Outcome, Effect\n",
    "- **Z** : Confounder (Z->X, Z->Y 둘다 영향을 줌)\n",
    "- **C** : Collider (X->C, Y->C ,X,Y가 C에 영향을 줌) \n",
    "- **M** : Mediator (X->M->Y, 즉 X가 Y에 영향을 주지만 Direct 하지 않음)\n",
    "- Observed : 구성된 DAG에서 1-5번까지가 데이터로 관측 된경우 \n",
    "- Unobserved : DAG에서 데이터로 관측되지 않은 경우 \n",
    "- Latent : 영향을 주나 알 수 없음 (경제관념, 사랑 등) \n",
    "- Potential Outcome : 평행세계 A,B의 결과를 의미\n",
    "\n",
    "## Notation \n",
    "### Causal Inference에 사용되는 수식어 및 기호 \n",
    "- $Y^{a}$ : Hernan과 D.Robin이 주로 애용하는 기호 a는 Treatment를 의미하며 \n",
    "<br>$Y^{a=1}$은 Potential Outcome중 Treat를 받은 세계 \n",
    "<br>$Y^{a=0}$은 Treat를 받지 않은 세계의 Potential Outcome을 의미 하며 $Y(1),Y(0)$으로도 표현 \n",
    "\n",
    "- $Y|do(a=1), Y|do(a=0)$ : J.Pearl 이 주로 사용하는 Notation으로 의 1번의 $Y^{a=1}$과 동일 \n",
    "\n",
    "- $X$ㅛ$Y$ : Independent\n",
    "\n",
    "<br>해당 데이터 분석은 Hernan과 D.Robin의 Notation을 사용\n",
    "\n",
    "<br>Ref.\n",
    "[Judea, P. (2010). An introduction to causal inference. The International Journal of Biostatistics, 6(2), 1-62.](https://cdn1.sph.harvard.edu/wp-content/uploads/sites/1268/2019/10/ci_hernanrobins_1oct19.pdf)\n"
   ],
   "cell_type": "markdown",
   "metadata": {}
  },
  {
   "cell_type": "code",
   "execution_count": 194,
   "metadata": {},
   "outputs": [],
   "source": [
    "import pandas as pd\n",
    "import numpy as np"
   ]
  },
  {
   "source": [
    "### Z와 X의 조건에 따라 Y의 선택 확률을 임의로 조정해 보자"
   ],
   "cell_type": "markdown",
   "metadata": {}
  },
  {
   "cell_type": "code",
   "execution_count": 188,
   "metadata": {},
   "outputs": [],
   "source": [
    "p_z = 0.5\n",
    "p_x_z = [0.9, 0.1] # P(X=1|Z=0) = 0.9 , P(X=1|Z=1) = 0.1 처럼 각 조건에 따라 X=1일 확률을 바꿔준다.\n",
    "p_y_xz = [0.2, 0.4, 0.6, 0.8]  # P(Y=1|X,Z) 에 따라 4가지 확률을 분배\n",
    "n_samples = 100000\n",
    "\n",
    "z = np.random.binomial(n=1, p=p_z, size=n_samples)\n",
    "\n",
    "p_x = np.choose(z, p_x_z) \n",
    "x = np.random.binomial(n=1, p=p_x, size=n_samples)\n",
    "\n",
    "p_y = np.choose(x+2*z, p_y_xz) # 2*z의 이유는 z 가 0,1의 값만 갖기 때문\n",
    "y = np.random.binomial(n=1, p=p_y, size=n_samples)\n",
    "    "
   ]
  },
  {
   "cell_type": "code",
   "execution_count": 182,
   "metadata": {},
   "outputs": [],
   "source": [
    "data = pd.DataFrame({\"z\":z,\"x\":x, \"y\":y})"
   ]
  },
  {
   "cell_type": "code",
   "execution_count": 186,
   "metadata": {},
   "outputs": [
    {
     "output_type": "execute_result",
     "data": {
      "text/plain": [
       "z  x  y\n",
       "0  0  0     4051\n",
       "      1      996\n",
       "   1  0    27132\n",
       "      1    17858\n",
       "1  0  0    17925\n",
       "      1    26946\n",
       "   1  0     1020\n",
       "      1     4072\n",
       "dtype: int64"
      ]
     },
     "metadata": {},
     "execution_count": 186
    }
   ],
   "source": [
    "data[['z','x','y']].value_counts().sort_index()"
   ]
  },
  {
   "cell_type": "code",
   "execution_count": null,
   "metadata": {},
   "outputs": [],
   "source": []
  }
 ]
}