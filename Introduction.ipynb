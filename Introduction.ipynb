{
 "metadata": {
  "language_info": {
   "codemirror_mode": {
    "name": "ipython",
    "version": 3
   },
   "file_extension": ".py",
   "mimetype": "text/x-python",
   "name": "python",
   "nbconvert_exporter": "python",
   "pygments_lexer": "ipython3",
   "version": "3.9.2"
  },
  "orig_nbformat": 2,
  "kernelspec": {
   "name": "python392jvsc74a57bd0715bf7a6667270417f7c31e47569efe69a18b8404c324f9a090329b0089f2c4c",
   "display_name": "Python 3.9.2 64-bit"
  },
  "metadata": {
   "interpreter": {
    "hash": "715bf7a6667270417f7c31e47569efe69a18b8404c324f9a090329b0089f2c4c"
   }
  }
 },
 "nbformat": 4,
 "nbformat_minor": 2,
 "cells": [
  {
   "source": [
    "# Causal Inference란?\n",
    "### **1.Introduction**\n",
    "<br> 햇빛이 식물의 성장에 원인과 결과라는 것을 테스트 하기위해 2개의 화분을 가지고 실험을 진행하였다.\n",
    "<br> 하나는 햇빛을 받고(**화분A**) 하나는 햇빛을 받지 않은(**화분B**) 상태로 한달 간 관찰했더니 (다른 조건은 모두 동일)\n",
    "<br> 왼쪽은 5cm가 자라고(빛받음) 오른쪽은 3cm 미터가 자랐다.\n",
    "<br> 이 결과를 보고 우리는 다음과 같이 **결론**을 내릴 수 있다. \n",
    "<br> **햇빛이 식물에 주는 영향은 2cm이다.**\n",
    "<br> 결론적으론 위 인과관계 추론을 **잘못** 되었다.\n",
    "\n",
    "<img align=\"left\" width=\"400\" height=\"300\" src=\"images/plant.png\"> \n"
   ],
   "cell_type": "markdown",
   "metadata": {}
  },
  {
   "source": [
    "단순히 화분을 2개만 가지고 비교 하는것은 잘못되었다.\n",
    "<br>우리는 \"유전\" 적인 외부효과(External Effect)를 제거하지 못했으며\n",
    "<br>진정한 인과관계를 추론하기 위해선 타임머신을 타고 화분A가 햇빛을 받지 않게 하여야 한다.\n",
    "<br>**하지만** 우리에겐 타임머신이 없다.. "
   ],
   "cell_type": "markdown",
   "metadata": {}
  },
  {
   "cell_type": "code",
   "execution_count": 23,
   "metadata": {},
   "outputs": [],
   "source": [
    "from IPython.display import Image\n",
    "import os \n"
   ]
  },
  {
   "cell_type": "code",
   "execution_count": null,
   "metadata": {},
   "outputs": [],
   "source": []
  }
 ]
}