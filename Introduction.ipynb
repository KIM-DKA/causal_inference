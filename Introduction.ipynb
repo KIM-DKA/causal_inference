{
 "metadata": {
  "language_info": {
   "codemirror_mode": {
    "name": "ipython",
    "version": 3
   },
   "file_extension": ".py",
   "mimetype": "text/x-python",
   "name": "python",
   "nbconvert_exporter": "python",
   "pygments_lexer": "ipython3",
   "version": "3.9.2"
  },
  "orig_nbformat": 2,
  "kernelspec": {
   "name": "python392jvsc74a57bd0715bf7a6667270417f7c31e47569efe69a18b8404c324f9a090329b0089f2c4c",
   "display_name": "Python 3.9.2 64-bit"
  },
  "metadata": {
   "interpreter": {
    "hash": "715bf7a6667270417f7c31e47569efe69a18b8404c324f9a090329b0089f2c4c"
   }
  }
 },
 "nbformat": 4,
 "nbformat_minor": 2,
 "cells": [
  {
   "source": [
    "# Causal  Inference란?"
   ],
   "cell_type": "markdown",
   "metadata": {}
  },
  {
   "source": [
    "<font size=30> Introduction </font>\n",
    "<br>아래 그림을 확인해 보자\n",
    "<br>\n",
    "\n",
    "<img align=\"left\" width=\"200\" height=\"200\" src=\"plant.png\">\n",
    "<img align=\"right\" width=\"200\" height=\"200\" src=\"plant.png\">"
   ],
   "cell_type": "markdown",
   "metadata": {}
  },
  {
   "cell_type": "code",
   "execution_count": 8,
   "metadata": {},
   "outputs": [],
   "source": [
    "from IPython.display import Image\n",
    "import os "
   ]
  }
 ]
}