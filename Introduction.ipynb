{
 "metadata": {
  "language_info": {
   "codemirror_mode": {
    "name": "ipython",
    "version": 3
   },
   "file_extension": ".py",
   "mimetype": "text/x-python",
   "name": "python",
   "nbconvert_exporter": "python",
   "pygments_lexer": "ipython3",
   "version": "3.9.2"
  },
  "orig_nbformat": 2,
  "kernelspec": {
   "name": "python392jvsc74a57bd0715bf7a6667270417f7c31e47569efe69a18b8404c324f9a090329b0089f2c4c",
   "display_name": "Python 3.9.2 64-bit"
  },
  "metadata": {
   "interpreter": {
    "hash": "715bf7a6667270417f7c31e47569efe69a18b8404c324f9a090329b0089f2c4c"
   }
  }
 },
 "nbformat": 4,
 "nbformat_minor": 2,
 "cells": [
  {
   "source": [
    "<html>\n",
    "<head>\n",
    "<title> Causal Inference </title>\n",
    "</head>\n",
    "<p style=\"font-size:36px;\"> Causal Inference란? </p>\n",
    "<p style=\"font-size:24px;\"> 1.Introduction </p>\n",
    "\n",
    "<img align=\"left\" width=\"400\" height=\"300\" src=\"images/plant.png\"> \n"
   ],
   "cell_type": "markdown",
   "metadata": {}
  },
  {
   "source": [
    "$\\color{red}{\\text{c}}$\n",
    "<font color='green'>text</font>\n",
    "**Notes**\n",
    "<p style=\"color:red;\" size = \"100\">ERROR: Setting focus didn't work for me when I tried from jupyter. However it worked well when I ran it from the terminal</p>\n",
    "\n",
    "<p style=\"font-family: Arial; font-size:2em;color:gold;\"> Golden </p>\n"
   ],
   "cell_type": "markdown",
   "metadata": {}
  },
  {
   "cell_type": "code",
   "execution_count": 8,
   "metadata": {},
   "outputs": [],
   "source": [
    "from IPython.display import Image\n",
    "import os \n"
   ]
  }
 ]
}