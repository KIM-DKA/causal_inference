{
 "metadata": {
  "language_info": {
   "codemirror_mode": {
    "name": "ipython",
    "version": 3
   },
   "file_extension": ".py",
   "mimetype": "text/x-python",
   "name": "python",
   "nbconvert_exporter": "python",
   "pygments_lexer": "ipython3",
   "version": "3.9.2"
  },
  "orig_nbformat": 2,
  "kernelspec": {
   "name": "python392jvsc74a57bd0715bf7a6667270417f7c31e47569efe69a18b8404c324f9a090329b0089f2c4c",
   "display_name": "Python 3.9.2 64-bit"
  },
  "metadata": {
   "interpreter": {
    "hash": "715bf7a6667270417f7c31e47569efe69a18b8404c324f9a090329b0089f2c4c"
   }
  }
 },
 "nbformat": 4,
 "nbformat_minor": 2,
 "cells": [
  {
   "source": [
    "# Causal  Inference란?"
   ],
   "cell_type": "markdown",
   "metadata": {}
  },
  {
   "source": [
    "<font size=30> Introduction </font>\n",
    "<br>아래 그림을 확인해 보자\n",
    "<br>\n",
    "<img align=\"left\" width=\"200\" height=\"200\" src=\"images/plant.png\"> \n"
   ],
   "cell_type": "markdown",
   "metadata": {}
  },
  {
   "cell_type": "code",
   "execution_count": 8,
   "metadata": {},
   "outputs": [],
   "source": [
    "from IPython.display import Image\n",
    "import os \n"
   ]
  },
  {
   "source": [
    "\n",
    "<p align=\"center\" width=\"80%\">\n",
    "    <img width=\"33%\" src=\"https://i.stack.imgur.com/RJj4x.png\"> \n",
    "    <img width=\"33%\" src=\"https://i.stack.imgur.com/RJj4x.png\"> \n",
    "</p>"
   ],
   "cell_type": "markdown",
   "metadata": {}
  },
  {
   "source": [
    "33% width each (_possibly_ a little too wide to fit all 3 images side-by-side, depending on your markdown viewer):\n",
    "<p align=\"center\" width=\"50%\">\n",
    "    <img width=\"33%\" src=\"https://i.stack.imgur.com/RJj4x.png\"> \n",
    "    <img width=\"33%\" src=\"https://i.stack.imgur.com/RJj4x.png\"> \n",
    "</p>"
   ],
   "cell_type": "markdown",
   "metadata": {}
  }
 ]
}