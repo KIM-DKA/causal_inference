{
 "metadata": {
  "language_info": {
   "codemirror_mode": {
    "name": "ipython",
    "version": 3
   },
   "file_extension": ".py",
   "mimetype": "text/x-python",
   "name": "python",
   "nbconvert_exporter": "python",
   "pygments_lexer": "ipython3",
   "version": "3.9.2"
  },
  "orig_nbformat": 2,
  "kernelspec": {
   "name": "python392jvsc74a57bd0715bf7a6667270417f7c31e47569efe69a18b8404c324f9a090329b0089f2c4c",
   "display_name": "Python 3.9.2 64-bit"
  },
  "metadata": {
   "interpreter": {
    "hash": "715bf7a6667270417f7c31e47569efe69a18b8404c324f9a090329b0089f2c4c"
   }
  }
 },
 "nbformat": 4,
 "nbformat_minor": 2,
 "cells": [
  {
   "source": [
    "## Causal Inference With Python\n",
    "- 용어정리 "
   ],
   "cell_type": "markdown",
   "metadata": {}
  },
  {
   "source": [
    "\n",
    "[Judea, P. (2010). An introduction to causal inference. The International Journal of Biostatistics, 6(2), 1-62.](https://cdn1.sph.harvard.edu/wp-content/uploads/sites/1268/2019/10/ci_hernanrobins_1oct19.pdf)"
   ],
   "cell_type": "markdown",
   "metadata": {}
  },
  {
   "cell_type": "code",
   "execution_count": 32,
   "metadata": {},
   "outputs": [],
   "source": [
    "import numpy as np\n",
    "import pandas as pd\n",
    "\n",
    "from sklearn.preprocessing import PolynomialFeatures\n",
    "\n",
    "def generate_dataset_0(n_samples=500, set_X=None, show_z=False):\n",
    "    \"\"\"\n",
    "    Generate samples from the Causal Model:\n",
    "    Nodes: (X,Y,Z)\n",
    "    Edges: (Z -> X, Z-> Y, X -> Y)    \n",
    "    \"\"\"\n",
    "    p_z = 0.5\n",
    "    p_x_z = [0.9, 0.1]\n",
    "    p_y_xz = [0.2, 0.4, 0.6, 0.8]\n",
    "    \n",
    "    z = np.random.binomial(n=1, p=p_z, size=n_samples)\n",
    "    \n",
    "    if set_X is not None:\n",
    "        assert(len(set_X) == n_samples)\n",
    "        x = set_X\n",
    "    else:\n",
    "        p_x = np.choose(z, p_x_z)\n",
    "        x = np.random.binomial(n=1, p=p_x, size=n_samples)\n",
    "        \n",
    "    p_y = np.choose(x+2*z, p_y_xz)\n",
    "    y = np.random.binomial(n=1, p=p_y, size=n_samples)\n",
    "    \n",
    "    if show_z:\n",
    "        return pd.DataFrame({\"x\":x, \"y\":y, \"z\":z})\n",
    "    \n",
    "    return pd.DataFrame({\"x\":x, \"y\":y})\n",
    "\n"
   ]
  },
  {
   "cell_type": "code",
   "execution_count": 27,
   "metadata": {},
   "outputs": [],
   "source": [
    "import pandas as pd\n",
    "import numpy as np"
   ]
  },
  {
   "cell_type": "code",
   "execution_count": null,
   "metadata": {},
   "outputs": [],
   "source": []
  },
  {
   "source": [
    "### Z와 X의 조건에 따라 Y의 선택 확률을 임의로 조정해 보자"
   ],
   "cell_type": "markdown",
   "metadata": {}
  },
  {
   "cell_type": "code",
   "execution_count": 184,
   "metadata": {},
   "outputs": [],
   "source": [
    "p_z = 0.5\n",
    "p_x_z = [0.9, 0.1] # Z on 0,1 \n",
    "p_y_xz = [0.2, 0.4, 0.6, 0.8] # X,Z Pairs on (0,0), (1,0), (0,1), (1,1)\n",
    "n_samples = 100000\n",
    "\n",
    "z = np.random.binomial(n=1, p=p_z, size=n_samples)\n",
    "\n",
    "# P(X|Z=0) = 0.9, P(X|Z=1) = 0.1\n",
    "p_x = np.choose(z, p_x_z) \n",
    "x = np.random.binomial(n=1, p=p_x, size=n_samples)\n",
    "\n",
    "# P(Y|X,Z) \n",
    "p_y = np.choose(x+2*z, p_y_xz)\n",
    "y = np.random.binomial(n=1, p=p_y, size=n_samples)\n",
    "    "
   ]
  },
  {
   "cell_type": "code",
   "execution_count": 182,
   "metadata": {},
   "outputs": [],
   "source": [
    "data = pd.DataFrame({\"z\":z,\"x\":x, \"y\":y})"
   ]
  },
  {
   "cell_type": "code",
   "execution_count": 183,
   "metadata": {},
   "outputs": [
    {
     "output_type": "execute_result",
     "data": {
      "text/plain": [
       "z  x  y\n",
       "0  0  0     4051\n",
       "      1      996\n",
       "   1  0    27132\n",
       "      1    17858\n",
       "1  0  0    17925\n",
       "      1    26946\n",
       "   1  0     1020\n",
       "      1     4072\n",
       "dtype: int64"
      ]
     },
     "metadata": {},
     "execution_count": 183
    }
   ],
   "source": [
    "data.value_counts().sort_index()"
   ]
  }
 ]
}