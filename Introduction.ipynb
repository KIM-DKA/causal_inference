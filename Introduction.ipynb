{
 "metadata": {
  "language_info": {
   "codemirror_mode": {
    "name": "ipython",
    "version": 3
   },
   "file_extension": ".py",
   "mimetype": "text/x-python",
   "name": "python",
   "nbconvert_exporter": "python",
   "pygments_lexer": "ipython3",
   "version": "3.9.2"
  },
  "orig_nbformat": 2,
  "kernelspec": {
   "name": "python392jvsc74a57bd0715bf7a6667270417f7c31e47569efe69a18b8404c324f9a090329b0089f2c4c",
   "display_name": "Python 3.9.2 64-bit"
  },
  "metadata": {
   "interpreter": {
    "hash": "715bf7a6667270417f7c31e47569efe69a18b8404c324f9a090329b0089f2c4c"
   }
  }
 },
 "nbformat": 4,
 "nbformat_minor": 2,
 "cells": [
  {
   "source": [
    "# Causal Inference란?\n",
    "- **Introduction**\n",
    "<br> 우리가 2개의 화분을 키운다고 가정해보자\n",
    "<br> 하나는 햇빛을 받고 하나는 햇빛을 받지 않은 상태로 한달 간 관찰했더니 (다른 조건은 모두 동일)\n",
    "<br> 왼쪽은 5cm가 자라고(빛받음) 오른쪽은 3cm 미터가 자랐다.\n",
    "<br> 이 결과를 보고 우리는 다음과 같이 $\\color{red}{\\text{결론}}$을 내릴 수 있다. \n",
    "<br> \n",
    "\n",
    "<img align=\"left\" width=\"400\" height=\"300\" src=\"images/plant.png\"> \n"
   ],
   "cell_type": "markdown",
   "metadata": {}
  },
  {
   "cell_type": "code",
   "execution_count": 22,
   "metadata": {},
   "outputs": [],
   "source": [
    "from IPython.display import Image\n",
    "import os \n"
   ]
  },
  {
   "cell_type": "code",
   "execution_count": null,
   "metadata": {},
   "outputs": [],
   "source": []
  }
 ]
}